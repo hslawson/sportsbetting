{
 "cells": [
  {
   "cell_type": "code",
   "execution_count": 6,
   "metadata": {},
   "outputs": [
    {
     "name": "stdout",
     "output_type": "stream",
     "text": [
      "['Cardinals', 'Saints', 'Buccaneers', 'Titans', 'Panthers', '49ers', 'Broncos', 'Colts', 'Browns', 'Patriots', 'Packers', 'Chiefs', 'Dolphins', 'Steelers', 'Redskins', 'Vikings', 'Seahawks', 'Falcons', 'Eagles', 'Bills', 'Chargers', 'Bears', 'Giants', 'Lions', 'Raiders', 'Texans', 'Jets', 'Jaguars', 'Bengals', 'Rams']\n"
     ]
    }
   ],
   "source": [
    "nflTeams = ['Cardinals', \n",
    "                 'Saints', \n",
    "                 'Buccaneers',\n",
    "                 'Titans', \n",
    "                 'Panthers', \n",
    "                 '49ers', \n",
    "                 'Broncos', \n",
    "                 'Colts',\n",
    "                 'Browns',\n",
    "                 'Patriots',\n",
    "                 'Packers',\n",
    "                 'Chiefs',\n",
    "                 'Dolphins',\n",
    "                 'Steelers',\n",
    "                 'Redskins',\n",
    "                 'Vikings',\n",
    "                 'Seahawks',\n",
    "                 'Falcons',\n",
    "                 'Eagles',\n",
    "                 'Bills',\n",
    "                 'Chargers',\n",
    "                 'Bears',\n",
    "                 'Giants',\n",
    "                 'Lions',\n",
    "                 'Raiders',\n",
    "                 'Texans',\n",
    "                 'Jets',\n",
    "                 'Jaguars',\n",
    "                 'Bengals',\n",
    "                 'Rams'\n",
    "                ]\n",
    "\n",
    "print(nflTeams)\n",
    "\n",
    "\n"
   ]
  },
  {
   "cell_type": "code",
   "execution_count": 7,
   "metadata": {},
   "outputs": [
    {
     "name": "stdout",
     "output_type": "stream",
     "text": [
      "['Cardinals', 'Saints', 'Buccaneers', 'Titans', 'Panthers', '49ers', 'Broncos', 'Colts', 'Browns', 'Patriots', 'Packers', 'Chiefs', 'Dolphins', 'Steelers', 'Redskins', 'Vikings', 'Seahawks', 'Falcons', 'Eagles', 'Bills', 'Chargers', 'Bears', 'Giants', 'Lions', 'Raiders', 'Texans', 'Jets', 'Jaguars', 'Bengals', 'Rams']\n"
     ]
    }
   ],
   "source": [
    "#class game(_awayTeam, _awayScore, _homeTeam, _homeScore):\n",
    "#    list = [_awayTeam,\n",
    "#            _awayScore,\n",
    "#            _homeTeam,\n",
    "#            _homeScore\n",
    "#           ]\n",
    "#week1 = "
   ]
  },
  {
   "cell_type": "code",
   "execution_count": 2,
   "metadata": {},
   "outputs": [
    {
     "name": "stdout",
     "output_type": "stream",
     "text": [
      "[T.Brady, B.Hoyer, S.Ridley, A.Hernandez, B.Green-Ellis, J.Edelman, D.Woodhead, R.Gronkowski, W.Welker, S.Gostkowski, Z.Mesko, M.Slater, J.Mayo, M.Anderson, P.Chung, A.Molden, K.Arrington, D.Fletcher, D.McCourty, N.Jones, R.Ninkovich, B.Spikes, V.Wilfork, K.Love, B.Deaderick, S.Moore, N.Koutouvides, L.Polite, R.Fitzpatrick, C.Spiller, G.Wilson, T.Choice, D.Hagan, R.Martin, St.Johnson, S.Chandler, N.Roosevelt, D.Nelson, K.Brock, C.Brown, B.Coutu, B.Moorman, J.Rogers, L.McKelvin, N.Barnett, B.Scott, K.Heard, C.Kelsay, A.Williams, K.Sheppard, A.Moats, J.Byrd, K.Moore, K.Morrison, Sp.Johnson, D.Edwards, M.Dareus, A.Davis, D.Florence, L.Dotson, A.Carrington]\n"
     ]
    }
   ],
   "source": [
    "import nflgame\n",
    "\n",
    "game = nflgame.one(2011, 17, \"NE\", \"BUF\")\n",
    "\n",
    "print(game.players)\n"
   ]
  },
  {
   "cell_type": "code",
   "execution_count": 3,
   "metadata": {},
   "outputs": [
    {
     "name": "stdout",
     "output_type": "stream",
     "text": [
      "[T.Brady, B.Hoyer, R.Fitzpatrick]\n"
     ]
    }
   ],
   "source": [
    "print(game.players.passing())"
   ]
  },
  {
   "cell_type": "code",
   "execution_count": 4,
   "metadata": {},
   "outputs": [
    {
     "name": "stdout",
     "output_type": "stream",
     "text": [
      "[B.Hoyer, S.Ridley, A.Hernandez, B.Green-Ellis, J.Edelman, D.Woodhead, R.Fitzpatrick, C.Spiller, G.Wilson, T.Choice]\n"
     ]
    }
   ],
   "source": [
    "print(game.players.rushing())"
   ]
  },
  {
   "cell_type": "code",
   "execution_count": 5,
   "metadata": {},
   "outputs": [
    {
     "name": "stdout",
     "output_type": "stream",
     "text": [
      "[T.Brady, B.Hoyer, R.Fitzpatrick]\n"
     ]
    }
   ],
   "source": [
    "print(game.players.passing())"
   ]
  },
  {
   "cell_type": "code",
   "execution_count": 6,
   "metadata": {},
   "outputs": [
    {
     "name": "stdout",
     "output_type": "stream",
     "text": [
      "[J.Edelman, J.Mayo, M.Anderson, P.Chung, A.Molden, K.Arrington, D.Fletcher, D.McCourty, N.Jones, R.Ninkovich, B.Spikes, V.Wilfork, K.Love, B.Deaderick, S.Moore, N.Koutouvides, L.Polite, G.Wilson, J.Rogers, N.Barnett, B.Scott, K.Heard, C.Kelsay, A.Williams, K.Sheppard, A.Moats, J.Byrd, K.Moore, K.Morrison, Sp.Johnson, D.Edwards, M.Dareus, A.Davis, D.Florence, L.Dotson, A.Carrington]\n"
     ]
    }
   ],
   "source": [
    "print(game.players.defense())"
   ]
  },
  {
   "cell_type": "code",
   "execution_count": 8,
   "metadata": {},
   "outputs": [
    {
     "name": "stdout",
     "output_type": "stream",
     "text": [
      "[S.Gostkowski, B.Coutu]\n"
     ]
    }
   ],
   "source": [
    "print(game.players.kicking())"
   ]
  },
  {
   "cell_type": "code",
   "execution_count": 17,
   "metadata": {},
   "outputs": [
    {
     "name": "stdout",
     "output_type": "stream",
     "text": [
      "T.Brady 23 35 338\n",
      "B.Hoyer 1 1 22\n",
      "R.Fitzpatrick 29 46 307\n"
     ]
    }
   ],
   "source": [
    "for p in game.players.passing():\n",
    "    print(p,p.passing_cmp, p.passing_att, p.passing_yds)"
   ]
  },
  {
   "cell_type": "code",
   "execution_count": 18,
   "metadata": {},
   "outputs": [
    {
     "name": "stdout",
     "output_type": "stream",
     "text": [
      "[S.Moore]\n"
     ]
    }
   ],
   "source": [
    "print(game.players.defense().filter(defense_int=2))"
   ]
  },
  {
   "cell_type": "code",
   "execution_count": 19,
   "metadata": {},
   "outputs": [
    {
     "name": "stdout",
     "output_type": "stream",
     "text": [
      "[T.Brady, B.Hoyer, S.Ridley, A.Hernandez, B.Green-Ellis, J.Edelman, D.Woodhead, R.Gronkowski, W.Welker, S.Gostkowski, Z.Mesko, M.Slater, J.Mayo, M.Anderson, P.Chung, A.Molden, K.Arrington, D.Fletcher, D.McCourty, N.Jones, R.Ninkovich, B.Spikes, V.Wilfork, K.Love, B.Deaderick, S.Moore, N.Koutouvides, L.Polite]\n"
     ]
    }
   ],
   "source": [
    "print(game.players.filter(home=True))"
   ]
  },
  {
   "cell_type": "code",
   "execution_count": 20,
   "metadata": {},
   "outputs": [
    {
     "name": "stdout",
     "output_type": "stream",
     "text": [
      "[A.Molden, D.McCourty, S.Moore, N.Barnett]\n"
     ]
    }
   ],
   "source": [
    "print(game.players.defense().filter(defense_int=lambda x: x >= 1))"
   ]
  },
  {
   "cell_type": "code",
   "execution_count": 21,
   "metadata": {},
   "outputs": [
    {
     "name": "stdout",
     "output_type": "stream",
     "text": [
      "[A.Molden, D.McCourty, S.Moore]\n"
     ]
    }
   ],
   "source": [
    "print(game.players.defense().filter(home=True, defense_int=lambda x: x >= 1))"
   ]
  },
  {
   "cell_type": "code",
   "execution_count": 22,
   "metadata": {},
   "outputs": [
    {
     "name": "stdout",
     "output_type": "stream",
     "text": [
      "S.Ridley 15 81\n",
      "C.Spiller 13 60\n",
      "R.Fitzpatrick 5 36\n",
      "A.Hernandez 2 26\n",
      "B.Green-Ellis 7 22\n",
      "J.Edelman 1 6\n",
      "G.Wilson 1 6\n",
      "D.Woodhead 1 5\n",
      "T.Choice 1 4\n",
      "B.Hoyer 3 -2\n"
     ]
    }
   ],
   "source": [
    "for p in game.players.rushing().sort(\"rushing_yds\"):\n",
    "    print(p, p.rushing_att, p.rushing_yds)"
   ]
  },
  {
   "cell_type": "code",
   "execution_count": 23,
   "metadata": {},
   "outputs": [
    {
     "name": "stdout",
     "output_type": "stream",
     "text": [
      "S.Ridley 15 81\n",
      "C.Spiller 13 60\n",
      "B.Green-Ellis 7 22\n",
      "R.Fitzpatrick 5 36\n",
      "B.Hoyer 3 -2\n",
      "A.Hernandez 2 26\n",
      "J.Edelman 1 6\n",
      "D.Woodhead 1 5\n",
      "G.Wilson 1 6\n",
      "T.Choice 1 4\n"
     ]
    }
   ],
   "source": [
    "for p in game.players.rushing().sort(\"rushing_att\"):\n",
    "    print(p, p.rushing_att, p.rushing_yds)"
   ]
  },
  {
   "cell_type": "code",
   "execution_count": 24,
   "metadata": {},
   "outputs": [],
   "source": [
    "tom_brady= game.players.name(\"T.Brady\")"
   ]
  },
  {
   "cell_type": "code",
   "execution_count": 25,
   "metadata": {},
   "outputs": [
    {
     "name": "stdout",
     "output_type": "stream",
     "text": [
      "T.Brady \n",
      " passing_att: 35, passing_cmp: 23, passing_yds: 338, passing_tds: 3, passing_ints: 1, passing_twopta: 0, passing_twoptm: 0, fumbles_tot: 1, fumbles_rcv: 1, fumbles_trcv: 1, fumbles_yds: 0, fumbles_lost: 0\n"
     ]
    }
   ],
   "source": [
    "print(tom_brady, \"\\n\", tom_brady.formatted_stats())"
   ]
  },
  {
   "cell_type": "code",
   "execution_count": 26,
   "metadata": {},
   "outputs": [
    {
     "name": "stdout",
     "output_type": "stream",
     "text": [
      "T.Brady 3\n",
      "A.Hernandez 1\n",
      "B.Green-Ellis 2\n",
      "R.Gronkowski 2\n",
      "R.Fitzpatrick 2\n",
      "C.Spiller 1\n",
      "T.Choice 1\n",
      "St.Johnson 1\n"
     ]
    }
   ],
   "source": [
    "for p in game.players.touchdowns():\n",
    "    print(p, p.tds)"
   ]
  },
  {
   "cell_type": "code",
   "execution_count": 28,
   "metadata": {},
   "outputs": [
    {
     "name": "stdout",
     "output_type": "stream",
     "text": [
      "NE\n"
     ]
    }
   ],
   "source": [
    "print(game.winner)"
   ]
  },
  {
   "cell_type": "code",
   "execution_count": 30,
   "metadata": {},
   "outputs": [
    {
     "name": "stdout",
     "output_type": "stream",
     "text": [
      "True\n"
     ]
    }
   ],
   "source": [
    "print(game.game_over())"
   ]
  },
  {
   "cell_type": "code",
   "execution_count": 31,
   "metadata": {},
   "outputs": [
    {
     "name": "stdout",
     "output_type": "stream",
     "text": [
      "49 21\n"
     ]
    }
   ],
   "source": [
    "print(game.score_home, game.score_away)"
   ]
  },
  {
   "cell_type": "code",
   "execution_count": 36,
   "metadata": {},
   "outputs": [
    {
     "name": "stdout",
     "output_type": "stream",
     "text": [
      "BUF - Q1 - TD - T.Choice 4 yd. run (B.Coutu kick is good) Drive: 8 plays, 80 yards in 3:42\n",
      "BUF - Q1 - TD - St.Johnson 18 yd. pass from R.Fitzpatrick (B.Coutu kick is good) Drive: 10 plays, 70 yards in 4:33\n",
      "BUF - Q1 - TD - C.Spiller 15 yd. pass from R.Fitzpatrick (B.Coutu kick is good) Drive: 6 plays, 82 yards in 3:07\n",
      "NE - Q2 - TD - B.Green-Ellis 1 yd. run (S.Gostkowski kick is good) Drive: 9 plays, 77 yards in 3:50\n",
      "NE - Q2 - TD - A.Hernandez 39 yd. pass from T.Brady (S.Gostkowski kick is good) Drive: 7 plays, 81 yards in 3:17\n",
      "NE - Q3 - FG - S.Gostkowski 47 yd. Field Goal Drive: 9 plays, 50 yards in 2:41\n",
      "NE - Q3 - FG - S.Gostkowski 20 yd. Field Goal Drive: 9 plays, 71 yards in 3:25\n",
      "NE - Q3 - TD - R.Gronkowski 17 yd. pass from T.Brady (D.Woodhead run) Drive: 5 plays, 25 yards in 2:22\n",
      "NE - Q4 - TD - B.Green-Ellis 3 yd. run (S.Gostkowski kick is good) Drive: 2 plays, 47 yards in 0:48\n",
      "NE - Q4 - TD - R.Gronkowski 7 yd. pass from T.Brady (S.Gostkowski kick is good) Drive: 14 plays, 88 yards in 7:21\n",
      "NE - Q4 - TD - S.Moore 21 yd. interception return (S.Gostkowski kick is good)\n"
     ]
    }
   ],
   "source": [
    "for score_play in game.scores:\n",
    "    print(score_play)"
   ]
  },
  {
   "cell_type": "markdown",
   "metadata": {},
   "source": [
    "csv export not working, why?"
   ]
  },
  {
   "cell_type": "code",
   "execution_count": 35,
   "metadata": {},
   "outputs": [
    {
     "ename": "TypeError",
     "evalue": "a bytes-like object is required, not 'str'",
     "output_type": "error",
     "traceback": [
      "\u001b[0;31m---------------------------------------------------------------------------\u001b[0m",
      "\u001b[0;31mTypeError\u001b[0m                                 Traceback (most recent call last)",
      "\u001b[0;32m<ipython-input-35-6f4666d55812>\u001b[0m in \u001b[0;36m<module>\u001b[0;34m\u001b[0m\n\u001b[0;32m----> 1\u001b[0;31m \u001b[0mgame\u001b[0m\u001b[0;34m.\u001b[0m\u001b[0mplayers\u001b[0m\u001b[0;34m.\u001b[0m\u001b[0mpassing\u001b[0m\u001b[0;34m(\u001b[0m\u001b[0;34m)\u001b[0m\u001b[0;34m.\u001b[0m\u001b[0msort\u001b[0m\u001b[0;34m(\u001b[0m\u001b[0;34m\"passing_yds\"\u001b[0m\u001b[0;34m)\u001b[0m\u001b[0;34m.\u001b[0m\u001b[0mcsv\u001b[0m\u001b[0;34m(\u001b[0m\u001b[0;34m\"passers.csv\"\u001b[0m\u001b[0;34m)\u001b[0m\u001b[0;34m\u001b[0m\u001b[0;34m\u001b[0m\u001b[0m\n\u001b[0m",
      "\u001b[0;32m~/anaconda3/envs/python-env/lib/python3.6/site-packages/nflgame/seq.py\u001b[0m in \u001b[0;36mcsv\u001b[0;34m(self, fileName, allfields)\u001b[0m\n\u001b[1;32m    331\u001b[0m         \u001b[0mfieldNames\u001b[0m \u001b[0;34m=\u001b[0m \u001b[0;34m[\u001b[0m\u001b[0;34m\"name\"\u001b[0m\u001b[0;34m,\u001b[0m \u001b[0;34m\"id\"\u001b[0m\u001b[0;34m,\u001b[0m \u001b[0;34m\"home\"\u001b[0m\u001b[0;34m,\u001b[0m \u001b[0;34m\"team\"\u001b[0m\u001b[0;34m,\u001b[0m \u001b[0;34m\"pos\"\u001b[0m\u001b[0;34m]\u001b[0m \u001b[0;34m+\u001b[0m \u001b[0mfields\u001b[0m\u001b[0;34m\u001b[0m\u001b[0;34m\u001b[0m\u001b[0m\n\u001b[1;32m    332\u001b[0m         \u001b[0mrows\u001b[0m \u001b[0;34m=\u001b[0m \u001b[0;34m[\u001b[0m\u001b[0mdict\u001b[0m\u001b[0;34m(\u001b[0m\u001b[0;34m(\u001b[0m\u001b[0mf\u001b[0m\u001b[0;34m,\u001b[0m \u001b[0mf\u001b[0m\u001b[0;34m)\u001b[0m \u001b[0;32mfor\u001b[0m \u001b[0mf\u001b[0m \u001b[0;32min\u001b[0m \u001b[0mfieldNames\u001b[0m\u001b[0;34m)\u001b[0m\u001b[0;34m]\u001b[0m \u001b[0;34m+\u001b[0m \u001b[0mrows\u001b[0m\u001b[0;34m\u001b[0m\u001b[0;34m\u001b[0m\u001b[0m\n\u001b[0;32m--> 333\u001b[0;31m         \u001b[0mcsv\u001b[0m\u001b[0;34m.\u001b[0m\u001b[0mDictWriter\u001b[0m\u001b[0;34m(\u001b[0m\u001b[0mopen\u001b[0m\u001b[0;34m(\u001b[0m\u001b[0mfileName\u001b[0m\u001b[0;34m,\u001b[0m \u001b[0;34m'wb+'\u001b[0m\u001b[0;34m)\u001b[0m\u001b[0;34m,\u001b[0m \u001b[0mfieldNames\u001b[0m\u001b[0;34m)\u001b[0m\u001b[0;34m.\u001b[0m\u001b[0mwriterows\u001b[0m\u001b[0;34m(\u001b[0m\u001b[0mrows\u001b[0m\u001b[0;34m)\u001b[0m\u001b[0;34m\u001b[0m\u001b[0;34m\u001b[0m\u001b[0m\n\u001b[0m\u001b[1;32m    334\u001b[0m \u001b[0;34m\u001b[0m\u001b[0m\n\u001b[1;32m    335\u001b[0m     \u001b[0;32mdef\u001b[0m \u001b[0m__add__\u001b[0m\u001b[0;34m(\u001b[0m\u001b[0mself\u001b[0m\u001b[0;34m,\u001b[0m \u001b[0mother\u001b[0m\u001b[0;34m)\u001b[0m\u001b[0;34m:\u001b[0m\u001b[0;34m\u001b[0m\u001b[0;34m\u001b[0m\u001b[0m\n",
      "\u001b[0;32m~/anaconda3/envs/python-env/lib/python3.6/csv.py\u001b[0m in \u001b[0;36mwriterows\u001b[0;34m(self, rowdicts)\u001b[0m\n\u001b[1;32m    156\u001b[0m \u001b[0;34m\u001b[0m\u001b[0m\n\u001b[1;32m    157\u001b[0m     \u001b[0;32mdef\u001b[0m \u001b[0mwriterows\u001b[0m\u001b[0;34m(\u001b[0m\u001b[0mself\u001b[0m\u001b[0;34m,\u001b[0m \u001b[0mrowdicts\u001b[0m\u001b[0;34m)\u001b[0m\u001b[0;34m:\u001b[0m\u001b[0;34m\u001b[0m\u001b[0;34m\u001b[0m\u001b[0m\n\u001b[0;32m--> 158\u001b[0;31m         \u001b[0;32mreturn\u001b[0m \u001b[0mself\u001b[0m\u001b[0;34m.\u001b[0m\u001b[0mwriter\u001b[0m\u001b[0;34m.\u001b[0m\u001b[0mwriterows\u001b[0m\u001b[0;34m(\u001b[0m\u001b[0mmap\u001b[0m\u001b[0;34m(\u001b[0m\u001b[0mself\u001b[0m\u001b[0;34m.\u001b[0m\u001b[0m_dict_to_list\u001b[0m\u001b[0;34m,\u001b[0m \u001b[0mrowdicts\u001b[0m\u001b[0;34m)\u001b[0m\u001b[0;34m)\u001b[0m\u001b[0;34m\u001b[0m\u001b[0;34m\u001b[0m\u001b[0m\n\u001b[0m\u001b[1;32m    159\u001b[0m \u001b[0;34m\u001b[0m\u001b[0m\n\u001b[1;32m    160\u001b[0m \u001b[0;31m# Guard Sniffer's type checking against builds that exclude complex()\u001b[0m\u001b[0;34m\u001b[0m\u001b[0;34m\u001b[0m\u001b[0;34m\u001b[0m\u001b[0m\n",
      "\u001b[0;31mTypeError\u001b[0m: a bytes-like object is required, not 'str'"
     ]
    }
   ],
   "source": [
    "game.players.passing().sort(\"passing_yds\").csv(\"passers.csv\")"
   ]
  },
  {
   "cell_type": "code",
   "execution_count": 37,
   "metadata": {},
   "outputs": [],
   "source": [
    "week2 = nflgame.games(2019, 2)\n",
    "players = nflgame.combine(week2)"
   ]
  },
  {
   "cell_type": "code",
   "execution_count": 38,
   "metadata": {},
   "outputs": [
    {
     "name": "stdout",
     "output_type": "stream",
     "text": [
      "D.Cook 20 154 1\n",
      "M.Breida 12 121 0\n",
      "L.Jackson 16 120 0\n",
      "A.Jones 23 116 1\n",
      "E.Elliott 23 111 1\n",
      "S.Barkley 18 107 1\n",
      "J.Jacobs 12 99 0\n",
      "C.Hyde 20 90 0\n",
      "R.Mostert 13 83 0\n",
      "S.Michel 21 83 1\n"
     ]
    }
   ],
   "source": [
    "for p in players.rushing().sort(\"rushing_yds\").limit(10):\n",
    "    print(p, p.rushing_att, p.rushing_yds, p.rushing_tds)"
   ]
  },
  {
   "cell_type": "code",
   "execution_count": 39,
   "metadata": {},
   "outputs": [
    {
     "name": "stdout",
     "output_type": "stream",
     "text": [
      "P.Mahomes 15\n",
      "M.Ryan 15\n",
      "R.Wilson 15\n",
      "J.Brissett 14\n",
      "A.Rodgers 13\n",
      "K.Cousins 13\n",
      "C.Wentz 13\n",
      "M.Stafford 13\n",
      "D.Watson 13\n",
      "D.Prescott 12\n",
      "J.Winston 12\n",
      "L.Jackson 11\n",
      "P.Rivers 11\n",
      "T.Brady 11\n",
      "G.Minshew 10\n",
      "J.Goff 9\n",
      "C.Keenum 9\n",
      "T.Bridgewater 9\n",
      "A.Dalton 8\n",
      "D.Carr 8\n"
     ]
    }
   ],
   "source": [
    "games1_7 = nflgame.games(2019, week=[1,2,3,4,5,6,7])\n",
    "players = nflgame.combine(games1_7)\n",
    "for p in players.passing().sort(\"passing_tds\").limit(20):\n",
    "    print(p, p.passing_tds)"
   ]
  },
  {
   "cell_type": "code",
   "execution_count": 44,
   "metadata": {},
   "outputs": [
    {
     "name": "stdout",
     "output_type": "stream",
     "text": [
      "T.Brady 17\n"
     ]
    }
   ],
   "source": [
    "nehome = nflgame.games(2018, home=\"NE\") #Here, 2019 didn't work b/c it's not a full season\n",
    "players = nflgame.combine(nehome)\n",
    "brady = players.name(\"T.Brady\")\n",
    "print(brady, brady.passing_tds)"
   ]
  },
  {
   "cell_type": "code",
   "execution_count": 45,
   "metadata": {},
   "outputs": [
    {
     "name": "stdout",
     "output_type": "stream",
     "text": [
      "T.Brady 10\n"
     ]
    }
   ],
   "source": [
    "nehome = nflgame.games(2018, week=[1,2,3,4,5,6,7], home=\"NE\")\n",
    "players = nflgame.combine(nehome)\n",
    "brady = players.name(\"T.Brady\")\n",
    "print(brady, brady.passing_tds)"
   ]
  },
  {
   "cell_type": "code",
   "execution_count": 57,
   "metadata": {},
   "outputs": [
    {
     "name": "stdout",
     "output_type": "stream",
     "text": [
      "T.Hilton 1448 91 6\n",
      "J.Jones 1409 83 6\n",
      "O.Beckham 1372 101 10\n",
      "M.Evans 1321 96 12\n",
      "A.Brown 1284 106 12\n",
      "J.Nelson 1257 97 14\n",
      "B.Cooks 1173 78 8\n",
      "A.Cooper 1149 82 5\n",
      "J.Landry 1138 94 4\n",
      "M.Thomas 1137 92 9\n",
      "D.Baldwin 1128 94 7\n",
      "T.Kelce 1125 85 4\n",
      "J.Edelman 1106 98 3\n",
      "D.Thomas 1083 90 5\n",
      "G.Tate 1077 91 4\n"
     ]
    }
   ],
   "source": [
    "#season2018 = nflgame.games(2018)\n",
    "#players = nflgame.combine(season2018)\n",
    "#for p in players.receiving().sort(\"receiving_yds\").limit(15):\n",
    "#    pring(p, p.receiving_yds, p.receiving_rec, p.receiving_tds)\n",
    "season2018 = nflgame.games(2016) #Only works up to 2016?\n",
    "players = nflgame.combine(season2018)\n",
    "for p in players.receiving().sort(\"receiving_yds\").limit(15):\n",
    "    print(p, p.receiving_yds, p.receiving_rec, p.receiving_tds)"
   ]
  },
  {
   "cell_type": "code",
   "execution_count": 59,
   "metadata": {},
   "outputs": [
    {
     "ename": "TypeError",
     "evalue": "a bytes-like object is required, not 'str'",
     "output_type": "error",
     "traceback": [
      "\u001b[0;31m---------------------------------------------------------------------------\u001b[0m",
      "\u001b[0;31mTypeError\u001b[0m                                 Traceback (most recent call last)",
      "\u001b[0;32m<ipython-input-59-a448cd3c57c4>\u001b[0m in \u001b[0;36m<module>\u001b[0;34m\u001b[0m\n\u001b[0;32m----> 1\u001b[0;31m \u001b[0mnflgame\u001b[0m\u001b[0;34m.\u001b[0m\u001b[0mcombine\u001b[0m\u001b[0;34m(\u001b[0m\u001b[0mnflgame\u001b[0m\u001b[0;34m.\u001b[0m\u001b[0mgames\u001b[0m\u001b[0;34m(\u001b[0m\u001b[0;36m2011\u001b[0m\u001b[0;34m)\u001b[0m\u001b[0;34m)\u001b[0m\u001b[0;34m.\u001b[0m\u001b[0mcsv\u001b[0m\u001b[0;34m(\u001b[0m\u001b[0;34m\"2011.csv\"\u001b[0m\u001b[0;34m)\u001b[0m\u001b[0;34m\u001b[0m\u001b[0;34m\u001b[0m\u001b[0m\n\u001b[0m",
      "\u001b[0;32m~/anaconda3/envs/python-env/lib/python3.6/site-packages/nflgame/seq.py\u001b[0m in \u001b[0;36mcsv\u001b[0;34m(self, fileName, allfields)\u001b[0m\n\u001b[1;32m    331\u001b[0m         \u001b[0mfieldNames\u001b[0m \u001b[0;34m=\u001b[0m \u001b[0;34m[\u001b[0m\u001b[0;34m\"name\"\u001b[0m\u001b[0;34m,\u001b[0m \u001b[0;34m\"id\"\u001b[0m\u001b[0;34m,\u001b[0m \u001b[0;34m\"home\"\u001b[0m\u001b[0;34m,\u001b[0m \u001b[0;34m\"team\"\u001b[0m\u001b[0;34m,\u001b[0m \u001b[0;34m\"pos\"\u001b[0m\u001b[0;34m]\u001b[0m \u001b[0;34m+\u001b[0m \u001b[0mfields\u001b[0m\u001b[0;34m\u001b[0m\u001b[0;34m\u001b[0m\u001b[0m\n\u001b[1;32m    332\u001b[0m         \u001b[0mrows\u001b[0m \u001b[0;34m=\u001b[0m \u001b[0;34m[\u001b[0m\u001b[0mdict\u001b[0m\u001b[0;34m(\u001b[0m\u001b[0;34m(\u001b[0m\u001b[0mf\u001b[0m\u001b[0;34m,\u001b[0m \u001b[0mf\u001b[0m\u001b[0;34m)\u001b[0m \u001b[0;32mfor\u001b[0m \u001b[0mf\u001b[0m \u001b[0;32min\u001b[0m \u001b[0mfieldNames\u001b[0m\u001b[0;34m)\u001b[0m\u001b[0;34m]\u001b[0m \u001b[0;34m+\u001b[0m \u001b[0mrows\u001b[0m\u001b[0;34m\u001b[0m\u001b[0;34m\u001b[0m\u001b[0m\n\u001b[0;32m--> 333\u001b[0;31m         \u001b[0mcsv\u001b[0m\u001b[0;34m.\u001b[0m\u001b[0mDictWriter\u001b[0m\u001b[0;34m(\u001b[0m\u001b[0mopen\u001b[0m\u001b[0;34m(\u001b[0m\u001b[0mfileName\u001b[0m\u001b[0;34m,\u001b[0m \u001b[0;34m'wb+'\u001b[0m\u001b[0;34m)\u001b[0m\u001b[0;34m,\u001b[0m \u001b[0mfieldNames\u001b[0m\u001b[0;34m)\u001b[0m\u001b[0;34m.\u001b[0m\u001b[0mwriterows\u001b[0m\u001b[0;34m(\u001b[0m\u001b[0mrows\u001b[0m\u001b[0;34m)\u001b[0m\u001b[0;34m\u001b[0m\u001b[0;34m\u001b[0m\u001b[0m\n\u001b[0m\u001b[1;32m    334\u001b[0m \u001b[0;34m\u001b[0m\u001b[0m\n\u001b[1;32m    335\u001b[0m     \u001b[0;32mdef\u001b[0m \u001b[0m__add__\u001b[0m\u001b[0;34m(\u001b[0m\u001b[0mself\u001b[0m\u001b[0;34m,\u001b[0m \u001b[0mother\u001b[0m\u001b[0;34m)\u001b[0m\u001b[0;34m:\u001b[0m\u001b[0;34m\u001b[0m\u001b[0;34m\u001b[0m\u001b[0m\n",
      "\u001b[0;32m~/anaconda3/envs/python-env/lib/python3.6/csv.py\u001b[0m in \u001b[0;36mwriterows\u001b[0;34m(self, rowdicts)\u001b[0m\n\u001b[1;32m    156\u001b[0m \u001b[0;34m\u001b[0m\u001b[0m\n\u001b[1;32m    157\u001b[0m     \u001b[0;32mdef\u001b[0m \u001b[0mwriterows\u001b[0m\u001b[0;34m(\u001b[0m\u001b[0mself\u001b[0m\u001b[0;34m,\u001b[0m \u001b[0mrowdicts\u001b[0m\u001b[0;34m)\u001b[0m\u001b[0;34m:\u001b[0m\u001b[0;34m\u001b[0m\u001b[0;34m\u001b[0m\u001b[0m\n\u001b[0;32m--> 158\u001b[0;31m         \u001b[0;32mreturn\u001b[0m \u001b[0mself\u001b[0m\u001b[0;34m.\u001b[0m\u001b[0mwriter\u001b[0m\u001b[0;34m.\u001b[0m\u001b[0mwriterows\u001b[0m\u001b[0;34m(\u001b[0m\u001b[0mmap\u001b[0m\u001b[0;34m(\u001b[0m\u001b[0mself\u001b[0m\u001b[0;34m.\u001b[0m\u001b[0m_dict_to_list\u001b[0m\u001b[0;34m,\u001b[0m \u001b[0mrowdicts\u001b[0m\u001b[0;34m)\u001b[0m\u001b[0;34m)\u001b[0m\u001b[0;34m\u001b[0m\u001b[0;34m\u001b[0m\u001b[0m\n\u001b[0m\u001b[1;32m    159\u001b[0m \u001b[0;34m\u001b[0m\u001b[0m\n\u001b[1;32m    160\u001b[0m \u001b[0;31m# Guard Sniffer's type checking against builds that exclude complex()\u001b[0m\u001b[0;34m\u001b[0m\u001b[0;34m\u001b[0m\u001b[0;34m\u001b[0m\u001b[0m\n",
      "\u001b[0;31mTypeError\u001b[0m: a bytes-like object is required, not 'str'"
     ]
    }
   ],
   "source": [
    "nflgame.combine(nflgame.games(2011)).csv(\"2011.csv\") #Same error"
   ]
  },
  {
   "cell_type": "markdown",
   "metadata": {},
   "source": [
    "### 9 Parlay combinations week 9"
   ]
  },
  {
   "cell_type": "code",
   "execution_count": 1,
   "metadata": {},
   "outputs": [
    {
     "name": "stdout",
     "output_type": "stream",
     "text": [
      "Texans\n"
     ]
    }
   ],
   "source": [
    "#away, home, away_odds, home_odds\n",
    "\n",
    "games = [['Texans', 'Jaguars', -130, 110], ['Bears', 'Eagles', 185, -215], ['Vikings', 'Chiefs', -172, 140], \n",
    "         ['Colts', 'Steelers', -105, -115], ['Jets', 'Dolphins', -175, 155], ['Redskins', 'Bills', 375, -500], \n",
    "         ['Titans', 'Panthers', 165, -190], ['Lions', 'Raiders', 115, -135], ['Buccaneers', 'Seahawks', 200, -240],\n",
    "         ['Packers', 'Chargers', -190, 165], ['Browns', 'Broncos', -200, 170], ['Patriots', 'Ravens', -170, 150],\n",
    "         ['Cowboys', 'Giants', -320, 260]]\n",
    "print(games[0][0])"
   ]
  },
  {
   "cell_type": "code",
   "execution_count": 2,
   "metadata": {
    "scrolled": true
   },
   "outputs": [
    {
     "name": "stdout",
     "output_type": "stream",
     "text": [
      "(['Texans', 'Jaguars', -130, 110], ['Bears', 'Eagles', 185, -215], ['Vikings', 'Chiefs', -172, 140], ['Colts', 'Steelers', -105, -115], ['Jets', 'Dolphins', -175, 155], ['Redskins', 'Bills', 375, -500], ['Titans', 'Panthers', 165, -190], ['Lions', 'Raiders', 115, -135], ['Buccaneers', 'Seahawks', 200, -240]) <class 'list'> 715\n",
      "\n",
      " ['Texans', 'Jaguars', -130, 110]\n"
     ]
    }
   ],
   "source": [
    "from itertools import combinations\n",
    "parlay9 = list(combinations(games, 9))\n",
    "#parlay9 = combinations('ABC', 2)\n",
    "print(parlay9[0], type(parlay9[0][0]), len(parlay9))\n",
    "print('\\n', parlay9[0][0])"
   ]
  },
  {
   "cell_type": "code",
   "execution_count": 3,
   "metadata": {},
   "outputs": [
    {
     "name": "stdout",
     "output_type": "stream",
     "text": [
      "(['Texans', 'Jaguars', -130, 110], ['Bears', 'Eagles', 185, -215], ['Vikings', 'Chiefs', -172, 140], ['Colts', 'Steelers', -105, -115], ['Jets', 'Dolphins', -175, 155], ['Redskins', 'Bills', 375, -500], ['Titans', 'Panthers', 165, -190], ['Lions', 'Raiders', 115, -135], ['Buccaneers', 'Seahawks', 200, -240])\n",
      "(['Texans', 'Jaguars', -130, 110], ['Bears', 'Eagles', 185, -215], ['Vikings', 'Chiefs', -172, 140], ['Colts', 'Steelers', -105, -115], ['Jets', 'Dolphins', -175, 155], ['Redskins', 'Bills', 375, -500], ['Titans', 'Panthers', 165, -190], ['Lions', 'Raiders', 115, -135], ['Packers', 'Chargers', -190, 165])\n",
      "(['Texans', 'Jaguars', -130, 110], ['Bears', 'Eagles', 185, -215], ['Vikings', 'Chiefs', -172, 140], ['Colts', 'Steelers', -105, -115], ['Jets', 'Dolphins', -175, 155], ['Redskins', 'Bills', 375, -500], ['Titans', 'Panthers', 165, -190], ['Lions', 'Raiders', 115, -135], ['Browns', 'Broncos', -200, 170])\n",
      "(['Texans', 'Jaguars', -130, 110], ['Bears', 'Eagles', 185, -215], ['Vikings', 'Chiefs', -172, 140], ['Colts', 'Steelers', -105, -115], ['Jets', 'Dolphins', -175, 155], ['Redskins', 'Bills', 375, -500], ['Titans', 'Panthers', 165, -190], ['Lions', 'Raiders', 115, -135], ['Patriots', 'Ravens', -170, 150])\n",
      "(['Texans', 'Jaguars', -130, 110], ['Bears', 'Eagles', 185, -215], ['Vikings', 'Chiefs', -172, 140], ['Colts', 'Steelers', -105, -115], ['Jets', 'Dolphins', -175, 155], ['Redskins', 'Bills', 375, -500], ['Titans', 'Panthers', 165, -190], ['Lions', 'Raiders', 115, -135], ['Cowboys', 'Giants', -320, 260])\n",
      "(['Texans', 'Jaguars', -130, 110], ['Bears', 'Eagles', 185, -215], ['Vikings', 'Chiefs', -172, 140], ['Colts', 'Steelers', -105, -115], ['Jets', 'Dolphins', -175, 155], ['Redskins', 'Bills', 375, -500], ['Titans', 'Panthers', 165, -190], ['Buccaneers', 'Seahawks', 200, -240], ['Packers', 'Chargers', -190, 165])\n",
      "(['Texans', 'Jaguars', -130, 110], ['Bears', 'Eagles', 185, -215], ['Vikings', 'Chiefs', -172, 140], ['Colts', 'Steelers', -105, -115], ['Jets', 'Dolphins', -175, 155], ['Redskins', 'Bills', 375, -500], ['Titans', 'Panthers', 165, -190], ['Buccaneers', 'Seahawks', 200, -240], ['Browns', 'Broncos', -200, 170])\n",
      "(['Texans', 'Jaguars', -130, 110], ['Bears', 'Eagles', 185, -215], ['Vikings', 'Chiefs', -172, 140], ['Colts', 'Steelers', -105, -115], ['Jets', 'Dolphins', -175, 155], ['Redskins', 'Bills', 375, -500], ['Titans', 'Panthers', 165, -190], ['Buccaneers', 'Seahawks', 200, -240], ['Patriots', 'Ravens', -170, 150])\n",
      "(['Texans', 'Jaguars', -130, 110], ['Bears', 'Eagles', 185, -215], ['Vikings', 'Chiefs', -172, 140], ['Colts', 'Steelers', -105, -115], ['Jets', 'Dolphins', -175, 155], ['Redskins', 'Bills', 375, -500], ['Titans', 'Panthers', 165, -190], ['Buccaneers', 'Seahawks', 200, -240], ['Cowboys', 'Giants', -320, 260])\n",
      "(['Texans', 'Jaguars', -130, 110], ['Bears', 'Eagles', 185, -215], ['Vikings', 'Chiefs', -172, 140], ['Colts', 'Steelers', -105, -115], ['Jets', 'Dolphins', -175, 155], ['Redskins', 'Bills', 375, -500], ['Titans', 'Panthers', 165, -190], ['Packers', 'Chargers', -190, 165], ['Browns', 'Broncos', -200, 170])\n",
      "(['Texans', 'Jaguars', -130, 110], ['Bears', 'Eagles', 185, -215], ['Vikings', 'Chiefs', -172, 140], ['Colts', 'Steelers', -105, -115], ['Jets', 'Dolphins', -175, 155], ['Redskins', 'Bills', 375, -500], ['Titans', 'Panthers', 165, -190], ['Packers', 'Chargers', -190, 165], ['Patriots', 'Ravens', -170, 150])\n",
      "(['Texans', 'Jaguars', -130, 110], ['Bears', 'Eagles', 185, -215], ['Vikings', 'Chiefs', -172, 140], ['Colts', 'Steelers', -105, -115], ['Jets', 'Dolphins', -175, 155], ['Redskins', 'Bills', 375, -500], ['Titans', 'Panthers', 165, -190], ['Packers', 'Chargers', -190, 165], ['Cowboys', 'Giants', -320, 260])\n",
      "(['Texans', 'Jaguars', -130, 110], ['Bears', 'Eagles', 185, -215], ['Vikings', 'Chiefs', -172, 140], ['Colts', 'Steelers', -105, -115], ['Jets', 'Dolphins', -175, 155], ['Redskins', 'Bills', 375, -500], ['Titans', 'Panthers', 165, -190], ['Browns', 'Broncos', -200, 170], ['Patriots', 'Ravens', -170, 150])\n",
      "(['Texans', 'Jaguars', -130, 110], ['Bears', 'Eagles', 185, -215], ['Vikings', 'Chiefs', -172, 140], ['Colts', 'Steelers', -105, -115], ['Jets', 'Dolphins', -175, 155], ['Redskins', 'Bills', 375, -500], ['Titans', 'Panthers', 165, -190], ['Browns', 'Broncos', -200, 170], ['Cowboys', 'Giants', -320, 260])\n",
      "(['Texans', 'Jaguars', -130, 110], ['Bears', 'Eagles', 185, -215], ['Vikings', 'Chiefs', -172, 140], ['Colts', 'Steelers', -105, -115], ['Jets', 'Dolphins', -175, 155], ['Redskins', 'Bills', 375, -500], ['Titans', 'Panthers', 165, -190], ['Patriots', 'Ravens', -170, 150], ['Cowboys', 'Giants', -320, 260])\n",
      "(['Texans', 'Jaguars', -130, 110], ['Bears', 'Eagles', 185, -215], ['Vikings', 'Chiefs', -172, 140], ['Colts', 'Steelers', -105, -115], ['Jets', 'Dolphins', -175, 155], ['Redskins', 'Bills', 375, -500], ['Lions', 'Raiders', 115, -135], ['Buccaneers', 'Seahawks', 200, -240], ['Packers', 'Chargers', -190, 165])\n",
      "(['Texans', 'Jaguars', -130, 110], ['Bears', 'Eagles', 185, -215], ['Vikings', 'Chiefs', -172, 140], ['Colts', 'Steelers', -105, -115], ['Jets', 'Dolphins', -175, 155], ['Redskins', 'Bills', 375, -500], ['Lions', 'Raiders', 115, -135], ['Buccaneers', 'Seahawks', 200, -240], ['Browns', 'Broncos', -200, 170])\n",
      "(['Texans', 'Jaguars', -130, 110], ['Bears', 'Eagles', 185, -215], ['Vikings', 'Chiefs', -172, 140], ['Colts', 'Steelers', -105, -115], ['Jets', 'Dolphins', -175, 155], ['Redskins', 'Bills', 375, -500], ['Lions', 'Raiders', 115, -135], ['Buccaneers', 'Seahawks', 200, -240], ['Patriots', 'Ravens', -170, 150])\n",
      "(['Texans', 'Jaguars', -130, 110], ['Bears', 'Eagles', 185, -215], ['Vikings', 'Chiefs', -172, 140], ['Colts', 'Steelers', -105, -115], ['Jets', 'Dolphins', -175, 155], ['Redskins', 'Bills', 375, -500], ['Lions', 'Raiders', 115, -135], ['Buccaneers', 'Seahawks', 200, -240], ['Cowboys', 'Giants', -320, 260])\n",
      "(['Texans', 'Jaguars', -130, 110], ['Bears', 'Eagles', 185, -215], ['Vikings', 'Chiefs', -172, 140], ['Colts', 'Steelers', -105, -115], ['Jets', 'Dolphins', -175, 155], ['Redskins', 'Bills', 375, -500], ['Lions', 'Raiders', 115, -135], ['Packers', 'Chargers', -190, 165], ['Browns', 'Broncos', -200, 170])\n",
      "(['Texans', 'Jaguars', -130, 110], ['Bears', 'Eagles', 185, -215], ['Vikings', 'Chiefs', -172, 140], ['Colts', 'Steelers', -105, -115], ['Jets', 'Dolphins', -175, 155], ['Redskins', 'Bills', 375, -500], ['Lions', 'Raiders', 115, -135], ['Packers', 'Chargers', -190, 165], ['Patriots', 'Ravens', -170, 150])\n",
      "(['Texans', 'Jaguars', -130, 110], ['Bears', 'Eagles', 185, -215], ['Vikings', 'Chiefs', -172, 140], ['Colts', 'Steelers', -105, -115], ['Jets', 'Dolphins', -175, 155], ['Redskins', 'Bills', 375, -500], ['Lions', 'Raiders', 115, -135], ['Packers', 'Chargers', -190, 165], ['Cowboys', 'Giants', -320, 260])\n",
      "(['Texans', 'Jaguars', -130, 110], ['Bears', 'Eagles', 185, -215], ['Vikings', 'Chiefs', -172, 140], ['Colts', 'Steelers', -105, -115], ['Jets', 'Dolphins', -175, 155], ['Redskins', 'Bills', 375, -500], ['Lions', 'Raiders', 115, -135], ['Browns', 'Broncos', -200, 170], ['Patriots', 'Ravens', -170, 150])\n",
      "(['Texans', 'Jaguars', -130, 110], ['Bears', 'Eagles', 185, -215], ['Vikings', 'Chiefs', -172, 140], ['Colts', 'Steelers', -105, -115], ['Jets', 'Dolphins', -175, 155], ['Redskins', 'Bills', 375, -500], ['Lions', 'Raiders', 115, -135], ['Browns', 'Broncos', -200, 170], ['Cowboys', 'Giants', -320, 260])\n",
      "(['Texans', 'Jaguars', -130, 110], ['Bears', 'Eagles', 185, -215], ['Vikings', 'Chiefs', -172, 140], ['Colts', 'Steelers', -105, -115], ['Jets', 'Dolphins', -175, 155], ['Redskins', 'Bills', 375, -500], ['Lions', 'Raiders', 115, -135], ['Patriots', 'Ravens', -170, 150], ['Cowboys', 'Giants', -320, 260])\n",
      "(['Texans', 'Jaguars', -130, 110], ['Bears', 'Eagles', 185, -215], ['Vikings', 'Chiefs', -172, 140], ['Colts', 'Steelers', -105, -115], ['Jets', 'Dolphins', -175, 155], ['Redskins', 'Bills', 375, -500], ['Buccaneers', 'Seahawks', 200, -240], ['Packers', 'Chargers', -190, 165], ['Browns', 'Broncos', -200, 170])\n",
      "(['Texans', 'Jaguars', -130, 110], ['Bears', 'Eagles', 185, -215], ['Vikings', 'Chiefs', -172, 140], ['Colts', 'Steelers', -105, -115], ['Jets', 'Dolphins', -175, 155], ['Redskins', 'Bills', 375, -500], ['Buccaneers', 'Seahawks', 200, -240], ['Packers', 'Chargers', -190, 165], ['Patriots', 'Ravens', -170, 150])\n",
      "(['Texans', 'Jaguars', -130, 110], ['Bears', 'Eagles', 185, -215], ['Vikings', 'Chiefs', -172, 140], ['Colts', 'Steelers', -105, -115], ['Jets', 'Dolphins', -175, 155], ['Redskins', 'Bills', 375, -500], ['Buccaneers', 'Seahawks', 200, -240], ['Packers', 'Chargers', -190, 165], ['Cowboys', 'Giants', -320, 260])\n",
      "(['Texans', 'Jaguars', -130, 110], ['Bears', 'Eagles', 185, -215], ['Vikings', 'Chiefs', -172, 140], ['Colts', 'Steelers', -105, -115], ['Jets', 'Dolphins', -175, 155], ['Redskins', 'Bills', 375, -500], ['Buccaneers', 'Seahawks', 200, -240], ['Browns', 'Broncos', -200, 170], ['Patriots', 'Ravens', -170, 150])\n",
      "(['Texans', 'Jaguars', -130, 110], ['Bears', 'Eagles', 185, -215], ['Vikings', 'Chiefs', -172, 140], ['Colts', 'Steelers', -105, -115], ['Jets', 'Dolphins', -175, 155], ['Redskins', 'Bills', 375, -500], ['Buccaneers', 'Seahawks', 200, -240], ['Browns', 'Broncos', -200, 170], ['Cowboys', 'Giants', -320, 260])\n",
      "(['Texans', 'Jaguars', -130, 110], ['Bears', 'Eagles', 185, -215], ['Vikings', 'Chiefs', -172, 140], ['Colts', 'Steelers', -105, -115], ['Jets', 'Dolphins', -175, 155], ['Redskins', 'Bills', 375, -500], ['Buccaneers', 'Seahawks', 200, -240], ['Patriots', 'Ravens', -170, 150], ['Cowboys', 'Giants', -320, 260])\n",
      "(['Texans', 'Jaguars', -130, 110], ['Bears', 'Eagles', 185, -215], ['Vikings', 'Chiefs', -172, 140], ['Colts', 'Steelers', -105, -115], ['Jets', 'Dolphins', -175, 155], ['Redskins', 'Bills', 375, -500], ['Packers', 'Chargers', -190, 165], ['Browns', 'Broncos', -200, 170], ['Patriots', 'Ravens', -170, 150])\n",
      "(['Texans', 'Jaguars', -130, 110], ['Bears', 'Eagles', 185, -215], ['Vikings', 'Chiefs', -172, 140], ['Colts', 'Steelers', -105, -115], ['Jets', 'Dolphins', -175, 155], ['Redskins', 'Bills', 375, -500], ['Packers', 'Chargers', -190, 165], ['Browns', 'Broncos', -200, 170], ['Cowboys', 'Giants', -320, 260])\n",
      "(['Texans', 'Jaguars', -130, 110], ['Bears', 'Eagles', 185, -215], ['Vikings', 'Chiefs', -172, 140], ['Colts', 'Steelers', -105, -115], ['Jets', 'Dolphins', -175, 155], ['Redskins', 'Bills', 375, -500], ['Packers', 'Chargers', -190, 165], ['Patriots', 'Ravens', -170, 150], ['Cowboys', 'Giants', -320, 260])\n",
      "(['Texans', 'Jaguars', -130, 110], ['Bears', 'Eagles', 185, -215], ['Vikings', 'Chiefs', -172, 140], ['Colts', 'Steelers', -105, -115], ['Jets', 'Dolphins', -175, 155], ['Redskins', 'Bills', 375, -500], ['Browns', 'Broncos', -200, 170], ['Patriots', 'Ravens', -170, 150], ['Cowboys', 'Giants', -320, 260])\n",
      "(['Texans', 'Jaguars', -130, 110], ['Bears', 'Eagles', 185, -215], ['Vikings', 'Chiefs', -172, 140], ['Colts', 'Steelers', -105, -115], ['Jets', 'Dolphins', -175, 155], ['Titans', 'Panthers', 165, -190], ['Lions', 'Raiders', 115, -135], ['Buccaneers', 'Seahawks', 200, -240], ['Packers', 'Chargers', -190, 165])\n",
      "(['Texans', 'Jaguars', -130, 110], ['Bears', 'Eagles', 185, -215], ['Vikings', 'Chiefs', -172, 140], ['Colts', 'Steelers', -105, -115], ['Jets', 'Dolphins', -175, 155], ['Titans', 'Panthers', 165, -190], ['Lions', 'Raiders', 115, -135], ['Buccaneers', 'Seahawks', 200, -240], ['Browns', 'Broncos', -200, 170])\n",
      "(['Texans', 'Jaguars', -130, 110], ['Bears', 'Eagles', 185, -215], ['Vikings', 'Chiefs', -172, 140], ['Colts', 'Steelers', -105, -115], ['Jets', 'Dolphins', -175, 155], ['Titans', 'Panthers', 165, -190], ['Lions', 'Raiders', 115, -135], ['Buccaneers', 'Seahawks', 200, -240], ['Patriots', 'Ravens', -170, 150])\n",
      "(['Texans', 'Jaguars', -130, 110], ['Bears', 'Eagles', 185, -215], ['Vikings', 'Chiefs', -172, 140], ['Colts', 'Steelers', -105, -115], ['Jets', 'Dolphins', -175, 155], ['Titans', 'Panthers', 165, -190], ['Lions', 'Raiders', 115, -135], ['Buccaneers', 'Seahawks', 200, -240], ['Cowboys', 'Giants', -320, 260])\n",
      "(['Texans', 'Jaguars', -130, 110], ['Bears', 'Eagles', 185, -215], ['Vikings', 'Chiefs', -172, 140], ['Colts', 'Steelers', -105, -115], ['Jets', 'Dolphins', -175, 155], ['Titans', 'Panthers', 165, -190], ['Lions', 'Raiders', 115, -135], ['Packers', 'Chargers', -190, 165], ['Browns', 'Broncos', -200, 170])\n",
      "(['Texans', 'Jaguars', -130, 110], ['Bears', 'Eagles', 185, -215], ['Vikings', 'Chiefs', -172, 140], ['Colts', 'Steelers', -105, -115], ['Jets', 'Dolphins', -175, 155], ['Titans', 'Panthers', 165, -190], ['Lions', 'Raiders', 115, -135], ['Packers', 'Chargers', -190, 165], ['Patriots', 'Ravens', -170, 150])\n",
      "(['Texans', 'Jaguars', -130, 110], ['Bears', 'Eagles', 185, -215], ['Vikings', 'Chiefs', -172, 140], ['Colts', 'Steelers', -105, -115], ['Jets', 'Dolphins', -175, 155], ['Titans', 'Panthers', 165, -190], ['Lions', 'Raiders', 115, -135], ['Packers', 'Chargers', -190, 165], ['Cowboys', 'Giants', -320, 260])\n",
      "(['Texans', 'Jaguars', -130, 110], ['Bears', 'Eagles', 185, -215], ['Vikings', 'Chiefs', -172, 140], ['Colts', 'Steelers', -105, -115], ['Jets', 'Dolphins', -175, 155], ['Titans', 'Panthers', 165, -190], ['Lions', 'Raiders', 115, -135], ['Browns', 'Broncos', -200, 170], ['Patriots', 'Ravens', -170, 150])\n",
      "(['Texans', 'Jaguars', -130, 110], ['Bears', 'Eagles', 185, -215], ['Vikings', 'Chiefs', -172, 140], ['Colts', 'Steelers', -105, -115], ['Jets', 'Dolphins', -175, 155], ['Titans', 'Panthers', 165, -190], ['Lions', 'Raiders', 115, -135], ['Browns', 'Broncos', -200, 170], ['Cowboys', 'Giants', -320, 260])\n",
      "(['Texans', 'Jaguars', -130, 110], ['Bears', 'Eagles', 185, -215], ['Vikings', 'Chiefs', -172, 140], ['Colts', 'Steelers', -105, -115], ['Jets', 'Dolphins', -175, 155], ['Titans', 'Panthers', 165, -190], ['Lions', 'Raiders', 115, -135], ['Patriots', 'Ravens', -170, 150], ['Cowboys', 'Giants', -320, 260])\n",
      "(['Texans', 'Jaguars', -130, 110], ['Bears', 'Eagles', 185, -215], ['Vikings', 'Chiefs', -172, 140], ['Colts', 'Steelers', -105, -115], ['Jets', 'Dolphins', -175, 155], ['Titans', 'Panthers', 165, -190], ['Buccaneers', 'Seahawks', 200, -240], ['Packers', 'Chargers', -190, 165], ['Browns', 'Broncos', -200, 170])\n",
      "(['Texans', 'Jaguars', -130, 110], ['Bears', 'Eagles', 185, -215], ['Vikings', 'Chiefs', -172, 140], ['Colts', 'Steelers', -105, -115], ['Jets', 'Dolphins', -175, 155], ['Titans', 'Panthers', 165, -190], ['Buccaneers', 'Seahawks', 200, -240], ['Packers', 'Chargers', -190, 165], ['Patriots', 'Ravens', -170, 150])\n",
      "(['Texans', 'Jaguars', -130, 110], ['Bears', 'Eagles', 185, -215], ['Vikings', 'Chiefs', -172, 140], ['Colts', 'Steelers', -105, -115], ['Jets', 'Dolphins', -175, 155], ['Titans', 'Panthers', 165, -190], ['Buccaneers', 'Seahawks', 200, -240], ['Packers', 'Chargers', -190, 165], ['Cowboys', 'Giants', -320, 260])\n",
      "(['Texans', 'Jaguars', -130, 110], ['Bears', 'Eagles', 185, -215], ['Vikings', 'Chiefs', -172, 140], ['Colts', 'Steelers', -105, -115], ['Jets', 'Dolphins', -175, 155], ['Titans', 'Panthers', 165, -190], ['Buccaneers', 'Seahawks', 200, -240], ['Browns', 'Broncos', -200, 170], ['Patriots', 'Ravens', -170, 150])\n",
      "(['Texans', 'Jaguars', -130, 110], ['Bears', 'Eagles', 185, -215], ['Vikings', 'Chiefs', -172, 140], ['Colts', 'Steelers', -105, -115], ['Jets', 'Dolphins', -175, 155], ['Titans', 'Panthers', 165, -190], ['Buccaneers', 'Seahawks', 200, -240], ['Browns', 'Broncos', -200, 170], ['Cowboys', 'Giants', -320, 260])\n",
      "(['Texans', 'Jaguars', -130, 110], ['Bears', 'Eagles', 185, -215], ['Vikings', 'Chiefs', -172, 140], ['Colts', 'Steelers', -105, -115], ['Jets', 'Dolphins', -175, 155], ['Titans', 'Panthers', 165, -190], ['Buccaneers', 'Seahawks', 200, -240], ['Patriots', 'Ravens', -170, 150], ['Cowboys', 'Giants', -320, 260])\n",
      "(['Texans', 'Jaguars', -130, 110], ['Bears', 'Eagles', 185, -215], ['Vikings', 'Chiefs', -172, 140], ['Colts', 'Steelers', -105, -115], ['Jets', 'Dolphins', -175, 155], ['Titans', 'Panthers', 165, -190], ['Packers', 'Chargers', -190, 165], ['Browns', 'Broncos', -200, 170], ['Patriots', 'Ravens', -170, 150])\n",
      "(['Texans', 'Jaguars', -130, 110], ['Bears', 'Eagles', 185, -215], ['Vikings', 'Chiefs', -172, 140], ['Colts', 'Steelers', -105, -115], ['Jets', 'Dolphins', -175, 155], ['Titans', 'Panthers', 165, -190], ['Packers', 'Chargers', -190, 165], ['Browns', 'Broncos', -200, 170], ['Cowboys', 'Giants', -320, 260])\n",
      "(['Texans', 'Jaguars', -130, 110], ['Bears', 'Eagles', 185, -215], ['Vikings', 'Chiefs', -172, 140], ['Colts', 'Steelers', -105, -115], ['Jets', 'Dolphins', -175, 155], ['Titans', 'Panthers', 165, -190], ['Packers', 'Chargers', -190, 165], ['Patriots', 'Ravens', -170, 150], ['Cowboys', 'Giants', -320, 260])\n",
      "(['Texans', 'Jaguars', -130, 110], ['Bears', 'Eagles', 185, -215], ['Vikings', 'Chiefs', -172, 140], ['Colts', 'Steelers', -105, -115], ['Jets', 'Dolphins', -175, 155], ['Titans', 'Panthers', 165, -190], ['Browns', 'Broncos', -200, 170], ['Patriots', 'Ravens', -170, 150], ['Cowboys', 'Giants', -320, 260])\n",
      "(['Texans', 'Jaguars', -130, 110], ['Bears', 'Eagles', 185, -215], ['Vikings', 'Chiefs', -172, 140], ['Colts', 'Steelers', -105, -115], ['Jets', 'Dolphins', -175, 155], ['Lions', 'Raiders', 115, -135], ['Buccaneers', 'Seahawks', 200, -240], ['Packers', 'Chargers', -190, 165], ['Browns', 'Broncos', -200, 170])\n",
      "(['Texans', 'Jaguars', -130, 110], ['Bears', 'Eagles', 185, -215], ['Vikings', 'Chiefs', -172, 140], ['Colts', 'Steelers', -105, -115], ['Jets', 'Dolphins', -175, 155], ['Lions', 'Raiders', 115, -135], ['Buccaneers', 'Seahawks', 200, -240], ['Packers', 'Chargers', -190, 165], ['Patriots', 'Ravens', -170, 150])\n",
      "(['Texans', 'Jaguars', -130, 110], ['Bears', 'Eagles', 185, -215], ['Vikings', 'Chiefs', -172, 140], ['Colts', 'Steelers', -105, -115], ['Jets', 'Dolphins', -175, 155], ['Lions', 'Raiders', 115, -135], ['Buccaneers', 'Seahawks', 200, -240], ['Packers', 'Chargers', -190, 165], ['Cowboys', 'Giants', -320, 260])\n",
      "(['Texans', 'Jaguars', -130, 110], ['Bears', 'Eagles', 185, -215], ['Vikings', 'Chiefs', -172, 140], ['Colts', 'Steelers', -105, -115], ['Jets', 'Dolphins', -175, 155], ['Lions', 'Raiders', 115, -135], ['Buccaneers', 'Seahawks', 200, -240], ['Browns', 'Broncos', -200, 170], ['Patriots', 'Ravens', -170, 150])\n",
      "(['Texans', 'Jaguars', -130, 110], ['Bears', 'Eagles', 185, -215], ['Vikings', 'Chiefs', -172, 140], ['Colts', 'Steelers', -105, -115], ['Jets', 'Dolphins', -175, 155], ['Lions', 'Raiders', 115, -135], ['Buccaneers', 'Seahawks', 200, -240], ['Browns', 'Broncos', -200, 170], ['Cowboys', 'Giants', -320, 260])\n",
      "(['Texans', 'Jaguars', -130, 110], ['Bears', 'Eagles', 185, -215], ['Vikings', 'Chiefs', -172, 140], ['Colts', 'Steelers', -105, -115], ['Jets', 'Dolphins', -175, 155], ['Lions', 'Raiders', 115, -135], ['Buccaneers', 'Seahawks', 200, -240], ['Patriots', 'Ravens', -170, 150], ['Cowboys', 'Giants', -320, 260])\n",
      "(['Texans', 'Jaguars', -130, 110], ['Bears', 'Eagles', 185, -215], ['Vikings', 'Chiefs', -172, 140], ['Colts', 'Steelers', -105, -115], ['Jets', 'Dolphins', -175, 155], ['Lions', 'Raiders', 115, -135], ['Packers', 'Chargers', -190, 165], ['Browns', 'Broncos', -200, 170], ['Patriots', 'Ravens', -170, 150])\n",
      "(['Texans', 'Jaguars', -130, 110], ['Bears', 'Eagles', 185, -215], ['Vikings', 'Chiefs', -172, 140], ['Colts', 'Steelers', -105, -115], ['Jets', 'Dolphins', -175, 155], ['Lions', 'Raiders', 115, -135], ['Packers', 'Chargers', -190, 165], ['Browns', 'Broncos', -200, 170], ['Cowboys', 'Giants', -320, 260])\n",
      "(['Texans', 'Jaguars', -130, 110], ['Bears', 'Eagles', 185, -215], ['Vikings', 'Chiefs', -172, 140], ['Colts', 'Steelers', -105, -115], ['Jets', 'Dolphins', -175, 155], ['Lions', 'Raiders', 115, -135], ['Packers', 'Chargers', -190, 165], ['Patriots', 'Ravens', -170, 150], ['Cowboys', 'Giants', -320, 260])\n",
      "(['Texans', 'Jaguars', -130, 110], ['Bears', 'Eagles', 185, -215], ['Vikings', 'Chiefs', -172, 140], ['Colts', 'Steelers', -105, -115], ['Jets', 'Dolphins', -175, 155], ['Lions', 'Raiders', 115, -135], ['Browns', 'Broncos', -200, 170], ['Patriots', 'Ravens', -170, 150], ['Cowboys', 'Giants', -320, 260])\n",
      "(['Texans', 'Jaguars', -130, 110], ['Bears', 'Eagles', 185, -215], ['Vikings', 'Chiefs', -172, 140], ['Colts', 'Steelers', -105, -115], ['Jets', 'Dolphins', -175, 155], ['Buccaneers', 'Seahawks', 200, -240], ['Packers', 'Chargers', -190, 165], ['Browns', 'Broncos', -200, 170], ['Patriots', 'Ravens', -170, 150])\n",
      "(['Texans', 'Jaguars', -130, 110], ['Bears', 'Eagles', 185, -215], ['Vikings', 'Chiefs', -172, 140], ['Colts', 'Steelers', -105, -115], ['Jets', 'Dolphins', -175, 155], ['Buccaneers', 'Seahawks', 200, -240], ['Packers', 'Chargers', -190, 165], ['Browns', 'Broncos', -200, 170], ['Cowboys', 'Giants', -320, 260])\n",
      "(['Texans', 'Jaguars', -130, 110], ['Bears', 'Eagles', 185, -215], ['Vikings', 'Chiefs', -172, 140], ['Colts', 'Steelers', -105, -115], ['Jets', 'Dolphins', -175, 155], ['Buccaneers', 'Seahawks', 200, -240], ['Packers', 'Chargers', -190, 165], ['Patriots', 'Ravens', -170, 150], ['Cowboys', 'Giants', -320, 260])\n",
      "(['Texans', 'Jaguars', -130, 110], ['Bears', 'Eagles', 185, -215], ['Vikings', 'Chiefs', -172, 140], ['Colts', 'Steelers', -105, -115], ['Jets', 'Dolphins', -175, 155], ['Buccaneers', 'Seahawks', 200, -240], ['Browns', 'Broncos', -200, 170], ['Patriots', 'Ravens', -170, 150], ['Cowboys', 'Giants', -320, 260])\n",
      "(['Texans', 'Jaguars', -130, 110], ['Bears', 'Eagles', 185, -215], ['Vikings', 'Chiefs', -172, 140], ['Colts', 'Steelers', -105, -115], ['Jets', 'Dolphins', -175, 155], ['Packers', 'Chargers', -190, 165], ['Browns', 'Broncos', -200, 170], ['Patriots', 'Ravens', -170, 150], ['Cowboys', 'Giants', -320, 260])\n",
      "(['Texans', 'Jaguars', -130, 110], ['Bears', 'Eagles', 185, -215], ['Vikings', 'Chiefs', -172, 140], ['Colts', 'Steelers', -105, -115], ['Redskins', 'Bills', 375, -500], ['Titans', 'Panthers', 165, -190], ['Lions', 'Raiders', 115, -135], ['Buccaneers', 'Seahawks', 200, -240], ['Packers', 'Chargers', -190, 165])\n",
      "(['Texans', 'Jaguars', -130, 110], ['Bears', 'Eagles', 185, -215], ['Vikings', 'Chiefs', -172, 140], ['Colts', 'Steelers', -105, -115], ['Redskins', 'Bills', 375, -500], ['Titans', 'Panthers', 165, -190], ['Lions', 'Raiders', 115, -135], ['Buccaneers', 'Seahawks', 200, -240], ['Browns', 'Broncos', -200, 170])\n",
      "(['Texans', 'Jaguars', -130, 110], ['Bears', 'Eagles', 185, -215], ['Vikings', 'Chiefs', -172, 140], ['Colts', 'Steelers', -105, -115], ['Redskins', 'Bills', 375, -500], ['Titans', 'Panthers', 165, -190], ['Lions', 'Raiders', 115, -135], ['Buccaneers', 'Seahawks', 200, -240], ['Patriots', 'Ravens', -170, 150])\n",
      "(['Texans', 'Jaguars', -130, 110], ['Bears', 'Eagles', 185, -215], ['Vikings', 'Chiefs', -172, 140], ['Colts', 'Steelers', -105, -115], ['Redskins', 'Bills', 375, -500], ['Titans', 'Panthers', 165, -190], ['Lions', 'Raiders', 115, -135], ['Buccaneers', 'Seahawks', 200, -240], ['Cowboys', 'Giants', -320, 260])\n",
      "(['Texans', 'Jaguars', -130, 110], ['Bears', 'Eagles', 185, -215], ['Vikings', 'Chiefs', -172, 140], ['Colts', 'Steelers', -105, -115], ['Redskins', 'Bills', 375, -500], ['Titans', 'Panthers', 165, -190], ['Lions', 'Raiders', 115, -135], ['Packers', 'Chargers', -190, 165], ['Browns', 'Broncos', -200, 170])\n",
      "(['Texans', 'Jaguars', -130, 110], ['Bears', 'Eagles', 185, -215], ['Vikings', 'Chiefs', -172, 140], ['Colts', 'Steelers', -105, -115], ['Redskins', 'Bills', 375, -500], ['Titans', 'Panthers', 165, -190], ['Lions', 'Raiders', 115, -135], ['Packers', 'Chargers', -190, 165], ['Patriots', 'Ravens', -170, 150])\n",
      "(['Texans', 'Jaguars', -130, 110], ['Bears', 'Eagles', 185, -215], ['Vikings', 'Chiefs', -172, 140], ['Colts', 'Steelers', -105, -115], ['Redskins', 'Bills', 375, -500], ['Titans', 'Panthers', 165, -190], ['Lions', 'Raiders', 115, -135], ['Packers', 'Chargers', -190, 165], ['Cowboys', 'Giants', -320, 260])\n",
      "(['Texans', 'Jaguars', -130, 110], ['Bears', 'Eagles', 185, -215], ['Vikings', 'Chiefs', -172, 140], ['Colts', 'Steelers', -105, -115], ['Redskins', 'Bills', 375, -500], ['Titans', 'Panthers', 165, -190], ['Lions', 'Raiders', 115, -135], ['Browns', 'Broncos', -200, 170], ['Patriots', 'Ravens', -170, 150])\n",
      "(['Texans', 'Jaguars', -130, 110], ['Bears', 'Eagles', 185, -215], ['Vikings', 'Chiefs', -172, 140], ['Colts', 'Steelers', -105, -115], ['Redskins', 'Bills', 375, -500], ['Titans', 'Panthers', 165, -190], ['Lions', 'Raiders', 115, -135], ['Browns', 'Broncos', -200, 170], ['Cowboys', 'Giants', -320, 260])\n",
      "(['Texans', 'Jaguars', -130, 110], ['Bears', 'Eagles', 185, -215], ['Vikings', 'Chiefs', -172, 140], ['Colts', 'Steelers', -105, -115], ['Redskins', 'Bills', 375, -500], ['Titans', 'Panthers', 165, -190], ['Lions', 'Raiders', 115, -135], ['Patriots', 'Ravens', -170, 150], ['Cowboys', 'Giants', -320, 260])\n",
      "(['Texans', 'Jaguars', -130, 110], ['Bears', 'Eagles', 185, -215], ['Vikings', 'Chiefs', -172, 140], ['Colts', 'Steelers', -105, -115], ['Redskins', 'Bills', 375, -500], ['Titans', 'Panthers', 165, -190], ['Buccaneers', 'Seahawks', 200, -240], ['Packers', 'Chargers', -190, 165], ['Browns', 'Broncos', -200, 170])\n",
      "(['Texans', 'Jaguars', -130, 110], ['Bears', 'Eagles', 185, -215], ['Vikings', 'Chiefs', -172, 140], ['Colts', 'Steelers', -105, -115], ['Redskins', 'Bills', 375, -500], ['Titans', 'Panthers', 165, -190], ['Buccaneers', 'Seahawks', 200, -240], ['Packers', 'Chargers', -190, 165], ['Patriots', 'Ravens', -170, 150])\n",
      "(['Texans', 'Jaguars', -130, 110], ['Bears', 'Eagles', 185, -215], ['Vikings', 'Chiefs', -172, 140], ['Colts', 'Steelers', -105, -115], ['Redskins', 'Bills', 375, -500], ['Titans', 'Panthers', 165, -190], ['Buccaneers', 'Seahawks', 200, -240], ['Packers', 'Chargers', -190, 165], ['Cowboys', 'Giants', -320, 260])\n",
      "(['Texans', 'Jaguars', -130, 110], ['Bears', 'Eagles', 185, -215], ['Vikings', 'Chiefs', -172, 140], ['Colts', 'Steelers', -105, -115], ['Redskins', 'Bills', 375, -500], ['Titans', 'Panthers', 165, -190], ['Buccaneers', 'Seahawks', 200, -240], ['Browns', 'Broncos', -200, 170], ['Patriots', 'Ravens', -170, 150])\n",
      "(['Texans', 'Jaguars', -130, 110], ['Bears', 'Eagles', 185, -215], ['Vikings', 'Chiefs', -172, 140], ['Colts', 'Steelers', -105, -115], ['Redskins', 'Bills', 375, -500], ['Titans', 'Panthers', 165, -190], ['Buccaneers', 'Seahawks', 200, -240], ['Browns', 'Broncos', -200, 170], ['Cowboys', 'Giants', -320, 260])\n",
      "(['Texans', 'Jaguars', -130, 110], ['Bears', 'Eagles', 185, -215], ['Vikings', 'Chiefs', -172, 140], ['Colts', 'Steelers', -105, -115], ['Redskins', 'Bills', 375, -500], ['Titans', 'Panthers', 165, -190], ['Buccaneers', 'Seahawks', 200, -240], ['Patriots', 'Ravens', -170, 150], ['Cowboys', 'Giants', -320, 260])\n",
      "(['Texans', 'Jaguars', -130, 110], ['Bears', 'Eagles', 185, -215], ['Vikings', 'Chiefs', -172, 140], ['Colts', 'Steelers', -105, -115], ['Redskins', 'Bills', 375, -500], ['Titans', 'Panthers', 165, -190], ['Packers', 'Chargers', -190, 165], ['Browns', 'Broncos', -200, 170], ['Patriots', 'Ravens', -170, 150])\n",
      "(['Texans', 'Jaguars', -130, 110], ['Bears', 'Eagles', 185, -215], ['Vikings', 'Chiefs', -172, 140], ['Colts', 'Steelers', -105, -115], ['Redskins', 'Bills', 375, -500], ['Titans', 'Panthers', 165, -190], ['Packers', 'Chargers', -190, 165], ['Browns', 'Broncos', -200, 170], ['Cowboys', 'Giants', -320, 260])\n",
      "(['Texans', 'Jaguars', -130, 110], ['Bears', 'Eagles', 185, -215], ['Vikings', 'Chiefs', -172, 140], ['Colts', 'Steelers', -105, -115], ['Redskins', 'Bills', 375, -500], ['Titans', 'Panthers', 165, -190], ['Packers', 'Chargers', -190, 165], ['Patriots', 'Ravens', -170, 150], ['Cowboys', 'Giants', -320, 260])\n",
      "(['Texans', 'Jaguars', -130, 110], ['Bears', 'Eagles', 185, -215], ['Vikings', 'Chiefs', -172, 140], ['Colts', 'Steelers', -105, -115], ['Redskins', 'Bills', 375, -500], ['Titans', 'Panthers', 165, -190], ['Browns', 'Broncos', -200, 170], ['Patriots', 'Ravens', -170, 150], ['Cowboys', 'Giants', -320, 260])\n",
      "(['Texans', 'Jaguars', -130, 110], ['Bears', 'Eagles', 185, -215], ['Vikings', 'Chiefs', -172, 140], ['Colts', 'Steelers', -105, -115], ['Redskins', 'Bills', 375, -500], ['Lions', 'Raiders', 115, -135], ['Buccaneers', 'Seahawks', 200, -240], ['Packers', 'Chargers', -190, 165], ['Browns', 'Broncos', -200, 170])\n",
      "(['Texans', 'Jaguars', -130, 110], ['Bears', 'Eagles', 185, -215], ['Vikings', 'Chiefs', -172, 140], ['Colts', 'Steelers', -105, -115], ['Redskins', 'Bills', 375, -500], ['Lions', 'Raiders', 115, -135], ['Buccaneers', 'Seahawks', 200, -240], ['Packers', 'Chargers', -190, 165], ['Patriots', 'Ravens', -170, 150])\n",
      "(['Texans', 'Jaguars', -130, 110], ['Bears', 'Eagles', 185, -215], ['Vikings', 'Chiefs', -172, 140], ['Colts', 'Steelers', -105, -115], ['Redskins', 'Bills', 375, -500], ['Lions', 'Raiders', 115, -135], ['Buccaneers', 'Seahawks', 200, -240], ['Packers', 'Chargers', -190, 165], ['Cowboys', 'Giants', -320, 260])\n",
      "(['Texans', 'Jaguars', -130, 110], ['Bears', 'Eagles', 185, -215], ['Vikings', 'Chiefs', -172, 140], ['Colts', 'Steelers', -105, -115], ['Redskins', 'Bills', 375, -500], ['Lions', 'Raiders', 115, -135], ['Buccaneers', 'Seahawks', 200, -240], ['Browns', 'Broncos', -200, 170], ['Patriots', 'Ravens', -170, 150])\n",
      "(['Texans', 'Jaguars', -130, 110], ['Bears', 'Eagles', 185, -215], ['Vikings', 'Chiefs', -172, 140], ['Colts', 'Steelers', -105, -115], ['Redskins', 'Bills', 375, -500], ['Lions', 'Raiders', 115, -135], ['Buccaneers', 'Seahawks', 200, -240], ['Browns', 'Broncos', -200, 170], ['Cowboys', 'Giants', -320, 260])\n",
      "(['Texans', 'Jaguars', -130, 110], ['Bears', 'Eagles', 185, -215], ['Vikings', 'Chiefs', -172, 140], ['Colts', 'Steelers', -105, -115], ['Redskins', 'Bills', 375, -500], ['Lions', 'Raiders', 115, -135], ['Buccaneers', 'Seahawks', 200, -240], ['Patriots', 'Ravens', -170, 150], ['Cowboys', 'Giants', -320, 260])\n",
      "(['Texans', 'Jaguars', -130, 110], ['Bears', 'Eagles', 185, -215], ['Vikings', 'Chiefs', -172, 140], ['Colts', 'Steelers', -105, -115], ['Redskins', 'Bills', 375, -500], ['Lions', 'Raiders', 115, -135], ['Packers', 'Chargers', -190, 165], ['Browns', 'Broncos', -200, 170], ['Patriots', 'Ravens', -170, 150])\n",
      "(['Texans', 'Jaguars', -130, 110], ['Bears', 'Eagles', 185, -215], ['Vikings', 'Chiefs', -172, 140], ['Colts', 'Steelers', -105, -115], ['Redskins', 'Bills', 375, -500], ['Lions', 'Raiders', 115, -135], ['Packers', 'Chargers', -190, 165], ['Browns', 'Broncos', -200, 170], ['Cowboys', 'Giants', -320, 260])\n",
      "(['Texans', 'Jaguars', -130, 110], ['Bears', 'Eagles', 185, -215], ['Vikings', 'Chiefs', -172, 140], ['Colts', 'Steelers', -105, -115], ['Redskins', 'Bills', 375, -500], ['Lions', 'Raiders', 115, -135], ['Packers', 'Chargers', -190, 165], ['Patriots', 'Ravens', -170, 150], ['Cowboys', 'Giants', -320, 260])\n",
      "(['Texans', 'Jaguars', -130, 110], ['Bears', 'Eagles', 185, -215], ['Vikings', 'Chiefs', -172, 140], ['Colts', 'Steelers', -105, -115], ['Redskins', 'Bills', 375, -500], ['Lions', 'Raiders', 115, -135], ['Browns', 'Broncos', -200, 170], ['Patriots', 'Ravens', -170, 150], ['Cowboys', 'Giants', -320, 260])\n",
      "(['Texans', 'Jaguars', -130, 110], ['Bears', 'Eagles', 185, -215], ['Vikings', 'Chiefs', -172, 140], ['Colts', 'Steelers', -105, -115], ['Redskins', 'Bills', 375, -500], ['Buccaneers', 'Seahawks', 200, -240], ['Packers', 'Chargers', -190, 165], ['Browns', 'Broncos', -200, 170], ['Patriots', 'Ravens', -170, 150])\n",
      "(['Texans', 'Jaguars', -130, 110], ['Bears', 'Eagles', 185, -215], ['Vikings', 'Chiefs', -172, 140], ['Colts', 'Steelers', -105, -115], ['Redskins', 'Bills', 375, -500], ['Buccaneers', 'Seahawks', 200, -240], ['Packers', 'Chargers', -190, 165], ['Browns', 'Broncos', -200, 170], ['Cowboys', 'Giants', -320, 260])\n",
      "(['Texans', 'Jaguars', -130, 110], ['Bears', 'Eagles', 185, -215], ['Vikings', 'Chiefs', -172, 140], ['Colts', 'Steelers', -105, -115], ['Redskins', 'Bills', 375, -500], ['Buccaneers', 'Seahawks', 200, -240], ['Packers', 'Chargers', -190, 165], ['Patriots', 'Ravens', -170, 150], ['Cowboys', 'Giants', -320, 260])\n",
      "(['Texans', 'Jaguars', -130, 110], ['Bears', 'Eagles', 185, -215], ['Vikings', 'Chiefs', -172, 140], ['Colts', 'Steelers', -105, -115], ['Redskins', 'Bills', 375, -500], ['Buccaneers', 'Seahawks', 200, -240], ['Browns', 'Broncos', -200, 170], ['Patriots', 'Ravens', -170, 150], ['Cowboys', 'Giants', -320, 260])\n",
      "(['Texans', 'Jaguars', -130, 110], ['Bears', 'Eagles', 185, -215], ['Vikings', 'Chiefs', -172, 140], ['Colts', 'Steelers', -105, -115], ['Redskins', 'Bills', 375, -500], ['Packers', 'Chargers', -190, 165], ['Browns', 'Broncos', -200, 170], ['Patriots', 'Ravens', -170, 150], ['Cowboys', 'Giants', -320, 260])\n",
      "(['Texans', 'Jaguars', -130, 110], ['Bears', 'Eagles', 185, -215], ['Vikings', 'Chiefs', -172, 140], ['Colts', 'Steelers', -105, -115], ['Titans', 'Panthers', 165, -190], ['Lions', 'Raiders', 115, -135], ['Buccaneers', 'Seahawks', 200, -240], ['Packers', 'Chargers', -190, 165], ['Browns', 'Broncos', -200, 170])\n",
      "(['Texans', 'Jaguars', -130, 110], ['Bears', 'Eagles', 185, -215], ['Vikings', 'Chiefs', -172, 140], ['Colts', 'Steelers', -105, -115], ['Titans', 'Panthers', 165, -190], ['Lions', 'Raiders', 115, -135], ['Buccaneers', 'Seahawks', 200, -240], ['Packers', 'Chargers', -190, 165], ['Patriots', 'Ravens', -170, 150])\n",
      "(['Texans', 'Jaguars', -130, 110], ['Bears', 'Eagles', 185, -215], ['Vikings', 'Chiefs', -172, 140], ['Colts', 'Steelers', -105, -115], ['Titans', 'Panthers', 165, -190], ['Lions', 'Raiders', 115, -135], ['Buccaneers', 'Seahawks', 200, -240], ['Packers', 'Chargers', -190, 165], ['Cowboys', 'Giants', -320, 260])\n",
      "(['Texans', 'Jaguars', -130, 110], ['Bears', 'Eagles', 185, -215], ['Vikings', 'Chiefs', -172, 140], ['Colts', 'Steelers', -105, -115], ['Titans', 'Panthers', 165, -190], ['Lions', 'Raiders', 115, -135], ['Buccaneers', 'Seahawks', 200, -240], ['Browns', 'Broncos', -200, 170], ['Patriots', 'Ravens', -170, 150])\n",
      "(['Texans', 'Jaguars', -130, 110], ['Bears', 'Eagles', 185, -215], ['Vikings', 'Chiefs', -172, 140], ['Colts', 'Steelers', -105, -115], ['Titans', 'Panthers', 165, -190], ['Lions', 'Raiders', 115, -135], ['Buccaneers', 'Seahawks', 200, -240], ['Browns', 'Broncos', -200, 170], ['Cowboys', 'Giants', -320, 260])\n",
      "(['Texans', 'Jaguars', -130, 110], ['Bears', 'Eagles', 185, -215], ['Vikings', 'Chiefs', -172, 140], ['Colts', 'Steelers', -105, -115], ['Titans', 'Panthers', 165, -190], ['Lions', 'Raiders', 115, -135], ['Buccaneers', 'Seahawks', 200, -240], ['Patriots', 'Ravens', -170, 150], ['Cowboys', 'Giants', -320, 260])\n",
      "(['Texans', 'Jaguars', -130, 110], ['Bears', 'Eagles', 185, -215], ['Vikings', 'Chiefs', -172, 140], ['Colts', 'Steelers', -105, -115], ['Titans', 'Panthers', 165, -190], ['Lions', 'Raiders', 115, -135], ['Packers', 'Chargers', -190, 165], ['Browns', 'Broncos', -200, 170], ['Patriots', 'Ravens', -170, 150])\n",
      "(['Texans', 'Jaguars', -130, 110], ['Bears', 'Eagles', 185, -215], ['Vikings', 'Chiefs', -172, 140], ['Colts', 'Steelers', -105, -115], ['Titans', 'Panthers', 165, -190], ['Lions', 'Raiders', 115, -135], ['Packers', 'Chargers', -190, 165], ['Browns', 'Broncos', -200, 170], ['Cowboys', 'Giants', -320, 260])\n",
      "(['Texans', 'Jaguars', -130, 110], ['Bears', 'Eagles', 185, -215], ['Vikings', 'Chiefs', -172, 140], ['Colts', 'Steelers', -105, -115], ['Titans', 'Panthers', 165, -190], ['Lions', 'Raiders', 115, -135], ['Packers', 'Chargers', -190, 165], ['Patriots', 'Ravens', -170, 150], ['Cowboys', 'Giants', -320, 260])\n",
      "(['Texans', 'Jaguars', -130, 110], ['Bears', 'Eagles', 185, -215], ['Vikings', 'Chiefs', -172, 140], ['Colts', 'Steelers', -105, -115], ['Titans', 'Panthers', 165, -190], ['Lions', 'Raiders', 115, -135], ['Browns', 'Broncos', -200, 170], ['Patriots', 'Ravens', -170, 150], ['Cowboys', 'Giants', -320, 260])\n",
      "(['Texans', 'Jaguars', -130, 110], ['Bears', 'Eagles', 185, -215], ['Vikings', 'Chiefs', -172, 140], ['Colts', 'Steelers', -105, -115], ['Titans', 'Panthers', 165, -190], ['Buccaneers', 'Seahawks', 200, -240], ['Packers', 'Chargers', -190, 165], ['Browns', 'Broncos', -200, 170], ['Patriots', 'Ravens', -170, 150])\n",
      "(['Texans', 'Jaguars', -130, 110], ['Bears', 'Eagles', 185, -215], ['Vikings', 'Chiefs', -172, 140], ['Colts', 'Steelers', -105, -115], ['Titans', 'Panthers', 165, -190], ['Buccaneers', 'Seahawks', 200, -240], ['Packers', 'Chargers', -190, 165], ['Browns', 'Broncos', -200, 170], ['Cowboys', 'Giants', -320, 260])\n",
      "(['Texans', 'Jaguars', -130, 110], ['Bears', 'Eagles', 185, -215], ['Vikings', 'Chiefs', -172, 140], ['Colts', 'Steelers', -105, -115], ['Titans', 'Panthers', 165, -190], ['Buccaneers', 'Seahawks', 200, -240], ['Packers', 'Chargers', -190, 165], ['Patriots', 'Ravens', -170, 150], ['Cowboys', 'Giants', -320, 260])\n",
      "(['Texans', 'Jaguars', -130, 110], ['Bears', 'Eagles', 185, -215], ['Vikings', 'Chiefs', -172, 140], ['Colts', 'Steelers', -105, -115], ['Titans', 'Panthers', 165, -190], ['Buccaneers', 'Seahawks', 200, -240], ['Browns', 'Broncos', -200, 170], ['Patriots', 'Ravens', -170, 150], ['Cowboys', 'Giants', -320, 260])\n",
      "(['Texans', 'Jaguars', -130, 110], ['Bears', 'Eagles', 185, -215], ['Vikings', 'Chiefs', -172, 140], ['Colts', 'Steelers', -105, -115], ['Titans', 'Panthers', 165, -190], ['Packers', 'Chargers', -190, 165], ['Browns', 'Broncos', -200, 170], ['Patriots', 'Ravens', -170, 150], ['Cowboys', 'Giants', -320, 260])\n",
      "(['Texans', 'Jaguars', -130, 110], ['Bears', 'Eagles', 185, -215], ['Vikings', 'Chiefs', -172, 140], ['Colts', 'Steelers', -105, -115], ['Lions', 'Raiders', 115, -135], ['Buccaneers', 'Seahawks', 200, -240], ['Packers', 'Chargers', -190, 165], ['Browns', 'Broncos', -200, 170], ['Patriots', 'Ravens', -170, 150])\n",
      "(['Texans', 'Jaguars', -130, 110], ['Bears', 'Eagles', 185, -215], ['Vikings', 'Chiefs', -172, 140], ['Colts', 'Steelers', -105, -115], ['Lions', 'Raiders', 115, -135], ['Buccaneers', 'Seahawks', 200, -240], ['Packers', 'Chargers', -190, 165], ['Browns', 'Broncos', -200, 170], ['Cowboys', 'Giants', -320, 260])\n",
      "(['Texans', 'Jaguars', -130, 110], ['Bears', 'Eagles', 185, -215], ['Vikings', 'Chiefs', -172, 140], ['Colts', 'Steelers', -105, -115], ['Lions', 'Raiders', 115, -135], ['Buccaneers', 'Seahawks', 200, -240], ['Packers', 'Chargers', -190, 165], ['Patriots', 'Ravens', -170, 150], ['Cowboys', 'Giants', -320, 260])\n",
      "(['Texans', 'Jaguars', -130, 110], ['Bears', 'Eagles', 185, -215], ['Vikings', 'Chiefs', -172, 140], ['Colts', 'Steelers', -105, -115], ['Lions', 'Raiders', 115, -135], ['Buccaneers', 'Seahawks', 200, -240], ['Browns', 'Broncos', -200, 170], ['Patriots', 'Ravens', -170, 150], ['Cowboys', 'Giants', -320, 260])\n",
      "(['Texans', 'Jaguars', -130, 110], ['Bears', 'Eagles', 185, -215], ['Vikings', 'Chiefs', -172, 140], ['Colts', 'Steelers', -105, -115], ['Lions', 'Raiders', 115, -135], ['Packers', 'Chargers', -190, 165], ['Browns', 'Broncos', -200, 170], ['Patriots', 'Ravens', -170, 150], ['Cowboys', 'Giants', -320, 260])\n",
      "(['Texans', 'Jaguars', -130, 110], ['Bears', 'Eagles', 185, -215], ['Vikings', 'Chiefs', -172, 140], ['Colts', 'Steelers', -105, -115], ['Buccaneers', 'Seahawks', 200, -240], ['Packers', 'Chargers', -190, 165], ['Browns', 'Broncos', -200, 170], ['Patriots', 'Ravens', -170, 150], ['Cowboys', 'Giants', -320, 260])\n",
      "(['Texans', 'Jaguars', -130, 110], ['Bears', 'Eagles', 185, -215], ['Vikings', 'Chiefs', -172, 140], ['Jets', 'Dolphins', -175, 155], ['Redskins', 'Bills', 375, -500], ['Titans', 'Panthers', 165, -190], ['Lions', 'Raiders', 115, -135], ['Buccaneers', 'Seahawks', 200, -240], ['Packers', 'Chargers', -190, 165])\n",
      "(['Texans', 'Jaguars', -130, 110], ['Bears', 'Eagles', 185, -215], ['Vikings', 'Chiefs', -172, 140], ['Jets', 'Dolphins', -175, 155], ['Redskins', 'Bills', 375, -500], ['Titans', 'Panthers', 165, -190], ['Lions', 'Raiders', 115, -135], ['Buccaneers', 'Seahawks', 200, -240], ['Browns', 'Broncos', -200, 170])\n",
      "(['Texans', 'Jaguars', -130, 110], ['Bears', 'Eagles', 185, -215], ['Vikings', 'Chiefs', -172, 140], ['Jets', 'Dolphins', -175, 155], ['Redskins', 'Bills', 375, -500], ['Titans', 'Panthers', 165, -190], ['Lions', 'Raiders', 115, -135], ['Buccaneers', 'Seahawks', 200, -240], ['Patriots', 'Ravens', -170, 150])\n",
      "(['Texans', 'Jaguars', -130, 110], ['Bears', 'Eagles', 185, -215], ['Vikings', 'Chiefs', -172, 140], ['Jets', 'Dolphins', -175, 155], ['Redskins', 'Bills', 375, -500], ['Titans', 'Panthers', 165, -190], ['Lions', 'Raiders', 115, -135], ['Buccaneers', 'Seahawks', 200, -240], ['Cowboys', 'Giants', -320, 260])\n",
      "(['Texans', 'Jaguars', -130, 110], ['Bears', 'Eagles', 185, -215], ['Vikings', 'Chiefs', -172, 140], ['Jets', 'Dolphins', -175, 155], ['Redskins', 'Bills', 375, -500], ['Titans', 'Panthers', 165, -190], ['Lions', 'Raiders', 115, -135], ['Packers', 'Chargers', -190, 165], ['Browns', 'Broncos', -200, 170])\n",
      "(['Texans', 'Jaguars', -130, 110], ['Bears', 'Eagles', 185, -215], ['Vikings', 'Chiefs', -172, 140], ['Jets', 'Dolphins', -175, 155], ['Redskins', 'Bills', 375, -500], ['Titans', 'Panthers', 165, -190], ['Lions', 'Raiders', 115, -135], ['Packers', 'Chargers', -190, 165], ['Patriots', 'Ravens', -170, 150])\n",
      "(['Texans', 'Jaguars', -130, 110], ['Bears', 'Eagles', 185, -215], ['Vikings', 'Chiefs', -172, 140], ['Jets', 'Dolphins', -175, 155], ['Redskins', 'Bills', 375, -500], ['Titans', 'Panthers', 165, -190], ['Lions', 'Raiders', 115, -135], ['Packers', 'Chargers', -190, 165], ['Cowboys', 'Giants', -320, 260])\n",
      "(['Texans', 'Jaguars', -130, 110], ['Bears', 'Eagles', 185, -215], ['Vikings', 'Chiefs', -172, 140], ['Jets', 'Dolphins', -175, 155], ['Redskins', 'Bills', 375, -500], ['Titans', 'Panthers', 165, -190], ['Lions', 'Raiders', 115, -135], ['Browns', 'Broncos', -200, 170], ['Patriots', 'Ravens', -170, 150])\n",
      "(['Texans', 'Jaguars', -130, 110], ['Bears', 'Eagles', 185, -215], ['Vikings', 'Chiefs', -172, 140], ['Jets', 'Dolphins', -175, 155], ['Redskins', 'Bills', 375, -500], ['Titans', 'Panthers', 165, -190], ['Lions', 'Raiders', 115, -135], ['Browns', 'Broncos', -200, 170], ['Cowboys', 'Giants', -320, 260])\n",
      "(['Texans', 'Jaguars', -130, 110], ['Bears', 'Eagles', 185, -215], ['Vikings', 'Chiefs', -172, 140], ['Jets', 'Dolphins', -175, 155], ['Redskins', 'Bills', 375, -500], ['Titans', 'Panthers', 165, -190], ['Lions', 'Raiders', 115, -135], ['Patriots', 'Ravens', -170, 150], ['Cowboys', 'Giants', -320, 260])\n",
      "(['Texans', 'Jaguars', -130, 110], ['Bears', 'Eagles', 185, -215], ['Vikings', 'Chiefs', -172, 140], ['Jets', 'Dolphins', -175, 155], ['Redskins', 'Bills', 375, -500], ['Titans', 'Panthers', 165, -190], ['Buccaneers', 'Seahawks', 200, -240], ['Packers', 'Chargers', -190, 165], ['Browns', 'Broncos', -200, 170])\n",
      "(['Texans', 'Jaguars', -130, 110], ['Bears', 'Eagles', 185, -215], ['Vikings', 'Chiefs', -172, 140], ['Jets', 'Dolphins', -175, 155], ['Redskins', 'Bills', 375, -500], ['Titans', 'Panthers', 165, -190], ['Buccaneers', 'Seahawks', 200, -240], ['Packers', 'Chargers', -190, 165], ['Patriots', 'Ravens', -170, 150])\n",
      "(['Texans', 'Jaguars', -130, 110], ['Bears', 'Eagles', 185, -215], ['Vikings', 'Chiefs', -172, 140], ['Jets', 'Dolphins', -175, 155], ['Redskins', 'Bills', 375, -500], ['Titans', 'Panthers', 165, -190], ['Buccaneers', 'Seahawks', 200, -240], ['Packers', 'Chargers', -190, 165], ['Cowboys', 'Giants', -320, 260])\n",
      "(['Texans', 'Jaguars', -130, 110], ['Bears', 'Eagles', 185, -215], ['Vikings', 'Chiefs', -172, 140], ['Jets', 'Dolphins', -175, 155], ['Redskins', 'Bills', 375, -500], ['Titans', 'Panthers', 165, -190], ['Buccaneers', 'Seahawks', 200, -240], ['Browns', 'Broncos', -200, 170], ['Patriots', 'Ravens', -170, 150])\n",
      "(['Texans', 'Jaguars', -130, 110], ['Bears', 'Eagles', 185, -215], ['Vikings', 'Chiefs', -172, 140], ['Jets', 'Dolphins', -175, 155], ['Redskins', 'Bills', 375, -500], ['Titans', 'Panthers', 165, -190], ['Buccaneers', 'Seahawks', 200, -240], ['Browns', 'Broncos', -200, 170], ['Cowboys', 'Giants', -320, 260])\n",
      "(['Texans', 'Jaguars', -130, 110], ['Bears', 'Eagles', 185, -215], ['Vikings', 'Chiefs', -172, 140], ['Jets', 'Dolphins', -175, 155], ['Redskins', 'Bills', 375, -500], ['Titans', 'Panthers', 165, -190], ['Buccaneers', 'Seahawks', 200, -240], ['Patriots', 'Ravens', -170, 150], ['Cowboys', 'Giants', -320, 260])\n",
      "(['Texans', 'Jaguars', -130, 110], ['Bears', 'Eagles', 185, -215], ['Vikings', 'Chiefs', -172, 140], ['Jets', 'Dolphins', -175, 155], ['Redskins', 'Bills', 375, -500], ['Titans', 'Panthers', 165, -190], ['Packers', 'Chargers', -190, 165], ['Browns', 'Broncos', -200, 170], ['Patriots', 'Ravens', -170, 150])\n",
      "(['Texans', 'Jaguars', -130, 110], ['Bears', 'Eagles', 185, -215], ['Vikings', 'Chiefs', -172, 140], ['Jets', 'Dolphins', -175, 155], ['Redskins', 'Bills', 375, -500], ['Titans', 'Panthers', 165, -190], ['Packers', 'Chargers', -190, 165], ['Browns', 'Broncos', -200, 170], ['Cowboys', 'Giants', -320, 260])\n",
      "(['Texans', 'Jaguars', -130, 110], ['Bears', 'Eagles', 185, -215], ['Vikings', 'Chiefs', -172, 140], ['Jets', 'Dolphins', -175, 155], ['Redskins', 'Bills', 375, -500], ['Titans', 'Panthers', 165, -190], ['Packers', 'Chargers', -190, 165], ['Patriots', 'Ravens', -170, 150], ['Cowboys', 'Giants', -320, 260])\n",
      "(['Texans', 'Jaguars', -130, 110], ['Bears', 'Eagles', 185, -215], ['Vikings', 'Chiefs', -172, 140], ['Jets', 'Dolphins', -175, 155], ['Redskins', 'Bills', 375, -500], ['Titans', 'Panthers', 165, -190], ['Browns', 'Broncos', -200, 170], ['Patriots', 'Ravens', -170, 150], ['Cowboys', 'Giants', -320, 260])\n",
      "(['Texans', 'Jaguars', -130, 110], ['Bears', 'Eagles', 185, -215], ['Vikings', 'Chiefs', -172, 140], ['Jets', 'Dolphins', -175, 155], ['Redskins', 'Bills', 375, -500], ['Lions', 'Raiders', 115, -135], ['Buccaneers', 'Seahawks', 200, -240], ['Packers', 'Chargers', -190, 165], ['Browns', 'Broncos', -200, 170])\n",
      "(['Texans', 'Jaguars', -130, 110], ['Bears', 'Eagles', 185, -215], ['Vikings', 'Chiefs', -172, 140], ['Jets', 'Dolphins', -175, 155], ['Redskins', 'Bills', 375, -500], ['Lions', 'Raiders', 115, -135], ['Buccaneers', 'Seahawks', 200, -240], ['Packers', 'Chargers', -190, 165], ['Patriots', 'Ravens', -170, 150])\n",
      "(['Texans', 'Jaguars', -130, 110], ['Bears', 'Eagles', 185, -215], ['Vikings', 'Chiefs', -172, 140], ['Jets', 'Dolphins', -175, 155], ['Redskins', 'Bills', 375, -500], ['Lions', 'Raiders', 115, -135], ['Buccaneers', 'Seahawks', 200, -240], ['Packers', 'Chargers', -190, 165], ['Cowboys', 'Giants', -320, 260])\n",
      "(['Texans', 'Jaguars', -130, 110], ['Bears', 'Eagles', 185, -215], ['Vikings', 'Chiefs', -172, 140], ['Jets', 'Dolphins', -175, 155], ['Redskins', 'Bills', 375, -500], ['Lions', 'Raiders', 115, -135], ['Buccaneers', 'Seahawks', 200, -240], ['Browns', 'Broncos', -200, 170], ['Patriots', 'Ravens', -170, 150])\n",
      "(['Texans', 'Jaguars', -130, 110], ['Bears', 'Eagles', 185, -215], ['Vikings', 'Chiefs', -172, 140], ['Jets', 'Dolphins', -175, 155], ['Redskins', 'Bills', 375, -500], ['Lions', 'Raiders', 115, -135], ['Buccaneers', 'Seahawks', 200, -240], ['Browns', 'Broncos', -200, 170], ['Cowboys', 'Giants', -320, 260])\n",
      "(['Texans', 'Jaguars', -130, 110], ['Bears', 'Eagles', 185, -215], ['Vikings', 'Chiefs', -172, 140], ['Jets', 'Dolphins', -175, 155], ['Redskins', 'Bills', 375, -500], ['Lions', 'Raiders', 115, -135], ['Buccaneers', 'Seahawks', 200, -240], ['Patriots', 'Ravens', -170, 150], ['Cowboys', 'Giants', -320, 260])\n",
      "(['Texans', 'Jaguars', -130, 110], ['Bears', 'Eagles', 185, -215], ['Vikings', 'Chiefs', -172, 140], ['Jets', 'Dolphins', -175, 155], ['Redskins', 'Bills', 375, -500], ['Lions', 'Raiders', 115, -135], ['Packers', 'Chargers', -190, 165], ['Browns', 'Broncos', -200, 170], ['Patriots', 'Ravens', -170, 150])\n",
      "(['Texans', 'Jaguars', -130, 110], ['Bears', 'Eagles', 185, -215], ['Vikings', 'Chiefs', -172, 140], ['Jets', 'Dolphins', -175, 155], ['Redskins', 'Bills', 375, -500], ['Lions', 'Raiders', 115, -135], ['Packers', 'Chargers', -190, 165], ['Browns', 'Broncos', -200, 170], ['Cowboys', 'Giants', -320, 260])\n",
      "(['Texans', 'Jaguars', -130, 110], ['Bears', 'Eagles', 185, -215], ['Vikings', 'Chiefs', -172, 140], ['Jets', 'Dolphins', -175, 155], ['Redskins', 'Bills', 375, -500], ['Lions', 'Raiders', 115, -135], ['Packers', 'Chargers', -190, 165], ['Patriots', 'Ravens', -170, 150], ['Cowboys', 'Giants', -320, 260])\n",
      "(['Texans', 'Jaguars', -130, 110], ['Bears', 'Eagles', 185, -215], ['Vikings', 'Chiefs', -172, 140], ['Jets', 'Dolphins', -175, 155], ['Redskins', 'Bills', 375, -500], ['Lions', 'Raiders', 115, -135], ['Browns', 'Broncos', -200, 170], ['Patriots', 'Ravens', -170, 150], ['Cowboys', 'Giants', -320, 260])\n",
      "(['Texans', 'Jaguars', -130, 110], ['Bears', 'Eagles', 185, -215], ['Vikings', 'Chiefs', -172, 140], ['Jets', 'Dolphins', -175, 155], ['Redskins', 'Bills', 375, -500], ['Buccaneers', 'Seahawks', 200, -240], ['Packers', 'Chargers', -190, 165], ['Browns', 'Broncos', -200, 170], ['Patriots', 'Ravens', -170, 150])\n",
      "(['Texans', 'Jaguars', -130, 110], ['Bears', 'Eagles', 185, -215], ['Vikings', 'Chiefs', -172, 140], ['Jets', 'Dolphins', -175, 155], ['Redskins', 'Bills', 375, -500], ['Buccaneers', 'Seahawks', 200, -240], ['Packers', 'Chargers', -190, 165], ['Browns', 'Broncos', -200, 170], ['Cowboys', 'Giants', -320, 260])\n",
      "(['Texans', 'Jaguars', -130, 110], ['Bears', 'Eagles', 185, -215], ['Vikings', 'Chiefs', -172, 140], ['Jets', 'Dolphins', -175, 155], ['Redskins', 'Bills', 375, -500], ['Buccaneers', 'Seahawks', 200, -240], ['Packers', 'Chargers', -190, 165], ['Patriots', 'Ravens', -170, 150], ['Cowboys', 'Giants', -320, 260])\n",
      "(['Texans', 'Jaguars', -130, 110], ['Bears', 'Eagles', 185, -215], ['Vikings', 'Chiefs', -172, 140], ['Jets', 'Dolphins', -175, 155], ['Redskins', 'Bills', 375, -500], ['Buccaneers', 'Seahawks', 200, -240], ['Browns', 'Broncos', -200, 170], ['Patriots', 'Ravens', -170, 150], ['Cowboys', 'Giants', -320, 260])\n",
      "(['Texans', 'Jaguars', -130, 110], ['Bears', 'Eagles', 185, -215], ['Vikings', 'Chiefs', -172, 140], ['Jets', 'Dolphins', -175, 155], ['Redskins', 'Bills', 375, -500], ['Packers', 'Chargers', -190, 165], ['Browns', 'Broncos', -200, 170], ['Patriots', 'Ravens', -170, 150], ['Cowboys', 'Giants', -320, 260])\n",
      "(['Texans', 'Jaguars', -130, 110], ['Bears', 'Eagles', 185, -215], ['Vikings', 'Chiefs', -172, 140], ['Jets', 'Dolphins', -175, 155], ['Titans', 'Panthers', 165, -190], ['Lions', 'Raiders', 115, -135], ['Buccaneers', 'Seahawks', 200, -240], ['Packers', 'Chargers', -190, 165], ['Browns', 'Broncos', -200, 170])\n",
      "(['Texans', 'Jaguars', -130, 110], ['Bears', 'Eagles', 185, -215], ['Vikings', 'Chiefs', -172, 140], ['Jets', 'Dolphins', -175, 155], ['Titans', 'Panthers', 165, -190], ['Lions', 'Raiders', 115, -135], ['Buccaneers', 'Seahawks', 200, -240], ['Packers', 'Chargers', -190, 165], ['Patriots', 'Ravens', -170, 150])\n",
      "(['Texans', 'Jaguars', -130, 110], ['Bears', 'Eagles', 185, -215], ['Vikings', 'Chiefs', -172, 140], ['Jets', 'Dolphins', -175, 155], ['Titans', 'Panthers', 165, -190], ['Lions', 'Raiders', 115, -135], ['Buccaneers', 'Seahawks', 200, -240], ['Packers', 'Chargers', -190, 165], ['Cowboys', 'Giants', -320, 260])\n",
      "(['Texans', 'Jaguars', -130, 110], ['Bears', 'Eagles', 185, -215], ['Vikings', 'Chiefs', -172, 140], ['Jets', 'Dolphins', -175, 155], ['Titans', 'Panthers', 165, -190], ['Lions', 'Raiders', 115, -135], ['Buccaneers', 'Seahawks', 200, -240], ['Browns', 'Broncos', -200, 170], ['Patriots', 'Ravens', -170, 150])\n",
      "(['Texans', 'Jaguars', -130, 110], ['Bears', 'Eagles', 185, -215], ['Vikings', 'Chiefs', -172, 140], ['Jets', 'Dolphins', -175, 155], ['Titans', 'Panthers', 165, -190], ['Lions', 'Raiders', 115, -135], ['Buccaneers', 'Seahawks', 200, -240], ['Browns', 'Broncos', -200, 170], ['Cowboys', 'Giants', -320, 260])\n",
      "(['Texans', 'Jaguars', -130, 110], ['Bears', 'Eagles', 185, -215], ['Vikings', 'Chiefs', -172, 140], ['Jets', 'Dolphins', -175, 155], ['Titans', 'Panthers', 165, -190], ['Lions', 'Raiders', 115, -135], ['Buccaneers', 'Seahawks', 200, -240], ['Patriots', 'Ravens', -170, 150], ['Cowboys', 'Giants', -320, 260])\n",
      "(['Texans', 'Jaguars', -130, 110], ['Bears', 'Eagles', 185, -215], ['Vikings', 'Chiefs', -172, 140], ['Jets', 'Dolphins', -175, 155], ['Titans', 'Panthers', 165, -190], ['Lions', 'Raiders', 115, -135], ['Packers', 'Chargers', -190, 165], ['Browns', 'Broncos', -200, 170], ['Patriots', 'Ravens', -170, 150])\n",
      "(['Texans', 'Jaguars', -130, 110], ['Bears', 'Eagles', 185, -215], ['Vikings', 'Chiefs', -172, 140], ['Jets', 'Dolphins', -175, 155], ['Titans', 'Panthers', 165, -190], ['Lions', 'Raiders', 115, -135], ['Packers', 'Chargers', -190, 165], ['Browns', 'Broncos', -200, 170], ['Cowboys', 'Giants', -320, 260])\n",
      "(['Texans', 'Jaguars', -130, 110], ['Bears', 'Eagles', 185, -215], ['Vikings', 'Chiefs', -172, 140], ['Jets', 'Dolphins', -175, 155], ['Titans', 'Panthers', 165, -190], ['Lions', 'Raiders', 115, -135], ['Packers', 'Chargers', -190, 165], ['Patriots', 'Ravens', -170, 150], ['Cowboys', 'Giants', -320, 260])\n",
      "(['Texans', 'Jaguars', -130, 110], ['Bears', 'Eagles', 185, -215], ['Vikings', 'Chiefs', -172, 140], ['Jets', 'Dolphins', -175, 155], ['Titans', 'Panthers', 165, -190], ['Lions', 'Raiders', 115, -135], ['Browns', 'Broncos', -200, 170], ['Patriots', 'Ravens', -170, 150], ['Cowboys', 'Giants', -320, 260])\n",
      "(['Texans', 'Jaguars', -130, 110], ['Bears', 'Eagles', 185, -215], ['Vikings', 'Chiefs', -172, 140], ['Jets', 'Dolphins', -175, 155], ['Titans', 'Panthers', 165, -190], ['Buccaneers', 'Seahawks', 200, -240], ['Packers', 'Chargers', -190, 165], ['Browns', 'Broncos', -200, 170], ['Patriots', 'Ravens', -170, 150])\n",
      "(['Texans', 'Jaguars', -130, 110], ['Bears', 'Eagles', 185, -215], ['Vikings', 'Chiefs', -172, 140], ['Jets', 'Dolphins', -175, 155], ['Titans', 'Panthers', 165, -190], ['Buccaneers', 'Seahawks', 200, -240], ['Packers', 'Chargers', -190, 165], ['Browns', 'Broncos', -200, 170], ['Cowboys', 'Giants', -320, 260])\n",
      "(['Texans', 'Jaguars', -130, 110], ['Bears', 'Eagles', 185, -215], ['Vikings', 'Chiefs', -172, 140], ['Jets', 'Dolphins', -175, 155], ['Titans', 'Panthers', 165, -190], ['Buccaneers', 'Seahawks', 200, -240], ['Packers', 'Chargers', -190, 165], ['Patriots', 'Ravens', -170, 150], ['Cowboys', 'Giants', -320, 260])\n",
      "(['Texans', 'Jaguars', -130, 110], ['Bears', 'Eagles', 185, -215], ['Vikings', 'Chiefs', -172, 140], ['Jets', 'Dolphins', -175, 155], ['Titans', 'Panthers', 165, -190], ['Buccaneers', 'Seahawks', 200, -240], ['Browns', 'Broncos', -200, 170], ['Patriots', 'Ravens', -170, 150], ['Cowboys', 'Giants', -320, 260])\n",
      "(['Texans', 'Jaguars', -130, 110], ['Bears', 'Eagles', 185, -215], ['Vikings', 'Chiefs', -172, 140], ['Jets', 'Dolphins', -175, 155], ['Titans', 'Panthers', 165, -190], ['Packers', 'Chargers', -190, 165], ['Browns', 'Broncos', -200, 170], ['Patriots', 'Ravens', -170, 150], ['Cowboys', 'Giants', -320, 260])\n",
      "(['Texans', 'Jaguars', -130, 110], ['Bears', 'Eagles', 185, -215], ['Vikings', 'Chiefs', -172, 140], ['Jets', 'Dolphins', -175, 155], ['Lions', 'Raiders', 115, -135], ['Buccaneers', 'Seahawks', 200, -240], ['Packers', 'Chargers', -190, 165], ['Browns', 'Broncos', -200, 170], ['Patriots', 'Ravens', -170, 150])\n",
      "(['Texans', 'Jaguars', -130, 110], ['Bears', 'Eagles', 185, -215], ['Vikings', 'Chiefs', -172, 140], ['Jets', 'Dolphins', -175, 155], ['Lions', 'Raiders', 115, -135], ['Buccaneers', 'Seahawks', 200, -240], ['Packers', 'Chargers', -190, 165], ['Browns', 'Broncos', -200, 170], ['Cowboys', 'Giants', -320, 260])\n",
      "(['Texans', 'Jaguars', -130, 110], ['Bears', 'Eagles', 185, -215], ['Vikings', 'Chiefs', -172, 140], ['Jets', 'Dolphins', -175, 155], ['Lions', 'Raiders', 115, -135], ['Buccaneers', 'Seahawks', 200, -240], ['Packers', 'Chargers', -190, 165], ['Patriots', 'Ravens', -170, 150], ['Cowboys', 'Giants', -320, 260])\n",
      "(['Texans', 'Jaguars', -130, 110], ['Bears', 'Eagles', 185, -215], ['Vikings', 'Chiefs', -172, 140], ['Jets', 'Dolphins', -175, 155], ['Lions', 'Raiders', 115, -135], ['Buccaneers', 'Seahawks', 200, -240], ['Browns', 'Broncos', -200, 170], ['Patriots', 'Ravens', -170, 150], ['Cowboys', 'Giants', -320, 260])\n",
      "(['Texans', 'Jaguars', -130, 110], ['Bears', 'Eagles', 185, -215], ['Vikings', 'Chiefs', -172, 140], ['Jets', 'Dolphins', -175, 155], ['Lions', 'Raiders', 115, -135], ['Packers', 'Chargers', -190, 165], ['Browns', 'Broncos', -200, 170], ['Patriots', 'Ravens', -170, 150], ['Cowboys', 'Giants', -320, 260])\n",
      "(['Texans', 'Jaguars', -130, 110], ['Bears', 'Eagles', 185, -215], ['Vikings', 'Chiefs', -172, 140], ['Jets', 'Dolphins', -175, 155], ['Buccaneers', 'Seahawks', 200, -240], ['Packers', 'Chargers', -190, 165], ['Browns', 'Broncos', -200, 170], ['Patriots', 'Ravens', -170, 150], ['Cowboys', 'Giants', -320, 260])\n",
      "(['Texans', 'Jaguars', -130, 110], ['Bears', 'Eagles', 185, -215], ['Vikings', 'Chiefs', -172, 140], ['Redskins', 'Bills', 375, -500], ['Titans', 'Panthers', 165, -190], ['Lions', 'Raiders', 115, -135], ['Buccaneers', 'Seahawks', 200, -240], ['Packers', 'Chargers', -190, 165], ['Browns', 'Broncos', -200, 170])\n",
      "(['Texans', 'Jaguars', -130, 110], ['Bears', 'Eagles', 185, -215], ['Vikings', 'Chiefs', -172, 140], ['Redskins', 'Bills', 375, -500], ['Titans', 'Panthers', 165, -190], ['Lions', 'Raiders', 115, -135], ['Buccaneers', 'Seahawks', 200, -240], ['Packers', 'Chargers', -190, 165], ['Patriots', 'Ravens', -170, 150])\n",
      "(['Texans', 'Jaguars', -130, 110], ['Bears', 'Eagles', 185, -215], ['Vikings', 'Chiefs', -172, 140], ['Redskins', 'Bills', 375, -500], ['Titans', 'Panthers', 165, -190], ['Lions', 'Raiders', 115, -135], ['Buccaneers', 'Seahawks', 200, -240], ['Packers', 'Chargers', -190, 165], ['Cowboys', 'Giants', -320, 260])\n",
      "(['Texans', 'Jaguars', -130, 110], ['Bears', 'Eagles', 185, -215], ['Vikings', 'Chiefs', -172, 140], ['Redskins', 'Bills', 375, -500], ['Titans', 'Panthers', 165, -190], ['Lions', 'Raiders', 115, -135], ['Buccaneers', 'Seahawks', 200, -240], ['Browns', 'Broncos', -200, 170], ['Patriots', 'Ravens', -170, 150])\n",
      "(['Texans', 'Jaguars', -130, 110], ['Bears', 'Eagles', 185, -215], ['Vikings', 'Chiefs', -172, 140], ['Redskins', 'Bills', 375, -500], ['Titans', 'Panthers', 165, -190], ['Lions', 'Raiders', 115, -135], ['Buccaneers', 'Seahawks', 200, -240], ['Browns', 'Broncos', -200, 170], ['Cowboys', 'Giants', -320, 260])\n",
      "(['Texans', 'Jaguars', -130, 110], ['Bears', 'Eagles', 185, -215], ['Vikings', 'Chiefs', -172, 140], ['Redskins', 'Bills', 375, -500], ['Titans', 'Panthers', 165, -190], ['Lions', 'Raiders', 115, -135], ['Buccaneers', 'Seahawks', 200, -240], ['Patriots', 'Ravens', -170, 150], ['Cowboys', 'Giants', -320, 260])\n",
      "(['Texans', 'Jaguars', -130, 110], ['Bears', 'Eagles', 185, -215], ['Vikings', 'Chiefs', -172, 140], ['Redskins', 'Bills', 375, -500], ['Titans', 'Panthers', 165, -190], ['Lions', 'Raiders', 115, -135], ['Packers', 'Chargers', -190, 165], ['Browns', 'Broncos', -200, 170], ['Patriots', 'Ravens', -170, 150])\n",
      "(['Texans', 'Jaguars', -130, 110], ['Bears', 'Eagles', 185, -215], ['Vikings', 'Chiefs', -172, 140], ['Redskins', 'Bills', 375, -500], ['Titans', 'Panthers', 165, -190], ['Lions', 'Raiders', 115, -135], ['Packers', 'Chargers', -190, 165], ['Browns', 'Broncos', -200, 170], ['Cowboys', 'Giants', -320, 260])\n",
      "(['Texans', 'Jaguars', -130, 110], ['Bears', 'Eagles', 185, -215], ['Vikings', 'Chiefs', -172, 140], ['Redskins', 'Bills', 375, -500], ['Titans', 'Panthers', 165, -190], ['Lions', 'Raiders', 115, -135], ['Packers', 'Chargers', -190, 165], ['Patriots', 'Ravens', -170, 150], ['Cowboys', 'Giants', -320, 260])\n",
      "(['Texans', 'Jaguars', -130, 110], ['Bears', 'Eagles', 185, -215], ['Vikings', 'Chiefs', -172, 140], ['Redskins', 'Bills', 375, -500], ['Titans', 'Panthers', 165, -190], ['Lions', 'Raiders', 115, -135], ['Browns', 'Broncos', -200, 170], ['Patriots', 'Ravens', -170, 150], ['Cowboys', 'Giants', -320, 260])\n",
      "(['Texans', 'Jaguars', -130, 110], ['Bears', 'Eagles', 185, -215], ['Vikings', 'Chiefs', -172, 140], ['Redskins', 'Bills', 375, -500], ['Titans', 'Panthers', 165, -190], ['Buccaneers', 'Seahawks', 200, -240], ['Packers', 'Chargers', -190, 165], ['Browns', 'Broncos', -200, 170], ['Patriots', 'Ravens', -170, 150])\n",
      "(['Texans', 'Jaguars', -130, 110], ['Bears', 'Eagles', 185, -215], ['Vikings', 'Chiefs', -172, 140], ['Redskins', 'Bills', 375, -500], ['Titans', 'Panthers', 165, -190], ['Buccaneers', 'Seahawks', 200, -240], ['Packers', 'Chargers', -190, 165], ['Browns', 'Broncos', -200, 170], ['Cowboys', 'Giants', -320, 260])\n",
      "(['Texans', 'Jaguars', -130, 110], ['Bears', 'Eagles', 185, -215], ['Vikings', 'Chiefs', -172, 140], ['Redskins', 'Bills', 375, -500], ['Titans', 'Panthers', 165, -190], ['Buccaneers', 'Seahawks', 200, -240], ['Packers', 'Chargers', -190, 165], ['Patriots', 'Ravens', -170, 150], ['Cowboys', 'Giants', -320, 260])\n",
      "(['Texans', 'Jaguars', -130, 110], ['Bears', 'Eagles', 185, -215], ['Vikings', 'Chiefs', -172, 140], ['Redskins', 'Bills', 375, -500], ['Titans', 'Panthers', 165, -190], ['Buccaneers', 'Seahawks', 200, -240], ['Browns', 'Broncos', -200, 170], ['Patriots', 'Ravens', -170, 150], ['Cowboys', 'Giants', -320, 260])\n",
      "(['Texans', 'Jaguars', -130, 110], ['Bears', 'Eagles', 185, -215], ['Vikings', 'Chiefs', -172, 140], ['Redskins', 'Bills', 375, -500], ['Titans', 'Panthers', 165, -190], ['Packers', 'Chargers', -190, 165], ['Browns', 'Broncos', -200, 170], ['Patriots', 'Ravens', -170, 150], ['Cowboys', 'Giants', -320, 260])\n",
      "(['Texans', 'Jaguars', -130, 110], ['Bears', 'Eagles', 185, -215], ['Vikings', 'Chiefs', -172, 140], ['Redskins', 'Bills', 375, -500], ['Lions', 'Raiders', 115, -135], ['Buccaneers', 'Seahawks', 200, -240], ['Packers', 'Chargers', -190, 165], ['Browns', 'Broncos', -200, 170], ['Patriots', 'Ravens', -170, 150])\n",
      "(['Texans', 'Jaguars', -130, 110], ['Bears', 'Eagles', 185, -215], ['Vikings', 'Chiefs', -172, 140], ['Redskins', 'Bills', 375, -500], ['Lions', 'Raiders', 115, -135], ['Buccaneers', 'Seahawks', 200, -240], ['Packers', 'Chargers', -190, 165], ['Browns', 'Broncos', -200, 170], ['Cowboys', 'Giants', -320, 260])\n",
      "(['Texans', 'Jaguars', -130, 110], ['Bears', 'Eagles', 185, -215], ['Vikings', 'Chiefs', -172, 140], ['Redskins', 'Bills', 375, -500], ['Lions', 'Raiders', 115, -135], ['Buccaneers', 'Seahawks', 200, -240], ['Packers', 'Chargers', -190, 165], ['Patriots', 'Ravens', -170, 150], ['Cowboys', 'Giants', -320, 260])\n",
      "(['Texans', 'Jaguars', -130, 110], ['Bears', 'Eagles', 185, -215], ['Vikings', 'Chiefs', -172, 140], ['Redskins', 'Bills', 375, -500], ['Lions', 'Raiders', 115, -135], ['Buccaneers', 'Seahawks', 200, -240], ['Browns', 'Broncos', -200, 170], ['Patriots', 'Ravens', -170, 150], ['Cowboys', 'Giants', -320, 260])\n",
      "(['Texans', 'Jaguars', -130, 110], ['Bears', 'Eagles', 185, -215], ['Vikings', 'Chiefs', -172, 140], ['Redskins', 'Bills', 375, -500], ['Lions', 'Raiders', 115, -135], ['Packers', 'Chargers', -190, 165], ['Browns', 'Broncos', -200, 170], ['Patriots', 'Ravens', -170, 150], ['Cowboys', 'Giants', -320, 260])\n",
      "(['Texans', 'Jaguars', -130, 110], ['Bears', 'Eagles', 185, -215], ['Vikings', 'Chiefs', -172, 140], ['Redskins', 'Bills', 375, -500], ['Buccaneers', 'Seahawks', 200, -240], ['Packers', 'Chargers', -190, 165], ['Browns', 'Broncos', -200, 170], ['Patriots', 'Ravens', -170, 150], ['Cowboys', 'Giants', -320, 260])\n",
      "(['Texans', 'Jaguars', -130, 110], ['Bears', 'Eagles', 185, -215], ['Vikings', 'Chiefs', -172, 140], ['Titans', 'Panthers', 165, -190], ['Lions', 'Raiders', 115, -135], ['Buccaneers', 'Seahawks', 200, -240], ['Packers', 'Chargers', -190, 165], ['Browns', 'Broncos', -200, 170], ['Patriots', 'Ravens', -170, 150])\n",
      "(['Texans', 'Jaguars', -130, 110], ['Bears', 'Eagles', 185, -215], ['Vikings', 'Chiefs', -172, 140], ['Titans', 'Panthers', 165, -190], ['Lions', 'Raiders', 115, -135], ['Buccaneers', 'Seahawks', 200, -240], ['Packers', 'Chargers', -190, 165], ['Browns', 'Broncos', -200, 170], ['Cowboys', 'Giants', -320, 260])\n",
      "(['Texans', 'Jaguars', -130, 110], ['Bears', 'Eagles', 185, -215], ['Vikings', 'Chiefs', -172, 140], ['Titans', 'Panthers', 165, -190], ['Lions', 'Raiders', 115, -135], ['Buccaneers', 'Seahawks', 200, -240], ['Packers', 'Chargers', -190, 165], ['Patriots', 'Ravens', -170, 150], ['Cowboys', 'Giants', -320, 260])\n",
      "(['Texans', 'Jaguars', -130, 110], ['Bears', 'Eagles', 185, -215], ['Vikings', 'Chiefs', -172, 140], ['Titans', 'Panthers', 165, -190], ['Lions', 'Raiders', 115, -135], ['Buccaneers', 'Seahawks', 200, -240], ['Browns', 'Broncos', -200, 170], ['Patriots', 'Ravens', -170, 150], ['Cowboys', 'Giants', -320, 260])\n",
      "(['Texans', 'Jaguars', -130, 110], ['Bears', 'Eagles', 185, -215], ['Vikings', 'Chiefs', -172, 140], ['Titans', 'Panthers', 165, -190], ['Lions', 'Raiders', 115, -135], ['Packers', 'Chargers', -190, 165], ['Browns', 'Broncos', -200, 170], ['Patriots', 'Ravens', -170, 150], ['Cowboys', 'Giants', -320, 260])\n",
      "(['Texans', 'Jaguars', -130, 110], ['Bears', 'Eagles', 185, -215], ['Vikings', 'Chiefs', -172, 140], ['Titans', 'Panthers', 165, -190], ['Buccaneers', 'Seahawks', 200, -240], ['Packers', 'Chargers', -190, 165], ['Browns', 'Broncos', -200, 170], ['Patriots', 'Ravens', -170, 150], ['Cowboys', 'Giants', -320, 260])\n",
      "(['Texans', 'Jaguars', -130, 110], ['Bears', 'Eagles', 185, -215], ['Vikings', 'Chiefs', -172, 140], ['Lions', 'Raiders', 115, -135], ['Buccaneers', 'Seahawks', 200, -240], ['Packers', 'Chargers', -190, 165], ['Browns', 'Broncos', -200, 170], ['Patriots', 'Ravens', -170, 150], ['Cowboys', 'Giants', -320, 260])\n",
      "(['Texans', 'Jaguars', -130, 110], ['Bears', 'Eagles', 185, -215], ['Colts', 'Steelers', -105, -115], ['Jets', 'Dolphins', -175, 155], ['Redskins', 'Bills', 375, -500], ['Titans', 'Panthers', 165, -190], ['Lions', 'Raiders', 115, -135], ['Buccaneers', 'Seahawks', 200, -240], ['Packers', 'Chargers', -190, 165])\n",
      "(['Texans', 'Jaguars', -130, 110], ['Bears', 'Eagles', 185, -215], ['Colts', 'Steelers', -105, -115], ['Jets', 'Dolphins', -175, 155], ['Redskins', 'Bills', 375, -500], ['Titans', 'Panthers', 165, -190], ['Lions', 'Raiders', 115, -135], ['Buccaneers', 'Seahawks', 200, -240], ['Browns', 'Broncos', -200, 170])\n",
      "(['Texans', 'Jaguars', -130, 110], ['Bears', 'Eagles', 185, -215], ['Colts', 'Steelers', -105, -115], ['Jets', 'Dolphins', -175, 155], ['Redskins', 'Bills', 375, -500], ['Titans', 'Panthers', 165, -190], ['Lions', 'Raiders', 115, -135], ['Buccaneers', 'Seahawks', 200, -240], ['Patriots', 'Ravens', -170, 150])\n",
      "(['Texans', 'Jaguars', -130, 110], ['Bears', 'Eagles', 185, -215], ['Colts', 'Steelers', -105, -115], ['Jets', 'Dolphins', -175, 155], ['Redskins', 'Bills', 375, -500], ['Titans', 'Panthers', 165, -190], ['Lions', 'Raiders', 115, -135], ['Buccaneers', 'Seahawks', 200, -240], ['Cowboys', 'Giants', -320, 260])\n",
      "(['Texans', 'Jaguars', -130, 110], ['Bears', 'Eagles', 185, -215], ['Colts', 'Steelers', -105, -115], ['Jets', 'Dolphins', -175, 155], ['Redskins', 'Bills', 375, -500], ['Titans', 'Panthers', 165, -190], ['Lions', 'Raiders', 115, -135], ['Packers', 'Chargers', -190, 165], ['Browns', 'Broncos', -200, 170])\n",
      "(['Texans', 'Jaguars', -130, 110], ['Bears', 'Eagles', 185, -215], ['Colts', 'Steelers', -105, -115], ['Jets', 'Dolphins', -175, 155], ['Redskins', 'Bills', 375, -500], ['Titans', 'Panthers', 165, -190], ['Lions', 'Raiders', 115, -135], ['Packers', 'Chargers', -190, 165], ['Patriots', 'Ravens', -170, 150])\n",
      "(['Texans', 'Jaguars', -130, 110], ['Bears', 'Eagles', 185, -215], ['Colts', 'Steelers', -105, -115], ['Jets', 'Dolphins', -175, 155], ['Redskins', 'Bills', 375, -500], ['Titans', 'Panthers', 165, -190], ['Lions', 'Raiders', 115, -135], ['Packers', 'Chargers', -190, 165], ['Cowboys', 'Giants', -320, 260])\n",
      "(['Texans', 'Jaguars', -130, 110], ['Bears', 'Eagles', 185, -215], ['Colts', 'Steelers', -105, -115], ['Jets', 'Dolphins', -175, 155], ['Redskins', 'Bills', 375, -500], ['Titans', 'Panthers', 165, -190], ['Lions', 'Raiders', 115, -135], ['Browns', 'Broncos', -200, 170], ['Patriots', 'Ravens', -170, 150])\n",
      "(['Texans', 'Jaguars', -130, 110], ['Bears', 'Eagles', 185, -215], ['Colts', 'Steelers', -105, -115], ['Jets', 'Dolphins', -175, 155], ['Redskins', 'Bills', 375, -500], ['Titans', 'Panthers', 165, -190], ['Lions', 'Raiders', 115, -135], ['Browns', 'Broncos', -200, 170], ['Cowboys', 'Giants', -320, 260])\n",
      "(['Texans', 'Jaguars', -130, 110], ['Bears', 'Eagles', 185, -215], ['Colts', 'Steelers', -105, -115], ['Jets', 'Dolphins', -175, 155], ['Redskins', 'Bills', 375, -500], ['Titans', 'Panthers', 165, -190], ['Lions', 'Raiders', 115, -135], ['Patriots', 'Ravens', -170, 150], ['Cowboys', 'Giants', -320, 260])\n",
      "(['Texans', 'Jaguars', -130, 110], ['Bears', 'Eagles', 185, -215], ['Colts', 'Steelers', -105, -115], ['Jets', 'Dolphins', -175, 155], ['Redskins', 'Bills', 375, -500], ['Titans', 'Panthers', 165, -190], ['Buccaneers', 'Seahawks', 200, -240], ['Packers', 'Chargers', -190, 165], ['Browns', 'Broncos', -200, 170])\n",
      "(['Texans', 'Jaguars', -130, 110], ['Bears', 'Eagles', 185, -215], ['Colts', 'Steelers', -105, -115], ['Jets', 'Dolphins', -175, 155], ['Redskins', 'Bills', 375, -500], ['Titans', 'Panthers', 165, -190], ['Buccaneers', 'Seahawks', 200, -240], ['Packers', 'Chargers', -190, 165], ['Patriots', 'Ravens', -170, 150])\n",
      "(['Texans', 'Jaguars', -130, 110], ['Bears', 'Eagles', 185, -215], ['Colts', 'Steelers', -105, -115], ['Jets', 'Dolphins', -175, 155], ['Redskins', 'Bills', 375, -500], ['Titans', 'Panthers', 165, -190], ['Buccaneers', 'Seahawks', 200, -240], ['Packers', 'Chargers', -190, 165], ['Cowboys', 'Giants', -320, 260])\n",
      "(['Texans', 'Jaguars', -130, 110], ['Bears', 'Eagles', 185, -215], ['Colts', 'Steelers', -105, -115], ['Jets', 'Dolphins', -175, 155], ['Redskins', 'Bills', 375, -500], ['Titans', 'Panthers', 165, -190], ['Buccaneers', 'Seahawks', 200, -240], ['Browns', 'Broncos', -200, 170], ['Patriots', 'Ravens', -170, 150])\n",
      "(['Texans', 'Jaguars', -130, 110], ['Bears', 'Eagles', 185, -215], ['Colts', 'Steelers', -105, -115], ['Jets', 'Dolphins', -175, 155], ['Redskins', 'Bills', 375, -500], ['Titans', 'Panthers', 165, -190], ['Buccaneers', 'Seahawks', 200, -240], ['Browns', 'Broncos', -200, 170], ['Cowboys', 'Giants', -320, 260])\n",
      "(['Texans', 'Jaguars', -130, 110], ['Bears', 'Eagles', 185, -215], ['Colts', 'Steelers', -105, -115], ['Jets', 'Dolphins', -175, 155], ['Redskins', 'Bills', 375, -500], ['Titans', 'Panthers', 165, -190], ['Buccaneers', 'Seahawks', 200, -240], ['Patriots', 'Ravens', -170, 150], ['Cowboys', 'Giants', -320, 260])\n",
      "(['Texans', 'Jaguars', -130, 110], ['Bears', 'Eagles', 185, -215], ['Colts', 'Steelers', -105, -115], ['Jets', 'Dolphins', -175, 155], ['Redskins', 'Bills', 375, -500], ['Titans', 'Panthers', 165, -190], ['Packers', 'Chargers', -190, 165], ['Browns', 'Broncos', -200, 170], ['Patriots', 'Ravens', -170, 150])\n",
      "(['Texans', 'Jaguars', -130, 110], ['Bears', 'Eagles', 185, -215], ['Colts', 'Steelers', -105, -115], ['Jets', 'Dolphins', -175, 155], ['Redskins', 'Bills', 375, -500], ['Titans', 'Panthers', 165, -190], ['Packers', 'Chargers', -190, 165], ['Browns', 'Broncos', -200, 170], ['Cowboys', 'Giants', -320, 260])\n",
      "(['Texans', 'Jaguars', -130, 110], ['Bears', 'Eagles', 185, -215], ['Colts', 'Steelers', -105, -115], ['Jets', 'Dolphins', -175, 155], ['Redskins', 'Bills', 375, -500], ['Titans', 'Panthers', 165, -190], ['Packers', 'Chargers', -190, 165], ['Patriots', 'Ravens', -170, 150], ['Cowboys', 'Giants', -320, 260])\n",
      "(['Texans', 'Jaguars', -130, 110], ['Bears', 'Eagles', 185, -215], ['Colts', 'Steelers', -105, -115], ['Jets', 'Dolphins', -175, 155], ['Redskins', 'Bills', 375, -500], ['Titans', 'Panthers', 165, -190], ['Browns', 'Broncos', -200, 170], ['Patriots', 'Ravens', -170, 150], ['Cowboys', 'Giants', -320, 260])\n",
      "(['Texans', 'Jaguars', -130, 110], ['Bears', 'Eagles', 185, -215], ['Colts', 'Steelers', -105, -115], ['Jets', 'Dolphins', -175, 155], ['Redskins', 'Bills', 375, -500], ['Lions', 'Raiders', 115, -135], ['Buccaneers', 'Seahawks', 200, -240], ['Packers', 'Chargers', -190, 165], ['Browns', 'Broncos', -200, 170])\n",
      "(['Texans', 'Jaguars', -130, 110], ['Bears', 'Eagles', 185, -215], ['Colts', 'Steelers', -105, -115], ['Jets', 'Dolphins', -175, 155], ['Redskins', 'Bills', 375, -500], ['Lions', 'Raiders', 115, -135], ['Buccaneers', 'Seahawks', 200, -240], ['Packers', 'Chargers', -190, 165], ['Patriots', 'Ravens', -170, 150])\n",
      "(['Texans', 'Jaguars', -130, 110], ['Bears', 'Eagles', 185, -215], ['Colts', 'Steelers', -105, -115], ['Jets', 'Dolphins', -175, 155], ['Redskins', 'Bills', 375, -500], ['Lions', 'Raiders', 115, -135], ['Buccaneers', 'Seahawks', 200, -240], ['Packers', 'Chargers', -190, 165], ['Cowboys', 'Giants', -320, 260])\n",
      "(['Texans', 'Jaguars', -130, 110], ['Bears', 'Eagles', 185, -215], ['Colts', 'Steelers', -105, -115], ['Jets', 'Dolphins', -175, 155], ['Redskins', 'Bills', 375, -500], ['Lions', 'Raiders', 115, -135], ['Buccaneers', 'Seahawks', 200, -240], ['Browns', 'Broncos', -200, 170], ['Patriots', 'Ravens', -170, 150])\n",
      "(['Texans', 'Jaguars', -130, 110], ['Bears', 'Eagles', 185, -215], ['Colts', 'Steelers', -105, -115], ['Jets', 'Dolphins', -175, 155], ['Redskins', 'Bills', 375, -500], ['Lions', 'Raiders', 115, -135], ['Buccaneers', 'Seahawks', 200, -240], ['Browns', 'Broncos', -200, 170], ['Cowboys', 'Giants', -320, 260])\n",
      "(['Texans', 'Jaguars', -130, 110], ['Bears', 'Eagles', 185, -215], ['Colts', 'Steelers', -105, -115], ['Jets', 'Dolphins', -175, 155], ['Redskins', 'Bills', 375, -500], ['Lions', 'Raiders', 115, -135], ['Buccaneers', 'Seahawks', 200, -240], ['Patriots', 'Ravens', -170, 150], ['Cowboys', 'Giants', -320, 260])\n",
      "(['Texans', 'Jaguars', -130, 110], ['Bears', 'Eagles', 185, -215], ['Colts', 'Steelers', -105, -115], ['Jets', 'Dolphins', -175, 155], ['Redskins', 'Bills', 375, -500], ['Lions', 'Raiders', 115, -135], ['Packers', 'Chargers', -190, 165], ['Browns', 'Broncos', -200, 170], ['Patriots', 'Ravens', -170, 150])\n",
      "(['Texans', 'Jaguars', -130, 110], ['Bears', 'Eagles', 185, -215], ['Colts', 'Steelers', -105, -115], ['Jets', 'Dolphins', -175, 155], ['Redskins', 'Bills', 375, -500], ['Lions', 'Raiders', 115, -135], ['Packers', 'Chargers', -190, 165], ['Browns', 'Broncos', -200, 170], ['Cowboys', 'Giants', -320, 260])\n",
      "(['Texans', 'Jaguars', -130, 110], ['Bears', 'Eagles', 185, -215], ['Colts', 'Steelers', -105, -115], ['Jets', 'Dolphins', -175, 155], ['Redskins', 'Bills', 375, -500], ['Lions', 'Raiders', 115, -135], ['Packers', 'Chargers', -190, 165], ['Patriots', 'Ravens', -170, 150], ['Cowboys', 'Giants', -320, 260])\n",
      "(['Texans', 'Jaguars', -130, 110], ['Bears', 'Eagles', 185, -215], ['Colts', 'Steelers', -105, -115], ['Jets', 'Dolphins', -175, 155], ['Redskins', 'Bills', 375, -500], ['Lions', 'Raiders', 115, -135], ['Browns', 'Broncos', -200, 170], ['Patriots', 'Ravens', -170, 150], ['Cowboys', 'Giants', -320, 260])\n",
      "(['Texans', 'Jaguars', -130, 110], ['Bears', 'Eagles', 185, -215], ['Colts', 'Steelers', -105, -115], ['Jets', 'Dolphins', -175, 155], ['Redskins', 'Bills', 375, -500], ['Buccaneers', 'Seahawks', 200, -240], ['Packers', 'Chargers', -190, 165], ['Browns', 'Broncos', -200, 170], ['Patriots', 'Ravens', -170, 150])\n",
      "(['Texans', 'Jaguars', -130, 110], ['Bears', 'Eagles', 185, -215], ['Colts', 'Steelers', -105, -115], ['Jets', 'Dolphins', -175, 155], ['Redskins', 'Bills', 375, -500], ['Buccaneers', 'Seahawks', 200, -240], ['Packers', 'Chargers', -190, 165], ['Browns', 'Broncos', -200, 170], ['Cowboys', 'Giants', -320, 260])\n",
      "(['Texans', 'Jaguars', -130, 110], ['Bears', 'Eagles', 185, -215], ['Colts', 'Steelers', -105, -115], ['Jets', 'Dolphins', -175, 155], ['Redskins', 'Bills', 375, -500], ['Buccaneers', 'Seahawks', 200, -240], ['Packers', 'Chargers', -190, 165], ['Patriots', 'Ravens', -170, 150], ['Cowboys', 'Giants', -320, 260])\n",
      "(['Texans', 'Jaguars', -130, 110], ['Bears', 'Eagles', 185, -215], ['Colts', 'Steelers', -105, -115], ['Jets', 'Dolphins', -175, 155], ['Redskins', 'Bills', 375, -500], ['Buccaneers', 'Seahawks', 200, -240], ['Browns', 'Broncos', -200, 170], ['Patriots', 'Ravens', -170, 150], ['Cowboys', 'Giants', -320, 260])\n",
      "(['Texans', 'Jaguars', -130, 110], ['Bears', 'Eagles', 185, -215], ['Colts', 'Steelers', -105, -115], ['Jets', 'Dolphins', -175, 155], ['Redskins', 'Bills', 375, -500], ['Packers', 'Chargers', -190, 165], ['Browns', 'Broncos', -200, 170], ['Patriots', 'Ravens', -170, 150], ['Cowboys', 'Giants', -320, 260])\n",
      "(['Texans', 'Jaguars', -130, 110], ['Bears', 'Eagles', 185, -215], ['Colts', 'Steelers', -105, -115], ['Jets', 'Dolphins', -175, 155], ['Titans', 'Panthers', 165, -190], ['Lions', 'Raiders', 115, -135], ['Buccaneers', 'Seahawks', 200, -240], ['Packers', 'Chargers', -190, 165], ['Browns', 'Broncos', -200, 170])\n",
      "(['Texans', 'Jaguars', -130, 110], ['Bears', 'Eagles', 185, -215], ['Colts', 'Steelers', -105, -115], ['Jets', 'Dolphins', -175, 155], ['Titans', 'Panthers', 165, -190], ['Lions', 'Raiders', 115, -135], ['Buccaneers', 'Seahawks', 200, -240], ['Packers', 'Chargers', -190, 165], ['Patriots', 'Ravens', -170, 150])\n",
      "(['Texans', 'Jaguars', -130, 110], ['Bears', 'Eagles', 185, -215], ['Colts', 'Steelers', -105, -115], ['Jets', 'Dolphins', -175, 155], ['Titans', 'Panthers', 165, -190], ['Lions', 'Raiders', 115, -135], ['Buccaneers', 'Seahawks', 200, -240], ['Packers', 'Chargers', -190, 165], ['Cowboys', 'Giants', -320, 260])\n",
      "(['Texans', 'Jaguars', -130, 110], ['Bears', 'Eagles', 185, -215], ['Colts', 'Steelers', -105, -115], ['Jets', 'Dolphins', -175, 155], ['Titans', 'Panthers', 165, -190], ['Lions', 'Raiders', 115, -135], ['Buccaneers', 'Seahawks', 200, -240], ['Browns', 'Broncos', -200, 170], ['Patriots', 'Ravens', -170, 150])\n",
      "(['Texans', 'Jaguars', -130, 110], ['Bears', 'Eagles', 185, -215], ['Colts', 'Steelers', -105, -115], ['Jets', 'Dolphins', -175, 155], ['Titans', 'Panthers', 165, -190], ['Lions', 'Raiders', 115, -135], ['Buccaneers', 'Seahawks', 200, -240], ['Browns', 'Broncos', -200, 170], ['Cowboys', 'Giants', -320, 260])\n",
      "(['Texans', 'Jaguars', -130, 110], ['Bears', 'Eagles', 185, -215], ['Colts', 'Steelers', -105, -115], ['Jets', 'Dolphins', -175, 155], ['Titans', 'Panthers', 165, -190], ['Lions', 'Raiders', 115, -135], ['Buccaneers', 'Seahawks', 200, -240], ['Patriots', 'Ravens', -170, 150], ['Cowboys', 'Giants', -320, 260])\n",
      "(['Texans', 'Jaguars', -130, 110], ['Bears', 'Eagles', 185, -215], ['Colts', 'Steelers', -105, -115], ['Jets', 'Dolphins', -175, 155], ['Titans', 'Panthers', 165, -190], ['Lions', 'Raiders', 115, -135], ['Packers', 'Chargers', -190, 165], ['Browns', 'Broncos', -200, 170], ['Patriots', 'Ravens', -170, 150])\n",
      "(['Texans', 'Jaguars', -130, 110], ['Bears', 'Eagles', 185, -215], ['Colts', 'Steelers', -105, -115], ['Jets', 'Dolphins', -175, 155], ['Titans', 'Panthers', 165, -190], ['Lions', 'Raiders', 115, -135], ['Packers', 'Chargers', -190, 165], ['Browns', 'Broncos', -200, 170], ['Cowboys', 'Giants', -320, 260])\n",
      "(['Texans', 'Jaguars', -130, 110], ['Bears', 'Eagles', 185, -215], ['Colts', 'Steelers', -105, -115], ['Jets', 'Dolphins', -175, 155], ['Titans', 'Panthers', 165, -190], ['Lions', 'Raiders', 115, -135], ['Packers', 'Chargers', -190, 165], ['Patriots', 'Ravens', -170, 150], ['Cowboys', 'Giants', -320, 260])\n",
      "(['Texans', 'Jaguars', -130, 110], ['Bears', 'Eagles', 185, -215], ['Colts', 'Steelers', -105, -115], ['Jets', 'Dolphins', -175, 155], ['Titans', 'Panthers', 165, -190], ['Lions', 'Raiders', 115, -135], ['Browns', 'Broncos', -200, 170], ['Patriots', 'Ravens', -170, 150], ['Cowboys', 'Giants', -320, 260])\n",
      "(['Texans', 'Jaguars', -130, 110], ['Bears', 'Eagles', 185, -215], ['Colts', 'Steelers', -105, -115], ['Jets', 'Dolphins', -175, 155], ['Titans', 'Panthers', 165, -190], ['Buccaneers', 'Seahawks', 200, -240], ['Packers', 'Chargers', -190, 165], ['Browns', 'Broncos', -200, 170], ['Patriots', 'Ravens', -170, 150])\n",
      "(['Texans', 'Jaguars', -130, 110], ['Bears', 'Eagles', 185, -215], ['Colts', 'Steelers', -105, -115], ['Jets', 'Dolphins', -175, 155], ['Titans', 'Panthers', 165, -190], ['Buccaneers', 'Seahawks', 200, -240], ['Packers', 'Chargers', -190, 165], ['Browns', 'Broncos', -200, 170], ['Cowboys', 'Giants', -320, 260])\n",
      "(['Texans', 'Jaguars', -130, 110], ['Bears', 'Eagles', 185, -215], ['Colts', 'Steelers', -105, -115], ['Jets', 'Dolphins', -175, 155], ['Titans', 'Panthers', 165, -190], ['Buccaneers', 'Seahawks', 200, -240], ['Packers', 'Chargers', -190, 165], ['Patriots', 'Ravens', -170, 150], ['Cowboys', 'Giants', -320, 260])\n",
      "(['Texans', 'Jaguars', -130, 110], ['Bears', 'Eagles', 185, -215], ['Colts', 'Steelers', -105, -115], ['Jets', 'Dolphins', -175, 155], ['Titans', 'Panthers', 165, -190], ['Buccaneers', 'Seahawks', 200, -240], ['Browns', 'Broncos', -200, 170], ['Patriots', 'Ravens', -170, 150], ['Cowboys', 'Giants', -320, 260])\n",
      "(['Texans', 'Jaguars', -130, 110], ['Bears', 'Eagles', 185, -215], ['Colts', 'Steelers', -105, -115], ['Jets', 'Dolphins', -175, 155], ['Titans', 'Panthers', 165, -190], ['Packers', 'Chargers', -190, 165], ['Browns', 'Broncos', -200, 170], ['Patriots', 'Ravens', -170, 150], ['Cowboys', 'Giants', -320, 260])\n",
      "(['Texans', 'Jaguars', -130, 110], ['Bears', 'Eagles', 185, -215], ['Colts', 'Steelers', -105, -115], ['Jets', 'Dolphins', -175, 155], ['Lions', 'Raiders', 115, -135], ['Buccaneers', 'Seahawks', 200, -240], ['Packers', 'Chargers', -190, 165], ['Browns', 'Broncos', -200, 170], ['Patriots', 'Ravens', -170, 150])\n",
      "(['Texans', 'Jaguars', -130, 110], ['Bears', 'Eagles', 185, -215], ['Colts', 'Steelers', -105, -115], ['Jets', 'Dolphins', -175, 155], ['Lions', 'Raiders', 115, -135], ['Buccaneers', 'Seahawks', 200, -240], ['Packers', 'Chargers', -190, 165], ['Browns', 'Broncos', -200, 170], ['Cowboys', 'Giants', -320, 260])\n",
      "(['Texans', 'Jaguars', -130, 110], ['Bears', 'Eagles', 185, -215], ['Colts', 'Steelers', -105, -115], ['Jets', 'Dolphins', -175, 155], ['Lions', 'Raiders', 115, -135], ['Buccaneers', 'Seahawks', 200, -240], ['Packers', 'Chargers', -190, 165], ['Patriots', 'Ravens', -170, 150], ['Cowboys', 'Giants', -320, 260])\n",
      "(['Texans', 'Jaguars', -130, 110], ['Bears', 'Eagles', 185, -215], ['Colts', 'Steelers', -105, -115], ['Jets', 'Dolphins', -175, 155], ['Lions', 'Raiders', 115, -135], ['Buccaneers', 'Seahawks', 200, -240], ['Browns', 'Broncos', -200, 170], ['Patriots', 'Ravens', -170, 150], ['Cowboys', 'Giants', -320, 260])\n",
      "(['Texans', 'Jaguars', -130, 110], ['Bears', 'Eagles', 185, -215], ['Colts', 'Steelers', -105, -115], ['Jets', 'Dolphins', -175, 155], ['Lions', 'Raiders', 115, -135], ['Packers', 'Chargers', -190, 165], ['Browns', 'Broncos', -200, 170], ['Patriots', 'Ravens', -170, 150], ['Cowboys', 'Giants', -320, 260])\n",
      "(['Texans', 'Jaguars', -130, 110], ['Bears', 'Eagles', 185, -215], ['Colts', 'Steelers', -105, -115], ['Jets', 'Dolphins', -175, 155], ['Buccaneers', 'Seahawks', 200, -240], ['Packers', 'Chargers', -190, 165], ['Browns', 'Broncos', -200, 170], ['Patriots', 'Ravens', -170, 150], ['Cowboys', 'Giants', -320, 260])\n",
      "(['Texans', 'Jaguars', -130, 110], ['Bears', 'Eagles', 185, -215], ['Colts', 'Steelers', -105, -115], ['Redskins', 'Bills', 375, -500], ['Titans', 'Panthers', 165, -190], ['Lions', 'Raiders', 115, -135], ['Buccaneers', 'Seahawks', 200, -240], ['Packers', 'Chargers', -190, 165], ['Browns', 'Broncos', -200, 170])\n",
      "(['Texans', 'Jaguars', -130, 110], ['Bears', 'Eagles', 185, -215], ['Colts', 'Steelers', -105, -115], ['Redskins', 'Bills', 375, -500], ['Titans', 'Panthers', 165, -190], ['Lions', 'Raiders', 115, -135], ['Buccaneers', 'Seahawks', 200, -240], ['Packers', 'Chargers', -190, 165], ['Patriots', 'Ravens', -170, 150])\n",
      "(['Texans', 'Jaguars', -130, 110], ['Bears', 'Eagles', 185, -215], ['Colts', 'Steelers', -105, -115], ['Redskins', 'Bills', 375, -500], ['Titans', 'Panthers', 165, -190], ['Lions', 'Raiders', 115, -135], ['Buccaneers', 'Seahawks', 200, -240], ['Packers', 'Chargers', -190, 165], ['Cowboys', 'Giants', -320, 260])\n",
      "(['Texans', 'Jaguars', -130, 110], ['Bears', 'Eagles', 185, -215], ['Colts', 'Steelers', -105, -115], ['Redskins', 'Bills', 375, -500], ['Titans', 'Panthers', 165, -190], ['Lions', 'Raiders', 115, -135], ['Buccaneers', 'Seahawks', 200, -240], ['Browns', 'Broncos', -200, 170], ['Patriots', 'Ravens', -170, 150])\n",
      "(['Texans', 'Jaguars', -130, 110], ['Bears', 'Eagles', 185, -215], ['Colts', 'Steelers', -105, -115], ['Redskins', 'Bills', 375, -500], ['Titans', 'Panthers', 165, -190], ['Lions', 'Raiders', 115, -135], ['Buccaneers', 'Seahawks', 200, -240], ['Browns', 'Broncos', -200, 170], ['Cowboys', 'Giants', -320, 260])\n",
      "(['Texans', 'Jaguars', -130, 110], ['Bears', 'Eagles', 185, -215], ['Colts', 'Steelers', -105, -115], ['Redskins', 'Bills', 375, -500], ['Titans', 'Panthers', 165, -190], ['Lions', 'Raiders', 115, -135], ['Buccaneers', 'Seahawks', 200, -240], ['Patriots', 'Ravens', -170, 150], ['Cowboys', 'Giants', -320, 260])\n",
      "(['Texans', 'Jaguars', -130, 110], ['Bears', 'Eagles', 185, -215], ['Colts', 'Steelers', -105, -115], ['Redskins', 'Bills', 375, -500], ['Titans', 'Panthers', 165, -190], ['Lions', 'Raiders', 115, -135], ['Packers', 'Chargers', -190, 165], ['Browns', 'Broncos', -200, 170], ['Patriots', 'Ravens', -170, 150])\n",
      "(['Texans', 'Jaguars', -130, 110], ['Bears', 'Eagles', 185, -215], ['Colts', 'Steelers', -105, -115], ['Redskins', 'Bills', 375, -500], ['Titans', 'Panthers', 165, -190], ['Lions', 'Raiders', 115, -135], ['Packers', 'Chargers', -190, 165], ['Browns', 'Broncos', -200, 170], ['Cowboys', 'Giants', -320, 260])\n",
      "(['Texans', 'Jaguars', -130, 110], ['Bears', 'Eagles', 185, -215], ['Colts', 'Steelers', -105, -115], ['Redskins', 'Bills', 375, -500], ['Titans', 'Panthers', 165, -190], ['Lions', 'Raiders', 115, -135], ['Packers', 'Chargers', -190, 165], ['Patriots', 'Ravens', -170, 150], ['Cowboys', 'Giants', -320, 260])\n",
      "(['Texans', 'Jaguars', -130, 110], ['Bears', 'Eagles', 185, -215], ['Colts', 'Steelers', -105, -115], ['Redskins', 'Bills', 375, -500], ['Titans', 'Panthers', 165, -190], ['Lions', 'Raiders', 115, -135], ['Browns', 'Broncos', -200, 170], ['Patriots', 'Ravens', -170, 150], ['Cowboys', 'Giants', -320, 260])\n",
      "(['Texans', 'Jaguars', -130, 110], ['Bears', 'Eagles', 185, -215], ['Colts', 'Steelers', -105, -115], ['Redskins', 'Bills', 375, -500], ['Titans', 'Panthers', 165, -190], ['Buccaneers', 'Seahawks', 200, -240], ['Packers', 'Chargers', -190, 165], ['Browns', 'Broncos', -200, 170], ['Patriots', 'Ravens', -170, 150])\n",
      "(['Texans', 'Jaguars', -130, 110], ['Bears', 'Eagles', 185, -215], ['Colts', 'Steelers', -105, -115], ['Redskins', 'Bills', 375, -500], ['Titans', 'Panthers', 165, -190], ['Buccaneers', 'Seahawks', 200, -240], ['Packers', 'Chargers', -190, 165], ['Browns', 'Broncos', -200, 170], ['Cowboys', 'Giants', -320, 260])\n",
      "(['Texans', 'Jaguars', -130, 110], ['Bears', 'Eagles', 185, -215], ['Colts', 'Steelers', -105, -115], ['Redskins', 'Bills', 375, -500], ['Titans', 'Panthers', 165, -190], ['Buccaneers', 'Seahawks', 200, -240], ['Packers', 'Chargers', -190, 165], ['Patriots', 'Ravens', -170, 150], ['Cowboys', 'Giants', -320, 260])\n",
      "(['Texans', 'Jaguars', -130, 110], ['Bears', 'Eagles', 185, -215], ['Colts', 'Steelers', -105, -115], ['Redskins', 'Bills', 375, -500], ['Titans', 'Panthers', 165, -190], ['Buccaneers', 'Seahawks', 200, -240], ['Browns', 'Broncos', -200, 170], ['Patriots', 'Ravens', -170, 150], ['Cowboys', 'Giants', -320, 260])\n",
      "(['Texans', 'Jaguars', -130, 110], ['Bears', 'Eagles', 185, -215], ['Colts', 'Steelers', -105, -115], ['Redskins', 'Bills', 375, -500], ['Titans', 'Panthers', 165, -190], ['Packers', 'Chargers', -190, 165], ['Browns', 'Broncos', -200, 170], ['Patriots', 'Ravens', -170, 150], ['Cowboys', 'Giants', -320, 260])\n",
      "(['Texans', 'Jaguars', -130, 110], ['Bears', 'Eagles', 185, -215], ['Colts', 'Steelers', -105, -115], ['Redskins', 'Bills', 375, -500], ['Lions', 'Raiders', 115, -135], ['Buccaneers', 'Seahawks', 200, -240], ['Packers', 'Chargers', -190, 165], ['Browns', 'Broncos', -200, 170], ['Patriots', 'Ravens', -170, 150])\n",
      "(['Texans', 'Jaguars', -130, 110], ['Bears', 'Eagles', 185, -215], ['Colts', 'Steelers', -105, -115], ['Redskins', 'Bills', 375, -500], ['Lions', 'Raiders', 115, -135], ['Buccaneers', 'Seahawks', 200, -240], ['Packers', 'Chargers', -190, 165], ['Browns', 'Broncos', -200, 170], ['Cowboys', 'Giants', -320, 260])\n",
      "(['Texans', 'Jaguars', -130, 110], ['Bears', 'Eagles', 185, -215], ['Colts', 'Steelers', -105, -115], ['Redskins', 'Bills', 375, -500], ['Lions', 'Raiders', 115, -135], ['Buccaneers', 'Seahawks', 200, -240], ['Packers', 'Chargers', -190, 165], ['Patriots', 'Ravens', -170, 150], ['Cowboys', 'Giants', -320, 260])\n",
      "(['Texans', 'Jaguars', -130, 110], ['Bears', 'Eagles', 185, -215], ['Colts', 'Steelers', -105, -115], ['Redskins', 'Bills', 375, -500], ['Lions', 'Raiders', 115, -135], ['Buccaneers', 'Seahawks', 200, -240], ['Browns', 'Broncos', -200, 170], ['Patriots', 'Ravens', -170, 150], ['Cowboys', 'Giants', -320, 260])\n",
      "(['Texans', 'Jaguars', -130, 110], ['Bears', 'Eagles', 185, -215], ['Colts', 'Steelers', -105, -115], ['Redskins', 'Bills', 375, -500], ['Lions', 'Raiders', 115, -135], ['Packers', 'Chargers', -190, 165], ['Browns', 'Broncos', -200, 170], ['Patriots', 'Ravens', -170, 150], ['Cowboys', 'Giants', -320, 260])\n",
      "(['Texans', 'Jaguars', -130, 110], ['Bears', 'Eagles', 185, -215], ['Colts', 'Steelers', -105, -115], ['Redskins', 'Bills', 375, -500], ['Buccaneers', 'Seahawks', 200, -240], ['Packers', 'Chargers', -190, 165], ['Browns', 'Broncos', -200, 170], ['Patriots', 'Ravens', -170, 150], ['Cowboys', 'Giants', -320, 260])\n",
      "(['Texans', 'Jaguars', -130, 110], ['Bears', 'Eagles', 185, -215], ['Colts', 'Steelers', -105, -115], ['Titans', 'Panthers', 165, -190], ['Lions', 'Raiders', 115, -135], ['Buccaneers', 'Seahawks', 200, -240], ['Packers', 'Chargers', -190, 165], ['Browns', 'Broncos', -200, 170], ['Patriots', 'Ravens', -170, 150])\n",
      "(['Texans', 'Jaguars', -130, 110], ['Bears', 'Eagles', 185, -215], ['Colts', 'Steelers', -105, -115], ['Titans', 'Panthers', 165, -190], ['Lions', 'Raiders', 115, -135], ['Buccaneers', 'Seahawks', 200, -240], ['Packers', 'Chargers', -190, 165], ['Browns', 'Broncos', -200, 170], ['Cowboys', 'Giants', -320, 260])\n",
      "(['Texans', 'Jaguars', -130, 110], ['Bears', 'Eagles', 185, -215], ['Colts', 'Steelers', -105, -115], ['Titans', 'Panthers', 165, -190], ['Lions', 'Raiders', 115, -135], ['Buccaneers', 'Seahawks', 200, -240], ['Packers', 'Chargers', -190, 165], ['Patriots', 'Ravens', -170, 150], ['Cowboys', 'Giants', -320, 260])\n",
      "(['Texans', 'Jaguars', -130, 110], ['Bears', 'Eagles', 185, -215], ['Colts', 'Steelers', -105, -115], ['Titans', 'Panthers', 165, -190], ['Lions', 'Raiders', 115, -135], ['Buccaneers', 'Seahawks', 200, -240], ['Browns', 'Broncos', -200, 170], ['Patriots', 'Ravens', -170, 150], ['Cowboys', 'Giants', -320, 260])\n",
      "(['Texans', 'Jaguars', -130, 110], ['Bears', 'Eagles', 185, -215], ['Colts', 'Steelers', -105, -115], ['Titans', 'Panthers', 165, -190], ['Lions', 'Raiders', 115, -135], ['Packers', 'Chargers', -190, 165], ['Browns', 'Broncos', -200, 170], ['Patriots', 'Ravens', -170, 150], ['Cowboys', 'Giants', -320, 260])\n",
      "(['Texans', 'Jaguars', -130, 110], ['Bears', 'Eagles', 185, -215], ['Colts', 'Steelers', -105, -115], ['Titans', 'Panthers', 165, -190], ['Buccaneers', 'Seahawks', 200, -240], ['Packers', 'Chargers', -190, 165], ['Browns', 'Broncos', -200, 170], ['Patriots', 'Ravens', -170, 150], ['Cowboys', 'Giants', -320, 260])\n",
      "(['Texans', 'Jaguars', -130, 110], ['Bears', 'Eagles', 185, -215], ['Colts', 'Steelers', -105, -115], ['Lions', 'Raiders', 115, -135], ['Buccaneers', 'Seahawks', 200, -240], ['Packers', 'Chargers', -190, 165], ['Browns', 'Broncos', -200, 170], ['Patriots', 'Ravens', -170, 150], ['Cowboys', 'Giants', -320, 260])\n",
      "(['Texans', 'Jaguars', -130, 110], ['Bears', 'Eagles', 185, -215], ['Jets', 'Dolphins', -175, 155], ['Redskins', 'Bills', 375, -500], ['Titans', 'Panthers', 165, -190], ['Lions', 'Raiders', 115, -135], ['Buccaneers', 'Seahawks', 200, -240], ['Packers', 'Chargers', -190, 165], ['Browns', 'Broncos', -200, 170])\n",
      "(['Texans', 'Jaguars', -130, 110], ['Bears', 'Eagles', 185, -215], ['Jets', 'Dolphins', -175, 155], ['Redskins', 'Bills', 375, -500], ['Titans', 'Panthers', 165, -190], ['Lions', 'Raiders', 115, -135], ['Buccaneers', 'Seahawks', 200, -240], ['Packers', 'Chargers', -190, 165], ['Patriots', 'Ravens', -170, 150])\n",
      "(['Texans', 'Jaguars', -130, 110], ['Bears', 'Eagles', 185, -215], ['Jets', 'Dolphins', -175, 155], ['Redskins', 'Bills', 375, -500], ['Titans', 'Panthers', 165, -190], ['Lions', 'Raiders', 115, -135], ['Buccaneers', 'Seahawks', 200, -240], ['Packers', 'Chargers', -190, 165], ['Cowboys', 'Giants', -320, 260])\n",
      "(['Texans', 'Jaguars', -130, 110], ['Bears', 'Eagles', 185, -215], ['Jets', 'Dolphins', -175, 155], ['Redskins', 'Bills', 375, -500], ['Titans', 'Panthers', 165, -190], ['Lions', 'Raiders', 115, -135], ['Buccaneers', 'Seahawks', 200, -240], ['Browns', 'Broncos', -200, 170], ['Patriots', 'Ravens', -170, 150])\n",
      "(['Texans', 'Jaguars', -130, 110], ['Bears', 'Eagles', 185, -215], ['Jets', 'Dolphins', -175, 155], ['Redskins', 'Bills', 375, -500], ['Titans', 'Panthers', 165, -190], ['Lions', 'Raiders', 115, -135], ['Buccaneers', 'Seahawks', 200, -240], ['Browns', 'Broncos', -200, 170], ['Cowboys', 'Giants', -320, 260])\n",
      "(['Texans', 'Jaguars', -130, 110], ['Bears', 'Eagles', 185, -215], ['Jets', 'Dolphins', -175, 155], ['Redskins', 'Bills', 375, -500], ['Titans', 'Panthers', 165, -190], ['Lions', 'Raiders', 115, -135], ['Buccaneers', 'Seahawks', 200, -240], ['Patriots', 'Ravens', -170, 150], ['Cowboys', 'Giants', -320, 260])\n",
      "(['Texans', 'Jaguars', -130, 110], ['Bears', 'Eagles', 185, -215], ['Jets', 'Dolphins', -175, 155], ['Redskins', 'Bills', 375, -500], ['Titans', 'Panthers', 165, -190], ['Lions', 'Raiders', 115, -135], ['Packers', 'Chargers', -190, 165], ['Browns', 'Broncos', -200, 170], ['Patriots', 'Ravens', -170, 150])\n",
      "(['Texans', 'Jaguars', -130, 110], ['Bears', 'Eagles', 185, -215], ['Jets', 'Dolphins', -175, 155], ['Redskins', 'Bills', 375, -500], ['Titans', 'Panthers', 165, -190], ['Lions', 'Raiders', 115, -135], ['Packers', 'Chargers', -190, 165], ['Browns', 'Broncos', -200, 170], ['Cowboys', 'Giants', -320, 260])\n",
      "(['Texans', 'Jaguars', -130, 110], ['Bears', 'Eagles', 185, -215], ['Jets', 'Dolphins', -175, 155], ['Redskins', 'Bills', 375, -500], ['Titans', 'Panthers', 165, -190], ['Lions', 'Raiders', 115, -135], ['Packers', 'Chargers', -190, 165], ['Patriots', 'Ravens', -170, 150], ['Cowboys', 'Giants', -320, 260])\n",
      "(['Texans', 'Jaguars', -130, 110], ['Bears', 'Eagles', 185, -215], ['Jets', 'Dolphins', -175, 155], ['Redskins', 'Bills', 375, -500], ['Titans', 'Panthers', 165, -190], ['Lions', 'Raiders', 115, -135], ['Browns', 'Broncos', -200, 170], ['Patriots', 'Ravens', -170, 150], ['Cowboys', 'Giants', -320, 260])\n",
      "(['Texans', 'Jaguars', -130, 110], ['Bears', 'Eagles', 185, -215], ['Jets', 'Dolphins', -175, 155], ['Redskins', 'Bills', 375, -500], ['Titans', 'Panthers', 165, -190], ['Buccaneers', 'Seahawks', 200, -240], ['Packers', 'Chargers', -190, 165], ['Browns', 'Broncos', -200, 170], ['Patriots', 'Ravens', -170, 150])\n",
      "(['Texans', 'Jaguars', -130, 110], ['Bears', 'Eagles', 185, -215], ['Jets', 'Dolphins', -175, 155], ['Redskins', 'Bills', 375, -500], ['Titans', 'Panthers', 165, -190], ['Buccaneers', 'Seahawks', 200, -240], ['Packers', 'Chargers', -190, 165], ['Browns', 'Broncos', -200, 170], ['Cowboys', 'Giants', -320, 260])\n",
      "(['Texans', 'Jaguars', -130, 110], ['Bears', 'Eagles', 185, -215], ['Jets', 'Dolphins', -175, 155], ['Redskins', 'Bills', 375, -500], ['Titans', 'Panthers', 165, -190], ['Buccaneers', 'Seahawks', 200, -240], ['Packers', 'Chargers', -190, 165], ['Patriots', 'Ravens', -170, 150], ['Cowboys', 'Giants', -320, 260])\n",
      "(['Texans', 'Jaguars', -130, 110], ['Bears', 'Eagles', 185, -215], ['Jets', 'Dolphins', -175, 155], ['Redskins', 'Bills', 375, -500], ['Titans', 'Panthers', 165, -190], ['Buccaneers', 'Seahawks', 200, -240], ['Browns', 'Broncos', -200, 170], ['Patriots', 'Ravens', -170, 150], ['Cowboys', 'Giants', -320, 260])\n",
      "(['Texans', 'Jaguars', -130, 110], ['Bears', 'Eagles', 185, -215], ['Jets', 'Dolphins', -175, 155], ['Redskins', 'Bills', 375, -500], ['Titans', 'Panthers', 165, -190], ['Packers', 'Chargers', -190, 165], ['Browns', 'Broncos', -200, 170], ['Patriots', 'Ravens', -170, 150], ['Cowboys', 'Giants', -320, 260])\n",
      "(['Texans', 'Jaguars', -130, 110], ['Bears', 'Eagles', 185, -215], ['Jets', 'Dolphins', -175, 155], ['Redskins', 'Bills', 375, -500], ['Lions', 'Raiders', 115, -135], ['Buccaneers', 'Seahawks', 200, -240], ['Packers', 'Chargers', -190, 165], ['Browns', 'Broncos', -200, 170], ['Patriots', 'Ravens', -170, 150])\n",
      "(['Texans', 'Jaguars', -130, 110], ['Bears', 'Eagles', 185, -215], ['Jets', 'Dolphins', -175, 155], ['Redskins', 'Bills', 375, -500], ['Lions', 'Raiders', 115, -135], ['Buccaneers', 'Seahawks', 200, -240], ['Packers', 'Chargers', -190, 165], ['Browns', 'Broncos', -200, 170], ['Cowboys', 'Giants', -320, 260])\n",
      "(['Texans', 'Jaguars', -130, 110], ['Bears', 'Eagles', 185, -215], ['Jets', 'Dolphins', -175, 155], ['Redskins', 'Bills', 375, -500], ['Lions', 'Raiders', 115, -135], ['Buccaneers', 'Seahawks', 200, -240], ['Packers', 'Chargers', -190, 165], ['Patriots', 'Ravens', -170, 150], ['Cowboys', 'Giants', -320, 260])\n",
      "(['Texans', 'Jaguars', -130, 110], ['Bears', 'Eagles', 185, -215], ['Jets', 'Dolphins', -175, 155], ['Redskins', 'Bills', 375, -500], ['Lions', 'Raiders', 115, -135], ['Buccaneers', 'Seahawks', 200, -240], ['Browns', 'Broncos', -200, 170], ['Patriots', 'Ravens', -170, 150], ['Cowboys', 'Giants', -320, 260])\n",
      "(['Texans', 'Jaguars', -130, 110], ['Bears', 'Eagles', 185, -215], ['Jets', 'Dolphins', -175, 155], ['Redskins', 'Bills', 375, -500], ['Lions', 'Raiders', 115, -135], ['Packers', 'Chargers', -190, 165], ['Browns', 'Broncos', -200, 170], ['Patriots', 'Ravens', -170, 150], ['Cowboys', 'Giants', -320, 260])\n",
      "(['Texans', 'Jaguars', -130, 110], ['Bears', 'Eagles', 185, -215], ['Jets', 'Dolphins', -175, 155], ['Redskins', 'Bills', 375, -500], ['Buccaneers', 'Seahawks', 200, -240], ['Packers', 'Chargers', -190, 165], ['Browns', 'Broncos', -200, 170], ['Patriots', 'Ravens', -170, 150], ['Cowboys', 'Giants', -320, 260])\n",
      "(['Texans', 'Jaguars', -130, 110], ['Bears', 'Eagles', 185, -215], ['Jets', 'Dolphins', -175, 155], ['Titans', 'Panthers', 165, -190], ['Lions', 'Raiders', 115, -135], ['Buccaneers', 'Seahawks', 200, -240], ['Packers', 'Chargers', -190, 165], ['Browns', 'Broncos', -200, 170], ['Patriots', 'Ravens', -170, 150])\n",
      "(['Texans', 'Jaguars', -130, 110], ['Bears', 'Eagles', 185, -215], ['Jets', 'Dolphins', -175, 155], ['Titans', 'Panthers', 165, -190], ['Lions', 'Raiders', 115, -135], ['Buccaneers', 'Seahawks', 200, -240], ['Packers', 'Chargers', -190, 165], ['Browns', 'Broncos', -200, 170], ['Cowboys', 'Giants', -320, 260])\n",
      "(['Texans', 'Jaguars', -130, 110], ['Bears', 'Eagles', 185, -215], ['Jets', 'Dolphins', -175, 155], ['Titans', 'Panthers', 165, -190], ['Lions', 'Raiders', 115, -135], ['Buccaneers', 'Seahawks', 200, -240], ['Packers', 'Chargers', -190, 165], ['Patriots', 'Ravens', -170, 150], ['Cowboys', 'Giants', -320, 260])\n",
      "(['Texans', 'Jaguars', -130, 110], ['Bears', 'Eagles', 185, -215], ['Jets', 'Dolphins', -175, 155], ['Titans', 'Panthers', 165, -190], ['Lions', 'Raiders', 115, -135], ['Buccaneers', 'Seahawks', 200, -240], ['Browns', 'Broncos', -200, 170], ['Patriots', 'Ravens', -170, 150], ['Cowboys', 'Giants', -320, 260])\n",
      "(['Texans', 'Jaguars', -130, 110], ['Bears', 'Eagles', 185, -215], ['Jets', 'Dolphins', -175, 155], ['Titans', 'Panthers', 165, -190], ['Lions', 'Raiders', 115, -135], ['Packers', 'Chargers', -190, 165], ['Browns', 'Broncos', -200, 170], ['Patriots', 'Ravens', -170, 150], ['Cowboys', 'Giants', -320, 260])\n",
      "(['Texans', 'Jaguars', -130, 110], ['Bears', 'Eagles', 185, -215], ['Jets', 'Dolphins', -175, 155], ['Titans', 'Panthers', 165, -190], ['Buccaneers', 'Seahawks', 200, -240], ['Packers', 'Chargers', -190, 165], ['Browns', 'Broncos', -200, 170], ['Patriots', 'Ravens', -170, 150], ['Cowboys', 'Giants', -320, 260])\n",
      "(['Texans', 'Jaguars', -130, 110], ['Bears', 'Eagles', 185, -215], ['Jets', 'Dolphins', -175, 155], ['Lions', 'Raiders', 115, -135], ['Buccaneers', 'Seahawks', 200, -240], ['Packers', 'Chargers', -190, 165], ['Browns', 'Broncos', -200, 170], ['Patriots', 'Ravens', -170, 150], ['Cowboys', 'Giants', -320, 260])\n",
      "(['Texans', 'Jaguars', -130, 110], ['Bears', 'Eagles', 185, -215], ['Redskins', 'Bills', 375, -500], ['Titans', 'Panthers', 165, -190], ['Lions', 'Raiders', 115, -135], ['Buccaneers', 'Seahawks', 200, -240], ['Packers', 'Chargers', -190, 165], ['Browns', 'Broncos', -200, 170], ['Patriots', 'Ravens', -170, 150])\n",
      "(['Texans', 'Jaguars', -130, 110], ['Bears', 'Eagles', 185, -215], ['Redskins', 'Bills', 375, -500], ['Titans', 'Panthers', 165, -190], ['Lions', 'Raiders', 115, -135], ['Buccaneers', 'Seahawks', 200, -240], ['Packers', 'Chargers', -190, 165], ['Browns', 'Broncos', -200, 170], ['Cowboys', 'Giants', -320, 260])\n",
      "(['Texans', 'Jaguars', -130, 110], ['Bears', 'Eagles', 185, -215], ['Redskins', 'Bills', 375, -500], ['Titans', 'Panthers', 165, -190], ['Lions', 'Raiders', 115, -135], ['Buccaneers', 'Seahawks', 200, -240], ['Packers', 'Chargers', -190, 165], ['Patriots', 'Ravens', -170, 150], ['Cowboys', 'Giants', -320, 260])\n",
      "(['Texans', 'Jaguars', -130, 110], ['Bears', 'Eagles', 185, -215], ['Redskins', 'Bills', 375, -500], ['Titans', 'Panthers', 165, -190], ['Lions', 'Raiders', 115, -135], ['Buccaneers', 'Seahawks', 200, -240], ['Browns', 'Broncos', -200, 170], ['Patriots', 'Ravens', -170, 150], ['Cowboys', 'Giants', -320, 260])\n",
      "(['Texans', 'Jaguars', -130, 110], ['Bears', 'Eagles', 185, -215], ['Redskins', 'Bills', 375, -500], ['Titans', 'Panthers', 165, -190], ['Lions', 'Raiders', 115, -135], ['Packers', 'Chargers', -190, 165], ['Browns', 'Broncos', -200, 170], ['Patriots', 'Ravens', -170, 150], ['Cowboys', 'Giants', -320, 260])\n",
      "(['Texans', 'Jaguars', -130, 110], ['Bears', 'Eagles', 185, -215], ['Redskins', 'Bills', 375, -500], ['Titans', 'Panthers', 165, -190], ['Buccaneers', 'Seahawks', 200, -240], ['Packers', 'Chargers', -190, 165], ['Browns', 'Broncos', -200, 170], ['Patriots', 'Ravens', -170, 150], ['Cowboys', 'Giants', -320, 260])\n",
      "(['Texans', 'Jaguars', -130, 110], ['Bears', 'Eagles', 185, -215], ['Redskins', 'Bills', 375, -500], ['Lions', 'Raiders', 115, -135], ['Buccaneers', 'Seahawks', 200, -240], ['Packers', 'Chargers', -190, 165], ['Browns', 'Broncos', -200, 170], ['Patriots', 'Ravens', -170, 150], ['Cowboys', 'Giants', -320, 260])\n",
      "(['Texans', 'Jaguars', -130, 110], ['Bears', 'Eagles', 185, -215], ['Titans', 'Panthers', 165, -190], ['Lions', 'Raiders', 115, -135], ['Buccaneers', 'Seahawks', 200, -240], ['Packers', 'Chargers', -190, 165], ['Browns', 'Broncos', -200, 170], ['Patriots', 'Ravens', -170, 150], ['Cowboys', 'Giants', -320, 260])\n",
      "(['Texans', 'Jaguars', -130, 110], ['Vikings', 'Chiefs', -172, 140], ['Colts', 'Steelers', -105, -115], ['Jets', 'Dolphins', -175, 155], ['Redskins', 'Bills', 375, -500], ['Titans', 'Panthers', 165, -190], ['Lions', 'Raiders', 115, -135], ['Buccaneers', 'Seahawks', 200, -240], ['Packers', 'Chargers', -190, 165])\n",
      "(['Texans', 'Jaguars', -130, 110], ['Vikings', 'Chiefs', -172, 140], ['Colts', 'Steelers', -105, -115], ['Jets', 'Dolphins', -175, 155], ['Redskins', 'Bills', 375, -500], ['Titans', 'Panthers', 165, -190], ['Lions', 'Raiders', 115, -135], ['Buccaneers', 'Seahawks', 200, -240], ['Browns', 'Broncos', -200, 170])\n",
      "(['Texans', 'Jaguars', -130, 110], ['Vikings', 'Chiefs', -172, 140], ['Colts', 'Steelers', -105, -115], ['Jets', 'Dolphins', -175, 155], ['Redskins', 'Bills', 375, -500], ['Titans', 'Panthers', 165, -190], ['Lions', 'Raiders', 115, -135], ['Buccaneers', 'Seahawks', 200, -240], ['Patriots', 'Ravens', -170, 150])\n",
      "(['Texans', 'Jaguars', -130, 110], ['Vikings', 'Chiefs', -172, 140], ['Colts', 'Steelers', -105, -115], ['Jets', 'Dolphins', -175, 155], ['Redskins', 'Bills', 375, -500], ['Titans', 'Panthers', 165, -190], ['Lions', 'Raiders', 115, -135], ['Buccaneers', 'Seahawks', 200, -240], ['Cowboys', 'Giants', -320, 260])\n",
      "(['Texans', 'Jaguars', -130, 110], ['Vikings', 'Chiefs', -172, 140], ['Colts', 'Steelers', -105, -115], ['Jets', 'Dolphins', -175, 155], ['Redskins', 'Bills', 375, -500], ['Titans', 'Panthers', 165, -190], ['Lions', 'Raiders', 115, -135], ['Packers', 'Chargers', -190, 165], ['Browns', 'Broncos', -200, 170])\n",
      "(['Texans', 'Jaguars', -130, 110], ['Vikings', 'Chiefs', -172, 140], ['Colts', 'Steelers', -105, -115], ['Jets', 'Dolphins', -175, 155], ['Redskins', 'Bills', 375, -500], ['Titans', 'Panthers', 165, -190], ['Lions', 'Raiders', 115, -135], ['Packers', 'Chargers', -190, 165], ['Patriots', 'Ravens', -170, 150])\n",
      "(['Texans', 'Jaguars', -130, 110], ['Vikings', 'Chiefs', -172, 140], ['Colts', 'Steelers', -105, -115], ['Jets', 'Dolphins', -175, 155], ['Redskins', 'Bills', 375, -500], ['Titans', 'Panthers', 165, -190], ['Lions', 'Raiders', 115, -135], ['Packers', 'Chargers', -190, 165], ['Cowboys', 'Giants', -320, 260])\n",
      "(['Texans', 'Jaguars', -130, 110], ['Vikings', 'Chiefs', -172, 140], ['Colts', 'Steelers', -105, -115], ['Jets', 'Dolphins', -175, 155], ['Redskins', 'Bills', 375, -500], ['Titans', 'Panthers', 165, -190], ['Lions', 'Raiders', 115, -135], ['Browns', 'Broncos', -200, 170], ['Patriots', 'Ravens', -170, 150])\n",
      "(['Texans', 'Jaguars', -130, 110], ['Vikings', 'Chiefs', -172, 140], ['Colts', 'Steelers', -105, -115], ['Jets', 'Dolphins', -175, 155], ['Redskins', 'Bills', 375, -500], ['Titans', 'Panthers', 165, -190], ['Lions', 'Raiders', 115, -135], ['Browns', 'Broncos', -200, 170], ['Cowboys', 'Giants', -320, 260])\n",
      "(['Texans', 'Jaguars', -130, 110], ['Vikings', 'Chiefs', -172, 140], ['Colts', 'Steelers', -105, -115], ['Jets', 'Dolphins', -175, 155], ['Redskins', 'Bills', 375, -500], ['Titans', 'Panthers', 165, -190], ['Lions', 'Raiders', 115, -135], ['Patriots', 'Ravens', -170, 150], ['Cowboys', 'Giants', -320, 260])\n",
      "(['Texans', 'Jaguars', -130, 110], ['Vikings', 'Chiefs', -172, 140], ['Colts', 'Steelers', -105, -115], ['Jets', 'Dolphins', -175, 155], ['Redskins', 'Bills', 375, -500], ['Titans', 'Panthers', 165, -190], ['Buccaneers', 'Seahawks', 200, -240], ['Packers', 'Chargers', -190, 165], ['Browns', 'Broncos', -200, 170])\n",
      "(['Texans', 'Jaguars', -130, 110], ['Vikings', 'Chiefs', -172, 140], ['Colts', 'Steelers', -105, -115], ['Jets', 'Dolphins', -175, 155], ['Redskins', 'Bills', 375, -500], ['Titans', 'Panthers', 165, -190], ['Buccaneers', 'Seahawks', 200, -240], ['Packers', 'Chargers', -190, 165], ['Patriots', 'Ravens', -170, 150])\n",
      "(['Texans', 'Jaguars', -130, 110], ['Vikings', 'Chiefs', -172, 140], ['Colts', 'Steelers', -105, -115], ['Jets', 'Dolphins', -175, 155], ['Redskins', 'Bills', 375, -500], ['Titans', 'Panthers', 165, -190], ['Buccaneers', 'Seahawks', 200, -240], ['Packers', 'Chargers', -190, 165], ['Cowboys', 'Giants', -320, 260])\n",
      "(['Texans', 'Jaguars', -130, 110], ['Vikings', 'Chiefs', -172, 140], ['Colts', 'Steelers', -105, -115], ['Jets', 'Dolphins', -175, 155], ['Redskins', 'Bills', 375, -500], ['Titans', 'Panthers', 165, -190], ['Buccaneers', 'Seahawks', 200, -240], ['Browns', 'Broncos', -200, 170], ['Patriots', 'Ravens', -170, 150])\n",
      "(['Texans', 'Jaguars', -130, 110], ['Vikings', 'Chiefs', -172, 140], ['Colts', 'Steelers', -105, -115], ['Jets', 'Dolphins', -175, 155], ['Redskins', 'Bills', 375, -500], ['Titans', 'Panthers', 165, -190], ['Buccaneers', 'Seahawks', 200, -240], ['Browns', 'Broncos', -200, 170], ['Cowboys', 'Giants', -320, 260])\n",
      "(['Texans', 'Jaguars', -130, 110], ['Vikings', 'Chiefs', -172, 140], ['Colts', 'Steelers', -105, -115], ['Jets', 'Dolphins', -175, 155], ['Redskins', 'Bills', 375, -500], ['Titans', 'Panthers', 165, -190], ['Buccaneers', 'Seahawks', 200, -240], ['Patriots', 'Ravens', -170, 150], ['Cowboys', 'Giants', -320, 260])\n",
      "(['Texans', 'Jaguars', -130, 110], ['Vikings', 'Chiefs', -172, 140], ['Colts', 'Steelers', -105, -115], ['Jets', 'Dolphins', -175, 155], ['Redskins', 'Bills', 375, -500], ['Titans', 'Panthers', 165, -190], ['Packers', 'Chargers', -190, 165], ['Browns', 'Broncos', -200, 170], ['Patriots', 'Ravens', -170, 150])\n",
      "(['Texans', 'Jaguars', -130, 110], ['Vikings', 'Chiefs', -172, 140], ['Colts', 'Steelers', -105, -115], ['Jets', 'Dolphins', -175, 155], ['Redskins', 'Bills', 375, -500], ['Titans', 'Panthers', 165, -190], ['Packers', 'Chargers', -190, 165], ['Browns', 'Broncos', -200, 170], ['Cowboys', 'Giants', -320, 260])\n",
      "(['Texans', 'Jaguars', -130, 110], ['Vikings', 'Chiefs', -172, 140], ['Colts', 'Steelers', -105, -115], ['Jets', 'Dolphins', -175, 155], ['Redskins', 'Bills', 375, -500], ['Titans', 'Panthers', 165, -190], ['Packers', 'Chargers', -190, 165], ['Patriots', 'Ravens', -170, 150], ['Cowboys', 'Giants', -320, 260])\n",
      "(['Texans', 'Jaguars', -130, 110], ['Vikings', 'Chiefs', -172, 140], ['Colts', 'Steelers', -105, -115], ['Jets', 'Dolphins', -175, 155], ['Redskins', 'Bills', 375, -500], ['Titans', 'Panthers', 165, -190], ['Browns', 'Broncos', -200, 170], ['Patriots', 'Ravens', -170, 150], ['Cowboys', 'Giants', -320, 260])\n",
      "(['Texans', 'Jaguars', -130, 110], ['Vikings', 'Chiefs', -172, 140], ['Colts', 'Steelers', -105, -115], ['Jets', 'Dolphins', -175, 155], ['Redskins', 'Bills', 375, -500], ['Lions', 'Raiders', 115, -135], ['Buccaneers', 'Seahawks', 200, -240], ['Packers', 'Chargers', -190, 165], ['Browns', 'Broncos', -200, 170])\n",
      "(['Texans', 'Jaguars', -130, 110], ['Vikings', 'Chiefs', -172, 140], ['Colts', 'Steelers', -105, -115], ['Jets', 'Dolphins', -175, 155], ['Redskins', 'Bills', 375, -500], ['Lions', 'Raiders', 115, -135], ['Buccaneers', 'Seahawks', 200, -240], ['Packers', 'Chargers', -190, 165], ['Patriots', 'Ravens', -170, 150])\n",
      "(['Texans', 'Jaguars', -130, 110], ['Vikings', 'Chiefs', -172, 140], ['Colts', 'Steelers', -105, -115], ['Jets', 'Dolphins', -175, 155], ['Redskins', 'Bills', 375, -500], ['Lions', 'Raiders', 115, -135], ['Buccaneers', 'Seahawks', 200, -240], ['Packers', 'Chargers', -190, 165], ['Cowboys', 'Giants', -320, 260])\n",
      "(['Texans', 'Jaguars', -130, 110], ['Vikings', 'Chiefs', -172, 140], ['Colts', 'Steelers', -105, -115], ['Jets', 'Dolphins', -175, 155], ['Redskins', 'Bills', 375, -500], ['Lions', 'Raiders', 115, -135], ['Buccaneers', 'Seahawks', 200, -240], ['Browns', 'Broncos', -200, 170], ['Patriots', 'Ravens', -170, 150])\n",
      "(['Texans', 'Jaguars', -130, 110], ['Vikings', 'Chiefs', -172, 140], ['Colts', 'Steelers', -105, -115], ['Jets', 'Dolphins', -175, 155], ['Redskins', 'Bills', 375, -500], ['Lions', 'Raiders', 115, -135], ['Buccaneers', 'Seahawks', 200, -240], ['Browns', 'Broncos', -200, 170], ['Cowboys', 'Giants', -320, 260])\n",
      "(['Texans', 'Jaguars', -130, 110], ['Vikings', 'Chiefs', -172, 140], ['Colts', 'Steelers', -105, -115], ['Jets', 'Dolphins', -175, 155], ['Redskins', 'Bills', 375, -500], ['Lions', 'Raiders', 115, -135], ['Buccaneers', 'Seahawks', 200, -240], ['Patriots', 'Ravens', -170, 150], ['Cowboys', 'Giants', -320, 260])\n",
      "(['Texans', 'Jaguars', -130, 110], ['Vikings', 'Chiefs', -172, 140], ['Colts', 'Steelers', -105, -115], ['Jets', 'Dolphins', -175, 155], ['Redskins', 'Bills', 375, -500], ['Lions', 'Raiders', 115, -135], ['Packers', 'Chargers', -190, 165], ['Browns', 'Broncos', -200, 170], ['Patriots', 'Ravens', -170, 150])\n",
      "(['Texans', 'Jaguars', -130, 110], ['Vikings', 'Chiefs', -172, 140], ['Colts', 'Steelers', -105, -115], ['Jets', 'Dolphins', -175, 155], ['Redskins', 'Bills', 375, -500], ['Lions', 'Raiders', 115, -135], ['Packers', 'Chargers', -190, 165], ['Browns', 'Broncos', -200, 170], ['Cowboys', 'Giants', -320, 260])\n",
      "(['Texans', 'Jaguars', -130, 110], ['Vikings', 'Chiefs', -172, 140], ['Colts', 'Steelers', -105, -115], ['Jets', 'Dolphins', -175, 155], ['Redskins', 'Bills', 375, -500], ['Lions', 'Raiders', 115, -135], ['Packers', 'Chargers', -190, 165], ['Patriots', 'Ravens', -170, 150], ['Cowboys', 'Giants', -320, 260])\n",
      "(['Texans', 'Jaguars', -130, 110], ['Vikings', 'Chiefs', -172, 140], ['Colts', 'Steelers', -105, -115], ['Jets', 'Dolphins', -175, 155], ['Redskins', 'Bills', 375, -500], ['Lions', 'Raiders', 115, -135], ['Browns', 'Broncos', -200, 170], ['Patriots', 'Ravens', -170, 150], ['Cowboys', 'Giants', -320, 260])\n",
      "(['Texans', 'Jaguars', -130, 110], ['Vikings', 'Chiefs', -172, 140], ['Colts', 'Steelers', -105, -115], ['Jets', 'Dolphins', -175, 155], ['Redskins', 'Bills', 375, -500], ['Buccaneers', 'Seahawks', 200, -240], ['Packers', 'Chargers', -190, 165], ['Browns', 'Broncos', -200, 170], ['Patriots', 'Ravens', -170, 150])\n",
      "(['Texans', 'Jaguars', -130, 110], ['Vikings', 'Chiefs', -172, 140], ['Colts', 'Steelers', -105, -115], ['Jets', 'Dolphins', -175, 155], ['Redskins', 'Bills', 375, -500], ['Buccaneers', 'Seahawks', 200, -240], ['Packers', 'Chargers', -190, 165], ['Browns', 'Broncos', -200, 170], ['Cowboys', 'Giants', -320, 260])\n",
      "(['Texans', 'Jaguars', -130, 110], ['Vikings', 'Chiefs', -172, 140], ['Colts', 'Steelers', -105, -115], ['Jets', 'Dolphins', -175, 155], ['Redskins', 'Bills', 375, -500], ['Buccaneers', 'Seahawks', 200, -240], ['Packers', 'Chargers', -190, 165], ['Patriots', 'Ravens', -170, 150], ['Cowboys', 'Giants', -320, 260])\n",
      "(['Texans', 'Jaguars', -130, 110], ['Vikings', 'Chiefs', -172, 140], ['Colts', 'Steelers', -105, -115], ['Jets', 'Dolphins', -175, 155], ['Redskins', 'Bills', 375, -500], ['Buccaneers', 'Seahawks', 200, -240], ['Browns', 'Broncos', -200, 170], ['Patriots', 'Ravens', -170, 150], ['Cowboys', 'Giants', -320, 260])\n",
      "(['Texans', 'Jaguars', -130, 110], ['Vikings', 'Chiefs', -172, 140], ['Colts', 'Steelers', -105, -115], ['Jets', 'Dolphins', -175, 155], ['Redskins', 'Bills', 375, -500], ['Packers', 'Chargers', -190, 165], ['Browns', 'Broncos', -200, 170], ['Patriots', 'Ravens', -170, 150], ['Cowboys', 'Giants', -320, 260])\n",
      "(['Texans', 'Jaguars', -130, 110], ['Vikings', 'Chiefs', -172, 140], ['Colts', 'Steelers', -105, -115], ['Jets', 'Dolphins', -175, 155], ['Titans', 'Panthers', 165, -190], ['Lions', 'Raiders', 115, -135], ['Buccaneers', 'Seahawks', 200, -240], ['Packers', 'Chargers', -190, 165], ['Browns', 'Broncos', -200, 170])\n",
      "(['Texans', 'Jaguars', -130, 110], ['Vikings', 'Chiefs', -172, 140], ['Colts', 'Steelers', -105, -115], ['Jets', 'Dolphins', -175, 155], ['Titans', 'Panthers', 165, -190], ['Lions', 'Raiders', 115, -135], ['Buccaneers', 'Seahawks', 200, -240], ['Packers', 'Chargers', -190, 165], ['Patriots', 'Ravens', -170, 150])\n",
      "(['Texans', 'Jaguars', -130, 110], ['Vikings', 'Chiefs', -172, 140], ['Colts', 'Steelers', -105, -115], ['Jets', 'Dolphins', -175, 155], ['Titans', 'Panthers', 165, -190], ['Lions', 'Raiders', 115, -135], ['Buccaneers', 'Seahawks', 200, -240], ['Packers', 'Chargers', -190, 165], ['Cowboys', 'Giants', -320, 260])\n",
      "(['Texans', 'Jaguars', -130, 110], ['Vikings', 'Chiefs', -172, 140], ['Colts', 'Steelers', -105, -115], ['Jets', 'Dolphins', -175, 155], ['Titans', 'Panthers', 165, -190], ['Lions', 'Raiders', 115, -135], ['Buccaneers', 'Seahawks', 200, -240], ['Browns', 'Broncos', -200, 170], ['Patriots', 'Ravens', -170, 150])\n",
      "(['Texans', 'Jaguars', -130, 110], ['Vikings', 'Chiefs', -172, 140], ['Colts', 'Steelers', -105, -115], ['Jets', 'Dolphins', -175, 155], ['Titans', 'Panthers', 165, -190], ['Lions', 'Raiders', 115, -135], ['Buccaneers', 'Seahawks', 200, -240], ['Browns', 'Broncos', -200, 170], ['Cowboys', 'Giants', -320, 260])\n",
      "(['Texans', 'Jaguars', -130, 110], ['Vikings', 'Chiefs', -172, 140], ['Colts', 'Steelers', -105, -115], ['Jets', 'Dolphins', -175, 155], ['Titans', 'Panthers', 165, -190], ['Lions', 'Raiders', 115, -135], ['Buccaneers', 'Seahawks', 200, -240], ['Patriots', 'Ravens', -170, 150], ['Cowboys', 'Giants', -320, 260])\n",
      "(['Texans', 'Jaguars', -130, 110], ['Vikings', 'Chiefs', -172, 140], ['Colts', 'Steelers', -105, -115], ['Jets', 'Dolphins', -175, 155], ['Titans', 'Panthers', 165, -190], ['Lions', 'Raiders', 115, -135], ['Packers', 'Chargers', -190, 165], ['Browns', 'Broncos', -200, 170], ['Patriots', 'Ravens', -170, 150])\n",
      "(['Texans', 'Jaguars', -130, 110], ['Vikings', 'Chiefs', -172, 140], ['Colts', 'Steelers', -105, -115], ['Jets', 'Dolphins', -175, 155], ['Titans', 'Panthers', 165, -190], ['Lions', 'Raiders', 115, -135], ['Packers', 'Chargers', -190, 165], ['Browns', 'Broncos', -200, 170], ['Cowboys', 'Giants', -320, 260])\n",
      "(['Texans', 'Jaguars', -130, 110], ['Vikings', 'Chiefs', -172, 140], ['Colts', 'Steelers', -105, -115], ['Jets', 'Dolphins', -175, 155], ['Titans', 'Panthers', 165, -190], ['Lions', 'Raiders', 115, -135], ['Packers', 'Chargers', -190, 165], ['Patriots', 'Ravens', -170, 150], ['Cowboys', 'Giants', -320, 260])\n",
      "(['Texans', 'Jaguars', -130, 110], ['Vikings', 'Chiefs', -172, 140], ['Colts', 'Steelers', -105, -115], ['Jets', 'Dolphins', -175, 155], ['Titans', 'Panthers', 165, -190], ['Lions', 'Raiders', 115, -135], ['Browns', 'Broncos', -200, 170], ['Patriots', 'Ravens', -170, 150], ['Cowboys', 'Giants', -320, 260])\n",
      "(['Texans', 'Jaguars', -130, 110], ['Vikings', 'Chiefs', -172, 140], ['Colts', 'Steelers', -105, -115], ['Jets', 'Dolphins', -175, 155], ['Titans', 'Panthers', 165, -190], ['Buccaneers', 'Seahawks', 200, -240], ['Packers', 'Chargers', -190, 165], ['Browns', 'Broncos', -200, 170], ['Patriots', 'Ravens', -170, 150])\n",
      "(['Texans', 'Jaguars', -130, 110], ['Vikings', 'Chiefs', -172, 140], ['Colts', 'Steelers', -105, -115], ['Jets', 'Dolphins', -175, 155], ['Titans', 'Panthers', 165, -190], ['Buccaneers', 'Seahawks', 200, -240], ['Packers', 'Chargers', -190, 165], ['Browns', 'Broncos', -200, 170], ['Cowboys', 'Giants', -320, 260])\n",
      "(['Texans', 'Jaguars', -130, 110], ['Vikings', 'Chiefs', -172, 140], ['Colts', 'Steelers', -105, -115], ['Jets', 'Dolphins', -175, 155], ['Titans', 'Panthers', 165, -190], ['Buccaneers', 'Seahawks', 200, -240], ['Packers', 'Chargers', -190, 165], ['Patriots', 'Ravens', -170, 150], ['Cowboys', 'Giants', -320, 260])\n",
      "(['Texans', 'Jaguars', -130, 110], ['Vikings', 'Chiefs', -172, 140], ['Colts', 'Steelers', -105, -115], ['Jets', 'Dolphins', -175, 155], ['Titans', 'Panthers', 165, -190], ['Buccaneers', 'Seahawks', 200, -240], ['Browns', 'Broncos', -200, 170], ['Patriots', 'Ravens', -170, 150], ['Cowboys', 'Giants', -320, 260])\n",
      "(['Texans', 'Jaguars', -130, 110], ['Vikings', 'Chiefs', -172, 140], ['Colts', 'Steelers', -105, -115], ['Jets', 'Dolphins', -175, 155], ['Titans', 'Panthers', 165, -190], ['Packers', 'Chargers', -190, 165], ['Browns', 'Broncos', -200, 170], ['Patriots', 'Ravens', -170, 150], ['Cowboys', 'Giants', -320, 260])\n",
      "(['Texans', 'Jaguars', -130, 110], ['Vikings', 'Chiefs', -172, 140], ['Colts', 'Steelers', -105, -115], ['Jets', 'Dolphins', -175, 155], ['Lions', 'Raiders', 115, -135], ['Buccaneers', 'Seahawks', 200, -240], ['Packers', 'Chargers', -190, 165], ['Browns', 'Broncos', -200, 170], ['Patriots', 'Ravens', -170, 150])\n",
      "(['Texans', 'Jaguars', -130, 110], ['Vikings', 'Chiefs', -172, 140], ['Colts', 'Steelers', -105, -115], ['Jets', 'Dolphins', -175, 155], ['Lions', 'Raiders', 115, -135], ['Buccaneers', 'Seahawks', 200, -240], ['Packers', 'Chargers', -190, 165], ['Browns', 'Broncos', -200, 170], ['Cowboys', 'Giants', -320, 260])\n",
      "(['Texans', 'Jaguars', -130, 110], ['Vikings', 'Chiefs', -172, 140], ['Colts', 'Steelers', -105, -115], ['Jets', 'Dolphins', -175, 155], ['Lions', 'Raiders', 115, -135], ['Buccaneers', 'Seahawks', 200, -240], ['Packers', 'Chargers', -190, 165], ['Patriots', 'Ravens', -170, 150], ['Cowboys', 'Giants', -320, 260])\n",
      "(['Texans', 'Jaguars', -130, 110], ['Vikings', 'Chiefs', -172, 140], ['Colts', 'Steelers', -105, -115], ['Jets', 'Dolphins', -175, 155], ['Lions', 'Raiders', 115, -135], ['Buccaneers', 'Seahawks', 200, -240], ['Browns', 'Broncos', -200, 170], ['Patriots', 'Ravens', -170, 150], ['Cowboys', 'Giants', -320, 260])\n",
      "(['Texans', 'Jaguars', -130, 110], ['Vikings', 'Chiefs', -172, 140], ['Colts', 'Steelers', -105, -115], ['Jets', 'Dolphins', -175, 155], ['Lions', 'Raiders', 115, -135], ['Packers', 'Chargers', -190, 165], ['Browns', 'Broncos', -200, 170], ['Patriots', 'Ravens', -170, 150], ['Cowboys', 'Giants', -320, 260])\n",
      "(['Texans', 'Jaguars', -130, 110], ['Vikings', 'Chiefs', -172, 140], ['Colts', 'Steelers', -105, -115], ['Jets', 'Dolphins', -175, 155], ['Buccaneers', 'Seahawks', 200, -240], ['Packers', 'Chargers', -190, 165], ['Browns', 'Broncos', -200, 170], ['Patriots', 'Ravens', -170, 150], ['Cowboys', 'Giants', -320, 260])\n",
      "(['Texans', 'Jaguars', -130, 110], ['Vikings', 'Chiefs', -172, 140], ['Colts', 'Steelers', -105, -115], ['Redskins', 'Bills', 375, -500], ['Titans', 'Panthers', 165, -190], ['Lions', 'Raiders', 115, -135], ['Buccaneers', 'Seahawks', 200, -240], ['Packers', 'Chargers', -190, 165], ['Browns', 'Broncos', -200, 170])\n",
      "(['Texans', 'Jaguars', -130, 110], ['Vikings', 'Chiefs', -172, 140], ['Colts', 'Steelers', -105, -115], ['Redskins', 'Bills', 375, -500], ['Titans', 'Panthers', 165, -190], ['Lions', 'Raiders', 115, -135], ['Buccaneers', 'Seahawks', 200, -240], ['Packers', 'Chargers', -190, 165], ['Patriots', 'Ravens', -170, 150])\n",
      "(['Texans', 'Jaguars', -130, 110], ['Vikings', 'Chiefs', -172, 140], ['Colts', 'Steelers', -105, -115], ['Redskins', 'Bills', 375, -500], ['Titans', 'Panthers', 165, -190], ['Lions', 'Raiders', 115, -135], ['Buccaneers', 'Seahawks', 200, -240], ['Packers', 'Chargers', -190, 165], ['Cowboys', 'Giants', -320, 260])\n",
      "(['Texans', 'Jaguars', -130, 110], ['Vikings', 'Chiefs', -172, 140], ['Colts', 'Steelers', -105, -115], ['Redskins', 'Bills', 375, -500], ['Titans', 'Panthers', 165, -190], ['Lions', 'Raiders', 115, -135], ['Buccaneers', 'Seahawks', 200, -240], ['Browns', 'Broncos', -200, 170], ['Patriots', 'Ravens', -170, 150])\n",
      "(['Texans', 'Jaguars', -130, 110], ['Vikings', 'Chiefs', -172, 140], ['Colts', 'Steelers', -105, -115], ['Redskins', 'Bills', 375, -500], ['Titans', 'Panthers', 165, -190], ['Lions', 'Raiders', 115, -135], ['Buccaneers', 'Seahawks', 200, -240], ['Browns', 'Broncos', -200, 170], ['Cowboys', 'Giants', -320, 260])\n",
      "(['Texans', 'Jaguars', -130, 110], ['Vikings', 'Chiefs', -172, 140], ['Colts', 'Steelers', -105, -115], ['Redskins', 'Bills', 375, -500], ['Titans', 'Panthers', 165, -190], ['Lions', 'Raiders', 115, -135], ['Buccaneers', 'Seahawks', 200, -240], ['Patriots', 'Ravens', -170, 150], ['Cowboys', 'Giants', -320, 260])\n",
      "(['Texans', 'Jaguars', -130, 110], ['Vikings', 'Chiefs', -172, 140], ['Colts', 'Steelers', -105, -115], ['Redskins', 'Bills', 375, -500], ['Titans', 'Panthers', 165, -190], ['Lions', 'Raiders', 115, -135], ['Packers', 'Chargers', -190, 165], ['Browns', 'Broncos', -200, 170], ['Patriots', 'Ravens', -170, 150])\n",
      "(['Texans', 'Jaguars', -130, 110], ['Vikings', 'Chiefs', -172, 140], ['Colts', 'Steelers', -105, -115], ['Redskins', 'Bills', 375, -500], ['Titans', 'Panthers', 165, -190], ['Lions', 'Raiders', 115, -135], ['Packers', 'Chargers', -190, 165], ['Browns', 'Broncos', -200, 170], ['Cowboys', 'Giants', -320, 260])\n",
      "(['Texans', 'Jaguars', -130, 110], ['Vikings', 'Chiefs', -172, 140], ['Colts', 'Steelers', -105, -115], ['Redskins', 'Bills', 375, -500], ['Titans', 'Panthers', 165, -190], ['Lions', 'Raiders', 115, -135], ['Packers', 'Chargers', -190, 165], ['Patriots', 'Ravens', -170, 150], ['Cowboys', 'Giants', -320, 260])\n",
      "(['Texans', 'Jaguars', -130, 110], ['Vikings', 'Chiefs', -172, 140], ['Colts', 'Steelers', -105, -115], ['Redskins', 'Bills', 375, -500], ['Titans', 'Panthers', 165, -190], ['Lions', 'Raiders', 115, -135], ['Browns', 'Broncos', -200, 170], ['Patriots', 'Ravens', -170, 150], ['Cowboys', 'Giants', -320, 260])\n",
      "(['Texans', 'Jaguars', -130, 110], ['Vikings', 'Chiefs', -172, 140], ['Colts', 'Steelers', -105, -115], ['Redskins', 'Bills', 375, -500], ['Titans', 'Panthers', 165, -190], ['Buccaneers', 'Seahawks', 200, -240], ['Packers', 'Chargers', -190, 165], ['Browns', 'Broncos', -200, 170], ['Patriots', 'Ravens', -170, 150])\n",
      "(['Texans', 'Jaguars', -130, 110], ['Vikings', 'Chiefs', -172, 140], ['Colts', 'Steelers', -105, -115], ['Redskins', 'Bills', 375, -500], ['Titans', 'Panthers', 165, -190], ['Buccaneers', 'Seahawks', 200, -240], ['Packers', 'Chargers', -190, 165], ['Browns', 'Broncos', -200, 170], ['Cowboys', 'Giants', -320, 260])\n",
      "(['Texans', 'Jaguars', -130, 110], ['Vikings', 'Chiefs', -172, 140], ['Colts', 'Steelers', -105, -115], ['Redskins', 'Bills', 375, -500], ['Titans', 'Panthers', 165, -190], ['Buccaneers', 'Seahawks', 200, -240], ['Packers', 'Chargers', -190, 165], ['Patriots', 'Ravens', -170, 150], ['Cowboys', 'Giants', -320, 260])\n",
      "(['Texans', 'Jaguars', -130, 110], ['Vikings', 'Chiefs', -172, 140], ['Colts', 'Steelers', -105, -115], ['Redskins', 'Bills', 375, -500], ['Titans', 'Panthers', 165, -190], ['Buccaneers', 'Seahawks', 200, -240], ['Browns', 'Broncos', -200, 170], ['Patriots', 'Ravens', -170, 150], ['Cowboys', 'Giants', -320, 260])\n",
      "(['Texans', 'Jaguars', -130, 110], ['Vikings', 'Chiefs', -172, 140], ['Colts', 'Steelers', -105, -115], ['Redskins', 'Bills', 375, -500], ['Titans', 'Panthers', 165, -190], ['Packers', 'Chargers', -190, 165], ['Browns', 'Broncos', -200, 170], ['Patriots', 'Ravens', -170, 150], ['Cowboys', 'Giants', -320, 260])\n",
      "(['Texans', 'Jaguars', -130, 110], ['Vikings', 'Chiefs', -172, 140], ['Colts', 'Steelers', -105, -115], ['Redskins', 'Bills', 375, -500], ['Lions', 'Raiders', 115, -135], ['Buccaneers', 'Seahawks', 200, -240], ['Packers', 'Chargers', -190, 165], ['Browns', 'Broncos', -200, 170], ['Patriots', 'Ravens', -170, 150])\n",
      "(['Texans', 'Jaguars', -130, 110], ['Vikings', 'Chiefs', -172, 140], ['Colts', 'Steelers', -105, -115], ['Redskins', 'Bills', 375, -500], ['Lions', 'Raiders', 115, -135], ['Buccaneers', 'Seahawks', 200, -240], ['Packers', 'Chargers', -190, 165], ['Browns', 'Broncos', -200, 170], ['Cowboys', 'Giants', -320, 260])\n",
      "(['Texans', 'Jaguars', -130, 110], ['Vikings', 'Chiefs', -172, 140], ['Colts', 'Steelers', -105, -115], ['Redskins', 'Bills', 375, -500], ['Lions', 'Raiders', 115, -135], ['Buccaneers', 'Seahawks', 200, -240], ['Packers', 'Chargers', -190, 165], ['Patriots', 'Ravens', -170, 150], ['Cowboys', 'Giants', -320, 260])\n",
      "(['Texans', 'Jaguars', -130, 110], ['Vikings', 'Chiefs', -172, 140], ['Colts', 'Steelers', -105, -115], ['Redskins', 'Bills', 375, -500], ['Lions', 'Raiders', 115, -135], ['Buccaneers', 'Seahawks', 200, -240], ['Browns', 'Broncos', -200, 170], ['Patriots', 'Ravens', -170, 150], ['Cowboys', 'Giants', -320, 260])\n",
      "(['Texans', 'Jaguars', -130, 110], ['Vikings', 'Chiefs', -172, 140], ['Colts', 'Steelers', -105, -115], ['Redskins', 'Bills', 375, -500], ['Lions', 'Raiders', 115, -135], ['Packers', 'Chargers', -190, 165], ['Browns', 'Broncos', -200, 170], ['Patriots', 'Ravens', -170, 150], ['Cowboys', 'Giants', -320, 260])\n",
      "(['Texans', 'Jaguars', -130, 110], ['Vikings', 'Chiefs', -172, 140], ['Colts', 'Steelers', -105, -115], ['Redskins', 'Bills', 375, -500], ['Buccaneers', 'Seahawks', 200, -240], ['Packers', 'Chargers', -190, 165], ['Browns', 'Broncos', -200, 170], ['Patriots', 'Ravens', -170, 150], ['Cowboys', 'Giants', -320, 260])\n",
      "(['Texans', 'Jaguars', -130, 110], ['Vikings', 'Chiefs', -172, 140], ['Colts', 'Steelers', -105, -115], ['Titans', 'Panthers', 165, -190], ['Lions', 'Raiders', 115, -135], ['Buccaneers', 'Seahawks', 200, -240], ['Packers', 'Chargers', -190, 165], ['Browns', 'Broncos', -200, 170], ['Patriots', 'Ravens', -170, 150])\n",
      "(['Texans', 'Jaguars', -130, 110], ['Vikings', 'Chiefs', -172, 140], ['Colts', 'Steelers', -105, -115], ['Titans', 'Panthers', 165, -190], ['Lions', 'Raiders', 115, -135], ['Buccaneers', 'Seahawks', 200, -240], ['Packers', 'Chargers', -190, 165], ['Browns', 'Broncos', -200, 170], ['Cowboys', 'Giants', -320, 260])\n",
      "(['Texans', 'Jaguars', -130, 110], ['Vikings', 'Chiefs', -172, 140], ['Colts', 'Steelers', -105, -115], ['Titans', 'Panthers', 165, -190], ['Lions', 'Raiders', 115, -135], ['Buccaneers', 'Seahawks', 200, -240], ['Packers', 'Chargers', -190, 165], ['Patriots', 'Ravens', -170, 150], ['Cowboys', 'Giants', -320, 260])\n",
      "(['Texans', 'Jaguars', -130, 110], ['Vikings', 'Chiefs', -172, 140], ['Colts', 'Steelers', -105, -115], ['Titans', 'Panthers', 165, -190], ['Lions', 'Raiders', 115, -135], ['Buccaneers', 'Seahawks', 200, -240], ['Browns', 'Broncos', -200, 170], ['Patriots', 'Ravens', -170, 150], ['Cowboys', 'Giants', -320, 260])\n",
      "(['Texans', 'Jaguars', -130, 110], ['Vikings', 'Chiefs', -172, 140], ['Colts', 'Steelers', -105, -115], ['Titans', 'Panthers', 165, -190], ['Lions', 'Raiders', 115, -135], ['Packers', 'Chargers', -190, 165], ['Browns', 'Broncos', -200, 170], ['Patriots', 'Ravens', -170, 150], ['Cowboys', 'Giants', -320, 260])\n",
      "(['Texans', 'Jaguars', -130, 110], ['Vikings', 'Chiefs', -172, 140], ['Colts', 'Steelers', -105, -115], ['Titans', 'Panthers', 165, -190], ['Buccaneers', 'Seahawks', 200, -240], ['Packers', 'Chargers', -190, 165], ['Browns', 'Broncos', -200, 170], ['Patriots', 'Ravens', -170, 150], ['Cowboys', 'Giants', -320, 260])\n",
      "(['Texans', 'Jaguars', -130, 110], ['Vikings', 'Chiefs', -172, 140], ['Colts', 'Steelers', -105, -115], ['Lions', 'Raiders', 115, -135], ['Buccaneers', 'Seahawks', 200, -240], ['Packers', 'Chargers', -190, 165], ['Browns', 'Broncos', -200, 170], ['Patriots', 'Ravens', -170, 150], ['Cowboys', 'Giants', -320, 260])\n",
      "(['Texans', 'Jaguars', -130, 110], ['Vikings', 'Chiefs', -172, 140], ['Jets', 'Dolphins', -175, 155], ['Redskins', 'Bills', 375, -500], ['Titans', 'Panthers', 165, -190], ['Lions', 'Raiders', 115, -135], ['Buccaneers', 'Seahawks', 200, -240], ['Packers', 'Chargers', -190, 165], ['Browns', 'Broncos', -200, 170])\n",
      "(['Texans', 'Jaguars', -130, 110], ['Vikings', 'Chiefs', -172, 140], ['Jets', 'Dolphins', -175, 155], ['Redskins', 'Bills', 375, -500], ['Titans', 'Panthers', 165, -190], ['Lions', 'Raiders', 115, -135], ['Buccaneers', 'Seahawks', 200, -240], ['Packers', 'Chargers', -190, 165], ['Patriots', 'Ravens', -170, 150])\n",
      "(['Texans', 'Jaguars', -130, 110], ['Vikings', 'Chiefs', -172, 140], ['Jets', 'Dolphins', -175, 155], ['Redskins', 'Bills', 375, -500], ['Titans', 'Panthers', 165, -190], ['Lions', 'Raiders', 115, -135], ['Buccaneers', 'Seahawks', 200, -240], ['Packers', 'Chargers', -190, 165], ['Cowboys', 'Giants', -320, 260])\n",
      "(['Texans', 'Jaguars', -130, 110], ['Vikings', 'Chiefs', -172, 140], ['Jets', 'Dolphins', -175, 155], ['Redskins', 'Bills', 375, -500], ['Titans', 'Panthers', 165, -190], ['Lions', 'Raiders', 115, -135], ['Buccaneers', 'Seahawks', 200, -240], ['Browns', 'Broncos', -200, 170], ['Patriots', 'Ravens', -170, 150])\n",
      "(['Texans', 'Jaguars', -130, 110], ['Vikings', 'Chiefs', -172, 140], ['Jets', 'Dolphins', -175, 155], ['Redskins', 'Bills', 375, -500], ['Titans', 'Panthers', 165, -190], ['Lions', 'Raiders', 115, -135], ['Buccaneers', 'Seahawks', 200, -240], ['Browns', 'Broncos', -200, 170], ['Cowboys', 'Giants', -320, 260])\n",
      "(['Texans', 'Jaguars', -130, 110], ['Vikings', 'Chiefs', -172, 140], ['Jets', 'Dolphins', -175, 155], ['Redskins', 'Bills', 375, -500], ['Titans', 'Panthers', 165, -190], ['Lions', 'Raiders', 115, -135], ['Buccaneers', 'Seahawks', 200, -240], ['Patriots', 'Ravens', -170, 150], ['Cowboys', 'Giants', -320, 260])\n",
      "(['Texans', 'Jaguars', -130, 110], ['Vikings', 'Chiefs', -172, 140], ['Jets', 'Dolphins', -175, 155], ['Redskins', 'Bills', 375, -500], ['Titans', 'Panthers', 165, -190], ['Lions', 'Raiders', 115, -135], ['Packers', 'Chargers', -190, 165], ['Browns', 'Broncos', -200, 170], ['Patriots', 'Ravens', -170, 150])\n",
      "(['Texans', 'Jaguars', -130, 110], ['Vikings', 'Chiefs', -172, 140], ['Jets', 'Dolphins', -175, 155], ['Redskins', 'Bills', 375, -500], ['Titans', 'Panthers', 165, -190], ['Lions', 'Raiders', 115, -135], ['Packers', 'Chargers', -190, 165], ['Browns', 'Broncos', -200, 170], ['Cowboys', 'Giants', -320, 260])\n",
      "(['Texans', 'Jaguars', -130, 110], ['Vikings', 'Chiefs', -172, 140], ['Jets', 'Dolphins', -175, 155], ['Redskins', 'Bills', 375, -500], ['Titans', 'Panthers', 165, -190], ['Lions', 'Raiders', 115, -135], ['Packers', 'Chargers', -190, 165], ['Patriots', 'Ravens', -170, 150], ['Cowboys', 'Giants', -320, 260])\n",
      "(['Texans', 'Jaguars', -130, 110], ['Vikings', 'Chiefs', -172, 140], ['Jets', 'Dolphins', -175, 155], ['Redskins', 'Bills', 375, -500], ['Titans', 'Panthers', 165, -190], ['Lions', 'Raiders', 115, -135], ['Browns', 'Broncos', -200, 170], ['Patriots', 'Ravens', -170, 150], ['Cowboys', 'Giants', -320, 260])\n",
      "(['Texans', 'Jaguars', -130, 110], ['Vikings', 'Chiefs', -172, 140], ['Jets', 'Dolphins', -175, 155], ['Redskins', 'Bills', 375, -500], ['Titans', 'Panthers', 165, -190], ['Buccaneers', 'Seahawks', 200, -240], ['Packers', 'Chargers', -190, 165], ['Browns', 'Broncos', -200, 170], ['Patriots', 'Ravens', -170, 150])\n",
      "(['Texans', 'Jaguars', -130, 110], ['Vikings', 'Chiefs', -172, 140], ['Jets', 'Dolphins', -175, 155], ['Redskins', 'Bills', 375, -500], ['Titans', 'Panthers', 165, -190], ['Buccaneers', 'Seahawks', 200, -240], ['Packers', 'Chargers', -190, 165], ['Browns', 'Broncos', -200, 170], ['Cowboys', 'Giants', -320, 260])\n",
      "(['Texans', 'Jaguars', -130, 110], ['Vikings', 'Chiefs', -172, 140], ['Jets', 'Dolphins', -175, 155], ['Redskins', 'Bills', 375, -500], ['Titans', 'Panthers', 165, -190], ['Buccaneers', 'Seahawks', 200, -240], ['Packers', 'Chargers', -190, 165], ['Patriots', 'Ravens', -170, 150], ['Cowboys', 'Giants', -320, 260])\n",
      "(['Texans', 'Jaguars', -130, 110], ['Vikings', 'Chiefs', -172, 140], ['Jets', 'Dolphins', -175, 155], ['Redskins', 'Bills', 375, -500], ['Titans', 'Panthers', 165, -190], ['Buccaneers', 'Seahawks', 200, -240], ['Browns', 'Broncos', -200, 170], ['Patriots', 'Ravens', -170, 150], ['Cowboys', 'Giants', -320, 260])\n",
      "(['Texans', 'Jaguars', -130, 110], ['Vikings', 'Chiefs', -172, 140], ['Jets', 'Dolphins', -175, 155], ['Redskins', 'Bills', 375, -500], ['Titans', 'Panthers', 165, -190], ['Packers', 'Chargers', -190, 165], ['Browns', 'Broncos', -200, 170], ['Patriots', 'Ravens', -170, 150], ['Cowboys', 'Giants', -320, 260])\n",
      "(['Texans', 'Jaguars', -130, 110], ['Vikings', 'Chiefs', -172, 140], ['Jets', 'Dolphins', -175, 155], ['Redskins', 'Bills', 375, -500], ['Lions', 'Raiders', 115, -135], ['Buccaneers', 'Seahawks', 200, -240], ['Packers', 'Chargers', -190, 165], ['Browns', 'Broncos', -200, 170], ['Patriots', 'Ravens', -170, 150])\n",
      "(['Texans', 'Jaguars', -130, 110], ['Vikings', 'Chiefs', -172, 140], ['Jets', 'Dolphins', -175, 155], ['Redskins', 'Bills', 375, -500], ['Lions', 'Raiders', 115, -135], ['Buccaneers', 'Seahawks', 200, -240], ['Packers', 'Chargers', -190, 165], ['Browns', 'Broncos', -200, 170], ['Cowboys', 'Giants', -320, 260])\n",
      "(['Texans', 'Jaguars', -130, 110], ['Vikings', 'Chiefs', -172, 140], ['Jets', 'Dolphins', -175, 155], ['Redskins', 'Bills', 375, -500], ['Lions', 'Raiders', 115, -135], ['Buccaneers', 'Seahawks', 200, -240], ['Packers', 'Chargers', -190, 165], ['Patriots', 'Ravens', -170, 150], ['Cowboys', 'Giants', -320, 260])\n",
      "(['Texans', 'Jaguars', -130, 110], ['Vikings', 'Chiefs', -172, 140], ['Jets', 'Dolphins', -175, 155], ['Redskins', 'Bills', 375, -500], ['Lions', 'Raiders', 115, -135], ['Buccaneers', 'Seahawks', 200, -240], ['Browns', 'Broncos', -200, 170], ['Patriots', 'Ravens', -170, 150], ['Cowboys', 'Giants', -320, 260])\n",
      "(['Texans', 'Jaguars', -130, 110], ['Vikings', 'Chiefs', -172, 140], ['Jets', 'Dolphins', -175, 155], ['Redskins', 'Bills', 375, -500], ['Lions', 'Raiders', 115, -135], ['Packers', 'Chargers', -190, 165], ['Browns', 'Broncos', -200, 170], ['Patriots', 'Ravens', -170, 150], ['Cowboys', 'Giants', -320, 260])\n",
      "(['Texans', 'Jaguars', -130, 110], ['Vikings', 'Chiefs', -172, 140], ['Jets', 'Dolphins', -175, 155], ['Redskins', 'Bills', 375, -500], ['Buccaneers', 'Seahawks', 200, -240], ['Packers', 'Chargers', -190, 165], ['Browns', 'Broncos', -200, 170], ['Patriots', 'Ravens', -170, 150], ['Cowboys', 'Giants', -320, 260])\n",
      "(['Texans', 'Jaguars', -130, 110], ['Vikings', 'Chiefs', -172, 140], ['Jets', 'Dolphins', -175, 155], ['Titans', 'Panthers', 165, -190], ['Lions', 'Raiders', 115, -135], ['Buccaneers', 'Seahawks', 200, -240], ['Packers', 'Chargers', -190, 165], ['Browns', 'Broncos', -200, 170], ['Patriots', 'Ravens', -170, 150])\n",
      "(['Texans', 'Jaguars', -130, 110], ['Vikings', 'Chiefs', -172, 140], ['Jets', 'Dolphins', -175, 155], ['Titans', 'Panthers', 165, -190], ['Lions', 'Raiders', 115, -135], ['Buccaneers', 'Seahawks', 200, -240], ['Packers', 'Chargers', -190, 165], ['Browns', 'Broncos', -200, 170], ['Cowboys', 'Giants', -320, 260])\n",
      "(['Texans', 'Jaguars', -130, 110], ['Vikings', 'Chiefs', -172, 140], ['Jets', 'Dolphins', -175, 155], ['Titans', 'Panthers', 165, -190], ['Lions', 'Raiders', 115, -135], ['Buccaneers', 'Seahawks', 200, -240], ['Packers', 'Chargers', -190, 165], ['Patriots', 'Ravens', -170, 150], ['Cowboys', 'Giants', -320, 260])\n",
      "(['Texans', 'Jaguars', -130, 110], ['Vikings', 'Chiefs', -172, 140], ['Jets', 'Dolphins', -175, 155], ['Titans', 'Panthers', 165, -190], ['Lions', 'Raiders', 115, -135], ['Buccaneers', 'Seahawks', 200, -240], ['Browns', 'Broncos', -200, 170], ['Patriots', 'Ravens', -170, 150], ['Cowboys', 'Giants', -320, 260])\n",
      "(['Texans', 'Jaguars', -130, 110], ['Vikings', 'Chiefs', -172, 140], ['Jets', 'Dolphins', -175, 155], ['Titans', 'Panthers', 165, -190], ['Lions', 'Raiders', 115, -135], ['Packers', 'Chargers', -190, 165], ['Browns', 'Broncos', -200, 170], ['Patriots', 'Ravens', -170, 150], ['Cowboys', 'Giants', -320, 260])\n",
      "(['Texans', 'Jaguars', -130, 110], ['Vikings', 'Chiefs', -172, 140], ['Jets', 'Dolphins', -175, 155], ['Titans', 'Panthers', 165, -190], ['Buccaneers', 'Seahawks', 200, -240], ['Packers', 'Chargers', -190, 165], ['Browns', 'Broncos', -200, 170], ['Patriots', 'Ravens', -170, 150], ['Cowboys', 'Giants', -320, 260])\n",
      "(['Texans', 'Jaguars', -130, 110], ['Vikings', 'Chiefs', -172, 140], ['Jets', 'Dolphins', -175, 155], ['Lions', 'Raiders', 115, -135], ['Buccaneers', 'Seahawks', 200, -240], ['Packers', 'Chargers', -190, 165], ['Browns', 'Broncos', -200, 170], ['Patriots', 'Ravens', -170, 150], ['Cowboys', 'Giants', -320, 260])\n",
      "(['Texans', 'Jaguars', -130, 110], ['Vikings', 'Chiefs', -172, 140], ['Redskins', 'Bills', 375, -500], ['Titans', 'Panthers', 165, -190], ['Lions', 'Raiders', 115, -135], ['Buccaneers', 'Seahawks', 200, -240], ['Packers', 'Chargers', -190, 165], ['Browns', 'Broncos', -200, 170], ['Patriots', 'Ravens', -170, 150])\n",
      "(['Texans', 'Jaguars', -130, 110], ['Vikings', 'Chiefs', -172, 140], ['Redskins', 'Bills', 375, -500], ['Titans', 'Panthers', 165, -190], ['Lions', 'Raiders', 115, -135], ['Buccaneers', 'Seahawks', 200, -240], ['Packers', 'Chargers', -190, 165], ['Browns', 'Broncos', -200, 170], ['Cowboys', 'Giants', -320, 260])\n",
      "(['Texans', 'Jaguars', -130, 110], ['Vikings', 'Chiefs', -172, 140], ['Redskins', 'Bills', 375, -500], ['Titans', 'Panthers', 165, -190], ['Lions', 'Raiders', 115, -135], ['Buccaneers', 'Seahawks', 200, -240], ['Packers', 'Chargers', -190, 165], ['Patriots', 'Ravens', -170, 150], ['Cowboys', 'Giants', -320, 260])\n",
      "(['Texans', 'Jaguars', -130, 110], ['Vikings', 'Chiefs', -172, 140], ['Redskins', 'Bills', 375, -500], ['Titans', 'Panthers', 165, -190], ['Lions', 'Raiders', 115, -135], ['Buccaneers', 'Seahawks', 200, -240], ['Browns', 'Broncos', -200, 170], ['Patriots', 'Ravens', -170, 150], ['Cowboys', 'Giants', -320, 260])\n",
      "(['Texans', 'Jaguars', -130, 110], ['Vikings', 'Chiefs', -172, 140], ['Redskins', 'Bills', 375, -500], ['Titans', 'Panthers', 165, -190], ['Lions', 'Raiders', 115, -135], ['Packers', 'Chargers', -190, 165], ['Browns', 'Broncos', -200, 170], ['Patriots', 'Ravens', -170, 150], ['Cowboys', 'Giants', -320, 260])\n",
      "(['Texans', 'Jaguars', -130, 110], ['Vikings', 'Chiefs', -172, 140], ['Redskins', 'Bills', 375, -500], ['Titans', 'Panthers', 165, -190], ['Buccaneers', 'Seahawks', 200, -240], ['Packers', 'Chargers', -190, 165], ['Browns', 'Broncos', -200, 170], ['Patriots', 'Ravens', -170, 150], ['Cowboys', 'Giants', -320, 260])\n",
      "(['Texans', 'Jaguars', -130, 110], ['Vikings', 'Chiefs', -172, 140], ['Redskins', 'Bills', 375, -500], ['Lions', 'Raiders', 115, -135], ['Buccaneers', 'Seahawks', 200, -240], ['Packers', 'Chargers', -190, 165], ['Browns', 'Broncos', -200, 170], ['Patriots', 'Ravens', -170, 150], ['Cowboys', 'Giants', -320, 260])\n",
      "(['Texans', 'Jaguars', -130, 110], ['Vikings', 'Chiefs', -172, 140], ['Titans', 'Panthers', 165, -190], ['Lions', 'Raiders', 115, -135], ['Buccaneers', 'Seahawks', 200, -240], ['Packers', 'Chargers', -190, 165], ['Browns', 'Broncos', -200, 170], ['Patriots', 'Ravens', -170, 150], ['Cowboys', 'Giants', -320, 260])\n",
      "(['Texans', 'Jaguars', -130, 110], ['Colts', 'Steelers', -105, -115], ['Jets', 'Dolphins', -175, 155], ['Redskins', 'Bills', 375, -500], ['Titans', 'Panthers', 165, -190], ['Lions', 'Raiders', 115, -135], ['Buccaneers', 'Seahawks', 200, -240], ['Packers', 'Chargers', -190, 165], ['Browns', 'Broncos', -200, 170])\n",
      "(['Texans', 'Jaguars', -130, 110], ['Colts', 'Steelers', -105, -115], ['Jets', 'Dolphins', -175, 155], ['Redskins', 'Bills', 375, -500], ['Titans', 'Panthers', 165, -190], ['Lions', 'Raiders', 115, -135], ['Buccaneers', 'Seahawks', 200, -240], ['Packers', 'Chargers', -190, 165], ['Patriots', 'Ravens', -170, 150])\n",
      "(['Texans', 'Jaguars', -130, 110], ['Colts', 'Steelers', -105, -115], ['Jets', 'Dolphins', -175, 155], ['Redskins', 'Bills', 375, -500], ['Titans', 'Panthers', 165, -190], ['Lions', 'Raiders', 115, -135], ['Buccaneers', 'Seahawks', 200, -240], ['Packers', 'Chargers', -190, 165], ['Cowboys', 'Giants', -320, 260])\n",
      "(['Texans', 'Jaguars', -130, 110], ['Colts', 'Steelers', -105, -115], ['Jets', 'Dolphins', -175, 155], ['Redskins', 'Bills', 375, -500], ['Titans', 'Panthers', 165, -190], ['Lions', 'Raiders', 115, -135], ['Buccaneers', 'Seahawks', 200, -240], ['Browns', 'Broncos', -200, 170], ['Patriots', 'Ravens', -170, 150])\n",
      "(['Texans', 'Jaguars', -130, 110], ['Colts', 'Steelers', -105, -115], ['Jets', 'Dolphins', -175, 155], ['Redskins', 'Bills', 375, -500], ['Titans', 'Panthers', 165, -190], ['Lions', 'Raiders', 115, -135], ['Buccaneers', 'Seahawks', 200, -240], ['Browns', 'Broncos', -200, 170], ['Cowboys', 'Giants', -320, 260])\n",
      "(['Texans', 'Jaguars', -130, 110], ['Colts', 'Steelers', -105, -115], ['Jets', 'Dolphins', -175, 155], ['Redskins', 'Bills', 375, -500], ['Titans', 'Panthers', 165, -190], ['Lions', 'Raiders', 115, -135], ['Buccaneers', 'Seahawks', 200, -240], ['Patriots', 'Ravens', -170, 150], ['Cowboys', 'Giants', -320, 260])\n",
      "(['Texans', 'Jaguars', -130, 110], ['Colts', 'Steelers', -105, -115], ['Jets', 'Dolphins', -175, 155], ['Redskins', 'Bills', 375, -500], ['Titans', 'Panthers', 165, -190], ['Lions', 'Raiders', 115, -135], ['Packers', 'Chargers', -190, 165], ['Browns', 'Broncos', -200, 170], ['Patriots', 'Ravens', -170, 150])\n",
      "(['Texans', 'Jaguars', -130, 110], ['Colts', 'Steelers', -105, -115], ['Jets', 'Dolphins', -175, 155], ['Redskins', 'Bills', 375, -500], ['Titans', 'Panthers', 165, -190], ['Lions', 'Raiders', 115, -135], ['Packers', 'Chargers', -190, 165], ['Browns', 'Broncos', -200, 170], ['Cowboys', 'Giants', -320, 260])\n",
      "(['Texans', 'Jaguars', -130, 110], ['Colts', 'Steelers', -105, -115], ['Jets', 'Dolphins', -175, 155], ['Redskins', 'Bills', 375, -500], ['Titans', 'Panthers', 165, -190], ['Lions', 'Raiders', 115, -135], ['Packers', 'Chargers', -190, 165], ['Patriots', 'Ravens', -170, 150], ['Cowboys', 'Giants', -320, 260])\n",
      "(['Texans', 'Jaguars', -130, 110], ['Colts', 'Steelers', -105, -115], ['Jets', 'Dolphins', -175, 155], ['Redskins', 'Bills', 375, -500], ['Titans', 'Panthers', 165, -190], ['Lions', 'Raiders', 115, -135], ['Browns', 'Broncos', -200, 170], ['Patriots', 'Ravens', -170, 150], ['Cowboys', 'Giants', -320, 260])\n",
      "(['Texans', 'Jaguars', -130, 110], ['Colts', 'Steelers', -105, -115], ['Jets', 'Dolphins', -175, 155], ['Redskins', 'Bills', 375, -500], ['Titans', 'Panthers', 165, -190], ['Buccaneers', 'Seahawks', 200, -240], ['Packers', 'Chargers', -190, 165], ['Browns', 'Broncos', -200, 170], ['Patriots', 'Ravens', -170, 150])\n",
      "(['Texans', 'Jaguars', -130, 110], ['Colts', 'Steelers', -105, -115], ['Jets', 'Dolphins', -175, 155], ['Redskins', 'Bills', 375, -500], ['Titans', 'Panthers', 165, -190], ['Buccaneers', 'Seahawks', 200, -240], ['Packers', 'Chargers', -190, 165], ['Browns', 'Broncos', -200, 170], ['Cowboys', 'Giants', -320, 260])\n",
      "(['Texans', 'Jaguars', -130, 110], ['Colts', 'Steelers', -105, -115], ['Jets', 'Dolphins', -175, 155], ['Redskins', 'Bills', 375, -500], ['Titans', 'Panthers', 165, -190], ['Buccaneers', 'Seahawks', 200, -240], ['Packers', 'Chargers', -190, 165], ['Patriots', 'Ravens', -170, 150], ['Cowboys', 'Giants', -320, 260])\n",
      "(['Texans', 'Jaguars', -130, 110], ['Colts', 'Steelers', -105, -115], ['Jets', 'Dolphins', -175, 155], ['Redskins', 'Bills', 375, -500], ['Titans', 'Panthers', 165, -190], ['Buccaneers', 'Seahawks', 200, -240], ['Browns', 'Broncos', -200, 170], ['Patriots', 'Ravens', -170, 150], ['Cowboys', 'Giants', -320, 260])\n",
      "(['Texans', 'Jaguars', -130, 110], ['Colts', 'Steelers', -105, -115], ['Jets', 'Dolphins', -175, 155], ['Redskins', 'Bills', 375, -500], ['Titans', 'Panthers', 165, -190], ['Packers', 'Chargers', -190, 165], ['Browns', 'Broncos', -200, 170], ['Patriots', 'Ravens', -170, 150], ['Cowboys', 'Giants', -320, 260])\n",
      "(['Texans', 'Jaguars', -130, 110], ['Colts', 'Steelers', -105, -115], ['Jets', 'Dolphins', -175, 155], ['Redskins', 'Bills', 375, -500], ['Lions', 'Raiders', 115, -135], ['Buccaneers', 'Seahawks', 200, -240], ['Packers', 'Chargers', -190, 165], ['Browns', 'Broncos', -200, 170], ['Patriots', 'Ravens', -170, 150])\n",
      "(['Texans', 'Jaguars', -130, 110], ['Colts', 'Steelers', -105, -115], ['Jets', 'Dolphins', -175, 155], ['Redskins', 'Bills', 375, -500], ['Lions', 'Raiders', 115, -135], ['Buccaneers', 'Seahawks', 200, -240], ['Packers', 'Chargers', -190, 165], ['Browns', 'Broncos', -200, 170], ['Cowboys', 'Giants', -320, 260])\n",
      "(['Texans', 'Jaguars', -130, 110], ['Colts', 'Steelers', -105, -115], ['Jets', 'Dolphins', -175, 155], ['Redskins', 'Bills', 375, -500], ['Lions', 'Raiders', 115, -135], ['Buccaneers', 'Seahawks', 200, -240], ['Packers', 'Chargers', -190, 165], ['Patriots', 'Ravens', -170, 150], ['Cowboys', 'Giants', -320, 260])\n",
      "(['Texans', 'Jaguars', -130, 110], ['Colts', 'Steelers', -105, -115], ['Jets', 'Dolphins', -175, 155], ['Redskins', 'Bills', 375, -500], ['Lions', 'Raiders', 115, -135], ['Buccaneers', 'Seahawks', 200, -240], ['Browns', 'Broncos', -200, 170], ['Patriots', 'Ravens', -170, 150], ['Cowboys', 'Giants', -320, 260])\n",
      "(['Texans', 'Jaguars', -130, 110], ['Colts', 'Steelers', -105, -115], ['Jets', 'Dolphins', -175, 155], ['Redskins', 'Bills', 375, -500], ['Lions', 'Raiders', 115, -135], ['Packers', 'Chargers', -190, 165], ['Browns', 'Broncos', -200, 170], ['Patriots', 'Ravens', -170, 150], ['Cowboys', 'Giants', -320, 260])\n",
      "(['Texans', 'Jaguars', -130, 110], ['Colts', 'Steelers', -105, -115], ['Jets', 'Dolphins', -175, 155], ['Redskins', 'Bills', 375, -500], ['Buccaneers', 'Seahawks', 200, -240], ['Packers', 'Chargers', -190, 165], ['Browns', 'Broncos', -200, 170], ['Patriots', 'Ravens', -170, 150], ['Cowboys', 'Giants', -320, 260])\n",
      "(['Texans', 'Jaguars', -130, 110], ['Colts', 'Steelers', -105, -115], ['Jets', 'Dolphins', -175, 155], ['Titans', 'Panthers', 165, -190], ['Lions', 'Raiders', 115, -135], ['Buccaneers', 'Seahawks', 200, -240], ['Packers', 'Chargers', -190, 165], ['Browns', 'Broncos', -200, 170], ['Patriots', 'Ravens', -170, 150])\n",
      "(['Texans', 'Jaguars', -130, 110], ['Colts', 'Steelers', -105, -115], ['Jets', 'Dolphins', -175, 155], ['Titans', 'Panthers', 165, -190], ['Lions', 'Raiders', 115, -135], ['Buccaneers', 'Seahawks', 200, -240], ['Packers', 'Chargers', -190, 165], ['Browns', 'Broncos', -200, 170], ['Cowboys', 'Giants', -320, 260])\n",
      "(['Texans', 'Jaguars', -130, 110], ['Colts', 'Steelers', -105, -115], ['Jets', 'Dolphins', -175, 155], ['Titans', 'Panthers', 165, -190], ['Lions', 'Raiders', 115, -135], ['Buccaneers', 'Seahawks', 200, -240], ['Packers', 'Chargers', -190, 165], ['Patriots', 'Ravens', -170, 150], ['Cowboys', 'Giants', -320, 260])\n",
      "(['Texans', 'Jaguars', -130, 110], ['Colts', 'Steelers', -105, -115], ['Jets', 'Dolphins', -175, 155], ['Titans', 'Panthers', 165, -190], ['Lions', 'Raiders', 115, -135], ['Buccaneers', 'Seahawks', 200, -240], ['Browns', 'Broncos', -200, 170], ['Patriots', 'Ravens', -170, 150], ['Cowboys', 'Giants', -320, 260])\n",
      "(['Texans', 'Jaguars', -130, 110], ['Colts', 'Steelers', -105, -115], ['Jets', 'Dolphins', -175, 155], ['Titans', 'Panthers', 165, -190], ['Lions', 'Raiders', 115, -135], ['Packers', 'Chargers', -190, 165], ['Browns', 'Broncos', -200, 170], ['Patriots', 'Ravens', -170, 150], ['Cowboys', 'Giants', -320, 260])\n",
      "(['Texans', 'Jaguars', -130, 110], ['Colts', 'Steelers', -105, -115], ['Jets', 'Dolphins', -175, 155], ['Titans', 'Panthers', 165, -190], ['Buccaneers', 'Seahawks', 200, -240], ['Packers', 'Chargers', -190, 165], ['Browns', 'Broncos', -200, 170], ['Patriots', 'Ravens', -170, 150], ['Cowboys', 'Giants', -320, 260])\n",
      "(['Texans', 'Jaguars', -130, 110], ['Colts', 'Steelers', -105, -115], ['Jets', 'Dolphins', -175, 155], ['Lions', 'Raiders', 115, -135], ['Buccaneers', 'Seahawks', 200, -240], ['Packers', 'Chargers', -190, 165], ['Browns', 'Broncos', -200, 170], ['Patriots', 'Ravens', -170, 150], ['Cowboys', 'Giants', -320, 260])\n",
      "(['Texans', 'Jaguars', -130, 110], ['Colts', 'Steelers', -105, -115], ['Redskins', 'Bills', 375, -500], ['Titans', 'Panthers', 165, -190], ['Lions', 'Raiders', 115, -135], ['Buccaneers', 'Seahawks', 200, -240], ['Packers', 'Chargers', -190, 165], ['Browns', 'Broncos', -200, 170], ['Patriots', 'Ravens', -170, 150])\n",
      "(['Texans', 'Jaguars', -130, 110], ['Colts', 'Steelers', -105, -115], ['Redskins', 'Bills', 375, -500], ['Titans', 'Panthers', 165, -190], ['Lions', 'Raiders', 115, -135], ['Buccaneers', 'Seahawks', 200, -240], ['Packers', 'Chargers', -190, 165], ['Browns', 'Broncos', -200, 170], ['Cowboys', 'Giants', -320, 260])\n",
      "(['Texans', 'Jaguars', -130, 110], ['Colts', 'Steelers', -105, -115], ['Redskins', 'Bills', 375, -500], ['Titans', 'Panthers', 165, -190], ['Lions', 'Raiders', 115, -135], ['Buccaneers', 'Seahawks', 200, -240], ['Packers', 'Chargers', -190, 165], ['Patriots', 'Ravens', -170, 150], ['Cowboys', 'Giants', -320, 260])\n",
      "(['Texans', 'Jaguars', -130, 110], ['Colts', 'Steelers', -105, -115], ['Redskins', 'Bills', 375, -500], ['Titans', 'Panthers', 165, -190], ['Lions', 'Raiders', 115, -135], ['Buccaneers', 'Seahawks', 200, -240], ['Browns', 'Broncos', -200, 170], ['Patriots', 'Ravens', -170, 150], ['Cowboys', 'Giants', -320, 260])\n",
      "(['Texans', 'Jaguars', -130, 110], ['Colts', 'Steelers', -105, -115], ['Redskins', 'Bills', 375, -500], ['Titans', 'Panthers', 165, -190], ['Lions', 'Raiders', 115, -135], ['Packers', 'Chargers', -190, 165], ['Browns', 'Broncos', -200, 170], ['Patriots', 'Ravens', -170, 150], ['Cowboys', 'Giants', -320, 260])\n",
      "(['Texans', 'Jaguars', -130, 110], ['Colts', 'Steelers', -105, -115], ['Redskins', 'Bills', 375, -500], ['Titans', 'Panthers', 165, -190], ['Buccaneers', 'Seahawks', 200, -240], ['Packers', 'Chargers', -190, 165], ['Browns', 'Broncos', -200, 170], ['Patriots', 'Ravens', -170, 150], ['Cowboys', 'Giants', -320, 260])\n",
      "(['Texans', 'Jaguars', -130, 110], ['Colts', 'Steelers', -105, -115], ['Redskins', 'Bills', 375, -500], ['Lions', 'Raiders', 115, -135], ['Buccaneers', 'Seahawks', 200, -240], ['Packers', 'Chargers', -190, 165], ['Browns', 'Broncos', -200, 170], ['Patriots', 'Ravens', -170, 150], ['Cowboys', 'Giants', -320, 260])\n",
      "(['Texans', 'Jaguars', -130, 110], ['Colts', 'Steelers', -105, -115], ['Titans', 'Panthers', 165, -190], ['Lions', 'Raiders', 115, -135], ['Buccaneers', 'Seahawks', 200, -240], ['Packers', 'Chargers', -190, 165], ['Browns', 'Broncos', -200, 170], ['Patriots', 'Ravens', -170, 150], ['Cowboys', 'Giants', -320, 260])\n",
      "(['Texans', 'Jaguars', -130, 110], ['Jets', 'Dolphins', -175, 155], ['Redskins', 'Bills', 375, -500], ['Titans', 'Panthers', 165, -190], ['Lions', 'Raiders', 115, -135], ['Buccaneers', 'Seahawks', 200, -240], ['Packers', 'Chargers', -190, 165], ['Browns', 'Broncos', -200, 170], ['Patriots', 'Ravens', -170, 150])\n",
      "(['Texans', 'Jaguars', -130, 110], ['Jets', 'Dolphins', -175, 155], ['Redskins', 'Bills', 375, -500], ['Titans', 'Panthers', 165, -190], ['Lions', 'Raiders', 115, -135], ['Buccaneers', 'Seahawks', 200, -240], ['Packers', 'Chargers', -190, 165], ['Browns', 'Broncos', -200, 170], ['Cowboys', 'Giants', -320, 260])\n",
      "(['Texans', 'Jaguars', -130, 110], ['Jets', 'Dolphins', -175, 155], ['Redskins', 'Bills', 375, -500], ['Titans', 'Panthers', 165, -190], ['Lions', 'Raiders', 115, -135], ['Buccaneers', 'Seahawks', 200, -240], ['Packers', 'Chargers', -190, 165], ['Patriots', 'Ravens', -170, 150], ['Cowboys', 'Giants', -320, 260])\n",
      "(['Texans', 'Jaguars', -130, 110], ['Jets', 'Dolphins', -175, 155], ['Redskins', 'Bills', 375, -500], ['Titans', 'Panthers', 165, -190], ['Lions', 'Raiders', 115, -135], ['Buccaneers', 'Seahawks', 200, -240], ['Browns', 'Broncos', -200, 170], ['Patriots', 'Ravens', -170, 150], ['Cowboys', 'Giants', -320, 260])\n",
      "(['Texans', 'Jaguars', -130, 110], ['Jets', 'Dolphins', -175, 155], ['Redskins', 'Bills', 375, -500], ['Titans', 'Panthers', 165, -190], ['Lions', 'Raiders', 115, -135], ['Packers', 'Chargers', -190, 165], ['Browns', 'Broncos', -200, 170], ['Patriots', 'Ravens', -170, 150], ['Cowboys', 'Giants', -320, 260])\n",
      "(['Texans', 'Jaguars', -130, 110], ['Jets', 'Dolphins', -175, 155], ['Redskins', 'Bills', 375, -500], ['Titans', 'Panthers', 165, -190], ['Buccaneers', 'Seahawks', 200, -240], ['Packers', 'Chargers', -190, 165], ['Browns', 'Broncos', -200, 170], ['Patriots', 'Ravens', -170, 150], ['Cowboys', 'Giants', -320, 260])\n",
      "(['Texans', 'Jaguars', -130, 110], ['Jets', 'Dolphins', -175, 155], ['Redskins', 'Bills', 375, -500], ['Lions', 'Raiders', 115, -135], ['Buccaneers', 'Seahawks', 200, -240], ['Packers', 'Chargers', -190, 165], ['Browns', 'Broncos', -200, 170], ['Patriots', 'Ravens', -170, 150], ['Cowboys', 'Giants', -320, 260])\n",
      "(['Texans', 'Jaguars', -130, 110], ['Jets', 'Dolphins', -175, 155], ['Titans', 'Panthers', 165, -190], ['Lions', 'Raiders', 115, -135], ['Buccaneers', 'Seahawks', 200, -240], ['Packers', 'Chargers', -190, 165], ['Browns', 'Broncos', -200, 170], ['Patriots', 'Ravens', -170, 150], ['Cowboys', 'Giants', -320, 260])\n",
      "(['Texans', 'Jaguars', -130, 110], ['Redskins', 'Bills', 375, -500], ['Titans', 'Panthers', 165, -190], ['Lions', 'Raiders', 115, -135], ['Buccaneers', 'Seahawks', 200, -240], ['Packers', 'Chargers', -190, 165], ['Browns', 'Broncos', -200, 170], ['Patriots', 'Ravens', -170, 150], ['Cowboys', 'Giants', -320, 260])\n",
      "(['Bears', 'Eagles', 185, -215], ['Vikings', 'Chiefs', -172, 140], ['Colts', 'Steelers', -105, -115], ['Jets', 'Dolphins', -175, 155], ['Redskins', 'Bills', 375, -500], ['Titans', 'Panthers', 165, -190], ['Lions', 'Raiders', 115, -135], ['Buccaneers', 'Seahawks', 200, -240], ['Packers', 'Chargers', -190, 165])\n",
      "(['Bears', 'Eagles', 185, -215], ['Vikings', 'Chiefs', -172, 140], ['Colts', 'Steelers', -105, -115], ['Jets', 'Dolphins', -175, 155], ['Redskins', 'Bills', 375, -500], ['Titans', 'Panthers', 165, -190], ['Lions', 'Raiders', 115, -135], ['Buccaneers', 'Seahawks', 200, -240], ['Browns', 'Broncos', -200, 170])\n",
      "(['Bears', 'Eagles', 185, -215], ['Vikings', 'Chiefs', -172, 140], ['Colts', 'Steelers', -105, -115], ['Jets', 'Dolphins', -175, 155], ['Redskins', 'Bills', 375, -500], ['Titans', 'Panthers', 165, -190], ['Lions', 'Raiders', 115, -135], ['Buccaneers', 'Seahawks', 200, -240], ['Patriots', 'Ravens', -170, 150])\n",
      "(['Bears', 'Eagles', 185, -215], ['Vikings', 'Chiefs', -172, 140], ['Colts', 'Steelers', -105, -115], ['Jets', 'Dolphins', -175, 155], ['Redskins', 'Bills', 375, -500], ['Titans', 'Panthers', 165, -190], ['Lions', 'Raiders', 115, -135], ['Buccaneers', 'Seahawks', 200, -240], ['Cowboys', 'Giants', -320, 260])\n",
      "(['Bears', 'Eagles', 185, -215], ['Vikings', 'Chiefs', -172, 140], ['Colts', 'Steelers', -105, -115], ['Jets', 'Dolphins', -175, 155], ['Redskins', 'Bills', 375, -500], ['Titans', 'Panthers', 165, -190], ['Lions', 'Raiders', 115, -135], ['Packers', 'Chargers', -190, 165], ['Browns', 'Broncos', -200, 170])\n",
      "(['Bears', 'Eagles', 185, -215], ['Vikings', 'Chiefs', -172, 140], ['Colts', 'Steelers', -105, -115], ['Jets', 'Dolphins', -175, 155], ['Redskins', 'Bills', 375, -500], ['Titans', 'Panthers', 165, -190], ['Lions', 'Raiders', 115, -135], ['Packers', 'Chargers', -190, 165], ['Patriots', 'Ravens', -170, 150])\n",
      "(['Bears', 'Eagles', 185, -215], ['Vikings', 'Chiefs', -172, 140], ['Colts', 'Steelers', -105, -115], ['Jets', 'Dolphins', -175, 155], ['Redskins', 'Bills', 375, -500], ['Titans', 'Panthers', 165, -190], ['Lions', 'Raiders', 115, -135], ['Packers', 'Chargers', -190, 165], ['Cowboys', 'Giants', -320, 260])\n",
      "(['Bears', 'Eagles', 185, -215], ['Vikings', 'Chiefs', -172, 140], ['Colts', 'Steelers', -105, -115], ['Jets', 'Dolphins', -175, 155], ['Redskins', 'Bills', 375, -500], ['Titans', 'Panthers', 165, -190], ['Lions', 'Raiders', 115, -135], ['Browns', 'Broncos', -200, 170], ['Patriots', 'Ravens', -170, 150])\n",
      "(['Bears', 'Eagles', 185, -215], ['Vikings', 'Chiefs', -172, 140], ['Colts', 'Steelers', -105, -115], ['Jets', 'Dolphins', -175, 155], ['Redskins', 'Bills', 375, -500], ['Titans', 'Panthers', 165, -190], ['Lions', 'Raiders', 115, -135], ['Browns', 'Broncos', -200, 170], ['Cowboys', 'Giants', -320, 260])\n",
      "(['Bears', 'Eagles', 185, -215], ['Vikings', 'Chiefs', -172, 140], ['Colts', 'Steelers', -105, -115], ['Jets', 'Dolphins', -175, 155], ['Redskins', 'Bills', 375, -500], ['Titans', 'Panthers', 165, -190], ['Lions', 'Raiders', 115, -135], ['Patriots', 'Ravens', -170, 150], ['Cowboys', 'Giants', -320, 260])\n",
      "(['Bears', 'Eagles', 185, -215], ['Vikings', 'Chiefs', -172, 140], ['Colts', 'Steelers', -105, -115], ['Jets', 'Dolphins', -175, 155], ['Redskins', 'Bills', 375, -500], ['Titans', 'Panthers', 165, -190], ['Buccaneers', 'Seahawks', 200, -240], ['Packers', 'Chargers', -190, 165], ['Browns', 'Broncos', -200, 170])\n",
      "(['Bears', 'Eagles', 185, -215], ['Vikings', 'Chiefs', -172, 140], ['Colts', 'Steelers', -105, -115], ['Jets', 'Dolphins', -175, 155], ['Redskins', 'Bills', 375, -500], ['Titans', 'Panthers', 165, -190], ['Buccaneers', 'Seahawks', 200, -240], ['Packers', 'Chargers', -190, 165], ['Patriots', 'Ravens', -170, 150])\n",
      "(['Bears', 'Eagles', 185, -215], ['Vikings', 'Chiefs', -172, 140], ['Colts', 'Steelers', -105, -115], ['Jets', 'Dolphins', -175, 155], ['Redskins', 'Bills', 375, -500], ['Titans', 'Panthers', 165, -190], ['Buccaneers', 'Seahawks', 200, -240], ['Packers', 'Chargers', -190, 165], ['Cowboys', 'Giants', -320, 260])\n",
      "(['Bears', 'Eagles', 185, -215], ['Vikings', 'Chiefs', -172, 140], ['Colts', 'Steelers', -105, -115], ['Jets', 'Dolphins', -175, 155], ['Redskins', 'Bills', 375, -500], ['Titans', 'Panthers', 165, -190], ['Buccaneers', 'Seahawks', 200, -240], ['Browns', 'Broncos', -200, 170], ['Patriots', 'Ravens', -170, 150])\n",
      "(['Bears', 'Eagles', 185, -215], ['Vikings', 'Chiefs', -172, 140], ['Colts', 'Steelers', -105, -115], ['Jets', 'Dolphins', -175, 155], ['Redskins', 'Bills', 375, -500], ['Titans', 'Panthers', 165, -190], ['Buccaneers', 'Seahawks', 200, -240], ['Browns', 'Broncos', -200, 170], ['Cowboys', 'Giants', -320, 260])\n",
      "(['Bears', 'Eagles', 185, -215], ['Vikings', 'Chiefs', -172, 140], ['Colts', 'Steelers', -105, -115], ['Jets', 'Dolphins', -175, 155], ['Redskins', 'Bills', 375, -500], ['Titans', 'Panthers', 165, -190], ['Buccaneers', 'Seahawks', 200, -240], ['Patriots', 'Ravens', -170, 150], ['Cowboys', 'Giants', -320, 260])\n",
      "(['Bears', 'Eagles', 185, -215], ['Vikings', 'Chiefs', -172, 140], ['Colts', 'Steelers', -105, -115], ['Jets', 'Dolphins', -175, 155], ['Redskins', 'Bills', 375, -500], ['Titans', 'Panthers', 165, -190], ['Packers', 'Chargers', -190, 165], ['Browns', 'Broncos', -200, 170], ['Patriots', 'Ravens', -170, 150])\n",
      "(['Bears', 'Eagles', 185, -215], ['Vikings', 'Chiefs', -172, 140], ['Colts', 'Steelers', -105, -115], ['Jets', 'Dolphins', -175, 155], ['Redskins', 'Bills', 375, -500], ['Titans', 'Panthers', 165, -190], ['Packers', 'Chargers', -190, 165], ['Browns', 'Broncos', -200, 170], ['Cowboys', 'Giants', -320, 260])\n",
      "(['Bears', 'Eagles', 185, -215], ['Vikings', 'Chiefs', -172, 140], ['Colts', 'Steelers', -105, -115], ['Jets', 'Dolphins', -175, 155], ['Redskins', 'Bills', 375, -500], ['Titans', 'Panthers', 165, -190], ['Packers', 'Chargers', -190, 165], ['Patriots', 'Ravens', -170, 150], ['Cowboys', 'Giants', -320, 260])\n",
      "(['Bears', 'Eagles', 185, -215], ['Vikings', 'Chiefs', -172, 140], ['Colts', 'Steelers', -105, -115], ['Jets', 'Dolphins', -175, 155], ['Redskins', 'Bills', 375, -500], ['Titans', 'Panthers', 165, -190], ['Browns', 'Broncos', -200, 170], ['Patriots', 'Ravens', -170, 150], ['Cowboys', 'Giants', -320, 260])\n",
      "(['Bears', 'Eagles', 185, -215], ['Vikings', 'Chiefs', -172, 140], ['Colts', 'Steelers', -105, -115], ['Jets', 'Dolphins', -175, 155], ['Redskins', 'Bills', 375, -500], ['Lions', 'Raiders', 115, -135], ['Buccaneers', 'Seahawks', 200, -240], ['Packers', 'Chargers', -190, 165], ['Browns', 'Broncos', -200, 170])\n",
      "(['Bears', 'Eagles', 185, -215], ['Vikings', 'Chiefs', -172, 140], ['Colts', 'Steelers', -105, -115], ['Jets', 'Dolphins', -175, 155], ['Redskins', 'Bills', 375, -500], ['Lions', 'Raiders', 115, -135], ['Buccaneers', 'Seahawks', 200, -240], ['Packers', 'Chargers', -190, 165], ['Patriots', 'Ravens', -170, 150])\n",
      "(['Bears', 'Eagles', 185, -215], ['Vikings', 'Chiefs', -172, 140], ['Colts', 'Steelers', -105, -115], ['Jets', 'Dolphins', -175, 155], ['Redskins', 'Bills', 375, -500], ['Lions', 'Raiders', 115, -135], ['Buccaneers', 'Seahawks', 200, -240], ['Packers', 'Chargers', -190, 165], ['Cowboys', 'Giants', -320, 260])\n",
      "(['Bears', 'Eagles', 185, -215], ['Vikings', 'Chiefs', -172, 140], ['Colts', 'Steelers', -105, -115], ['Jets', 'Dolphins', -175, 155], ['Redskins', 'Bills', 375, -500], ['Lions', 'Raiders', 115, -135], ['Buccaneers', 'Seahawks', 200, -240], ['Browns', 'Broncos', -200, 170], ['Patriots', 'Ravens', -170, 150])\n",
      "(['Bears', 'Eagles', 185, -215], ['Vikings', 'Chiefs', -172, 140], ['Colts', 'Steelers', -105, -115], ['Jets', 'Dolphins', -175, 155], ['Redskins', 'Bills', 375, -500], ['Lions', 'Raiders', 115, -135], ['Buccaneers', 'Seahawks', 200, -240], ['Browns', 'Broncos', -200, 170], ['Cowboys', 'Giants', -320, 260])\n",
      "(['Bears', 'Eagles', 185, -215], ['Vikings', 'Chiefs', -172, 140], ['Colts', 'Steelers', -105, -115], ['Jets', 'Dolphins', -175, 155], ['Redskins', 'Bills', 375, -500], ['Lions', 'Raiders', 115, -135], ['Buccaneers', 'Seahawks', 200, -240], ['Patriots', 'Ravens', -170, 150], ['Cowboys', 'Giants', -320, 260])\n",
      "(['Bears', 'Eagles', 185, -215], ['Vikings', 'Chiefs', -172, 140], ['Colts', 'Steelers', -105, -115], ['Jets', 'Dolphins', -175, 155], ['Redskins', 'Bills', 375, -500], ['Lions', 'Raiders', 115, -135], ['Packers', 'Chargers', -190, 165], ['Browns', 'Broncos', -200, 170], ['Patriots', 'Ravens', -170, 150])\n",
      "(['Bears', 'Eagles', 185, -215], ['Vikings', 'Chiefs', -172, 140], ['Colts', 'Steelers', -105, -115], ['Jets', 'Dolphins', -175, 155], ['Redskins', 'Bills', 375, -500], ['Lions', 'Raiders', 115, -135], ['Packers', 'Chargers', -190, 165], ['Browns', 'Broncos', -200, 170], ['Cowboys', 'Giants', -320, 260])\n",
      "(['Bears', 'Eagles', 185, -215], ['Vikings', 'Chiefs', -172, 140], ['Colts', 'Steelers', -105, -115], ['Jets', 'Dolphins', -175, 155], ['Redskins', 'Bills', 375, -500], ['Lions', 'Raiders', 115, -135], ['Packers', 'Chargers', -190, 165], ['Patriots', 'Ravens', -170, 150], ['Cowboys', 'Giants', -320, 260])\n",
      "(['Bears', 'Eagles', 185, -215], ['Vikings', 'Chiefs', -172, 140], ['Colts', 'Steelers', -105, -115], ['Jets', 'Dolphins', -175, 155], ['Redskins', 'Bills', 375, -500], ['Lions', 'Raiders', 115, -135], ['Browns', 'Broncos', -200, 170], ['Patriots', 'Ravens', -170, 150], ['Cowboys', 'Giants', -320, 260])\n",
      "(['Bears', 'Eagles', 185, -215], ['Vikings', 'Chiefs', -172, 140], ['Colts', 'Steelers', -105, -115], ['Jets', 'Dolphins', -175, 155], ['Redskins', 'Bills', 375, -500], ['Buccaneers', 'Seahawks', 200, -240], ['Packers', 'Chargers', -190, 165], ['Browns', 'Broncos', -200, 170], ['Patriots', 'Ravens', -170, 150])\n",
      "(['Bears', 'Eagles', 185, -215], ['Vikings', 'Chiefs', -172, 140], ['Colts', 'Steelers', -105, -115], ['Jets', 'Dolphins', -175, 155], ['Redskins', 'Bills', 375, -500], ['Buccaneers', 'Seahawks', 200, -240], ['Packers', 'Chargers', -190, 165], ['Browns', 'Broncos', -200, 170], ['Cowboys', 'Giants', -320, 260])\n",
      "(['Bears', 'Eagles', 185, -215], ['Vikings', 'Chiefs', -172, 140], ['Colts', 'Steelers', -105, -115], ['Jets', 'Dolphins', -175, 155], ['Redskins', 'Bills', 375, -500], ['Buccaneers', 'Seahawks', 200, -240], ['Packers', 'Chargers', -190, 165], ['Patriots', 'Ravens', -170, 150], ['Cowboys', 'Giants', -320, 260])\n",
      "(['Bears', 'Eagles', 185, -215], ['Vikings', 'Chiefs', -172, 140], ['Colts', 'Steelers', -105, -115], ['Jets', 'Dolphins', -175, 155], ['Redskins', 'Bills', 375, -500], ['Buccaneers', 'Seahawks', 200, -240], ['Browns', 'Broncos', -200, 170], ['Patriots', 'Ravens', -170, 150], ['Cowboys', 'Giants', -320, 260])\n",
      "(['Bears', 'Eagles', 185, -215], ['Vikings', 'Chiefs', -172, 140], ['Colts', 'Steelers', -105, -115], ['Jets', 'Dolphins', -175, 155], ['Redskins', 'Bills', 375, -500], ['Packers', 'Chargers', -190, 165], ['Browns', 'Broncos', -200, 170], ['Patriots', 'Ravens', -170, 150], ['Cowboys', 'Giants', -320, 260])\n",
      "(['Bears', 'Eagles', 185, -215], ['Vikings', 'Chiefs', -172, 140], ['Colts', 'Steelers', -105, -115], ['Jets', 'Dolphins', -175, 155], ['Titans', 'Panthers', 165, -190], ['Lions', 'Raiders', 115, -135], ['Buccaneers', 'Seahawks', 200, -240], ['Packers', 'Chargers', -190, 165], ['Browns', 'Broncos', -200, 170])\n",
      "(['Bears', 'Eagles', 185, -215], ['Vikings', 'Chiefs', -172, 140], ['Colts', 'Steelers', -105, -115], ['Jets', 'Dolphins', -175, 155], ['Titans', 'Panthers', 165, -190], ['Lions', 'Raiders', 115, -135], ['Buccaneers', 'Seahawks', 200, -240], ['Packers', 'Chargers', -190, 165], ['Patriots', 'Ravens', -170, 150])\n",
      "(['Bears', 'Eagles', 185, -215], ['Vikings', 'Chiefs', -172, 140], ['Colts', 'Steelers', -105, -115], ['Jets', 'Dolphins', -175, 155], ['Titans', 'Panthers', 165, -190], ['Lions', 'Raiders', 115, -135], ['Buccaneers', 'Seahawks', 200, -240], ['Packers', 'Chargers', -190, 165], ['Cowboys', 'Giants', -320, 260])\n",
      "(['Bears', 'Eagles', 185, -215], ['Vikings', 'Chiefs', -172, 140], ['Colts', 'Steelers', -105, -115], ['Jets', 'Dolphins', -175, 155], ['Titans', 'Panthers', 165, -190], ['Lions', 'Raiders', 115, -135], ['Buccaneers', 'Seahawks', 200, -240], ['Browns', 'Broncos', -200, 170], ['Patriots', 'Ravens', -170, 150])\n",
      "(['Bears', 'Eagles', 185, -215], ['Vikings', 'Chiefs', -172, 140], ['Colts', 'Steelers', -105, -115], ['Jets', 'Dolphins', -175, 155], ['Titans', 'Panthers', 165, -190], ['Lions', 'Raiders', 115, -135], ['Buccaneers', 'Seahawks', 200, -240], ['Browns', 'Broncos', -200, 170], ['Cowboys', 'Giants', -320, 260])\n",
      "(['Bears', 'Eagles', 185, -215], ['Vikings', 'Chiefs', -172, 140], ['Colts', 'Steelers', -105, -115], ['Jets', 'Dolphins', -175, 155], ['Titans', 'Panthers', 165, -190], ['Lions', 'Raiders', 115, -135], ['Buccaneers', 'Seahawks', 200, -240], ['Patriots', 'Ravens', -170, 150], ['Cowboys', 'Giants', -320, 260])\n",
      "(['Bears', 'Eagles', 185, -215], ['Vikings', 'Chiefs', -172, 140], ['Colts', 'Steelers', -105, -115], ['Jets', 'Dolphins', -175, 155], ['Titans', 'Panthers', 165, -190], ['Lions', 'Raiders', 115, -135], ['Packers', 'Chargers', -190, 165], ['Browns', 'Broncos', -200, 170], ['Patriots', 'Ravens', -170, 150])\n",
      "(['Bears', 'Eagles', 185, -215], ['Vikings', 'Chiefs', -172, 140], ['Colts', 'Steelers', -105, -115], ['Jets', 'Dolphins', -175, 155], ['Titans', 'Panthers', 165, -190], ['Lions', 'Raiders', 115, -135], ['Packers', 'Chargers', -190, 165], ['Browns', 'Broncos', -200, 170], ['Cowboys', 'Giants', -320, 260])\n",
      "(['Bears', 'Eagles', 185, -215], ['Vikings', 'Chiefs', -172, 140], ['Colts', 'Steelers', -105, -115], ['Jets', 'Dolphins', -175, 155], ['Titans', 'Panthers', 165, -190], ['Lions', 'Raiders', 115, -135], ['Packers', 'Chargers', -190, 165], ['Patriots', 'Ravens', -170, 150], ['Cowboys', 'Giants', -320, 260])\n",
      "(['Bears', 'Eagles', 185, -215], ['Vikings', 'Chiefs', -172, 140], ['Colts', 'Steelers', -105, -115], ['Jets', 'Dolphins', -175, 155], ['Titans', 'Panthers', 165, -190], ['Lions', 'Raiders', 115, -135], ['Browns', 'Broncos', -200, 170], ['Patriots', 'Ravens', -170, 150], ['Cowboys', 'Giants', -320, 260])\n",
      "(['Bears', 'Eagles', 185, -215], ['Vikings', 'Chiefs', -172, 140], ['Colts', 'Steelers', -105, -115], ['Jets', 'Dolphins', -175, 155], ['Titans', 'Panthers', 165, -190], ['Buccaneers', 'Seahawks', 200, -240], ['Packers', 'Chargers', -190, 165], ['Browns', 'Broncos', -200, 170], ['Patriots', 'Ravens', -170, 150])\n",
      "(['Bears', 'Eagles', 185, -215], ['Vikings', 'Chiefs', -172, 140], ['Colts', 'Steelers', -105, -115], ['Jets', 'Dolphins', -175, 155], ['Titans', 'Panthers', 165, -190], ['Buccaneers', 'Seahawks', 200, -240], ['Packers', 'Chargers', -190, 165], ['Browns', 'Broncos', -200, 170], ['Cowboys', 'Giants', -320, 260])\n",
      "(['Bears', 'Eagles', 185, -215], ['Vikings', 'Chiefs', -172, 140], ['Colts', 'Steelers', -105, -115], ['Jets', 'Dolphins', -175, 155], ['Titans', 'Panthers', 165, -190], ['Buccaneers', 'Seahawks', 200, -240], ['Packers', 'Chargers', -190, 165], ['Patriots', 'Ravens', -170, 150], ['Cowboys', 'Giants', -320, 260])\n",
      "(['Bears', 'Eagles', 185, -215], ['Vikings', 'Chiefs', -172, 140], ['Colts', 'Steelers', -105, -115], ['Jets', 'Dolphins', -175, 155], ['Titans', 'Panthers', 165, -190], ['Buccaneers', 'Seahawks', 200, -240], ['Browns', 'Broncos', -200, 170], ['Patriots', 'Ravens', -170, 150], ['Cowboys', 'Giants', -320, 260])\n",
      "(['Bears', 'Eagles', 185, -215], ['Vikings', 'Chiefs', -172, 140], ['Colts', 'Steelers', -105, -115], ['Jets', 'Dolphins', -175, 155], ['Titans', 'Panthers', 165, -190], ['Packers', 'Chargers', -190, 165], ['Browns', 'Broncos', -200, 170], ['Patriots', 'Ravens', -170, 150], ['Cowboys', 'Giants', -320, 260])\n",
      "(['Bears', 'Eagles', 185, -215], ['Vikings', 'Chiefs', -172, 140], ['Colts', 'Steelers', -105, -115], ['Jets', 'Dolphins', -175, 155], ['Lions', 'Raiders', 115, -135], ['Buccaneers', 'Seahawks', 200, -240], ['Packers', 'Chargers', -190, 165], ['Browns', 'Broncos', -200, 170], ['Patriots', 'Ravens', -170, 150])\n",
      "(['Bears', 'Eagles', 185, -215], ['Vikings', 'Chiefs', -172, 140], ['Colts', 'Steelers', -105, -115], ['Jets', 'Dolphins', -175, 155], ['Lions', 'Raiders', 115, -135], ['Buccaneers', 'Seahawks', 200, -240], ['Packers', 'Chargers', -190, 165], ['Browns', 'Broncos', -200, 170], ['Cowboys', 'Giants', -320, 260])\n",
      "(['Bears', 'Eagles', 185, -215], ['Vikings', 'Chiefs', -172, 140], ['Colts', 'Steelers', -105, -115], ['Jets', 'Dolphins', -175, 155], ['Lions', 'Raiders', 115, -135], ['Buccaneers', 'Seahawks', 200, -240], ['Packers', 'Chargers', -190, 165], ['Patriots', 'Ravens', -170, 150], ['Cowboys', 'Giants', -320, 260])\n",
      "(['Bears', 'Eagles', 185, -215], ['Vikings', 'Chiefs', -172, 140], ['Colts', 'Steelers', -105, -115], ['Jets', 'Dolphins', -175, 155], ['Lions', 'Raiders', 115, -135], ['Buccaneers', 'Seahawks', 200, -240], ['Browns', 'Broncos', -200, 170], ['Patriots', 'Ravens', -170, 150], ['Cowboys', 'Giants', -320, 260])\n",
      "(['Bears', 'Eagles', 185, -215], ['Vikings', 'Chiefs', -172, 140], ['Colts', 'Steelers', -105, -115], ['Jets', 'Dolphins', -175, 155], ['Lions', 'Raiders', 115, -135], ['Packers', 'Chargers', -190, 165], ['Browns', 'Broncos', -200, 170], ['Patriots', 'Ravens', -170, 150], ['Cowboys', 'Giants', -320, 260])\n",
      "(['Bears', 'Eagles', 185, -215], ['Vikings', 'Chiefs', -172, 140], ['Colts', 'Steelers', -105, -115], ['Jets', 'Dolphins', -175, 155], ['Buccaneers', 'Seahawks', 200, -240], ['Packers', 'Chargers', -190, 165], ['Browns', 'Broncos', -200, 170], ['Patriots', 'Ravens', -170, 150], ['Cowboys', 'Giants', -320, 260])\n",
      "(['Bears', 'Eagles', 185, -215], ['Vikings', 'Chiefs', -172, 140], ['Colts', 'Steelers', -105, -115], ['Redskins', 'Bills', 375, -500], ['Titans', 'Panthers', 165, -190], ['Lions', 'Raiders', 115, -135], ['Buccaneers', 'Seahawks', 200, -240], ['Packers', 'Chargers', -190, 165], ['Browns', 'Broncos', -200, 170])\n",
      "(['Bears', 'Eagles', 185, -215], ['Vikings', 'Chiefs', -172, 140], ['Colts', 'Steelers', -105, -115], ['Redskins', 'Bills', 375, -500], ['Titans', 'Panthers', 165, -190], ['Lions', 'Raiders', 115, -135], ['Buccaneers', 'Seahawks', 200, -240], ['Packers', 'Chargers', -190, 165], ['Patriots', 'Ravens', -170, 150])\n",
      "(['Bears', 'Eagles', 185, -215], ['Vikings', 'Chiefs', -172, 140], ['Colts', 'Steelers', -105, -115], ['Redskins', 'Bills', 375, -500], ['Titans', 'Panthers', 165, -190], ['Lions', 'Raiders', 115, -135], ['Buccaneers', 'Seahawks', 200, -240], ['Packers', 'Chargers', -190, 165], ['Cowboys', 'Giants', -320, 260])\n",
      "(['Bears', 'Eagles', 185, -215], ['Vikings', 'Chiefs', -172, 140], ['Colts', 'Steelers', -105, -115], ['Redskins', 'Bills', 375, -500], ['Titans', 'Panthers', 165, -190], ['Lions', 'Raiders', 115, -135], ['Buccaneers', 'Seahawks', 200, -240], ['Browns', 'Broncos', -200, 170], ['Patriots', 'Ravens', -170, 150])\n",
      "(['Bears', 'Eagles', 185, -215], ['Vikings', 'Chiefs', -172, 140], ['Colts', 'Steelers', -105, -115], ['Redskins', 'Bills', 375, -500], ['Titans', 'Panthers', 165, -190], ['Lions', 'Raiders', 115, -135], ['Buccaneers', 'Seahawks', 200, -240], ['Browns', 'Broncos', -200, 170], ['Cowboys', 'Giants', -320, 260])\n",
      "(['Bears', 'Eagles', 185, -215], ['Vikings', 'Chiefs', -172, 140], ['Colts', 'Steelers', -105, -115], ['Redskins', 'Bills', 375, -500], ['Titans', 'Panthers', 165, -190], ['Lions', 'Raiders', 115, -135], ['Buccaneers', 'Seahawks', 200, -240], ['Patriots', 'Ravens', -170, 150], ['Cowboys', 'Giants', -320, 260])\n",
      "(['Bears', 'Eagles', 185, -215], ['Vikings', 'Chiefs', -172, 140], ['Colts', 'Steelers', -105, -115], ['Redskins', 'Bills', 375, -500], ['Titans', 'Panthers', 165, -190], ['Lions', 'Raiders', 115, -135], ['Packers', 'Chargers', -190, 165], ['Browns', 'Broncos', -200, 170], ['Patriots', 'Ravens', -170, 150])\n",
      "(['Bears', 'Eagles', 185, -215], ['Vikings', 'Chiefs', -172, 140], ['Colts', 'Steelers', -105, -115], ['Redskins', 'Bills', 375, -500], ['Titans', 'Panthers', 165, -190], ['Lions', 'Raiders', 115, -135], ['Packers', 'Chargers', -190, 165], ['Browns', 'Broncos', -200, 170], ['Cowboys', 'Giants', -320, 260])\n",
      "(['Bears', 'Eagles', 185, -215], ['Vikings', 'Chiefs', -172, 140], ['Colts', 'Steelers', -105, -115], ['Redskins', 'Bills', 375, -500], ['Titans', 'Panthers', 165, -190], ['Lions', 'Raiders', 115, -135], ['Packers', 'Chargers', -190, 165], ['Patriots', 'Ravens', -170, 150], ['Cowboys', 'Giants', -320, 260])\n",
      "(['Bears', 'Eagles', 185, -215], ['Vikings', 'Chiefs', -172, 140], ['Colts', 'Steelers', -105, -115], ['Redskins', 'Bills', 375, -500], ['Titans', 'Panthers', 165, -190], ['Lions', 'Raiders', 115, -135], ['Browns', 'Broncos', -200, 170], ['Patriots', 'Ravens', -170, 150], ['Cowboys', 'Giants', -320, 260])\n",
      "(['Bears', 'Eagles', 185, -215], ['Vikings', 'Chiefs', -172, 140], ['Colts', 'Steelers', -105, -115], ['Redskins', 'Bills', 375, -500], ['Titans', 'Panthers', 165, -190], ['Buccaneers', 'Seahawks', 200, -240], ['Packers', 'Chargers', -190, 165], ['Browns', 'Broncos', -200, 170], ['Patriots', 'Ravens', -170, 150])\n",
      "(['Bears', 'Eagles', 185, -215], ['Vikings', 'Chiefs', -172, 140], ['Colts', 'Steelers', -105, -115], ['Redskins', 'Bills', 375, -500], ['Titans', 'Panthers', 165, -190], ['Buccaneers', 'Seahawks', 200, -240], ['Packers', 'Chargers', -190, 165], ['Browns', 'Broncos', -200, 170], ['Cowboys', 'Giants', -320, 260])\n",
      "(['Bears', 'Eagles', 185, -215], ['Vikings', 'Chiefs', -172, 140], ['Colts', 'Steelers', -105, -115], ['Redskins', 'Bills', 375, -500], ['Titans', 'Panthers', 165, -190], ['Buccaneers', 'Seahawks', 200, -240], ['Packers', 'Chargers', -190, 165], ['Patriots', 'Ravens', -170, 150], ['Cowboys', 'Giants', -320, 260])\n",
      "(['Bears', 'Eagles', 185, -215], ['Vikings', 'Chiefs', -172, 140], ['Colts', 'Steelers', -105, -115], ['Redskins', 'Bills', 375, -500], ['Titans', 'Panthers', 165, -190], ['Buccaneers', 'Seahawks', 200, -240], ['Browns', 'Broncos', -200, 170], ['Patriots', 'Ravens', -170, 150], ['Cowboys', 'Giants', -320, 260])\n",
      "(['Bears', 'Eagles', 185, -215], ['Vikings', 'Chiefs', -172, 140], ['Colts', 'Steelers', -105, -115], ['Redskins', 'Bills', 375, -500], ['Titans', 'Panthers', 165, -190], ['Packers', 'Chargers', -190, 165], ['Browns', 'Broncos', -200, 170], ['Patriots', 'Ravens', -170, 150], ['Cowboys', 'Giants', -320, 260])\n",
      "(['Bears', 'Eagles', 185, -215], ['Vikings', 'Chiefs', -172, 140], ['Colts', 'Steelers', -105, -115], ['Redskins', 'Bills', 375, -500], ['Lions', 'Raiders', 115, -135], ['Buccaneers', 'Seahawks', 200, -240], ['Packers', 'Chargers', -190, 165], ['Browns', 'Broncos', -200, 170], ['Patriots', 'Ravens', -170, 150])\n",
      "(['Bears', 'Eagles', 185, -215], ['Vikings', 'Chiefs', -172, 140], ['Colts', 'Steelers', -105, -115], ['Redskins', 'Bills', 375, -500], ['Lions', 'Raiders', 115, -135], ['Buccaneers', 'Seahawks', 200, -240], ['Packers', 'Chargers', -190, 165], ['Browns', 'Broncos', -200, 170], ['Cowboys', 'Giants', -320, 260])\n",
      "(['Bears', 'Eagles', 185, -215], ['Vikings', 'Chiefs', -172, 140], ['Colts', 'Steelers', -105, -115], ['Redskins', 'Bills', 375, -500], ['Lions', 'Raiders', 115, -135], ['Buccaneers', 'Seahawks', 200, -240], ['Packers', 'Chargers', -190, 165], ['Patriots', 'Ravens', -170, 150], ['Cowboys', 'Giants', -320, 260])\n",
      "(['Bears', 'Eagles', 185, -215], ['Vikings', 'Chiefs', -172, 140], ['Colts', 'Steelers', -105, -115], ['Redskins', 'Bills', 375, -500], ['Lions', 'Raiders', 115, -135], ['Buccaneers', 'Seahawks', 200, -240], ['Browns', 'Broncos', -200, 170], ['Patriots', 'Ravens', -170, 150], ['Cowboys', 'Giants', -320, 260])\n",
      "(['Bears', 'Eagles', 185, -215], ['Vikings', 'Chiefs', -172, 140], ['Colts', 'Steelers', -105, -115], ['Redskins', 'Bills', 375, -500], ['Lions', 'Raiders', 115, -135], ['Packers', 'Chargers', -190, 165], ['Browns', 'Broncos', -200, 170], ['Patriots', 'Ravens', -170, 150], ['Cowboys', 'Giants', -320, 260])\n",
      "(['Bears', 'Eagles', 185, -215], ['Vikings', 'Chiefs', -172, 140], ['Colts', 'Steelers', -105, -115], ['Redskins', 'Bills', 375, -500], ['Buccaneers', 'Seahawks', 200, -240], ['Packers', 'Chargers', -190, 165], ['Browns', 'Broncos', -200, 170], ['Patriots', 'Ravens', -170, 150], ['Cowboys', 'Giants', -320, 260])\n",
      "(['Bears', 'Eagles', 185, -215], ['Vikings', 'Chiefs', -172, 140], ['Colts', 'Steelers', -105, -115], ['Titans', 'Panthers', 165, -190], ['Lions', 'Raiders', 115, -135], ['Buccaneers', 'Seahawks', 200, -240], ['Packers', 'Chargers', -190, 165], ['Browns', 'Broncos', -200, 170], ['Patriots', 'Ravens', -170, 150])\n",
      "(['Bears', 'Eagles', 185, -215], ['Vikings', 'Chiefs', -172, 140], ['Colts', 'Steelers', -105, -115], ['Titans', 'Panthers', 165, -190], ['Lions', 'Raiders', 115, -135], ['Buccaneers', 'Seahawks', 200, -240], ['Packers', 'Chargers', -190, 165], ['Browns', 'Broncos', -200, 170], ['Cowboys', 'Giants', -320, 260])\n",
      "(['Bears', 'Eagles', 185, -215], ['Vikings', 'Chiefs', -172, 140], ['Colts', 'Steelers', -105, -115], ['Titans', 'Panthers', 165, -190], ['Lions', 'Raiders', 115, -135], ['Buccaneers', 'Seahawks', 200, -240], ['Packers', 'Chargers', -190, 165], ['Patriots', 'Ravens', -170, 150], ['Cowboys', 'Giants', -320, 260])\n",
      "(['Bears', 'Eagles', 185, -215], ['Vikings', 'Chiefs', -172, 140], ['Colts', 'Steelers', -105, -115], ['Titans', 'Panthers', 165, -190], ['Lions', 'Raiders', 115, -135], ['Buccaneers', 'Seahawks', 200, -240], ['Browns', 'Broncos', -200, 170], ['Patriots', 'Ravens', -170, 150], ['Cowboys', 'Giants', -320, 260])\n",
      "(['Bears', 'Eagles', 185, -215], ['Vikings', 'Chiefs', -172, 140], ['Colts', 'Steelers', -105, -115], ['Titans', 'Panthers', 165, -190], ['Lions', 'Raiders', 115, -135], ['Packers', 'Chargers', -190, 165], ['Browns', 'Broncos', -200, 170], ['Patriots', 'Ravens', -170, 150], ['Cowboys', 'Giants', -320, 260])\n",
      "(['Bears', 'Eagles', 185, -215], ['Vikings', 'Chiefs', -172, 140], ['Colts', 'Steelers', -105, -115], ['Titans', 'Panthers', 165, -190], ['Buccaneers', 'Seahawks', 200, -240], ['Packers', 'Chargers', -190, 165], ['Browns', 'Broncos', -200, 170], ['Patriots', 'Ravens', -170, 150], ['Cowboys', 'Giants', -320, 260])\n",
      "(['Bears', 'Eagles', 185, -215], ['Vikings', 'Chiefs', -172, 140], ['Colts', 'Steelers', -105, -115], ['Lions', 'Raiders', 115, -135], ['Buccaneers', 'Seahawks', 200, -240], ['Packers', 'Chargers', -190, 165], ['Browns', 'Broncos', -200, 170], ['Patriots', 'Ravens', -170, 150], ['Cowboys', 'Giants', -320, 260])\n",
      "(['Bears', 'Eagles', 185, -215], ['Vikings', 'Chiefs', -172, 140], ['Jets', 'Dolphins', -175, 155], ['Redskins', 'Bills', 375, -500], ['Titans', 'Panthers', 165, -190], ['Lions', 'Raiders', 115, -135], ['Buccaneers', 'Seahawks', 200, -240], ['Packers', 'Chargers', -190, 165], ['Browns', 'Broncos', -200, 170])\n",
      "(['Bears', 'Eagles', 185, -215], ['Vikings', 'Chiefs', -172, 140], ['Jets', 'Dolphins', -175, 155], ['Redskins', 'Bills', 375, -500], ['Titans', 'Panthers', 165, -190], ['Lions', 'Raiders', 115, -135], ['Buccaneers', 'Seahawks', 200, -240], ['Packers', 'Chargers', -190, 165], ['Patriots', 'Ravens', -170, 150])\n",
      "(['Bears', 'Eagles', 185, -215], ['Vikings', 'Chiefs', -172, 140], ['Jets', 'Dolphins', -175, 155], ['Redskins', 'Bills', 375, -500], ['Titans', 'Panthers', 165, -190], ['Lions', 'Raiders', 115, -135], ['Buccaneers', 'Seahawks', 200, -240], ['Packers', 'Chargers', -190, 165], ['Cowboys', 'Giants', -320, 260])\n",
      "(['Bears', 'Eagles', 185, -215], ['Vikings', 'Chiefs', -172, 140], ['Jets', 'Dolphins', -175, 155], ['Redskins', 'Bills', 375, -500], ['Titans', 'Panthers', 165, -190], ['Lions', 'Raiders', 115, -135], ['Buccaneers', 'Seahawks', 200, -240], ['Browns', 'Broncos', -200, 170], ['Patriots', 'Ravens', -170, 150])\n",
      "(['Bears', 'Eagles', 185, -215], ['Vikings', 'Chiefs', -172, 140], ['Jets', 'Dolphins', -175, 155], ['Redskins', 'Bills', 375, -500], ['Titans', 'Panthers', 165, -190], ['Lions', 'Raiders', 115, -135], ['Buccaneers', 'Seahawks', 200, -240], ['Browns', 'Broncos', -200, 170], ['Cowboys', 'Giants', -320, 260])\n",
      "(['Bears', 'Eagles', 185, -215], ['Vikings', 'Chiefs', -172, 140], ['Jets', 'Dolphins', -175, 155], ['Redskins', 'Bills', 375, -500], ['Titans', 'Panthers', 165, -190], ['Lions', 'Raiders', 115, -135], ['Buccaneers', 'Seahawks', 200, -240], ['Patriots', 'Ravens', -170, 150], ['Cowboys', 'Giants', -320, 260])\n",
      "(['Bears', 'Eagles', 185, -215], ['Vikings', 'Chiefs', -172, 140], ['Jets', 'Dolphins', -175, 155], ['Redskins', 'Bills', 375, -500], ['Titans', 'Panthers', 165, -190], ['Lions', 'Raiders', 115, -135], ['Packers', 'Chargers', -190, 165], ['Browns', 'Broncos', -200, 170], ['Patriots', 'Ravens', -170, 150])\n",
      "(['Bears', 'Eagles', 185, -215], ['Vikings', 'Chiefs', -172, 140], ['Jets', 'Dolphins', -175, 155], ['Redskins', 'Bills', 375, -500], ['Titans', 'Panthers', 165, -190], ['Lions', 'Raiders', 115, -135], ['Packers', 'Chargers', -190, 165], ['Browns', 'Broncos', -200, 170], ['Cowboys', 'Giants', -320, 260])\n",
      "(['Bears', 'Eagles', 185, -215], ['Vikings', 'Chiefs', -172, 140], ['Jets', 'Dolphins', -175, 155], ['Redskins', 'Bills', 375, -500], ['Titans', 'Panthers', 165, -190], ['Lions', 'Raiders', 115, -135], ['Packers', 'Chargers', -190, 165], ['Patriots', 'Ravens', -170, 150], ['Cowboys', 'Giants', -320, 260])\n",
      "(['Bears', 'Eagles', 185, -215], ['Vikings', 'Chiefs', -172, 140], ['Jets', 'Dolphins', -175, 155], ['Redskins', 'Bills', 375, -500], ['Titans', 'Panthers', 165, -190], ['Lions', 'Raiders', 115, -135], ['Browns', 'Broncos', -200, 170], ['Patriots', 'Ravens', -170, 150], ['Cowboys', 'Giants', -320, 260])\n",
      "(['Bears', 'Eagles', 185, -215], ['Vikings', 'Chiefs', -172, 140], ['Jets', 'Dolphins', -175, 155], ['Redskins', 'Bills', 375, -500], ['Titans', 'Panthers', 165, -190], ['Buccaneers', 'Seahawks', 200, -240], ['Packers', 'Chargers', -190, 165], ['Browns', 'Broncos', -200, 170], ['Patriots', 'Ravens', -170, 150])\n",
      "(['Bears', 'Eagles', 185, -215], ['Vikings', 'Chiefs', -172, 140], ['Jets', 'Dolphins', -175, 155], ['Redskins', 'Bills', 375, -500], ['Titans', 'Panthers', 165, -190], ['Buccaneers', 'Seahawks', 200, -240], ['Packers', 'Chargers', -190, 165], ['Browns', 'Broncos', -200, 170], ['Cowboys', 'Giants', -320, 260])\n",
      "(['Bears', 'Eagles', 185, -215], ['Vikings', 'Chiefs', -172, 140], ['Jets', 'Dolphins', -175, 155], ['Redskins', 'Bills', 375, -500], ['Titans', 'Panthers', 165, -190], ['Buccaneers', 'Seahawks', 200, -240], ['Packers', 'Chargers', -190, 165], ['Patriots', 'Ravens', -170, 150], ['Cowboys', 'Giants', -320, 260])\n",
      "(['Bears', 'Eagles', 185, -215], ['Vikings', 'Chiefs', -172, 140], ['Jets', 'Dolphins', -175, 155], ['Redskins', 'Bills', 375, -500], ['Titans', 'Panthers', 165, -190], ['Buccaneers', 'Seahawks', 200, -240], ['Browns', 'Broncos', -200, 170], ['Patriots', 'Ravens', -170, 150], ['Cowboys', 'Giants', -320, 260])\n",
      "(['Bears', 'Eagles', 185, -215], ['Vikings', 'Chiefs', -172, 140], ['Jets', 'Dolphins', -175, 155], ['Redskins', 'Bills', 375, -500], ['Titans', 'Panthers', 165, -190], ['Packers', 'Chargers', -190, 165], ['Browns', 'Broncos', -200, 170], ['Patriots', 'Ravens', -170, 150], ['Cowboys', 'Giants', -320, 260])\n",
      "(['Bears', 'Eagles', 185, -215], ['Vikings', 'Chiefs', -172, 140], ['Jets', 'Dolphins', -175, 155], ['Redskins', 'Bills', 375, -500], ['Lions', 'Raiders', 115, -135], ['Buccaneers', 'Seahawks', 200, -240], ['Packers', 'Chargers', -190, 165], ['Browns', 'Broncos', -200, 170], ['Patriots', 'Ravens', -170, 150])\n",
      "(['Bears', 'Eagles', 185, -215], ['Vikings', 'Chiefs', -172, 140], ['Jets', 'Dolphins', -175, 155], ['Redskins', 'Bills', 375, -500], ['Lions', 'Raiders', 115, -135], ['Buccaneers', 'Seahawks', 200, -240], ['Packers', 'Chargers', -190, 165], ['Browns', 'Broncos', -200, 170], ['Cowboys', 'Giants', -320, 260])\n",
      "(['Bears', 'Eagles', 185, -215], ['Vikings', 'Chiefs', -172, 140], ['Jets', 'Dolphins', -175, 155], ['Redskins', 'Bills', 375, -500], ['Lions', 'Raiders', 115, -135], ['Buccaneers', 'Seahawks', 200, -240], ['Packers', 'Chargers', -190, 165], ['Patriots', 'Ravens', -170, 150], ['Cowboys', 'Giants', -320, 260])\n",
      "(['Bears', 'Eagles', 185, -215], ['Vikings', 'Chiefs', -172, 140], ['Jets', 'Dolphins', -175, 155], ['Redskins', 'Bills', 375, -500], ['Lions', 'Raiders', 115, -135], ['Buccaneers', 'Seahawks', 200, -240], ['Browns', 'Broncos', -200, 170], ['Patriots', 'Ravens', -170, 150], ['Cowboys', 'Giants', -320, 260])\n",
      "(['Bears', 'Eagles', 185, -215], ['Vikings', 'Chiefs', -172, 140], ['Jets', 'Dolphins', -175, 155], ['Redskins', 'Bills', 375, -500], ['Lions', 'Raiders', 115, -135], ['Packers', 'Chargers', -190, 165], ['Browns', 'Broncos', -200, 170], ['Patriots', 'Ravens', -170, 150], ['Cowboys', 'Giants', -320, 260])\n",
      "(['Bears', 'Eagles', 185, -215], ['Vikings', 'Chiefs', -172, 140], ['Jets', 'Dolphins', -175, 155], ['Redskins', 'Bills', 375, -500], ['Buccaneers', 'Seahawks', 200, -240], ['Packers', 'Chargers', -190, 165], ['Browns', 'Broncos', -200, 170], ['Patriots', 'Ravens', -170, 150], ['Cowboys', 'Giants', -320, 260])\n",
      "(['Bears', 'Eagles', 185, -215], ['Vikings', 'Chiefs', -172, 140], ['Jets', 'Dolphins', -175, 155], ['Titans', 'Panthers', 165, -190], ['Lions', 'Raiders', 115, -135], ['Buccaneers', 'Seahawks', 200, -240], ['Packers', 'Chargers', -190, 165], ['Browns', 'Broncos', -200, 170], ['Patriots', 'Ravens', -170, 150])\n",
      "(['Bears', 'Eagles', 185, -215], ['Vikings', 'Chiefs', -172, 140], ['Jets', 'Dolphins', -175, 155], ['Titans', 'Panthers', 165, -190], ['Lions', 'Raiders', 115, -135], ['Buccaneers', 'Seahawks', 200, -240], ['Packers', 'Chargers', -190, 165], ['Browns', 'Broncos', -200, 170], ['Cowboys', 'Giants', -320, 260])\n",
      "(['Bears', 'Eagles', 185, -215], ['Vikings', 'Chiefs', -172, 140], ['Jets', 'Dolphins', -175, 155], ['Titans', 'Panthers', 165, -190], ['Lions', 'Raiders', 115, -135], ['Buccaneers', 'Seahawks', 200, -240], ['Packers', 'Chargers', -190, 165], ['Patriots', 'Ravens', -170, 150], ['Cowboys', 'Giants', -320, 260])\n",
      "(['Bears', 'Eagles', 185, -215], ['Vikings', 'Chiefs', -172, 140], ['Jets', 'Dolphins', -175, 155], ['Titans', 'Panthers', 165, -190], ['Lions', 'Raiders', 115, -135], ['Buccaneers', 'Seahawks', 200, -240], ['Browns', 'Broncos', -200, 170], ['Patriots', 'Ravens', -170, 150], ['Cowboys', 'Giants', -320, 260])\n",
      "(['Bears', 'Eagles', 185, -215], ['Vikings', 'Chiefs', -172, 140], ['Jets', 'Dolphins', -175, 155], ['Titans', 'Panthers', 165, -190], ['Lions', 'Raiders', 115, -135], ['Packers', 'Chargers', -190, 165], ['Browns', 'Broncos', -200, 170], ['Patriots', 'Ravens', -170, 150], ['Cowboys', 'Giants', -320, 260])\n",
      "(['Bears', 'Eagles', 185, -215], ['Vikings', 'Chiefs', -172, 140], ['Jets', 'Dolphins', -175, 155], ['Titans', 'Panthers', 165, -190], ['Buccaneers', 'Seahawks', 200, -240], ['Packers', 'Chargers', -190, 165], ['Browns', 'Broncos', -200, 170], ['Patriots', 'Ravens', -170, 150], ['Cowboys', 'Giants', -320, 260])\n",
      "(['Bears', 'Eagles', 185, -215], ['Vikings', 'Chiefs', -172, 140], ['Jets', 'Dolphins', -175, 155], ['Lions', 'Raiders', 115, -135], ['Buccaneers', 'Seahawks', 200, -240], ['Packers', 'Chargers', -190, 165], ['Browns', 'Broncos', -200, 170], ['Patriots', 'Ravens', -170, 150], ['Cowboys', 'Giants', -320, 260])\n",
      "(['Bears', 'Eagles', 185, -215], ['Vikings', 'Chiefs', -172, 140], ['Redskins', 'Bills', 375, -500], ['Titans', 'Panthers', 165, -190], ['Lions', 'Raiders', 115, -135], ['Buccaneers', 'Seahawks', 200, -240], ['Packers', 'Chargers', -190, 165], ['Browns', 'Broncos', -200, 170], ['Patriots', 'Ravens', -170, 150])\n",
      "(['Bears', 'Eagles', 185, -215], ['Vikings', 'Chiefs', -172, 140], ['Redskins', 'Bills', 375, -500], ['Titans', 'Panthers', 165, -190], ['Lions', 'Raiders', 115, -135], ['Buccaneers', 'Seahawks', 200, -240], ['Packers', 'Chargers', -190, 165], ['Browns', 'Broncos', -200, 170], ['Cowboys', 'Giants', -320, 260])\n",
      "(['Bears', 'Eagles', 185, -215], ['Vikings', 'Chiefs', -172, 140], ['Redskins', 'Bills', 375, -500], ['Titans', 'Panthers', 165, -190], ['Lions', 'Raiders', 115, -135], ['Buccaneers', 'Seahawks', 200, -240], ['Packers', 'Chargers', -190, 165], ['Patriots', 'Ravens', -170, 150], ['Cowboys', 'Giants', -320, 260])\n",
      "(['Bears', 'Eagles', 185, -215], ['Vikings', 'Chiefs', -172, 140], ['Redskins', 'Bills', 375, -500], ['Titans', 'Panthers', 165, -190], ['Lions', 'Raiders', 115, -135], ['Buccaneers', 'Seahawks', 200, -240], ['Browns', 'Broncos', -200, 170], ['Patriots', 'Ravens', -170, 150], ['Cowboys', 'Giants', -320, 260])\n",
      "(['Bears', 'Eagles', 185, -215], ['Vikings', 'Chiefs', -172, 140], ['Redskins', 'Bills', 375, -500], ['Titans', 'Panthers', 165, -190], ['Lions', 'Raiders', 115, -135], ['Packers', 'Chargers', -190, 165], ['Browns', 'Broncos', -200, 170], ['Patriots', 'Ravens', -170, 150], ['Cowboys', 'Giants', -320, 260])\n",
      "(['Bears', 'Eagles', 185, -215], ['Vikings', 'Chiefs', -172, 140], ['Redskins', 'Bills', 375, -500], ['Titans', 'Panthers', 165, -190], ['Buccaneers', 'Seahawks', 200, -240], ['Packers', 'Chargers', -190, 165], ['Browns', 'Broncos', -200, 170], ['Patriots', 'Ravens', -170, 150], ['Cowboys', 'Giants', -320, 260])\n",
      "(['Bears', 'Eagles', 185, -215], ['Vikings', 'Chiefs', -172, 140], ['Redskins', 'Bills', 375, -500], ['Lions', 'Raiders', 115, -135], ['Buccaneers', 'Seahawks', 200, -240], ['Packers', 'Chargers', -190, 165], ['Browns', 'Broncos', -200, 170], ['Patriots', 'Ravens', -170, 150], ['Cowboys', 'Giants', -320, 260])\n",
      "(['Bears', 'Eagles', 185, -215], ['Vikings', 'Chiefs', -172, 140], ['Titans', 'Panthers', 165, -190], ['Lions', 'Raiders', 115, -135], ['Buccaneers', 'Seahawks', 200, -240], ['Packers', 'Chargers', -190, 165], ['Browns', 'Broncos', -200, 170], ['Patriots', 'Ravens', -170, 150], ['Cowboys', 'Giants', -320, 260])\n",
      "(['Bears', 'Eagles', 185, -215], ['Colts', 'Steelers', -105, -115], ['Jets', 'Dolphins', -175, 155], ['Redskins', 'Bills', 375, -500], ['Titans', 'Panthers', 165, -190], ['Lions', 'Raiders', 115, -135], ['Buccaneers', 'Seahawks', 200, -240], ['Packers', 'Chargers', -190, 165], ['Browns', 'Broncos', -200, 170])\n",
      "(['Bears', 'Eagles', 185, -215], ['Colts', 'Steelers', -105, -115], ['Jets', 'Dolphins', -175, 155], ['Redskins', 'Bills', 375, -500], ['Titans', 'Panthers', 165, -190], ['Lions', 'Raiders', 115, -135], ['Buccaneers', 'Seahawks', 200, -240], ['Packers', 'Chargers', -190, 165], ['Patriots', 'Ravens', -170, 150])\n",
      "(['Bears', 'Eagles', 185, -215], ['Colts', 'Steelers', -105, -115], ['Jets', 'Dolphins', -175, 155], ['Redskins', 'Bills', 375, -500], ['Titans', 'Panthers', 165, -190], ['Lions', 'Raiders', 115, -135], ['Buccaneers', 'Seahawks', 200, -240], ['Packers', 'Chargers', -190, 165], ['Cowboys', 'Giants', -320, 260])\n",
      "(['Bears', 'Eagles', 185, -215], ['Colts', 'Steelers', -105, -115], ['Jets', 'Dolphins', -175, 155], ['Redskins', 'Bills', 375, -500], ['Titans', 'Panthers', 165, -190], ['Lions', 'Raiders', 115, -135], ['Buccaneers', 'Seahawks', 200, -240], ['Browns', 'Broncos', -200, 170], ['Patriots', 'Ravens', -170, 150])\n",
      "(['Bears', 'Eagles', 185, -215], ['Colts', 'Steelers', -105, -115], ['Jets', 'Dolphins', -175, 155], ['Redskins', 'Bills', 375, -500], ['Titans', 'Panthers', 165, -190], ['Lions', 'Raiders', 115, -135], ['Buccaneers', 'Seahawks', 200, -240], ['Browns', 'Broncos', -200, 170], ['Cowboys', 'Giants', -320, 260])\n",
      "(['Bears', 'Eagles', 185, -215], ['Colts', 'Steelers', -105, -115], ['Jets', 'Dolphins', -175, 155], ['Redskins', 'Bills', 375, -500], ['Titans', 'Panthers', 165, -190], ['Lions', 'Raiders', 115, -135], ['Buccaneers', 'Seahawks', 200, -240], ['Patriots', 'Ravens', -170, 150], ['Cowboys', 'Giants', -320, 260])\n",
      "(['Bears', 'Eagles', 185, -215], ['Colts', 'Steelers', -105, -115], ['Jets', 'Dolphins', -175, 155], ['Redskins', 'Bills', 375, -500], ['Titans', 'Panthers', 165, -190], ['Lions', 'Raiders', 115, -135], ['Packers', 'Chargers', -190, 165], ['Browns', 'Broncos', -200, 170], ['Patriots', 'Ravens', -170, 150])\n",
      "(['Bears', 'Eagles', 185, -215], ['Colts', 'Steelers', -105, -115], ['Jets', 'Dolphins', -175, 155], ['Redskins', 'Bills', 375, -500], ['Titans', 'Panthers', 165, -190], ['Lions', 'Raiders', 115, -135], ['Packers', 'Chargers', -190, 165], ['Browns', 'Broncos', -200, 170], ['Cowboys', 'Giants', -320, 260])\n",
      "(['Bears', 'Eagles', 185, -215], ['Colts', 'Steelers', -105, -115], ['Jets', 'Dolphins', -175, 155], ['Redskins', 'Bills', 375, -500], ['Titans', 'Panthers', 165, -190], ['Lions', 'Raiders', 115, -135], ['Packers', 'Chargers', -190, 165], ['Patriots', 'Ravens', -170, 150], ['Cowboys', 'Giants', -320, 260])\n",
      "(['Bears', 'Eagles', 185, -215], ['Colts', 'Steelers', -105, -115], ['Jets', 'Dolphins', -175, 155], ['Redskins', 'Bills', 375, -500], ['Titans', 'Panthers', 165, -190], ['Lions', 'Raiders', 115, -135], ['Browns', 'Broncos', -200, 170], ['Patriots', 'Ravens', -170, 150], ['Cowboys', 'Giants', -320, 260])\n",
      "(['Bears', 'Eagles', 185, -215], ['Colts', 'Steelers', -105, -115], ['Jets', 'Dolphins', -175, 155], ['Redskins', 'Bills', 375, -500], ['Titans', 'Panthers', 165, -190], ['Buccaneers', 'Seahawks', 200, -240], ['Packers', 'Chargers', -190, 165], ['Browns', 'Broncos', -200, 170], ['Patriots', 'Ravens', -170, 150])\n",
      "(['Bears', 'Eagles', 185, -215], ['Colts', 'Steelers', -105, -115], ['Jets', 'Dolphins', -175, 155], ['Redskins', 'Bills', 375, -500], ['Titans', 'Panthers', 165, -190], ['Buccaneers', 'Seahawks', 200, -240], ['Packers', 'Chargers', -190, 165], ['Browns', 'Broncos', -200, 170], ['Cowboys', 'Giants', -320, 260])\n",
      "(['Bears', 'Eagles', 185, -215], ['Colts', 'Steelers', -105, -115], ['Jets', 'Dolphins', -175, 155], ['Redskins', 'Bills', 375, -500], ['Titans', 'Panthers', 165, -190], ['Buccaneers', 'Seahawks', 200, -240], ['Packers', 'Chargers', -190, 165], ['Patriots', 'Ravens', -170, 150], ['Cowboys', 'Giants', -320, 260])\n",
      "(['Bears', 'Eagles', 185, -215], ['Colts', 'Steelers', -105, -115], ['Jets', 'Dolphins', -175, 155], ['Redskins', 'Bills', 375, -500], ['Titans', 'Panthers', 165, -190], ['Buccaneers', 'Seahawks', 200, -240], ['Browns', 'Broncos', -200, 170], ['Patriots', 'Ravens', -170, 150], ['Cowboys', 'Giants', -320, 260])\n",
      "(['Bears', 'Eagles', 185, -215], ['Colts', 'Steelers', -105, -115], ['Jets', 'Dolphins', -175, 155], ['Redskins', 'Bills', 375, -500], ['Titans', 'Panthers', 165, -190], ['Packers', 'Chargers', -190, 165], ['Browns', 'Broncos', -200, 170], ['Patriots', 'Ravens', -170, 150], ['Cowboys', 'Giants', -320, 260])\n",
      "(['Bears', 'Eagles', 185, -215], ['Colts', 'Steelers', -105, -115], ['Jets', 'Dolphins', -175, 155], ['Redskins', 'Bills', 375, -500], ['Lions', 'Raiders', 115, -135], ['Buccaneers', 'Seahawks', 200, -240], ['Packers', 'Chargers', -190, 165], ['Browns', 'Broncos', -200, 170], ['Patriots', 'Ravens', -170, 150])\n",
      "(['Bears', 'Eagles', 185, -215], ['Colts', 'Steelers', -105, -115], ['Jets', 'Dolphins', -175, 155], ['Redskins', 'Bills', 375, -500], ['Lions', 'Raiders', 115, -135], ['Buccaneers', 'Seahawks', 200, -240], ['Packers', 'Chargers', -190, 165], ['Browns', 'Broncos', -200, 170], ['Cowboys', 'Giants', -320, 260])\n",
      "(['Bears', 'Eagles', 185, -215], ['Colts', 'Steelers', -105, -115], ['Jets', 'Dolphins', -175, 155], ['Redskins', 'Bills', 375, -500], ['Lions', 'Raiders', 115, -135], ['Buccaneers', 'Seahawks', 200, -240], ['Packers', 'Chargers', -190, 165], ['Patriots', 'Ravens', -170, 150], ['Cowboys', 'Giants', -320, 260])\n",
      "(['Bears', 'Eagles', 185, -215], ['Colts', 'Steelers', -105, -115], ['Jets', 'Dolphins', -175, 155], ['Redskins', 'Bills', 375, -500], ['Lions', 'Raiders', 115, -135], ['Buccaneers', 'Seahawks', 200, -240], ['Browns', 'Broncos', -200, 170], ['Patriots', 'Ravens', -170, 150], ['Cowboys', 'Giants', -320, 260])\n",
      "(['Bears', 'Eagles', 185, -215], ['Colts', 'Steelers', -105, -115], ['Jets', 'Dolphins', -175, 155], ['Redskins', 'Bills', 375, -500], ['Lions', 'Raiders', 115, -135], ['Packers', 'Chargers', -190, 165], ['Browns', 'Broncos', -200, 170], ['Patriots', 'Ravens', -170, 150], ['Cowboys', 'Giants', -320, 260])\n",
      "(['Bears', 'Eagles', 185, -215], ['Colts', 'Steelers', -105, -115], ['Jets', 'Dolphins', -175, 155], ['Redskins', 'Bills', 375, -500], ['Buccaneers', 'Seahawks', 200, -240], ['Packers', 'Chargers', -190, 165], ['Browns', 'Broncos', -200, 170], ['Patriots', 'Ravens', -170, 150], ['Cowboys', 'Giants', -320, 260])\n",
      "(['Bears', 'Eagles', 185, -215], ['Colts', 'Steelers', -105, -115], ['Jets', 'Dolphins', -175, 155], ['Titans', 'Panthers', 165, -190], ['Lions', 'Raiders', 115, -135], ['Buccaneers', 'Seahawks', 200, -240], ['Packers', 'Chargers', -190, 165], ['Browns', 'Broncos', -200, 170], ['Patriots', 'Ravens', -170, 150])\n",
      "(['Bears', 'Eagles', 185, -215], ['Colts', 'Steelers', -105, -115], ['Jets', 'Dolphins', -175, 155], ['Titans', 'Panthers', 165, -190], ['Lions', 'Raiders', 115, -135], ['Buccaneers', 'Seahawks', 200, -240], ['Packers', 'Chargers', -190, 165], ['Browns', 'Broncos', -200, 170], ['Cowboys', 'Giants', -320, 260])\n",
      "(['Bears', 'Eagles', 185, -215], ['Colts', 'Steelers', -105, -115], ['Jets', 'Dolphins', -175, 155], ['Titans', 'Panthers', 165, -190], ['Lions', 'Raiders', 115, -135], ['Buccaneers', 'Seahawks', 200, -240], ['Packers', 'Chargers', -190, 165], ['Patriots', 'Ravens', -170, 150], ['Cowboys', 'Giants', -320, 260])\n",
      "(['Bears', 'Eagles', 185, -215], ['Colts', 'Steelers', -105, -115], ['Jets', 'Dolphins', -175, 155], ['Titans', 'Panthers', 165, -190], ['Lions', 'Raiders', 115, -135], ['Buccaneers', 'Seahawks', 200, -240], ['Browns', 'Broncos', -200, 170], ['Patriots', 'Ravens', -170, 150], ['Cowboys', 'Giants', -320, 260])\n",
      "(['Bears', 'Eagles', 185, -215], ['Colts', 'Steelers', -105, -115], ['Jets', 'Dolphins', -175, 155], ['Titans', 'Panthers', 165, -190], ['Lions', 'Raiders', 115, -135], ['Packers', 'Chargers', -190, 165], ['Browns', 'Broncos', -200, 170], ['Patriots', 'Ravens', -170, 150], ['Cowboys', 'Giants', -320, 260])\n",
      "(['Bears', 'Eagles', 185, -215], ['Colts', 'Steelers', -105, -115], ['Jets', 'Dolphins', -175, 155], ['Titans', 'Panthers', 165, -190], ['Buccaneers', 'Seahawks', 200, -240], ['Packers', 'Chargers', -190, 165], ['Browns', 'Broncos', -200, 170], ['Patriots', 'Ravens', -170, 150], ['Cowboys', 'Giants', -320, 260])\n",
      "(['Bears', 'Eagles', 185, -215], ['Colts', 'Steelers', -105, -115], ['Jets', 'Dolphins', -175, 155], ['Lions', 'Raiders', 115, -135], ['Buccaneers', 'Seahawks', 200, -240], ['Packers', 'Chargers', -190, 165], ['Browns', 'Broncos', -200, 170], ['Patriots', 'Ravens', -170, 150], ['Cowboys', 'Giants', -320, 260])\n",
      "(['Bears', 'Eagles', 185, -215], ['Colts', 'Steelers', -105, -115], ['Redskins', 'Bills', 375, -500], ['Titans', 'Panthers', 165, -190], ['Lions', 'Raiders', 115, -135], ['Buccaneers', 'Seahawks', 200, -240], ['Packers', 'Chargers', -190, 165], ['Browns', 'Broncos', -200, 170], ['Patriots', 'Ravens', -170, 150])\n",
      "(['Bears', 'Eagles', 185, -215], ['Colts', 'Steelers', -105, -115], ['Redskins', 'Bills', 375, -500], ['Titans', 'Panthers', 165, -190], ['Lions', 'Raiders', 115, -135], ['Buccaneers', 'Seahawks', 200, -240], ['Packers', 'Chargers', -190, 165], ['Browns', 'Broncos', -200, 170], ['Cowboys', 'Giants', -320, 260])\n",
      "(['Bears', 'Eagles', 185, -215], ['Colts', 'Steelers', -105, -115], ['Redskins', 'Bills', 375, -500], ['Titans', 'Panthers', 165, -190], ['Lions', 'Raiders', 115, -135], ['Buccaneers', 'Seahawks', 200, -240], ['Packers', 'Chargers', -190, 165], ['Patriots', 'Ravens', -170, 150], ['Cowboys', 'Giants', -320, 260])\n",
      "(['Bears', 'Eagles', 185, -215], ['Colts', 'Steelers', -105, -115], ['Redskins', 'Bills', 375, -500], ['Titans', 'Panthers', 165, -190], ['Lions', 'Raiders', 115, -135], ['Buccaneers', 'Seahawks', 200, -240], ['Browns', 'Broncos', -200, 170], ['Patriots', 'Ravens', -170, 150], ['Cowboys', 'Giants', -320, 260])\n",
      "(['Bears', 'Eagles', 185, -215], ['Colts', 'Steelers', -105, -115], ['Redskins', 'Bills', 375, -500], ['Titans', 'Panthers', 165, -190], ['Lions', 'Raiders', 115, -135], ['Packers', 'Chargers', -190, 165], ['Browns', 'Broncos', -200, 170], ['Patriots', 'Ravens', -170, 150], ['Cowboys', 'Giants', -320, 260])\n",
      "(['Bears', 'Eagles', 185, -215], ['Colts', 'Steelers', -105, -115], ['Redskins', 'Bills', 375, -500], ['Titans', 'Panthers', 165, -190], ['Buccaneers', 'Seahawks', 200, -240], ['Packers', 'Chargers', -190, 165], ['Browns', 'Broncos', -200, 170], ['Patriots', 'Ravens', -170, 150], ['Cowboys', 'Giants', -320, 260])\n",
      "(['Bears', 'Eagles', 185, -215], ['Colts', 'Steelers', -105, -115], ['Redskins', 'Bills', 375, -500], ['Lions', 'Raiders', 115, -135], ['Buccaneers', 'Seahawks', 200, -240], ['Packers', 'Chargers', -190, 165], ['Browns', 'Broncos', -200, 170], ['Patriots', 'Ravens', -170, 150], ['Cowboys', 'Giants', -320, 260])\n",
      "(['Bears', 'Eagles', 185, -215], ['Colts', 'Steelers', -105, -115], ['Titans', 'Panthers', 165, -190], ['Lions', 'Raiders', 115, -135], ['Buccaneers', 'Seahawks', 200, -240], ['Packers', 'Chargers', -190, 165], ['Browns', 'Broncos', -200, 170], ['Patriots', 'Ravens', -170, 150], ['Cowboys', 'Giants', -320, 260])\n",
      "(['Bears', 'Eagles', 185, -215], ['Jets', 'Dolphins', -175, 155], ['Redskins', 'Bills', 375, -500], ['Titans', 'Panthers', 165, -190], ['Lions', 'Raiders', 115, -135], ['Buccaneers', 'Seahawks', 200, -240], ['Packers', 'Chargers', -190, 165], ['Browns', 'Broncos', -200, 170], ['Patriots', 'Ravens', -170, 150])\n",
      "(['Bears', 'Eagles', 185, -215], ['Jets', 'Dolphins', -175, 155], ['Redskins', 'Bills', 375, -500], ['Titans', 'Panthers', 165, -190], ['Lions', 'Raiders', 115, -135], ['Buccaneers', 'Seahawks', 200, -240], ['Packers', 'Chargers', -190, 165], ['Browns', 'Broncos', -200, 170], ['Cowboys', 'Giants', -320, 260])\n",
      "(['Bears', 'Eagles', 185, -215], ['Jets', 'Dolphins', -175, 155], ['Redskins', 'Bills', 375, -500], ['Titans', 'Panthers', 165, -190], ['Lions', 'Raiders', 115, -135], ['Buccaneers', 'Seahawks', 200, -240], ['Packers', 'Chargers', -190, 165], ['Patriots', 'Ravens', -170, 150], ['Cowboys', 'Giants', -320, 260])\n",
      "(['Bears', 'Eagles', 185, -215], ['Jets', 'Dolphins', -175, 155], ['Redskins', 'Bills', 375, -500], ['Titans', 'Panthers', 165, -190], ['Lions', 'Raiders', 115, -135], ['Buccaneers', 'Seahawks', 200, -240], ['Browns', 'Broncos', -200, 170], ['Patriots', 'Ravens', -170, 150], ['Cowboys', 'Giants', -320, 260])\n",
      "(['Bears', 'Eagles', 185, -215], ['Jets', 'Dolphins', -175, 155], ['Redskins', 'Bills', 375, -500], ['Titans', 'Panthers', 165, -190], ['Lions', 'Raiders', 115, -135], ['Packers', 'Chargers', -190, 165], ['Browns', 'Broncos', -200, 170], ['Patriots', 'Ravens', -170, 150], ['Cowboys', 'Giants', -320, 260])\n",
      "(['Bears', 'Eagles', 185, -215], ['Jets', 'Dolphins', -175, 155], ['Redskins', 'Bills', 375, -500], ['Titans', 'Panthers', 165, -190], ['Buccaneers', 'Seahawks', 200, -240], ['Packers', 'Chargers', -190, 165], ['Browns', 'Broncos', -200, 170], ['Patriots', 'Ravens', -170, 150], ['Cowboys', 'Giants', -320, 260])\n",
      "(['Bears', 'Eagles', 185, -215], ['Jets', 'Dolphins', -175, 155], ['Redskins', 'Bills', 375, -500], ['Lions', 'Raiders', 115, -135], ['Buccaneers', 'Seahawks', 200, -240], ['Packers', 'Chargers', -190, 165], ['Browns', 'Broncos', -200, 170], ['Patriots', 'Ravens', -170, 150], ['Cowboys', 'Giants', -320, 260])\n",
      "(['Bears', 'Eagles', 185, -215], ['Jets', 'Dolphins', -175, 155], ['Titans', 'Panthers', 165, -190], ['Lions', 'Raiders', 115, -135], ['Buccaneers', 'Seahawks', 200, -240], ['Packers', 'Chargers', -190, 165], ['Browns', 'Broncos', -200, 170], ['Patriots', 'Ravens', -170, 150], ['Cowboys', 'Giants', -320, 260])\n",
      "(['Bears', 'Eagles', 185, -215], ['Redskins', 'Bills', 375, -500], ['Titans', 'Panthers', 165, -190], ['Lions', 'Raiders', 115, -135], ['Buccaneers', 'Seahawks', 200, -240], ['Packers', 'Chargers', -190, 165], ['Browns', 'Broncos', -200, 170], ['Patriots', 'Ravens', -170, 150], ['Cowboys', 'Giants', -320, 260])\n",
      "(['Vikings', 'Chiefs', -172, 140], ['Colts', 'Steelers', -105, -115], ['Jets', 'Dolphins', -175, 155], ['Redskins', 'Bills', 375, -500], ['Titans', 'Panthers', 165, -190], ['Lions', 'Raiders', 115, -135], ['Buccaneers', 'Seahawks', 200, -240], ['Packers', 'Chargers', -190, 165], ['Browns', 'Broncos', -200, 170])\n",
      "(['Vikings', 'Chiefs', -172, 140], ['Colts', 'Steelers', -105, -115], ['Jets', 'Dolphins', -175, 155], ['Redskins', 'Bills', 375, -500], ['Titans', 'Panthers', 165, -190], ['Lions', 'Raiders', 115, -135], ['Buccaneers', 'Seahawks', 200, -240], ['Packers', 'Chargers', -190, 165], ['Patriots', 'Ravens', -170, 150])\n",
      "(['Vikings', 'Chiefs', -172, 140], ['Colts', 'Steelers', -105, -115], ['Jets', 'Dolphins', -175, 155], ['Redskins', 'Bills', 375, -500], ['Titans', 'Panthers', 165, -190], ['Lions', 'Raiders', 115, -135], ['Buccaneers', 'Seahawks', 200, -240], ['Packers', 'Chargers', -190, 165], ['Cowboys', 'Giants', -320, 260])\n",
      "(['Vikings', 'Chiefs', -172, 140], ['Colts', 'Steelers', -105, -115], ['Jets', 'Dolphins', -175, 155], ['Redskins', 'Bills', 375, -500], ['Titans', 'Panthers', 165, -190], ['Lions', 'Raiders', 115, -135], ['Buccaneers', 'Seahawks', 200, -240], ['Browns', 'Broncos', -200, 170], ['Patriots', 'Ravens', -170, 150])\n",
      "(['Vikings', 'Chiefs', -172, 140], ['Colts', 'Steelers', -105, -115], ['Jets', 'Dolphins', -175, 155], ['Redskins', 'Bills', 375, -500], ['Titans', 'Panthers', 165, -190], ['Lions', 'Raiders', 115, -135], ['Buccaneers', 'Seahawks', 200, -240], ['Browns', 'Broncos', -200, 170], ['Cowboys', 'Giants', -320, 260])\n",
      "(['Vikings', 'Chiefs', -172, 140], ['Colts', 'Steelers', -105, -115], ['Jets', 'Dolphins', -175, 155], ['Redskins', 'Bills', 375, -500], ['Titans', 'Panthers', 165, -190], ['Lions', 'Raiders', 115, -135], ['Buccaneers', 'Seahawks', 200, -240], ['Patriots', 'Ravens', -170, 150], ['Cowboys', 'Giants', -320, 260])\n",
      "(['Vikings', 'Chiefs', -172, 140], ['Colts', 'Steelers', -105, -115], ['Jets', 'Dolphins', -175, 155], ['Redskins', 'Bills', 375, -500], ['Titans', 'Panthers', 165, -190], ['Lions', 'Raiders', 115, -135], ['Packers', 'Chargers', -190, 165], ['Browns', 'Broncos', -200, 170], ['Patriots', 'Ravens', -170, 150])\n",
      "(['Vikings', 'Chiefs', -172, 140], ['Colts', 'Steelers', -105, -115], ['Jets', 'Dolphins', -175, 155], ['Redskins', 'Bills', 375, -500], ['Titans', 'Panthers', 165, -190], ['Lions', 'Raiders', 115, -135], ['Packers', 'Chargers', -190, 165], ['Browns', 'Broncos', -200, 170], ['Cowboys', 'Giants', -320, 260])\n",
      "(['Vikings', 'Chiefs', -172, 140], ['Colts', 'Steelers', -105, -115], ['Jets', 'Dolphins', -175, 155], ['Redskins', 'Bills', 375, -500], ['Titans', 'Panthers', 165, -190], ['Lions', 'Raiders', 115, -135], ['Packers', 'Chargers', -190, 165], ['Patriots', 'Ravens', -170, 150], ['Cowboys', 'Giants', -320, 260])\n",
      "(['Vikings', 'Chiefs', -172, 140], ['Colts', 'Steelers', -105, -115], ['Jets', 'Dolphins', -175, 155], ['Redskins', 'Bills', 375, -500], ['Titans', 'Panthers', 165, -190], ['Lions', 'Raiders', 115, -135], ['Browns', 'Broncos', -200, 170], ['Patriots', 'Ravens', -170, 150], ['Cowboys', 'Giants', -320, 260])\n",
      "(['Vikings', 'Chiefs', -172, 140], ['Colts', 'Steelers', -105, -115], ['Jets', 'Dolphins', -175, 155], ['Redskins', 'Bills', 375, -500], ['Titans', 'Panthers', 165, -190], ['Buccaneers', 'Seahawks', 200, -240], ['Packers', 'Chargers', -190, 165], ['Browns', 'Broncos', -200, 170], ['Patriots', 'Ravens', -170, 150])\n",
      "(['Vikings', 'Chiefs', -172, 140], ['Colts', 'Steelers', -105, -115], ['Jets', 'Dolphins', -175, 155], ['Redskins', 'Bills', 375, -500], ['Titans', 'Panthers', 165, -190], ['Buccaneers', 'Seahawks', 200, -240], ['Packers', 'Chargers', -190, 165], ['Browns', 'Broncos', -200, 170], ['Cowboys', 'Giants', -320, 260])\n",
      "(['Vikings', 'Chiefs', -172, 140], ['Colts', 'Steelers', -105, -115], ['Jets', 'Dolphins', -175, 155], ['Redskins', 'Bills', 375, -500], ['Titans', 'Panthers', 165, -190], ['Buccaneers', 'Seahawks', 200, -240], ['Packers', 'Chargers', -190, 165], ['Patriots', 'Ravens', -170, 150], ['Cowboys', 'Giants', -320, 260])\n",
      "(['Vikings', 'Chiefs', -172, 140], ['Colts', 'Steelers', -105, -115], ['Jets', 'Dolphins', -175, 155], ['Redskins', 'Bills', 375, -500], ['Titans', 'Panthers', 165, -190], ['Buccaneers', 'Seahawks', 200, -240], ['Browns', 'Broncos', -200, 170], ['Patriots', 'Ravens', -170, 150], ['Cowboys', 'Giants', -320, 260])\n",
      "(['Vikings', 'Chiefs', -172, 140], ['Colts', 'Steelers', -105, -115], ['Jets', 'Dolphins', -175, 155], ['Redskins', 'Bills', 375, -500], ['Titans', 'Panthers', 165, -190], ['Packers', 'Chargers', -190, 165], ['Browns', 'Broncos', -200, 170], ['Patriots', 'Ravens', -170, 150], ['Cowboys', 'Giants', -320, 260])\n",
      "(['Vikings', 'Chiefs', -172, 140], ['Colts', 'Steelers', -105, -115], ['Jets', 'Dolphins', -175, 155], ['Redskins', 'Bills', 375, -500], ['Lions', 'Raiders', 115, -135], ['Buccaneers', 'Seahawks', 200, -240], ['Packers', 'Chargers', -190, 165], ['Browns', 'Broncos', -200, 170], ['Patriots', 'Ravens', -170, 150])\n",
      "(['Vikings', 'Chiefs', -172, 140], ['Colts', 'Steelers', -105, -115], ['Jets', 'Dolphins', -175, 155], ['Redskins', 'Bills', 375, -500], ['Lions', 'Raiders', 115, -135], ['Buccaneers', 'Seahawks', 200, -240], ['Packers', 'Chargers', -190, 165], ['Browns', 'Broncos', -200, 170], ['Cowboys', 'Giants', -320, 260])\n",
      "(['Vikings', 'Chiefs', -172, 140], ['Colts', 'Steelers', -105, -115], ['Jets', 'Dolphins', -175, 155], ['Redskins', 'Bills', 375, -500], ['Lions', 'Raiders', 115, -135], ['Buccaneers', 'Seahawks', 200, -240], ['Packers', 'Chargers', -190, 165], ['Patriots', 'Ravens', -170, 150], ['Cowboys', 'Giants', -320, 260])\n",
      "(['Vikings', 'Chiefs', -172, 140], ['Colts', 'Steelers', -105, -115], ['Jets', 'Dolphins', -175, 155], ['Redskins', 'Bills', 375, -500], ['Lions', 'Raiders', 115, -135], ['Buccaneers', 'Seahawks', 200, -240], ['Browns', 'Broncos', -200, 170], ['Patriots', 'Ravens', -170, 150], ['Cowboys', 'Giants', -320, 260])\n",
      "(['Vikings', 'Chiefs', -172, 140], ['Colts', 'Steelers', -105, -115], ['Jets', 'Dolphins', -175, 155], ['Redskins', 'Bills', 375, -500], ['Lions', 'Raiders', 115, -135], ['Packers', 'Chargers', -190, 165], ['Browns', 'Broncos', -200, 170], ['Patriots', 'Ravens', -170, 150], ['Cowboys', 'Giants', -320, 260])\n",
      "(['Vikings', 'Chiefs', -172, 140], ['Colts', 'Steelers', -105, -115], ['Jets', 'Dolphins', -175, 155], ['Redskins', 'Bills', 375, -500], ['Buccaneers', 'Seahawks', 200, -240], ['Packers', 'Chargers', -190, 165], ['Browns', 'Broncos', -200, 170], ['Patriots', 'Ravens', -170, 150], ['Cowboys', 'Giants', -320, 260])\n",
      "(['Vikings', 'Chiefs', -172, 140], ['Colts', 'Steelers', -105, -115], ['Jets', 'Dolphins', -175, 155], ['Titans', 'Panthers', 165, -190], ['Lions', 'Raiders', 115, -135], ['Buccaneers', 'Seahawks', 200, -240], ['Packers', 'Chargers', -190, 165], ['Browns', 'Broncos', -200, 170], ['Patriots', 'Ravens', -170, 150])\n",
      "(['Vikings', 'Chiefs', -172, 140], ['Colts', 'Steelers', -105, -115], ['Jets', 'Dolphins', -175, 155], ['Titans', 'Panthers', 165, -190], ['Lions', 'Raiders', 115, -135], ['Buccaneers', 'Seahawks', 200, -240], ['Packers', 'Chargers', -190, 165], ['Browns', 'Broncos', -200, 170], ['Cowboys', 'Giants', -320, 260])\n",
      "(['Vikings', 'Chiefs', -172, 140], ['Colts', 'Steelers', -105, -115], ['Jets', 'Dolphins', -175, 155], ['Titans', 'Panthers', 165, -190], ['Lions', 'Raiders', 115, -135], ['Buccaneers', 'Seahawks', 200, -240], ['Packers', 'Chargers', -190, 165], ['Patriots', 'Ravens', -170, 150], ['Cowboys', 'Giants', -320, 260])\n",
      "(['Vikings', 'Chiefs', -172, 140], ['Colts', 'Steelers', -105, -115], ['Jets', 'Dolphins', -175, 155], ['Titans', 'Panthers', 165, -190], ['Lions', 'Raiders', 115, -135], ['Buccaneers', 'Seahawks', 200, -240], ['Browns', 'Broncos', -200, 170], ['Patriots', 'Ravens', -170, 150], ['Cowboys', 'Giants', -320, 260])\n",
      "(['Vikings', 'Chiefs', -172, 140], ['Colts', 'Steelers', -105, -115], ['Jets', 'Dolphins', -175, 155], ['Titans', 'Panthers', 165, -190], ['Lions', 'Raiders', 115, -135], ['Packers', 'Chargers', -190, 165], ['Browns', 'Broncos', -200, 170], ['Patriots', 'Ravens', -170, 150], ['Cowboys', 'Giants', -320, 260])\n",
      "(['Vikings', 'Chiefs', -172, 140], ['Colts', 'Steelers', -105, -115], ['Jets', 'Dolphins', -175, 155], ['Titans', 'Panthers', 165, -190], ['Buccaneers', 'Seahawks', 200, -240], ['Packers', 'Chargers', -190, 165], ['Browns', 'Broncos', -200, 170], ['Patriots', 'Ravens', -170, 150], ['Cowboys', 'Giants', -320, 260])\n",
      "(['Vikings', 'Chiefs', -172, 140], ['Colts', 'Steelers', -105, -115], ['Jets', 'Dolphins', -175, 155], ['Lions', 'Raiders', 115, -135], ['Buccaneers', 'Seahawks', 200, -240], ['Packers', 'Chargers', -190, 165], ['Browns', 'Broncos', -200, 170], ['Patriots', 'Ravens', -170, 150], ['Cowboys', 'Giants', -320, 260])\n",
      "(['Vikings', 'Chiefs', -172, 140], ['Colts', 'Steelers', -105, -115], ['Redskins', 'Bills', 375, -500], ['Titans', 'Panthers', 165, -190], ['Lions', 'Raiders', 115, -135], ['Buccaneers', 'Seahawks', 200, -240], ['Packers', 'Chargers', -190, 165], ['Browns', 'Broncos', -200, 170], ['Patriots', 'Ravens', -170, 150])\n",
      "(['Vikings', 'Chiefs', -172, 140], ['Colts', 'Steelers', -105, -115], ['Redskins', 'Bills', 375, -500], ['Titans', 'Panthers', 165, -190], ['Lions', 'Raiders', 115, -135], ['Buccaneers', 'Seahawks', 200, -240], ['Packers', 'Chargers', -190, 165], ['Browns', 'Broncos', -200, 170], ['Cowboys', 'Giants', -320, 260])\n",
      "(['Vikings', 'Chiefs', -172, 140], ['Colts', 'Steelers', -105, -115], ['Redskins', 'Bills', 375, -500], ['Titans', 'Panthers', 165, -190], ['Lions', 'Raiders', 115, -135], ['Buccaneers', 'Seahawks', 200, -240], ['Packers', 'Chargers', -190, 165], ['Patriots', 'Ravens', -170, 150], ['Cowboys', 'Giants', -320, 260])\n",
      "(['Vikings', 'Chiefs', -172, 140], ['Colts', 'Steelers', -105, -115], ['Redskins', 'Bills', 375, -500], ['Titans', 'Panthers', 165, -190], ['Lions', 'Raiders', 115, -135], ['Buccaneers', 'Seahawks', 200, -240], ['Browns', 'Broncos', -200, 170], ['Patriots', 'Ravens', -170, 150], ['Cowboys', 'Giants', -320, 260])\n",
      "(['Vikings', 'Chiefs', -172, 140], ['Colts', 'Steelers', -105, -115], ['Redskins', 'Bills', 375, -500], ['Titans', 'Panthers', 165, -190], ['Lions', 'Raiders', 115, -135], ['Packers', 'Chargers', -190, 165], ['Browns', 'Broncos', -200, 170], ['Patriots', 'Ravens', -170, 150], ['Cowboys', 'Giants', -320, 260])\n",
      "(['Vikings', 'Chiefs', -172, 140], ['Colts', 'Steelers', -105, -115], ['Redskins', 'Bills', 375, -500], ['Titans', 'Panthers', 165, -190], ['Buccaneers', 'Seahawks', 200, -240], ['Packers', 'Chargers', -190, 165], ['Browns', 'Broncos', -200, 170], ['Patriots', 'Ravens', -170, 150], ['Cowboys', 'Giants', -320, 260])\n",
      "(['Vikings', 'Chiefs', -172, 140], ['Colts', 'Steelers', -105, -115], ['Redskins', 'Bills', 375, -500], ['Lions', 'Raiders', 115, -135], ['Buccaneers', 'Seahawks', 200, -240], ['Packers', 'Chargers', -190, 165], ['Browns', 'Broncos', -200, 170], ['Patriots', 'Ravens', -170, 150], ['Cowboys', 'Giants', -320, 260])\n",
      "(['Vikings', 'Chiefs', -172, 140], ['Colts', 'Steelers', -105, -115], ['Titans', 'Panthers', 165, -190], ['Lions', 'Raiders', 115, -135], ['Buccaneers', 'Seahawks', 200, -240], ['Packers', 'Chargers', -190, 165], ['Browns', 'Broncos', -200, 170], ['Patriots', 'Ravens', -170, 150], ['Cowboys', 'Giants', -320, 260])\n",
      "(['Vikings', 'Chiefs', -172, 140], ['Jets', 'Dolphins', -175, 155], ['Redskins', 'Bills', 375, -500], ['Titans', 'Panthers', 165, -190], ['Lions', 'Raiders', 115, -135], ['Buccaneers', 'Seahawks', 200, -240], ['Packers', 'Chargers', -190, 165], ['Browns', 'Broncos', -200, 170], ['Patriots', 'Ravens', -170, 150])\n",
      "(['Vikings', 'Chiefs', -172, 140], ['Jets', 'Dolphins', -175, 155], ['Redskins', 'Bills', 375, -500], ['Titans', 'Panthers', 165, -190], ['Lions', 'Raiders', 115, -135], ['Buccaneers', 'Seahawks', 200, -240], ['Packers', 'Chargers', -190, 165], ['Browns', 'Broncos', -200, 170], ['Cowboys', 'Giants', -320, 260])\n",
      "(['Vikings', 'Chiefs', -172, 140], ['Jets', 'Dolphins', -175, 155], ['Redskins', 'Bills', 375, -500], ['Titans', 'Panthers', 165, -190], ['Lions', 'Raiders', 115, -135], ['Buccaneers', 'Seahawks', 200, -240], ['Packers', 'Chargers', -190, 165], ['Patriots', 'Ravens', -170, 150], ['Cowboys', 'Giants', -320, 260])\n",
      "(['Vikings', 'Chiefs', -172, 140], ['Jets', 'Dolphins', -175, 155], ['Redskins', 'Bills', 375, -500], ['Titans', 'Panthers', 165, -190], ['Lions', 'Raiders', 115, -135], ['Buccaneers', 'Seahawks', 200, -240], ['Browns', 'Broncos', -200, 170], ['Patriots', 'Ravens', -170, 150], ['Cowboys', 'Giants', -320, 260])\n",
      "(['Vikings', 'Chiefs', -172, 140], ['Jets', 'Dolphins', -175, 155], ['Redskins', 'Bills', 375, -500], ['Titans', 'Panthers', 165, -190], ['Lions', 'Raiders', 115, -135], ['Packers', 'Chargers', -190, 165], ['Browns', 'Broncos', -200, 170], ['Patriots', 'Ravens', -170, 150], ['Cowboys', 'Giants', -320, 260])\n",
      "(['Vikings', 'Chiefs', -172, 140], ['Jets', 'Dolphins', -175, 155], ['Redskins', 'Bills', 375, -500], ['Titans', 'Panthers', 165, -190], ['Buccaneers', 'Seahawks', 200, -240], ['Packers', 'Chargers', -190, 165], ['Browns', 'Broncos', -200, 170], ['Patriots', 'Ravens', -170, 150], ['Cowboys', 'Giants', -320, 260])\n",
      "(['Vikings', 'Chiefs', -172, 140], ['Jets', 'Dolphins', -175, 155], ['Redskins', 'Bills', 375, -500], ['Lions', 'Raiders', 115, -135], ['Buccaneers', 'Seahawks', 200, -240], ['Packers', 'Chargers', -190, 165], ['Browns', 'Broncos', -200, 170], ['Patriots', 'Ravens', -170, 150], ['Cowboys', 'Giants', -320, 260])\n",
      "(['Vikings', 'Chiefs', -172, 140], ['Jets', 'Dolphins', -175, 155], ['Titans', 'Panthers', 165, -190], ['Lions', 'Raiders', 115, -135], ['Buccaneers', 'Seahawks', 200, -240], ['Packers', 'Chargers', -190, 165], ['Browns', 'Broncos', -200, 170], ['Patriots', 'Ravens', -170, 150], ['Cowboys', 'Giants', -320, 260])\n",
      "(['Vikings', 'Chiefs', -172, 140], ['Redskins', 'Bills', 375, -500], ['Titans', 'Panthers', 165, -190], ['Lions', 'Raiders', 115, -135], ['Buccaneers', 'Seahawks', 200, -240], ['Packers', 'Chargers', -190, 165], ['Browns', 'Broncos', -200, 170], ['Patriots', 'Ravens', -170, 150], ['Cowboys', 'Giants', -320, 260])\n",
      "(['Colts', 'Steelers', -105, -115], ['Jets', 'Dolphins', -175, 155], ['Redskins', 'Bills', 375, -500], ['Titans', 'Panthers', 165, -190], ['Lions', 'Raiders', 115, -135], ['Buccaneers', 'Seahawks', 200, -240], ['Packers', 'Chargers', -190, 165], ['Browns', 'Broncos', -200, 170], ['Patriots', 'Ravens', -170, 150])\n",
      "(['Colts', 'Steelers', -105, -115], ['Jets', 'Dolphins', -175, 155], ['Redskins', 'Bills', 375, -500], ['Titans', 'Panthers', 165, -190], ['Lions', 'Raiders', 115, -135], ['Buccaneers', 'Seahawks', 200, -240], ['Packers', 'Chargers', -190, 165], ['Browns', 'Broncos', -200, 170], ['Cowboys', 'Giants', -320, 260])\n",
      "(['Colts', 'Steelers', -105, -115], ['Jets', 'Dolphins', -175, 155], ['Redskins', 'Bills', 375, -500], ['Titans', 'Panthers', 165, -190], ['Lions', 'Raiders', 115, -135], ['Buccaneers', 'Seahawks', 200, -240], ['Packers', 'Chargers', -190, 165], ['Patriots', 'Ravens', -170, 150], ['Cowboys', 'Giants', -320, 260])\n",
      "(['Colts', 'Steelers', -105, -115], ['Jets', 'Dolphins', -175, 155], ['Redskins', 'Bills', 375, -500], ['Titans', 'Panthers', 165, -190], ['Lions', 'Raiders', 115, -135], ['Buccaneers', 'Seahawks', 200, -240], ['Browns', 'Broncos', -200, 170], ['Patriots', 'Ravens', -170, 150], ['Cowboys', 'Giants', -320, 260])\n",
      "(['Colts', 'Steelers', -105, -115], ['Jets', 'Dolphins', -175, 155], ['Redskins', 'Bills', 375, -500], ['Titans', 'Panthers', 165, -190], ['Lions', 'Raiders', 115, -135], ['Packers', 'Chargers', -190, 165], ['Browns', 'Broncos', -200, 170], ['Patriots', 'Ravens', -170, 150], ['Cowboys', 'Giants', -320, 260])\n",
      "(['Colts', 'Steelers', -105, -115], ['Jets', 'Dolphins', -175, 155], ['Redskins', 'Bills', 375, -500], ['Titans', 'Panthers', 165, -190], ['Buccaneers', 'Seahawks', 200, -240], ['Packers', 'Chargers', -190, 165], ['Browns', 'Broncos', -200, 170], ['Patriots', 'Ravens', -170, 150], ['Cowboys', 'Giants', -320, 260])\n",
      "(['Colts', 'Steelers', -105, -115], ['Jets', 'Dolphins', -175, 155], ['Redskins', 'Bills', 375, -500], ['Lions', 'Raiders', 115, -135], ['Buccaneers', 'Seahawks', 200, -240], ['Packers', 'Chargers', -190, 165], ['Browns', 'Broncos', -200, 170], ['Patriots', 'Ravens', -170, 150], ['Cowboys', 'Giants', -320, 260])\n",
      "(['Colts', 'Steelers', -105, -115], ['Jets', 'Dolphins', -175, 155], ['Titans', 'Panthers', 165, -190], ['Lions', 'Raiders', 115, -135], ['Buccaneers', 'Seahawks', 200, -240], ['Packers', 'Chargers', -190, 165], ['Browns', 'Broncos', -200, 170], ['Patriots', 'Ravens', -170, 150], ['Cowboys', 'Giants', -320, 260])\n",
      "(['Colts', 'Steelers', -105, -115], ['Redskins', 'Bills', 375, -500], ['Titans', 'Panthers', 165, -190], ['Lions', 'Raiders', 115, -135], ['Buccaneers', 'Seahawks', 200, -240], ['Packers', 'Chargers', -190, 165], ['Browns', 'Broncos', -200, 170], ['Patriots', 'Ravens', -170, 150], ['Cowboys', 'Giants', -320, 260])\n",
      "(['Jets', 'Dolphins', -175, 155], ['Redskins', 'Bills', 375, -500], ['Titans', 'Panthers', 165, -190], ['Lions', 'Raiders', 115, -135], ['Buccaneers', 'Seahawks', 200, -240], ['Packers', 'Chargers', -190, 165], ['Browns', 'Broncos', -200, 170], ['Patriots', 'Ravens', -170, 150], ['Cowboys', 'Giants', -320, 260])\n"
     ]
    }
   ],
   "source": [
    "for x in range(len(parlay9)):\n",
    "    print(parlay9[x])"
   ]
  },
  {
   "cell_type": "code",
   "execution_count": 10,
   "metadata": {},
   "outputs": [
    {
     "name": "stdout",
     "output_type": "stream",
     "text": [
      "['000000000', '000000001', '000000010', '000000011', '000000100', '000000101', '000000110', '000000111', '000001000', '000001001', '000001010', '000001011', '000001100', '000001101', '000001110', '000001111', '000010000', '000010001', '000010010', '000010011', '000010100', '000010101', '000010110', '000010111', '000011000', '000011001', '000011010', '000011011', '000011100', '000011101', '000011110', '000011111', '000100000', '000100001', '000100010', '000100011', '000100100', '000100101', '000100110', '000100111', '000101000', '000101001', '000101010', '000101011', '000101100', '000101101', '000101110', '000101111', '000110000', '000110001', '000110010', '000110011', '000110100', '000110101', '000110110', '000110111', '000111000', '000111001', '000111010', '000111011', '000111100', '000111101', '000111110', '000111111', '001000000', '001000001', '001000010', '001000011', '001000100', '001000101', '001000110', '001000111', '001001000', '001001001', '001001010', '001001011', '001001100', '001001101', '001001110', '001001111', '001010000', '001010001', '001010010', '001010011', '001010100', '001010101', '001010110', '001010111', '001011000', '001011001', '001011010', '001011011', '001011100', '001011101', '001011110', '001011111', '001100000', '001100001', '001100010', '001100011', '001100100', '001100101', '001100110', '001100111', '001101000', '001101001', '001101010', '001101011', '001101100', '001101101', '001101110', '001101111', '001110000', '001110001', '001110010', '001110011', '001110100', '001110101', '001110110', '001110111', '001111000', '001111001', '001111010', '001111011', '001111100', '001111101', '001111110', '001111111', '010000000', '010000001', '010000010', '010000011', '010000100', '010000101', '010000110', '010000111', '010001000', '010001001', '010001010', '010001011', '010001100', '010001101', '010001110', '010001111', '010010000', '010010001', '010010010', '010010011', '010010100', '010010101', '010010110', '010010111', '010011000', '010011001', '010011010', '010011011', '010011100', '010011101', '010011110', '010011111', '010100000', '010100001', '010100010', '010100011', '010100100', '010100101', '010100110', '010100111', '010101000', '010101001', '010101010', '010101011', '010101100', '010101101', '010101110', '010101111', '010110000', '010110001', '010110010', '010110011', '010110100', '010110101', '010110110', '010110111', '010111000', '010111001', '010111010', '010111011', '010111100', '010111101', '010111110', '010111111', '011000000', '011000001', '011000010', '011000011', '011000100', '011000101', '011000110', '011000111', '011001000', '011001001', '011001010', '011001011', '011001100', '011001101', '011001110', '011001111', '011010000', '011010001', '011010010', '011010011', '011010100', '011010101', '011010110', '011010111', '011011000', '011011001', '011011010', '011011011', '011011100', '011011101', '011011110', '011011111', '011100000', '011100001', '011100010', '011100011', '011100100', '011100101', '011100110', '011100111', '011101000', '011101001', '011101010', '011101011', '011101100', '011101101', '011101110', '011101111', '011110000', '011110001', '011110010', '011110011', '011110100', '011110101', '011110110', '011110111', '011111000', '011111001', '011111010', '011111011', '011111100', '011111101', '011111110', '011111111', '100000000', '100000001', '100000010', '100000011', '100000100', '100000101', '100000110', '100000111', '100001000', '100001001', '100001010', '100001011', '100001100', '100001101', '100001110', '100001111', '100010000', '100010001', '100010010', '100010011', '100010100', '100010101', '100010110', '100010111', '100011000', '100011001', '100011010', '100011011', '100011100', '100011101', '100011110', '100011111', '100100000', '100100001', '100100010', '100100011', '100100100', '100100101', '100100110', '100100111', '100101000', '100101001', '100101010', '100101011', '100101100', '100101101', '100101110', '100101111', '100110000', '100110001', '100110010', '100110011', '100110100', '100110101', '100110110', '100110111', '100111000', '100111001', '100111010', '100111011', '100111100', '100111101', '100111110', '100111111', '101000000', '101000001', '101000010', '101000011', '101000100', '101000101', '101000110', '101000111', '101001000', '101001001', '101001010', '101001011', '101001100', '101001101', '101001110', '101001111', '101010000', '101010001', '101010010', '101010011', '101010100', '101010101', '101010110', '101010111', '101011000', '101011001', '101011010', '101011011', '101011100', '101011101', '101011110', '101011111', '101100000', '101100001', '101100010', '101100011', '101100100', '101100101', '101100110', '101100111', '101101000', '101101001', '101101010', '101101011', '101101100', '101101101', '101101110', '101101111', '101110000', '101110001', '101110010', '101110011', '101110100', '101110101', '101110110', '101110111', '101111000', '101111001', '101111010', '101111011', '101111100', '101111101', '101111110', '101111111', '110000000', '110000001', '110000010', '110000011', '110000100', '110000101', '110000110', '110000111', '110001000', '110001001', '110001010', '110001011', '110001100', '110001101', '110001110', '110001111', '110010000', '110010001', '110010010', '110010011', '110010100', '110010101', '110010110', '110010111', '110011000', '110011001', '110011010', '110011011', '110011100', '110011101', '110011110', '110011111', '110100000', '110100001', '110100010', '110100011', '110100100', '110100101', '110100110', '110100111', '110101000', '110101001', '110101010', '110101011', '110101100', '110101101', '110101110', '110101111', '110110000', '110110001', '110110010', '110110011', '110110100', '110110101', '110110110', '110110111', '110111000', '110111001', '110111010', '110111011', '110111100', '110111101', '110111110', '110111111', '111000000', '111000001', '111000010', '111000011', '111000100', '111000101', '111000110', '111000111', '111001000', '111001001', '111001010', '111001011', '111001100', '111001101', '111001110', '111001111', '111010000', '111010001', '111010010', '111010011', '111010100', '111010101', '111010110', '111010111', '111011000', '111011001', '111011010', '111011011', '111011100', '111011101', '111011110', '111011111', '111100000', '111100001', '111100010', '111100011', '111100100', '111100101', '111100110', '111100111', '111101000', '111101001', '111101010', '111101011', '111101100', '111101101', '111101110', '111101111', '111110000', '111110001', '111110010', '111110011', '111110100', '111110101', '111110110', '111110111', '111111000', '111111001', '111111010', '111111011', '111111100', '111111101', '111111110', '111111111']\n"
     ]
    }
   ],
   "source": [
    "n = 9                      # for 9 digits\n",
    "outcomes = []\n",
    "for i in range(512):\n",
    "    b = bin(i)[2:]\n",
    "    l = len(b)\n",
    "    b = str(0) * (n - l) + b\n",
    "    outcomes.append(b)\n",
    "print(outcomes)"
   ]
  },
  {
   "cell_type": "code",
   "execution_count": 5,
   "metadata": {},
   "outputs": [
    {
     "name": "stdout",
     "output_type": "stream",
     "text": [
      "1101\n",
      "512\n"
     ]
    }
   ],
   "source": [
    "print(bin(13)[2:])\n",
    "print(2**9)"
   ]
  },
  {
   "cell_type": "code",
   "execution_count": 6,
   "metadata": {},
   "outputs": [
    {
     "ename": "SyntaxError",
     "evalue": "unexpected EOF while parsing (<ipython-input-6-5bf2ec34d5f1>, line 8)",
     "output_type": "error",
     "traceback": [
      "\u001b[0;36m  File \u001b[0;32m\"<ipython-input-6-5bf2ec34d5f1>\"\u001b[0;36m, line \u001b[0;32m8\u001b[0m\n\u001b[0;31m    print(type(outcomes[0])\u001b[0m\n\u001b[0m                           ^\u001b[0m\n\u001b[0;31mSyntaxError\u001b[0m\u001b[0;31m:\u001b[0m unexpected EOF while parsing\n"
     ]
    }
   ],
   "source": [
    "n = 9                      # for 9 digits\n",
    "outcomes = []\n",
    "for i in range(512):\n",
    "    b = bin(i)[2:]\n",
    "    l = len(b)\n",
    "    b = str(0) * (n - l) + b\n",
    "    outcomes.append(b)\n",
    "print(type(outcomes[0])"
   ]
  },
  {
   "cell_type": "code",
   "execution_count": 8,
   "metadata": {},
   "outputs": [
    {
     "name": "stdout",
     "output_type": "stream",
     "text": [
      "2.1\n",
      "14.304230769230772\n",
      "0\n",
      "['Texans', 'Jaguars', -130, 110]\n",
      "215.31390379646197\n"
     ]
    }
   ],
   "source": [
    "match = ['Texans', 'Jaguars', -130, 110]\n",
    "binary = str(0)\n",
    "#print(match, binary)\n",
    "\n",
    "#def binary2winner(game, winner):\n",
    "#    if (winner == str(0)):\n",
    "#        print(game[0], game[2])\n",
    "#    elif (winner == str(1)):\n",
    "#        print(game[1], game[3])\n",
    "#    else:\n",
    "#        print('Error!')\n",
    "\n",
    "#print(binary2winner(match, binary))\n",
    "\n",
    "def american2decimal(american):\n",
    "    if (american >= 0):\n",
    "        return (abs(american)/100 + 1)\n",
    "    else:\n",
    "        return (100/abs(american) + 1)\n",
    "    \n",
    "print(american2decimal(match[3]))\n",
    "\n",
    "testList = [-130,110,110,-120]\n",
    "\n",
    "def findParlayPayout(oddsList):\n",
    "    parlayPayout = 1\n",
    "    for x in oddsList:\n",
    "        x = american2decimal(x)\n",
    "        parlayPayout = x * parlayPayout\n",
    "    return parlayPayout\n",
    "\n",
    "print(findParlayPayout(testList))\n",
    "\n",
    "print(outcomes[167][2])\n",
    "\n",
    "testGames = (['Texans', 'Jaguars', -130, 110], ['Bears', 'Eagles', 185, -215], ['Vikings', 'Chiefs', -172, 140], \n",
    "             ['Colts', 'Steelers', -105, -115], ['Jets', 'Dolphins', -175, 155], ['Redskins', 'Bills', 375, -500], \n",
    "             ['Titans', 'Panthers', 165, -190], ['Lions', 'Raiders', 115, -135], ['Buccaneers', 'Seahawks', 200, -240])\n",
    "print(testGames[0])\n",
    "\n",
    "def getOdds(parlayGames, winners):\n",
    "    oddsGames = []\n",
    "    for x in range(len(winners)):\n",
    "        if (winners[x] == str(0)):\n",
    "            oddsGames.append(parlayGames[x][2])\n",
    "        else:\n",
    "            oddsGames.append(parlayGames[x][3])\n",
    "    return oddsGames\n",
    "\n",
    "def teamsOnTicket(parlayGames, winners):\n",
    "    ticketTeams = []\n",
    "    for x in range(len(winners)):\n",
    "        if (winners[x] == str(0)):\n",
    "            ticketTeams.append(parlayGames[x][0])\n",
    "        else:\n",
    "            ticketTeams.append(parlayGames[x][1])\n",
    "    return ticketTeams\n",
    "\n",
    "odds = getOdds(testGames,outcomes[167])\n",
    "print(findParlayPayout(odds))\n",
    "\n"
   ]
  },
  {
   "cell_type": "code",
   "execution_count": 9,
   "metadata": {},
   "outputs": [
    {
     "name": "stdout",
     "output_type": "stream",
     "text": [
      "[(['Texans', 'Jaguars', -130, 110], ['Bears', 'Eagles', 185, -215], ['Vikings', 'Chiefs', -172, 140], ['Colts', 'Steelers', -105, -115], ['Jets', 'Dolphins', -175, 155], ['Redskins', 'Bills', 375, -500], ['Titans', 'Panthers', 165, -190], ['Lions', 'Raiders', 115, -135], ['Buccaneers', 'Seahawks', 200, -240]), '000000000', ['Texans', 'Bears', 'Vikings', 'Colts', 'Jets', 'Redskins', 'Titans', 'Lions', 'Buccaneers'], 1986.223912676609] 366080 <class 'list'>\n"
     ]
    }
   ],
   "source": [
    "allOdds = []\n",
    "for x in range(len(parlay9)):\n",
    "    for r in range(len(outcomes)):\n",
    "        allOdds.append([parlay9[x],outcomes[r],teamsOnTicket(parlay9[x], outcomes[r]),\n",
    "                        findParlayPayout(getOdds(parlay9[x],outcomes[r]))])\n",
    "print(allOdds[0],len(allOdds),type(allOdds))"
   ]
  },
  {
   "cell_type": "code",
   "execution_count": 59,
   "metadata": {},
   "outputs": [
    {
     "name": "stdout",
     "output_type": "stream",
     "text": [
      "[[(['Bears', 'Eagles', 185, -215], ['Vikings', 'Chiefs', -172, 140], ['Jets', 'Dolphins', -175, 155], ['Redskins', 'Bills', 375, -500], ['Titans', 'Panthers', 165, -190], ['Buccaneers', 'Seahawks', 200, -240], ['Packers', 'Chargers', -190, 165], ['Browns', 'Broncos', -200, 170], ['Cowboys', 'Giants', -320, 260]), '100111000', ['Eagles', 'Vikings', 'Jets', 'Bills', 'Panthers', 'Seahawks', 'Packers', 'Browns', 'Cowboys'], 28.388044840439314], [(['Bears', 'Eagles', 185, -215], ['Jets', 'Dolphins', -175, 155], ['Redskins', 'Bills', 375, -500], ['Titans', 'Panthers', 165, -190], ['Buccaneers', 'Seahawks', 200, -240], ['Packers', 'Chargers', -190, 165], ['Browns', 'Broncos', -200, 170], ['Patriots', 'Ravens', -170, 150], ['Cowboys', 'Giants', -320, 260]), '101110000', ['Eagles', 'Jets', 'Bills', 'Panthers', 'Seahawks', 'Packers', 'Browns', 'Patriots', 'Cowboys'], 28.510830501513876], [(['Bears', 'Eagles', 185, -215], ['Vikings', 'Chiefs', -172, 140], ['Redskins', 'Bills', 375, -500], ['Titans', 'Panthers', 165, -190], ['Buccaneers', 'Seahawks', 200, -240], ['Packers', 'Chargers', -190, 165], ['Browns', 'Broncos', -200, 170], ['Patriots', 'Ravens', -170, 150], ['Cowboys', 'Giants', -320, 260]), '101110000', ['Eagles', 'Vikings', 'Bills', 'Panthers', 'Seahawks', 'Packers', 'Browns', 'Patriots', 'Cowboys'], 28.691660293278243], [(['Bears', 'Eagles', 185, -215], ['Vikings', 'Chiefs', -172, 140], ['Jets', 'Dolphins', -175, 155], ['Redskins', 'Bills', 375, -500], ['Titans', 'Panthers', 165, -190], ['Buccaneers', 'Seahawks', 200, -240], ['Browns', 'Broncos', -200, 170], ['Patriots', 'Ravens', -170, 150], ['Cowboys', 'Giants', -320, 260]), '100111000', ['Eagles', 'Vikings', 'Jets', 'Bills', 'Panthers', 'Seahawks', 'Browns', 'Patriots', 'Cowboys'], 29.539689661552476], [(['Bears', 'Eagles', 185, -215], ['Vikings', 'Chiefs', -172, 140], ['Jets', 'Dolphins', -175, 155], ['Redskins', 'Bills', 375, -500], ['Buccaneers', 'Seahawks', 200, -240], ['Packers', 'Chargers', -190, 165], ['Browns', 'Broncos', -200, 170], ['Patriots', 'Ravens', -170, 150], ['Cowboys', 'Giants', -320, 260]), '100110000', ['Eagles', 'Vikings', 'Jets', 'Bills', 'Seahawks', 'Packers', 'Browns', 'Patriots', 'Cowboys'], 29.539689661552476], [(['Bears', 'Eagles', 185, -215], ['Vikings', 'Chiefs', -172, 140], ['Jets', 'Dolphins', -175, 155], ['Redskins', 'Bills', 375, -500], ['Titans', 'Panthers', 165, -190], ['Buccaneers', 'Seahawks', 200, -240], ['Packers', 'Chargers', -190, 165], ['Patriots', 'Ravens', -170, 150], ['Cowboys', 'Giants', -320, 260]), '100111000', ['Eagles', 'Vikings', 'Jets', 'Bills', 'Panthers', 'Seahawks', 'Packers', 'Patriots', 'Cowboys'], 30.057929831053396], [(['Vikings', 'Chiefs', -172, 140], ['Jets', 'Dolphins', -175, 155], ['Redskins', 'Bills', 375, -500], ['Titans', 'Panthers', 165, -190], ['Buccaneers', 'Seahawks', 200, -240], ['Packers', 'Chargers', -190, 165], ['Browns', 'Broncos', -200, 170], ['Patriots', 'Ravens', -170, 150], ['Cowboys', 'Giants', -320, 260]), '001110000', ['Vikings', 'Jets', 'Bills', 'Panthers', 'Seahawks', 'Packers', 'Browns', 'Patriots', 'Cowboys'], 30.77359482703086], [(['Bears', 'Eagles', 185, -215], ['Jets', 'Dolphins', -175, 155], ['Redskins', 'Bills', 375, -500], ['Titans', 'Panthers', 165, -190], ['Lions', 'Raiders', 115, -135], ['Buccaneers', 'Seahawks', 200, -240], ['Packers', 'Chargers', -190, 165], ['Browns', 'Broncos', -200, 170], ['Cowboys', 'Giants', -320, 260]), '101111000', ['Eagles', 'Jets', 'Bills', 'Panthers', 'Raiders', 'Seahawks', 'Packers', 'Browns', 'Cowboys'], 31.24849598176898], [(['Bears', 'Eagles', 185, -215], ['Vikings', 'Chiefs', -172, 140], ['Redskins', 'Bills', 375, -500], ['Titans', 'Panthers', 165, -190], ['Lions', 'Raiders', 115, -135], ['Buccaneers', 'Seahawks', 200, -240], ['Packers', 'Chargers', -190, 165], ['Browns', 'Broncos', -200, 170], ['Cowboys', 'Giants', -320, 260]), '101111000', ['Eagles', 'Vikings', 'Bills', 'Panthers', 'Raiders', 'Seahawks', 'Packers', 'Browns', 'Cowboys'], 31.44668940237217], [(['Bears', 'Eagles', 185, -215], ['Redskins', 'Bills', 375, -500], ['Titans', 'Panthers', 165, -190], ['Lions', 'Raiders', 115, -135], ['Buccaneers', 'Seahawks', 200, -240], ['Packers', 'Chargers', -190, 165], ['Browns', 'Broncos', -200, 170], ['Patriots', 'Ravens', -170, 150], ['Cowboys', 'Giants', -320, 260]), '111110000', ['Eagles', 'Bills', 'Panthers', 'Raiders', 'Seahawks', 'Packers', 'Browns', 'Patriots', 'Cowboys'], 31.582704494942984]]\n"
     ]
    }
   ],
   "source": [
    "sortedOdds = sorted(allOdds, key=lambda x: x[3])\n",
    "print(sortedOdds[:10])"
   ]
  },
  {
   "cell_type": "code",
   "execution_count": 63,
   "metadata": {},
   "outputs": [
    {
     "name": "stdout",
     "output_type": "stream",
     "text": [
      "5\n"
     ]
    }
   ],
   "source": [
    "winnersWk9 = ['Raiders', 'Seahawks', 'Chargers', 'Broncos', 'Ravens', 'Cowboys','49ers', 'Texans','Eagles','Chiefs',\n",
    "              'Steelers','Dolphins','Bills','Panthers']\n",
    "\n",
    "print(len(set(winnersWk9).intersection(sortedOdds[0][2])))"
   ]
  },
  {
   "cell_type": "code",
   "execution_count": 71,
   "metadata": {},
   "outputs": [
    {
     "name": "stdout",
     "output_type": "stream",
     "text": [
      "[[(['Bears', 'Eagles', 185, -215], ['Vikings', 'Chiefs', -172, 140], ['Jets', 'Dolphins', -175, 155], ['Redskins', 'Bills', 375, -500], ['Titans', 'Panthers', 165, -190], ['Buccaneers', 'Seahawks', 200, -240], ['Packers', 'Chargers', -190, 165], ['Browns', 'Broncos', -200, 170], ['Cowboys', 'Giants', -320, 260]), '100111000', ['Eagles', 'Vikings', 'Jets', 'Bills', 'Panthers', 'Seahawks', 'Packers', 'Browns', 'Cowboys'], 28.388044840439314, 0, 0, 0, 0], [(['Bears', 'Eagles', 185, -215], ['Jets', 'Dolphins', -175, 155], ['Redskins', 'Bills', 375, -500], ['Titans', 'Panthers', 165, -190], ['Buccaneers', 'Seahawks', 200, -240], ['Packers', 'Chargers', -190, 165], ['Browns', 'Broncos', -200, 170], ['Patriots', 'Ravens', -170, 150], ['Cowboys', 'Giants', -320, 260]), '101110000', ['Eagles', 'Jets', 'Bills', 'Panthers', 'Seahawks', 'Packers', 'Browns', 'Patriots', 'Cowboys'], 28.510830501513876, 0, 0, 0, 0], [(['Bears', 'Eagles', 185, -215], ['Vikings', 'Chiefs', -172, 140], ['Redskins', 'Bills', 375, -500], ['Titans', 'Panthers', 165, -190], ['Buccaneers', 'Seahawks', 200, -240], ['Packers', 'Chargers', -190, 165], ['Browns', 'Broncos', -200, 170], ['Patriots', 'Ravens', -170, 150], ['Cowboys', 'Giants', -320, 260]), '101110000', ['Eagles', 'Vikings', 'Bills', 'Panthers', 'Seahawks', 'Packers', 'Browns', 'Patriots', 'Cowboys'], 28.691660293278243, 0, 0, 0, 0]]\n"
     ]
    }
   ],
   "source": [
    "sortedOddsWins = sortedOdds\n",
    "#print(sortedOddsWins[:3])\n",
    "print(sortedOdds[:3])"
   ]
  },
  {
   "cell_type": "code",
   "execution_count": 69,
   "metadata": {},
   "outputs": [
    {
     "name": "stdout",
     "output_type": "stream",
     "text": [
      "[[(['Bears', 'Eagles', 185, -215], ['Vikings', 'Chiefs', -172, 140], ['Jets', 'Dolphins', -175, 155], ['Redskins', 'Bills', 375, -500], ['Titans', 'Panthers', 165, -190], ['Buccaneers', 'Seahawks', 200, -240], ['Packers', 'Chargers', -190, 165], ['Browns', 'Broncos', -200, 170], ['Cowboys', 'Giants', -320, 260]), '100111000', ['Eagles', 'Vikings', 'Jets', 'Bills', 'Panthers', 'Seahawks', 'Packers', 'Browns', 'Cowboys'], 28.388044840439314, 0, 0, 0, 0], [(['Bears', 'Eagles', 185, -215], ['Jets', 'Dolphins', -175, 155], ['Redskins', 'Bills', 375, -500], ['Titans', 'Panthers', 165, -190], ['Buccaneers', 'Seahawks', 200, -240], ['Packers', 'Chargers', -190, 165], ['Browns', 'Broncos', -200, 170], ['Patriots', 'Ravens', -170, 150], ['Cowboys', 'Giants', -320, 260]), '101110000', ['Eagles', 'Jets', 'Bills', 'Panthers', 'Seahawks', 'Packers', 'Browns', 'Patriots', 'Cowboys'], 28.510830501513876, 0, 0, 0, 0], [(['Bears', 'Eagles', 185, -215], ['Vikings', 'Chiefs', -172, 140], ['Redskins', 'Bills', 375, -500], ['Titans', 'Panthers', 165, -190], ['Buccaneers', 'Seahawks', 200, -240], ['Packers', 'Chargers', -190, 165], ['Browns', 'Broncos', -200, 170], ['Patriots', 'Ravens', -170, 150], ['Cowboys', 'Giants', -320, 260]), '101110000', ['Eagles', 'Vikings', 'Bills', 'Panthers', 'Seahawks', 'Packers', 'Browns', 'Patriots', 'Cowboys'], 28.691660293278243, 0, 0, 0, 0]]\n"
     ]
    }
   ],
   "source": [
    "for x in range(len(sortedOddsWins)):\n",
    "    if (len(set(winnersWk9).intersection(sortedOddsWins[x][2]))== 9):\n",
    "        sortedOddsWins[x].append(1)\n",
    "    else:\n",
    "        sortedOddsWins[x].append(0)\n",
    "\n",
    "print(sortedOddsWins[:3])"
   ]
  },
  {
   "cell_type": "code",
   "execution_count": 82,
   "metadata": {},
   "outputs": [
    {
     "name": "stdout",
     "output_type": "stream",
     "text": [
      "715 \n",
      " 366080 \n",
      " 0.001953125 \n",
      " [3673, 4281, 4582, 5258, 5611, 9711, 10298, 11384, 11488, 11553, 11883, 12006, 12075, 12566, 12840, 13319, 13414, 13493, 13539, 13927, 14018, 14029, 14212, 14608, 14841, 15462, 15566, 15615, 15694, 16212, 16267, 16395, 16814, 17053, 17648, 18038, 18564, 18726, 19380, 19488, 19493, 20138, 20231, 21094, 21318, 21322, 21450, 22220, 22228, 22270, 23016, 23123, 23249, 23377, 23925, 23954, 24337, 24399, 24563, 25025, 25157, 25295, 25408, 25431, 26194, 26267, 26736, 27170, 27306, 27348, 27617, 27639, 27778, 27857, 28282, 28645, 28786, 28864, 29017, 29072, 29607, 29646, 29964, 30255, 30351, 30798, 30877, 31062, 31406, 31416, 31571, 32050, 32216, 32306, 32440, 32604, 32761, 32920, 33510, 33566, 34000, 34094, 34617, 35077, 35218, 35474, 35534, 36162, 36212, 36330, 36356, 36583, 36812, 36886, 37323, 37475, 37561, 38289, 38494, 38714, 38898, 39082, 39121, 40145, 40338, 40508, 40586, 40597, 40645, 41119, 41357, 41537, 41541, 41596, 41621, 41754, 41945, 41954, 42797, 42890, 42896, 43072, 43112, 43172, 43306, 43738, 44161, 44346, 44545, 44556, 44602, 44742, 44819, 44827, 44978, 44997, 45202, 45970, 46059, 46154, 46164, 46168, 46357, 46369, 46426, 46617, 47250, 47461, 47471, 47569, 47663, 47679, 47695, 47745, 47957, 48207, 48389, 48903, 48981, 49119, 49188, 49300, 49369, 49560, 49564, 49574, 49765, 50046, 50451, 50502, 50924, 50941, 50969, 51047, 51174, 51257, 51296, 52111, 52380, 52459, 52509, 52522, 52712, 52722, 52919, 52967, 53114, 53860, 53910, 54073, 54117, 54177, 54366, 54585, 54600, 54927, 54979, 55389, 55518, 55550, 55650, 55797, 55865, 56118, 56353, 56606, 57011, 57186, 57307, 57347, 57505, 57612, 57628, 57920, 57993, 58117, 58571, 58908, 59027, 59095, 59303, 59361, 59378, 59434, 59595, 59904, 60187, 60606, 60640, 60748, 60937, 61104, 61155, 61461, 62110, 62178, 62416, 62479, 62504, 62545, 62678, 62745, 62887, 62988, 63188, 63280, 63981, 64111, 64366, 64597, 64697, 64705, 64901, 65255, 65907, 66029, 66190, 66243, 66427, 66438, 66496, 66511, 66646, 66828, 67007, 67415, 68135, 68150, 68162, 68241, 68384, 68683, 68777, 68996, 69044, 69292, 69748, 69837, 69967, 70075, 70321, 70364, 70373, 70642, 70955, 71446, 71615, 72286, 72300, 72395, 72410, 72480, 73244, 73254, 73519, 73856, 74006, 74104, 74360, 74378, 74391, 74682, 74782, 75008, 75145, 75269, 75405, 75509, 75780, 75889, 75987, 76115, 76699, 76726, 76780, 76810, 77057, 77061, 77424, 77552, 77586, 77953, 78493, 78505, 78758, 78882, 79205, 79373, 79411, 79663, 79802, 79806, 79899, 80364, 80615, 80886, 81161, 81255, 81507, 81524, 81908, 82028, 82042, 82168, 82416, 82872, 82989, 83107, 83152, 83422, 83490, 83593, 83855, 84104, 84116, 84245, 84918, 85156, 85200, 85282, 85480, 85487, 85693, 85818, 86146, 86655, 86777, 87363, 87710, 87753, 87779, 87889, 87976, 88134, 88456, 88471, 88729, 89023, 89339, 89858, 89956, 90006, 90550, 90851, 91585, 91594, 91670, 91814, 92237, 92342, 92435, 92507, 92707, 93221, 93730, 93772, 93783, 94131, 94169, 94391, 94595, 94729, 95622, 95670, 95939, 96035, 96311, 96385, 96452, 96674, 96906, 97069, 97239, 97889, 98142, 98290, 98364, 98382, 98692, 99095, 99630, 99708, 100094, 100386, 100593, 100701, 100758, 100778, 100981, 101564, 101631, 101857, 102345, 102391, 102598, 103007, 103029, 103052, 103164, 103394, 103435, 104617, 104976, 105086, 105091, 105386, 105396, 105730, 105783, 105796, 105808, 106631, 107157, 107472, 107541, 107635, 107805, 108098, 108107, 108512, 109089, 109420, 109521, 109607, 109835, 109940, 110102, 110242, 110253, 110530, 110998, 111917, 111968, 112009, 112381, 112392, 112754, 112833, 112844, 113013, 114270, 114791, 114797, 114876, 114900, 115138, 115529, 115544, 116911, 117071, 117170, 117219, 117240, 117315, 117368, 118053, 118415, 118957, 119105, 119218, 119429, 119443, 119560, 119885, 120121, 120214, 120858, 121148, 121456, 121544, 121599, 121831, 121961, 122222, 122644, 122665, 123518, 123748, 123963, 124327, 124380, 124488, 124597, 124784, 124800, 125253, 126477, 126482, 126612, 126770, 127073, 127162, 127175, 128015, 128154, 128597, 128758, 128928, 129053, 129130, 129278, 129495, 130230, 130961, 131278, 131291, 131561, 131634, 131869, 131992, 132093, 132501, 132605, 133407, 134067, 134083, 134537, 134553, 134564, 134722, 136384, 136485, 136665, 136704, 137099, 137568, 138401, 138626, 139022, 139082, 139124, 139305, 139716, 140059, 141177, 141249, 141263, 141481, 141930, 142055, 142261, 142419, 143528, 143774, 144178, 144319, 144633, 144656, 145869, 146640, 146755, 146846, 146970, 147532, 148020, 148175, 148762, 149045, 149524, 149898, 150601, 151027, 151250, 151471, 151708, 151943, 152607, 152622, 153764, 154356, 154701, 155091, 155690, 156366, 156576, 156921, 157394, 158286, 158656, 159251, 159352, 160298, 161373, 161869, 162078, 162280, 164312, 164922, 165010, 165030, 166313, 166758, 167235, 167591, 168845, 169008, 169611, 169916, 170693, 171119, 172055, 172061, 172303, 172990, 174559, 175686, 175700, 176813, 176909, 177717, 178881, 179336, 179773, 180449, 181475, 181624, 182104, 182808, 184611, 186227, 187541, 189361, 190073, 190564, 192388, 192838, 193261, 195187, 195322, 197488, 199968, 199983, 200910, 202986, 203144, 205219, 205704, 207637, 209840, 210522, 213213, 215463, 216117, 217979, 220207, 220673, 221124, 223563, 225745, 228006, 230226, 232993, 242932, 247228, 252414]\n"
     ]
    }
   ],
   "source": [
    "count = 0\n",
    "winners = []\n",
    "for x in range(len(sortedOddsWins)):\n",
    "    if (sortedOddsWins[x][4]==1):\n",
    "        winners.append(x)\n",
    "        count += 1\n",
    "print(count,'\\n', len(sortedOddsWins),'\\n', count/len(sortedOddsWins),'\\n',winners)"
   ]
  },
  {
   "cell_type": "code",
   "execution_count": 88,
   "metadata": {},
   "outputs": [
    {
     "name": "stdout",
     "output_type": "stream",
     "text": [
      "{3673: 68.95014170040486, 4281: 71.82306427125505, 4582: 73.25952555668013, 5258: 76.13244812753035, 5611: 77.56890941295545, 9711: 92.20077087844834, 10298: 94.04478629601732, 11384: 97.42954805491989, 11488: 97.73281713115523, 11553: 97.96331905835135, 11883: 99.02413967611332, 12006: 99.37813901601828, 12075: 99.5768325487242, 12566: 101.00462246963559, 12840: 101.8050178449534, 13319: 103.27532093821507, 13414: 103.51889480835237, 13493: 103.72586723825441, 13539: 103.84111820185244, 13927: 104.96558805668012, 14018: 105.21314840587043, 14029: 105.22391189931349, 14212: 105.80038458301948, 14608: 106.9460708502024, 14841: 107.5784593106407, 15462: 109.33915422570848, 15566: 109.60824156178488, 15615: 109.7300284968535, 15694: 109.94941927254968, 16212: 111.40215713562753, 16267: 111.52593731022266, 16395: 111.80040639302058, 16814: 112.9355769230769, 17053: 113.63020027834007, 17648: 115.1942884615384, 18038: 116.18473605549197, 18564: 117.65301956815114, 18726: 118.08628656376519, 19380: 119.71171153846149, 19488: 119.99405048076919, 19493: 120.00607995951414, 20138: 121.67672064777327, 20231: 121.97042307692304, 21094: 124.11025506072869, 21318: 124.69969951923078, 21322: 124.71220074224019, 21450: 125.00633329116059, 22220: 127.05252403846156, 22228: 127.06526113360323, 22270: 127.19369350961534, 23016: 128.97732388663965, 23123: 129.28151568825908, 23249: 129.59357451923074, 23377: 129.90854243983352, 23925: 131.33360323886637, 23954: 131.41085829959513, 24337: 132.35964701417004, 24399: 132.5067132886302, 24563: 132.88937194002443, 25025: 133.96027530364367, 25157: 134.35137904858297, 25295: 134.67567548076923, 25408: 135.00683995445343, 25431: 135.0643207442802, 26194: 136.88631072874492, 26267: 137.0384066295546, 26736: 138.10071985924108, 27170: 139.21361943319835, 27306: 139.5419534412955, 27348: 139.6240369433198, 27617: 140.30122583502023, 27639: 140.36096077346764, 27778: 140.70639381884942, 27857: 140.8627342564259, 28282: 141.8402914979757, 28645: 142.72392305491985, 28786: 143.00928078806135, 28864: 143.16817998893697, 29017: 143.52052169522642, 29072: 143.6461285425101, 29607: 145.0141869095816, 29646: 145.0994893724696, 29964: 145.8694664038226, 30255: 146.51905111336026, 30351: 146.73201485044365, 30798: 147.75030364372466, 30877: 147.91447064777321, 31062: 148.3209396453089, 31406: 149.13352082180936, 31416: 149.1487774479804, 31571: 149.5005434325275, 32050: 150.70530971659915, 32216: 151.1194479405034, 32306: 151.28735843821505, 32440: 151.58983763534505, 32604: 151.9473608373152, 32761: 152.2648962550607, 32920: 152.62401157641693, 33510: 154.0388741055456, 33566: 154.14183689931346, 34000: 155.1378188259109, 34094: 155.36330984164624, 34617: 156.61532186234814, 35077: 157.59099837314068, 35218: 157.9060808701511, 35474: 158.47057603847912, 35534: 158.60926693235487, 36162: 160.0796142665474, 36212: 160.18661481693363, 36330: 160.4732464574898, 36356: 160.56441343678486, 36583: 161.0642024875541, 36812: 161.60189461032385, 36886: 161.78145227100194, 37323: 162.77453804347823, 37475: 163.0999843470483, 37561: 163.2812065518783, 38289: 164.8339325025303, 38494: 165.43860576923072, 38714: 165.96138758120702, 38898: 166.36198403398924, 39082: 166.76631494601892, 39121: 166.86105710097254, 40145: 169.15785326086953, 40338: 169.5738086384439, 40508: 169.91284919028345, 40586: 170.0845901582066, 40597: 170.10164124493923, 40645: 170.19827824299196, 41119: 171.2980082869433, 41357: 171.92639423076918, 41537: 172.3491573886639, 41541: 172.3495108695652, 41596: 172.46967729027395, 41621: 172.5410103260869, 41754: 172.88598340787118, 41945: 173.29373336873883, 41954: 173.31110617408902, 42797: 175.17028846153843, 42890: 175.36492211538456, 42896: 175.37318649885574, 43072: 175.7238221448074, 43112: 175.7965010869565, 43172: 175.91907083607944, 43306: 176.22376191838288, 43738: 177.189209630145, 44161: 178.24345141700397, 44346: 178.6736942307692, 44545: 179.1079478744939, 44556: 179.13292627812822, 44602: 179.2382985877036, 44742: 179.5487385583524, 44819: 179.73021908967388, 44827: 179.74823715675052, 44978: 180.08956604986582, 44997: 180.10762014170044, 45202: 180.53240226467605, 45970: 182.250566361556, 46059: 182.48734311740887, 46154: 182.67179387019226, 46164: 182.69010683198374, 46168: 182.6904815217391, 46357: 183.12135529891302, 46369: 183.1397133295194, 46426: 183.24903212091607, 46617: 183.69135737086313, 47250: 185.23339068825905, 47461: 185.68050576923073, 47471: 185.68925629290612, 47569: 185.89557768878709, 47663: 186.11843149038455, 47679: 186.13708997975704, 47695: 186.15774691648613, 47745: 186.26725147349583, 47957: 186.70656102885786, 48207: 187.23774703828175, 48389: 187.61210431427125, 48903: 188.72836032388662, 48981: 188.9380585020242, 49119: 189.29169336384433, 49188: 189.40304141876422, 49300: 189.67015723566516, 49369: 189.8809018548159, 49560: 190.30219461664976, 49564: 190.30258491847823, 49574: 190.32166287185353, 49765: 190.77053471824937, 50046: 191.36434640055663, 50451: 192.38975708502016, 50502: 192.50292753036433, 50924: 193.4171935096154, 50941: 193.4365837044534, 50969: 193.46356038037848, 51047: 193.64122675915323, 51174: 193.89280206224694, 51257: 194.02838695155825, 51296: 194.10863661684778, 52111: 195.9266381167027, 52380: 196.5616826923077, 52459: 196.71489702517158, 52509: 196.81047760627524, 52522: 196.83061167048052, 52712: 197.28553737980764, 52722: 197.29483481121272, 52919: 197.79260609876656, 52967: 197.90895469058933, 53114: 198.25173215818074, 53860: 199.9344534412955, 53910: 200.05206194331979, 54073: 200.42649885583523, 54117: 200.5238828441295, 54177: 200.64919496567498, 54366: 201.05036666980504, 54585: 201.49644135880564, 54600: 201.52454206289423, 54927: 202.21676680134433, 54979: 202.30286302784572, 55389: 203.2840384615384, 55518: 203.6100356899068, 55550: 203.70680161943315, 55650: 203.93314251012137, 55797: 204.26998397435895, 55865: 204.4350288329519, 56118: 205.0318871567505, 56353: 205.52637018598176, 56606: 206.11989817931456, 57011: 207.03778961670474, 57186: 207.45173447650882, 57307: 207.68223640370488, 57347: 207.7809376518218, 57505: 208.1241346153846, 57612: 208.35538365384613, 57628: 208.38756452429146, 57920: 209.00957808924477, 57993: 209.1325248998855, 58117: 209.42746528104698, 58571: 210.42629681174085, 58908: 211.2559615384615, 59027: 211.60076916603896, 59095: 211.775435222672, 59303: 212.2866173076923, 59361: 212.43035678137647, 59378: 212.45208878718532, 59434: 212.55531581477726, 59595: 212.9531550343249, 59904: 213.6160145866679, 60187: 214.20303144124847, 60606: 215.1569186212814, 60640: 215.241923076923, 60748: 215.48108076923066, 60937: 215.92920971659913, 61104: 216.33566292052595, 61155: 216.43847672064777, 61461: 217.0368579727564, 62110: 218.4870920700734, 62178: 218.67830845141697, 62416: 219.21648312356976, 62479: 219.41769230769222, 62504: 219.460056993707, 62545: 219.54676153846145, 62678: 219.89883854509935, 62745: 220.08035425101207, 62887: 220.41746788129058, 62988: 220.61158269230765, 63188: 221.13189302884615, 63280: 221.30425915331801, 63981: 222.80431427125507, 64111: 223.05187462044532, 64366: 223.60081278604116, 64597: 224.23281376518216, 64697: 224.45945913461532, 64705: 224.48196133603227, 64901: 224.9262601214575, 65255: 225.73034433638438, 65907: 227.26040055668014, 66029: 227.59072090632648, 66190: 228.0223076923076, 66243: 228.15643846153841, 66427: 228.5830094466936, 66438: 228.6042260351115, 66496: 228.69454326923068, 66511: 228.71747004048575, 66646: 229.06129015114516, 66828: 229.42478532388662, 67007: 229.80373197115384, 67415: 230.72344404069764, 68135: 232.32461538461533, 68150: 232.3457027296305, 68162: 232.36947211098393, 68241: 232.58275384615374, 68384: 232.91751331879286, 68683: 233.642515954168, 68777: 233.83537639170035, 68996: 234.39980661057695, 69044: 234.49960515429336, 69292: 235.07671656976743, 69748: 236.17257312753037, 69837: 236.40048582995942, 69967: 236.72958391320847, 70075: 236.9711076923076, 70321: 237.54704903283846, 70364: 237.66295673076922, 70373: 237.68678259109308, 70642: 238.24736462550604, 70955: 238.92412600626116, 71446: 239.98810096153838, 71615: 240.3610148026315, 72286: 242.0290688259109, 72300: 242.05153344894165, 72395: 242.27370192307686, 72410: 242.2979900134952, 72480: 242.41621586538452, 73244: 244.29491029858295, 73254: 244.2954113372093, 73519: 244.89612828947367, 73856: 245.67109311740887, 74006: 246.01309700784407, 74104: 246.26409230769224, 74360: 246.84490384615378, 74378: 246.86965020242909, 74391: 246.89256411792044, 74682: 247.59039853238863, 74782: 247.79825951086949, 75008: 248.29369957513413, 75145: 248.58129574663394, 75269: 248.90424822874488, 75405: 249.18131956395348, 75509: 249.39939903846147, 75780: 250.01266658232117, 75889: 250.30639676113356, 75987: 250.58451497975696, 76115: 250.93335894800094, 76699: 252.39373959739086, 76726: 252.47369836956517, 76780: 252.5422065030364, 76810: 252.6497293922417, 77057: 253.25957356663682, 77061: 253.27150887392895, 77424: 254.10504807692308, 77552: 254.3873870192307, 77586: 254.49989802631578, 77953: 255.31252469635618, 78493: 256.52509615384616, 78505: 256.5508129554655, 78758: 257.1558856275303, 78882: 257.41670541851045, 79205: 258.14906400171617, 79373: 258.56303137651815, 79411: 258.6651991396761, 79663: 259.1871490384615, 79802: 259.56387454578487, 79806: 259.58989598684207, 79899: 259.81708487966705, 80364: 261.02553643724684, 80615: 261.655598076923, 80886: 262.37462771739126, 81161: 263.0198010583523, 81255: 263.2037249082007, 81507: 263.81205579858005, 81524: 263.8385031224696, 81908: 264.7192940283401, 82028: 264.98686147836537, 82042: 265.0134265772604, 82168: 265.32478056680156, 82416: 265.9505465587044, 82872: 266.97769136155597, 82989: 267.2404301619433, 83107: 267.5114781800207, 83152: 267.62212027173905, 83422: 268.30997001223983, 83490: 268.4677994063647, 83593: 268.70275809716594, 83855: 269.35135096153846, 84104: 269.98661358173075, 84116: 270.01367990890685, 84245: 270.40614165296046, 84918: 272.0150062929061, 85156: 272.58523876518217, 85200: 272.7012952170228, 85282: 272.8617077436211, 85480: 273.33430306064076, 85487: 273.3724222766217, 85693: 273.77262145748983, 85818: 274.0768132591092, 86146: 274.8317740859058, 86655: 276.0556526846463, 86777: 276.379979757085, 87363: 277.8466026739478, 87710: 278.6147572115384, 87753: 278.7730419497283, 87779: 278.80098912185343, 87889: 279.083906882591, 87976: 279.2480738866396, 88134: 279.6539577149632, 88456: 280.5743239182692, 88471: 280.60245167004047, 88729: 281.26424990511134, 89023: 281.9075793522266, 89339: 282.68226144164754, 89858: 283.8716394230769, 89956: 284.09290942472455, 90006: 284.23094556627194, 90550: 285.4966804782388, 90851: 286.1858103966346, 91585: 288.14330567978527, 91594: 288.1663970251715, 91670: 288.3359066704804, 91814: 288.7425478768477, 92237: 289.77476761321907, 92342: 290.0283738191632, 92435: 290.1989787449392, 92507: 290.4176970019307, 92707: 290.88341029858293, 93221: 292.2942204896255, 93730: 293.4640297008873, 93772: 293.5799718246869, 93783: 293.60349885583514, 94131: 294.4152160326086, 94169: 294.51739883438466, 94391: 295.00386057692305, 94595: 295.5006072874493, 94729: 295.82894129554643, 95622: 298.140104899418, 95670: 298.2670416436187, 95939: 299.001086865055, 96035: 299.2337956730769, 96311: 299.97022010869557, 96385: 300.1793669028339, 96452: 300.3499027817505, 96674: 300.9039377884615, 96906: 301.4106194331983, 97069: 301.8487162637698, 97239: 302.29060285931166, 97889: 303.8947216746304, 98142: 304.48413586956514, 98290: 304.8797163461538, 98364: 305.09291189624327, 98382: 305.11736155606405, 98692: 305.84312854251004, 99095: 306.78895711915067, 99630: 308.15514718286084, 99708: 308.33641491649786, 100094: 309.46750961538453, 100386: 310.22911956521733, 100593: 310.7266196832925, 100701: 311.0118220035778, 100758: 311.19477013416815, 100778: 311.21970878718525, 100981: 311.73375815217395, 101564: 313.2306437246963, 101631: 313.4416018629807, 101857: 313.96939524291486, 102345: 315.18199674628136, 102391: 315.30651923076914, 102598: 315.8121617403022, 103007: 316.8357836538461, 103029: 316.8799695885509, 103052: 316.94115207695825, 103164: 317.20277145308916, 103394: 317.8369767206477, 103435: 317.9684333152173, 104617: 321.1288268735697, 104976: 322.1284049751082, 105086: 322.3943061740889, 105091: 322.3949673913043, 105386: 323.17249932692306, 105396: 323.18772940503425, 105730: 324.0031261808366, 105783: 324.1612188897585, 105796: 324.187196653318, 105808: 324.1937162550606, 106631: 326.28192054655864, 107157: 327.67148076923075, 107472: 328.47721761133596, 107541: 328.6495434782608, 107635: 328.84286673913033, 107805: 329.30663506261175, 108098: 330.11639271255046, 108107: 330.14703341349826, 108512: 331.2171180366848, 109089: 332.80755895748973, 109420: 333.7221142019451, 109521: 334.028423076923, 109607: 334.22491038461527, 109835: 334.8504782608695, 109940: 335.08394444967513, 110102: 335.5504218490711, 110242: 335.8617580091533, 110253: 335.892767763864, 110530: 336.63802013221147, 110998: 337.7017877656881, 111917: 340.1691803164132, 111968: 340.3308461538461, 112009: 340.3965564859839, 112381: 341.3586771255061, 112392: 341.40628302419736, 112754: 342.3775945842867, 112833: 342.5446528532608, 112844: 342.5789931693363, 113013: 343.062133603239, 114270: 346.58746673747765, 114791: 347.9811558704452, 114797: 347.9818695652173, 114876: 348.15094831730767, 114900: 348.18585066801603, 115138: 348.83754919908455, 115529: 349.888299754025, 115544: 349.92337627530355, 116911: 353.67715384615383, 117071: 354.0868146453087, 117170: 354.37841926029006, 117219: 354.54683805668003, 117240: 354.57974633956655, 117315: 354.7947647114206, 117368: 354.94150695652166, 118053: 356.85311788472524, 118415: 357.86678873546504, 118957: 359.46043817934776, 119105: 359.88201619433187, 119218: 360.17913209973165, 119429: 360.7506969230768, 119443: 360.7676979405033, 119560: 361.0648045293523, 119885: 361.8906600056492, 120121: 362.51745308924484, 120214: 362.6935944458501, 120858: 364.5035169534412, 121148: 365.3435877403845, 121456: 366.24271059782603, 121544: 366.49806424183214, 121599: 366.6722429149797, 121831: 367.38271474172626, 121961: 367.6859711538461, 122222: 368.45063562753023, 122644: 369.73073641304336, 122665: 369.7678021510297, 123518: 372.2368629807691, 123748: 372.8152761513157, 123963: 373.4131220577157, 124327: 374.4754940765637, 124380: 374.62344230769236, 124488: 374.91545080091527, 124597: 375.2242086285425, 124784: 375.78197596153836, 124800: 375.81964834008085, 125253: 376.96943750588446, 126477: 380.6043892332995, 126482: 380.60516983695646, 126612: 381.05154655870433, 126770: 381.5410694364989, 127073: 382.41375981693346, 127162: 382.6903278559649, 127175: 382.7286928011133, 128015: 385.17479390732257, 128154: 385.56545659424717, 128597: 386.8343870192308, 128758: 387.28245351830645, 128928: 387.7856041244939, 129053: 388.0567739031165, 129130: 388.21727323369555, 129278: 388.6725774898784, 129495: 389.31455769230763, 130230: 391.47880035425095, 130961: 393.6209552125505, 131278: 394.57107475961527, 131291: 394.58966962242545, 131561: 395.5852121975331, 131634: 395.81790938117865, 131869: 396.5034643163615, 131992: 396.8673974358974, 132093: 397.10084884615384, 132501: 398.3476664759724, 132605: 398.67572166782634, 133407: 401.047765688259, 134067: 402.9928827176113, 134083: 403.04908412578845, 134537: 404.35546153846155, 134553: 404.39299295176625, 134564: 404.43353360268884, 134722: 404.86726821862334, 136384: 410.063774313501, 136485: 410.44015384615363, 136665: 411.01153620793264, 136704: 411.0527403719635, 137099: 412.31032227206117, 137568: 413.6467175480769, 138401: 416.1658896572827, 138626: 416.7751290485829, 139022: 418.01915617848954, 139082: 418.1843076923075, 139124: 418.265049799771, 139305: 418.85493056209395, 139716: 420.21253846153843, 140059: 421.2849308361341, 141177: 424.86071356275295, 141249: 425.1106316295545, 141263: 425.190346875, 141481: 425.9063100686498, 141930: 427.2320291733358, 142055: 427.5846882591091, 142261: 428.179937887462, 142419: 428.6167892307692, 143528: 432.1492723557692, 143774: 432.87695344129554, 144178: 434.0737159455128, 144319: 434.5836923076922, 144633: 435.6523238866395, 144656: 435.69276020809485, 145869: 439.7317404069767, 146640: 442.2637860576923, 146755: 442.60851830663603, 146846: 442.82357461411937, 146970: 443.27536615384594, 147532: 445.03336372222475, 148020: 446.47582211538463, 148175: 446.9286592352415, 148762: 448.91891826923063, 149045: 449.852520242915, 149524: 451.46068867276875, 149898: 452.73672874493917, 150601: 455.18144181265296, 151027: 456.6567925271738, 151250: 457.38908653846136, 151471: 458.0998164473683, 151708: 458.84957064777325, 151943: 459.6074639423077, 152607: 461.7451730769229, 152622: 461.7914633198379, 153764: 465.59735845141677, 154356: 467.6707527834007, 154701: 468.7996132211539, 155091: 470.27155070080084, 155690: 472.2743298913042, 156366: 474.6310848837209, 156576: 475.32591346153845, 156921: 476.4947292510121, 157394: 477.968302758097, 158286: 481.0327742914979, 158656: 482.3991877459749, 159251: 484.5474038461537, 159352: 484.83243173076903, 160298: 488.33293043870185, 161373: 492.0017455091531, 161869: 493.68980769230757, 162078: 494.456944736842, 162280: 495.18079706477727, 164312: 502.5495297570849, 164922: 504.7874791947817, 165010: 505.03378305288453, 165030: 505.0844130060728, 166313: 509.75641956521724, 166758: 511.3672369645042, 167235: 513.0501923076922, 167591: 514.3117712550606, 168845: 519.1277490915697, 169008: 519.7365861783259, 169611: 522.0510728744937, 169916: 523.311196153846, 170693: 526.1295968813258, 171119: 527.6241115971601, 172055: 531.0069490384614, 172061: 531.0495030892447, 172303: 531.9010931174088, 172990: 534.4808603238866, 174559: 540.8122833059209, 175686: 545.1158293269231, 175700: 545.1704775303643, 176813: 549.2112508009152, 176909: 549.6635481718116, 177717: 552.75995951417, 178881: 557.5460838994566, 179336: 559.3079154299264, 179773: 561.120764673913, 180449: 563.8151587044532, 181475: 567.8859140941296, 181624: 568.4618911325439, 182104: 570.304410576923, 182808: 573.1503576923076, 184611: 580.8353940038616, 186227: 587.3074569838054, 187541: 592.7519431127012, 189361: 600.699805563501, 190073: 603.6974325275396, 190564: 605.654158695652, 192388: 613.5779142383013, 192838: 615.5666653846154, 193261: 617.5118404858298, 195187: 626.3673652173911, 195322: 626.8832037259615, 197488: 636.6188769230766, 199968: 648.322437779517, 199983: 648.374393306636, 200910: 652.5314155606405, 202986: 662.4342360733696, 203144: 663.2111441295544, 205219: 673.2760402644229, 205704: 675.4035755313765, 207637: 685.0893057065216, 209840: 696.3018966346153, 210522: 699.77659950805, 213213: 713.7062357694508, 215463: 725.3871888917002, 216117: 729.0070339068825, 217979: 739.4614728260867, 220207: 751.5639519230767, 220673: 753.9388750117689, 221124: 756.3825692307693, 223563: 770.3495878146454, 225745: 782.9576007085019, 228006: 796.6953329519448, 230226: 809.7345364372467, 232993: 827.2934350961538, 242932: 892.9516442307693, 247228: 923.4903461538458, 252414: 962.0655485829958}\n"
     ]
    }
   ],
   "source": [
    "##Data\n",
    "\n",
    "histData = {}\n",
    "for x in range(len(sortedOddsWins)):\n",
    "    if (sortedOddsWins[x][4] == 1) :\n",
    "        histData[x]= sortedOdds[x][3]\n",
    "        \n",
    "print(histData)"
   ]
  },
  {
   "cell_type": "code",
   "execution_count": 89,
   "metadata": {},
   "outputs": [
    {
     "ename": "ModuleNotFoundError",
     "evalue": "No module named 'matplotlib.plyplot'",
     "output_type": "error",
     "traceback": [
      "\u001b[0;31m---------------------------------------------------------------------------\u001b[0m",
      "\u001b[0;31mModuleNotFoundError\u001b[0m                       Traceback (most recent call last)",
      "\u001b[0;32m<ipython-input-89-37e082c94efe>\u001b[0m in \u001b[0;36m<module>\u001b[0;34m()\u001b[0m\n\u001b[0;32m----> 1\u001b[0;31m \u001b[0;32mimport\u001b[0m \u001b[0mmatplotlib\u001b[0m\u001b[0;34m.\u001b[0m\u001b[0mplyplot\u001b[0m \u001b[0;32mas\u001b[0m \u001b[0mplt\u001b[0m\u001b[0;34m\u001b[0m\u001b[0m\n\u001b[0m\u001b[1;32m      2\u001b[0m \u001b[0;32mimport\u001b[0m \u001b[0mnumpy\u001b[0m \u001b[0;32mas\u001b[0m \u001b[0mnp\u001b[0m\u001b[0;34m\u001b[0m\u001b[0m\n",
      "\u001b[0;31mModuleNotFoundError\u001b[0m: No module named 'matplotlib.plyplot'"
     ]
    }
   ],
   "source": [
    "import matplotlib.plyplot as plt\n",
    "import numpy as np\n",
    "\n"
   ]
  },
  {
   "cell_type": "code",
   "execution_count": 95,
   "metadata": {},
   "outputs": [
    {
     "name": "stdout",
     "output_type": "stream",
     "text": [
      "[(['Texans', 'Jaguars', -130, 110], ['Bears', 'Eagles', 185, -215]), (['Texans', 'Jaguars', -130, 110], ['Vikings', 'Chiefs', -172, 140]), (['Texans', 'Jaguars', -130, 110], ['Colts', 'Steelers', -105, -115]), (['Texans', 'Jaguars', -130, 110], ['Jets', 'Dolphins', -175, 155]), (['Texans', 'Jaguars', -130, 110], ['Redskins', 'Bills', 375, -500]), (['Texans', 'Jaguars', -130, 110], ['Titans', 'Panthers', 165, -190]), (['Texans', 'Jaguars', -130, 110], ['Lions', 'Raiders', 115, -135]), (['Texans', 'Jaguars', -130, 110], ['Buccaneers', 'Seahawks', 200, -240]), (['Texans', 'Jaguars', -130, 110], ['Packers', 'Chargers', -190, 165]), (['Texans', 'Jaguars', -130, 110], ['Browns', 'Broncos', -200, 170]), (['Texans', 'Jaguars', -130, 110], ['Patriots', 'Ravens', -170, 150]), (['Texans', 'Jaguars', -130, 110], ['Cowboys', 'Giants', -320, 260]), (['Bears', 'Eagles', 185, -215], ['Vikings', 'Chiefs', -172, 140]), (['Bears', 'Eagles', 185, -215], ['Colts', 'Steelers', -105, -115]), (['Bears', 'Eagles', 185, -215], ['Jets', 'Dolphins', -175, 155]), (['Bears', 'Eagles', 185, -215], ['Redskins', 'Bills', 375, -500]), (['Bears', 'Eagles', 185, -215], ['Titans', 'Panthers', 165, -190]), (['Bears', 'Eagles', 185, -215], ['Lions', 'Raiders', 115, -135]), (['Bears', 'Eagles', 185, -215], ['Buccaneers', 'Seahawks', 200, -240]), (['Bears', 'Eagles', 185, -215], ['Packers', 'Chargers', -190, 165]), (['Bears', 'Eagles', 185, -215], ['Browns', 'Broncos', -200, 170]), (['Bears', 'Eagles', 185, -215], ['Patriots', 'Ravens', -170, 150]), (['Bears', 'Eagles', 185, -215], ['Cowboys', 'Giants', -320, 260]), (['Vikings', 'Chiefs', -172, 140], ['Colts', 'Steelers', -105, -115]), (['Vikings', 'Chiefs', -172, 140], ['Jets', 'Dolphins', -175, 155]), (['Vikings', 'Chiefs', -172, 140], ['Redskins', 'Bills', 375, -500]), (['Vikings', 'Chiefs', -172, 140], ['Titans', 'Panthers', 165, -190]), (['Vikings', 'Chiefs', -172, 140], ['Lions', 'Raiders', 115, -135]), (['Vikings', 'Chiefs', -172, 140], ['Buccaneers', 'Seahawks', 200, -240]), (['Vikings', 'Chiefs', -172, 140], ['Packers', 'Chargers', -190, 165]), (['Vikings', 'Chiefs', -172, 140], ['Browns', 'Broncos', -200, 170]), (['Vikings', 'Chiefs', -172, 140], ['Patriots', 'Ravens', -170, 150]), (['Vikings', 'Chiefs', -172, 140], ['Cowboys', 'Giants', -320, 260]), (['Colts', 'Steelers', -105, -115], ['Jets', 'Dolphins', -175, 155]), (['Colts', 'Steelers', -105, -115], ['Redskins', 'Bills', 375, -500]), (['Colts', 'Steelers', -105, -115], ['Titans', 'Panthers', 165, -190]), (['Colts', 'Steelers', -105, -115], ['Lions', 'Raiders', 115, -135]), (['Colts', 'Steelers', -105, -115], ['Buccaneers', 'Seahawks', 200, -240]), (['Colts', 'Steelers', -105, -115], ['Packers', 'Chargers', -190, 165]), (['Colts', 'Steelers', -105, -115], ['Browns', 'Broncos', -200, 170]), (['Colts', 'Steelers', -105, -115], ['Patriots', 'Ravens', -170, 150]), (['Colts', 'Steelers', -105, -115], ['Cowboys', 'Giants', -320, 260]), (['Jets', 'Dolphins', -175, 155], ['Redskins', 'Bills', 375, -500]), (['Jets', 'Dolphins', -175, 155], ['Titans', 'Panthers', 165, -190]), (['Jets', 'Dolphins', -175, 155], ['Lions', 'Raiders', 115, -135]), (['Jets', 'Dolphins', -175, 155], ['Buccaneers', 'Seahawks', 200, -240]), (['Jets', 'Dolphins', -175, 155], ['Packers', 'Chargers', -190, 165]), (['Jets', 'Dolphins', -175, 155], ['Browns', 'Broncos', -200, 170]), (['Jets', 'Dolphins', -175, 155], ['Patriots', 'Ravens', -170, 150]), (['Jets', 'Dolphins', -175, 155], ['Cowboys', 'Giants', -320, 260]), (['Redskins', 'Bills', 375, -500], ['Titans', 'Panthers', 165, -190]), (['Redskins', 'Bills', 375, -500], ['Lions', 'Raiders', 115, -135]), (['Redskins', 'Bills', 375, -500], ['Buccaneers', 'Seahawks', 200, -240]), (['Redskins', 'Bills', 375, -500], ['Packers', 'Chargers', -190, 165]), (['Redskins', 'Bills', 375, -500], ['Browns', 'Broncos', -200, 170]), (['Redskins', 'Bills', 375, -500], ['Patriots', 'Ravens', -170, 150]), (['Redskins', 'Bills', 375, -500], ['Cowboys', 'Giants', -320, 260]), (['Titans', 'Panthers', 165, -190], ['Lions', 'Raiders', 115, -135]), (['Titans', 'Panthers', 165, -190], ['Buccaneers', 'Seahawks', 200, -240]), (['Titans', 'Panthers', 165, -190], ['Packers', 'Chargers', -190, 165]), (['Titans', 'Panthers', 165, -190], ['Browns', 'Broncos', -200, 170]), (['Titans', 'Panthers', 165, -190], ['Patriots', 'Ravens', -170, 150]), (['Titans', 'Panthers', 165, -190], ['Cowboys', 'Giants', -320, 260]), (['Lions', 'Raiders', 115, -135], ['Buccaneers', 'Seahawks', 200, -240]), (['Lions', 'Raiders', 115, -135], ['Packers', 'Chargers', -190, 165]), (['Lions', 'Raiders', 115, -135], ['Browns', 'Broncos', -200, 170]), (['Lions', 'Raiders', 115, -135], ['Patriots', 'Ravens', -170, 150]), (['Lions', 'Raiders', 115, -135], ['Cowboys', 'Giants', -320, 260]), (['Buccaneers', 'Seahawks', 200, -240], ['Packers', 'Chargers', -190, 165]), (['Buccaneers', 'Seahawks', 200, -240], ['Browns', 'Broncos', -200, 170]), (['Buccaneers', 'Seahawks', 200, -240], ['Patriots', 'Ravens', -170, 150]), (['Buccaneers', 'Seahawks', 200, -240], ['Cowboys', 'Giants', -320, 260]), (['Packers', 'Chargers', -190, 165], ['Browns', 'Broncos', -200, 170]), (['Packers', 'Chargers', -190, 165], ['Patriots', 'Ravens', -170, 150]), (['Packers', 'Chargers', -190, 165], ['Cowboys', 'Giants', -320, 260]), (['Browns', 'Broncos', -200, 170], ['Patriots', 'Ravens', -170, 150]), (['Browns', 'Broncos', -200, 170], ['Cowboys', 'Giants', -320, 260]), (['Patriots', 'Ravens', -170, 150], ['Cowboys', 'Giants', -320, 260])]\n"
     ]
    }
   ],
   "source": [
    "from itertools import combinations\n",
    "parlay2 = list(combinations(games, 2))\n",
    "\n",
    "print(parlay2)\n",
    "\n",
    "binWins = [\"00\", \"01\", \"10\", \"11\"]\n",
    "\n"
   ]
  },
  {
   "cell_type": "code",
   "execution_count": 97,
   "metadata": {},
   "outputs": [
    {
     "name": "stdout",
     "output_type": "stream",
     "text": [
      "[(['Texans', 'Jaguars', -130, 110], ['Bears', 'Eagles', 185, -215]), '00', ['Texans', 'Bears'], 5.042307692307692] 312 <class 'list'>\n"
     ]
    }
   ],
   "source": [
    "allOdds2parlay = []\n",
    "for x in range(len(parlay2)):\n",
    "    for r in range(len(binWins)):\n",
    "        allOdds2parlay.append([parlay2[x],binWins[r],teamsOnTicket(parlay2[x], binWins[r]),\n",
    "                        findParlayPayout(getOdds(parlay2[x],binWins[r]))])\n",
    "print(allOdds2parlay[0],len(allOdds2parlay),type(allOdds2parlay))\n",
    "allOdds2parlayWins = allOdds2parlay"
   ]
  },
  {
   "cell_type": "code",
   "execution_count": 102,
   "metadata": {},
   "outputs": [
    {
     "name": "stdout",
     "output_type": "stream",
     "text": [
      "[[(['Texans', 'Jaguars', -130, 110], ['Bears', 'Eagles', 185, -215]), '00', ['Texans', 'Bears'], 5.042307692307692, 0, 0], [(['Texans', 'Jaguars', -130, 110], ['Bears', 'Eagles', 185, -215]), '01', ['Texans', 'Eagles'], 2.592128801431127, 0, 1], [(['Texans', 'Jaguars', -130, 110], ['Bears', 'Eagles', 185, -215]), '10', ['Jaguars', 'Bears'], 5.985, 0, 0]]\n"
     ]
    }
   ],
   "source": [
    "for x in range(len(allOdds2parlayWins)):\n",
    "    if (len(set(winnersWk9).intersection(allOdds2parlayWins[x][2]))== 2):\n",
    "        allOdds2parlayWins[x].append(1)\n",
    "    else:\n",
    "        allOdds2parlayWins[x].append(0)\n",
    "\n",
    "print(allOdds2parlayWins[:3])"
   ]
  },
  {
   "cell_type": "code",
   "execution_count": 105,
   "metadata": {},
   "outputs": [
    {
     "name": "stdout",
     "output_type": "stream",
     "text": [
      "[[(['Texans', 'Jaguars', -130, 110], ['Bears', 'Eagles', 185, -215]), '00', ['Texans', 'Bears'], 5.042307692307692, 0, 0], [(['Texans', 'Jaguars', -130, 110], ['Bears', 'Eagles', 185, -215]), '01', ['Texans', 'Eagles'], 2.592128801431127, 0, 1], [(['Texans', 'Jaguars', -130, 110], ['Bears', 'Eagles', 185, -215]), '10', ['Jaguars', 'Bears'], 5.985, 0, 0], [(['Texans', 'Jaguars', -130, 110], ['Bears', 'Eagles', 185, -215]), '11', ['Jaguars', 'Eagles'], 3.0767441860465117, 0, 0], [(['Texans', 'Jaguars', -130, 110], ['Vikings', 'Chiefs', -172, 140]), '00', ['Texans', 'Vikings'], 2.7978533094812166, 0, 0], [(['Texans', 'Jaguars', -130, 110], ['Vikings', 'Chiefs', -172, 140]), '01', ['Texans', 'Chiefs'], 4.246153846153846, 0, 1], [(['Texans', 'Jaguars', -130, 110], ['Vikings', 'Chiefs', -172, 140]), '10', ['Jaguars', 'Vikings'], 3.32093023255814, 0, 0], [(['Texans', 'Jaguars', -130, 110], ['Vikings', 'Chiefs', -172, 140]), '11', ['Jaguars', 'Chiefs'], 5.04, 0, 0], [(['Texans', 'Jaguars', -130, 110], ['Colts', 'Steelers', -105, -115]), '00', ['Texans', 'Colts'], 3.454212454212454, 0, 0], [(['Texans', 'Jaguars', -130, 110], ['Colts', 'Steelers', -105, -115]), '01', ['Texans', 'Steelers'], 3.3076923076923075, 0, 1], [(['Texans', 'Jaguars', -130, 110], ['Colts', 'Steelers', -105, -115]), '10', ['Jaguars', 'Colts'], 4.1, 0, 0], [(['Texans', 'Jaguars', -130, 110], ['Colts', 'Steelers', -105, -115]), '11', ['Jaguars', 'Steelers'], 3.926086956521739, 0, 0], [(['Texans', 'Jaguars', -130, 110], ['Jets', 'Dolphins', -175, 155]), '00', ['Texans', 'Jets'], 2.78021978021978, 0, 0], [(['Texans', 'Jaguars', -130, 110], ['Jets', 'Dolphins', -175, 155]), '01', ['Texans', 'Dolphins'], 4.511538461538461, 0, 1], [(['Texans', 'Jaguars', -130, 110], ['Jets', 'Dolphins', -175, 155]), '10', ['Jaguars', 'Jets'], 3.3000000000000003, 0, 0], [(['Texans', 'Jaguars', -130, 110], ['Jets', 'Dolphins', -175, 155]), '11', ['Jaguars', 'Dolphins'], 5.3549999999999995, 0, 0], [(['Texans', 'Jaguars', -130, 110], ['Redskins', 'Bills', 375, -500]), '00', ['Texans', 'Redskins'], 8.403846153846153, 0, 0], [(['Texans', 'Jaguars', -130, 110], ['Redskins', 'Bills', 375, -500]), '01', ['Texans', 'Bills'], 2.123076923076923, 0, 1], [(['Texans', 'Jaguars', -130, 110], ['Redskins', 'Bills', 375, -500]), '10', ['Jaguars', 'Redskins'], 9.975, 0, 0], [(['Texans', 'Jaguars', -130, 110], ['Redskins', 'Bills', 375, -500]), '11', ['Jaguars', 'Bills'], 2.52, 0, 0], [(['Texans', 'Jaguars', -130, 110], ['Titans', 'Panthers', 165, -190]), '00', ['Texans', 'Titans'], 4.688461538461538, 0, 0], [(['Texans', 'Jaguars', -130, 110], ['Titans', 'Panthers', 165, -190]), '01', ['Texans', 'Panthers'], 2.7004048582995948, 0, 1], [(['Texans', 'Jaguars', -130, 110], ['Titans', 'Panthers', 165, -190]), '10', ['Jaguars', 'Titans'], 5.565, 0, 0], [(['Texans', 'Jaguars', -130, 110], ['Titans', 'Panthers', 165, -190]), '11', ['Jaguars', 'Panthers'], 3.205263157894737, 0, 0], [(['Texans', 'Jaguars', -130, 110], ['Lions', 'Raiders', 115, -135]), '00', ['Texans', 'Lions'], 3.8038461538461537, 0, 0], [(['Texans', 'Jaguars', -130, 110], ['Lions', 'Raiders', 115, -135]), '01', ['Texans', 'Raiders'], 3.07977207977208, 0, 1], [(['Texans', 'Jaguars', -130, 110], ['Lions', 'Raiders', 115, -135]), '10', ['Jaguars', 'Lions'], 4.515, 0, 0], [(['Texans', 'Jaguars', -130, 110], ['Lions', 'Raiders', 115, -135]), '11', ['Jaguars', 'Raiders'], 3.6555555555555554, 0, 0], [(['Texans', 'Jaguars', -130, 110], ['Buccaneers', 'Seahawks', 200, -240]), '00', ['Texans', 'Buccaneers'], 5.3076923076923075, 0, 0], [(['Texans', 'Jaguars', -130, 110], ['Buccaneers', 'Seahawks', 200, -240]), '01', ['Texans', 'Seahawks'], 2.5064102564102564, 0, 1], [(['Texans', 'Jaguars', -130, 110], ['Buccaneers', 'Seahawks', 200, -240]), '10', ['Jaguars', 'Buccaneers'], 6.300000000000001, 0, 0], [(['Texans', 'Jaguars', -130, 110], ['Buccaneers', 'Seahawks', 200, -240]), '11', ['Jaguars', 'Seahawks'], 2.975, 0, 0], [(['Texans', 'Jaguars', -130, 110], ['Packers', 'Chargers', -190, 165]), '00', ['Texans', 'Packers'], 2.7004048582995948, 0, 0], [(['Texans', 'Jaguars', -130, 110], ['Packers', 'Chargers', -190, 165]), '01', ['Texans', 'Chargers'], 4.688461538461538, 0, 1], [(['Texans', 'Jaguars', -130, 110], ['Packers', 'Chargers', -190, 165]), '10', ['Jaguars', 'Packers'], 3.205263157894737, 0, 0], [(['Texans', 'Jaguars', -130, 110], ['Packers', 'Chargers', -190, 165]), '11', ['Jaguars', 'Chargers'], 5.565, 0, 0], [(['Texans', 'Jaguars', -130, 110], ['Browns', 'Broncos', -200, 170]), '00', ['Texans', 'Browns'], 2.6538461538461537, 0, 0], [(['Texans', 'Jaguars', -130, 110], ['Browns', 'Broncos', -200, 170]), '01', ['Texans', 'Broncos'], 4.776923076923077, 0, 1], [(['Texans', 'Jaguars', -130, 110], ['Browns', 'Broncos', -200, 170]), '10', ['Jaguars', 'Browns'], 3.1500000000000004, 0, 0], [(['Texans', 'Jaguars', -130, 110], ['Browns', 'Broncos', -200, 170]), '11', ['Jaguars', 'Broncos'], 5.670000000000001, 0, 0], [(['Texans', 'Jaguars', -130, 110], ['Patriots', 'Ravens', -170, 150]), '00', ['Texans', 'Patriots'], 2.809954751131222, 0, 0], [(['Texans', 'Jaguars', -130, 110], ['Patriots', 'Ravens', -170, 150]), '01', ['Texans', 'Ravens'], 4.423076923076923, 0, 1], [(['Texans', 'Jaguars', -130, 110], ['Patriots', 'Ravens', -170, 150]), '10', ['Jaguars', 'Patriots'], 3.3352941176470594, 0, 0], [(['Texans', 'Jaguars', -130, 110], ['Patriots', 'Ravens', -170, 150]), '11', ['Jaguars', 'Ravens'], 5.25, 0, 0], [(['Texans', 'Jaguars', -130, 110], ['Cowboys', 'Giants', -320, 260]), '00', ['Texans', 'Cowboys'], 2.3221153846153846, 0, 1], [(['Texans', 'Jaguars', -130, 110], ['Cowboys', 'Giants', -320, 260]), '01', ['Texans', 'Giants'], 6.369230769230769, 0, 0], [(['Texans', 'Jaguars', -130, 110], ['Cowboys', 'Giants', -320, 260]), '10', ['Jaguars', 'Cowboys'], 2.75625, 0, 0], [(['Texans', 'Jaguars', -130, 110], ['Cowboys', 'Giants', -320, 260]), '11', ['Jaguars', 'Giants'], 7.5600000000000005, 0, 0], [(['Bears', 'Eagles', 185, -215], ['Vikings', 'Chiefs', -172, 140]), '00', ['Bears', 'Vikings'], 4.506976744186047, 0, 0], [(['Bears', 'Eagles', 185, -215], ['Vikings', 'Chiefs', -172, 140]), '01', ['Bears', 'Chiefs'], 6.84, 0, 0], [(['Bears', 'Eagles', 185, -215], ['Vikings', 'Chiefs', -172, 140]), '10', ['Eagles', 'Vikings'], 2.316928069226609, 0, 0], [(['Bears', 'Eagles', 185, -215], ['Vikings', 'Chiefs', -172, 140]), '11', ['Eagles', 'Chiefs'], 3.5162790697674415, 0, 1], [(['Bears', 'Eagles', 185, -215], ['Colts', 'Steelers', -105, -115]), '00', ['Bears', 'Colts'], 5.564285714285714, 0, 0], [(['Bears', 'Eagles', 185, -215], ['Colts', 'Steelers', -105, -115]), '01', ['Bears', 'Steelers'], 5.328260869565217, 0, 0], [(['Bears', 'Eagles', 185, -215], ['Colts', 'Steelers', -105, -115]), '10', ['Eagles', 'Colts'], 2.8604651162790695, 0, 0], [(['Bears', 'Eagles', 185, -215], ['Colts', 'Steelers', -105, -115]), '11', ['Eagles', 'Steelers'], 2.7391304347826084, 0, 1], [(['Bears', 'Eagles', 185, -215], ['Jets', 'Dolphins', -175, 155]), '00', ['Bears', 'Jets'], 4.478571428571429, 0, 0], [(['Bears', 'Eagles', 185, -215], ['Jets', 'Dolphins', -175, 155]), '01', ['Bears', 'Dolphins'], 7.2675, 0, 0], [(['Bears', 'Eagles', 185, -215], ['Jets', 'Dolphins', -175, 155]), '10', ['Eagles', 'Jets'], 2.3023255813953485, 0, 0], [(['Bears', 'Eagles', 185, -215], ['Jets', 'Dolphins', -175, 155]), '11', ['Eagles', 'Dolphins'], 3.7360465116279067, 0, 1], [(['Bears', 'Eagles', 185, -215], ['Redskins', 'Bills', 375, -500]), '00', ['Bears', 'Redskins'], 13.5375, 0, 0], [(['Bears', 'Eagles', 185, -215], ['Redskins', 'Bills', 375, -500]), '01', ['Bears', 'Bills'], 3.42, 0, 0], [(['Bears', 'Eagles', 185, -215], ['Redskins', 'Bills', 375, -500]), '10', ['Eagles', 'Redskins'], 6.959302325581395, 0, 0], [(['Bears', 'Eagles', 185, -215], ['Redskins', 'Bills', 375, -500]), '11', ['Eagles', 'Bills'], 1.7581395348837208, 0, 1], [(['Bears', 'Eagles', 185, -215], ['Titans', 'Panthers', 165, -190]), '00', ['Bears', 'Titans'], 7.5525, 0, 0], [(['Bears', 'Eagles', 185, -215], ['Titans', 'Panthers', 165, -190]), '01', ['Bears', 'Panthers'], 4.35, 0, 0], [(['Bears', 'Eagles', 185, -215], ['Titans', 'Panthers', 165, -190]), '10', ['Eagles', 'Titans'], 3.8825581395348836, 0, 0], [(['Bears', 'Eagles', 185, -215], ['Titans', 'Panthers', 165, -190]), '11', ['Eagles', 'Panthers'], 2.236230110159118, 0, 1], [(['Bears', 'Eagles', 185, -215], ['Lions', 'Raiders', 115, -135]), '00', ['Bears', 'Lions'], 6.1274999999999995, 0, 0], [(['Bears', 'Eagles', 185, -215], ['Lions', 'Raiders', 115, -135]), '01', ['Bears', 'Raiders'], 4.961111111111111, 0, 0], [(['Bears', 'Eagles', 185, -215], ['Lions', 'Raiders', 115, -135]), '10', ['Eagles', 'Lions'], 3.15, 0, 0], [(['Bears', 'Eagles', 185, -215], ['Lions', 'Raiders', 115, -135]), '11', ['Eagles', 'Raiders'], 2.5503875968992245, 0, 1], [(['Bears', 'Eagles', 185, -215], ['Buccaneers', 'Seahawks', 200, -240]), '00', ['Bears', 'Buccaneers'], 8.55, 0, 0], [(['Bears', 'Eagles', 185, -215], ['Buccaneers', 'Seahawks', 200, -240]), '01', ['Bears', 'Seahawks'], 4.0375000000000005, 0, 0], [(['Bears', 'Eagles', 185, -215], ['Buccaneers', 'Seahawks', 200, -240]), '10', ['Eagles', 'Buccaneers'], 4.395348837209302, 0, 0], [(['Bears', 'Eagles', 185, -215], ['Buccaneers', 'Seahawks', 200, -240]), '11', ['Eagles', 'Seahawks'], 2.0755813953488373, 0, 1], [(['Bears', 'Eagles', 185, -215], ['Packers', 'Chargers', -190, 165]), '00', ['Bears', 'Packers'], 4.35, 0, 0], [(['Bears', 'Eagles', 185, -215], ['Packers', 'Chargers', -190, 165]), '01', ['Bears', 'Chargers'], 7.5525, 0, 0], [(['Bears', 'Eagles', 185, -215], ['Packers', 'Chargers', -190, 165]), '10', ['Eagles', 'Packers'], 2.236230110159118, 0, 0], [(['Bears', 'Eagles', 185, -215], ['Packers', 'Chargers', -190, 165]), '11', ['Eagles', 'Chargers'], 3.8825581395348836, 0, 1], [(['Bears', 'Eagles', 185, -215], ['Browns', 'Broncos', -200, 170]), '00', ['Bears', 'Browns'], 4.275, 0, 0], [(['Bears', 'Eagles', 185, -215], ['Browns', 'Broncos', -200, 170]), '01', ['Bears', 'Broncos'], 7.695000000000001, 0, 0], [(['Bears', 'Eagles', 185, -215], ['Browns', 'Broncos', -200, 170]), '10', ['Eagles', 'Browns'], 2.197674418604651, 0, 0], [(['Bears', 'Eagles', 185, -215], ['Browns', 'Broncos', -200, 170]), '11', ['Eagles', 'Broncos'], 3.9558139534883723, 0, 1], [(['Bears', 'Eagles', 185, -215], ['Patriots', 'Ravens', -170, 150]), '00', ['Bears', 'Patriots'], 4.526470588235295, 0, 0], [(['Bears', 'Eagles', 185, -215], ['Patriots', 'Ravens', -170, 150]), '01', ['Bears', 'Ravens'], 7.125, 0, 0], [(['Bears', 'Eagles', 185, -215], ['Patriots', 'Ravens', -170, 150]), '10', ['Eagles', 'Patriots'], 2.3269493844049247, 0, 0], [(['Bears', 'Eagles', 185, -215], ['Patriots', 'Ravens', -170, 150]), '11', ['Eagles', 'Ravens'], 3.6627906976744184, 0, 1], [(['Bears', 'Eagles', 185, -215], ['Cowboys', 'Giants', -320, 260]), '00', ['Bears', 'Cowboys'], 3.740625, 0, 0], [(['Bears', 'Eagles', 185, -215], ['Cowboys', 'Giants', -320, 260]), '01', ['Bears', 'Giants'], 10.26, 0, 0], [(['Bears', 'Eagles', 185, -215], ['Cowboys', 'Giants', -320, 260]), '10', ['Eagles', 'Cowboys'], 1.9229651162790697, 0, 1], [(['Bears', 'Eagles', 185, -215], ['Cowboys', 'Giants', -320, 260]), '11', ['Eagles', 'Giants'], 5.274418604651163, 0, 0], [(['Vikings', 'Chiefs', -172, 140], ['Colts', 'Steelers', -105, -115]), '00', ['Vikings', 'Colts'], 3.087486157253599, 0, 0], [(['Vikings', 'Chiefs', -172, 140], ['Colts', 'Steelers', -105, -115]), '01', ['Vikings', 'Steelers'], 2.956521739130435, 0, 0], [(['Vikings', 'Chiefs', -172, 140], ['Colts', 'Steelers', -105, -115]), '10', ['Chiefs', 'Colts'], 4.685714285714285, 0, 0], [(['Vikings', 'Chiefs', -172, 140], ['Colts', 'Steelers', -105, -115]), '11', ['Chiefs', 'Steelers'], 4.48695652173913, 0, 1], [(['Vikings', 'Chiefs', -172, 140], ['Jets', 'Dolphins', -175, 155]), '00', ['Vikings', 'Jets'], 2.4850498338870435, 0, 0], [(['Vikings', 'Chiefs', -172, 140], ['Jets', 'Dolphins', -175, 155]), '01', ['Vikings', 'Dolphins'], 4.032558139534884, 0, 0], [(['Vikings', 'Chiefs', -172, 140], ['Jets', 'Dolphins', -175, 155]), '10', ['Chiefs', 'Jets'], 3.7714285714285714, 0, 0], [(['Vikings', 'Chiefs', -172, 140], ['Jets', 'Dolphins', -175, 155]), '11', ['Chiefs', 'Dolphins'], 6.119999999999999, 0, 1], [(['Vikings', 'Chiefs', -172, 140], ['Redskins', 'Bills', 375, -500]), '00', ['Vikings', 'Redskins'], 7.511627906976745, 0, 0], [(['Vikings', 'Chiefs', -172, 140], ['Redskins', 'Bills', 375, -500]), '01', ['Vikings', 'Bills'], 1.8976744186046512, 0, 0], [(['Vikings', 'Chiefs', -172, 140], ['Redskins', 'Bills', 375, -500]), '10', ['Chiefs', 'Redskins'], 11.4, 0, 0], [(['Vikings', 'Chiefs', -172, 140], ['Redskins', 'Bills', 375, -500]), '11', ['Chiefs', 'Bills'], 2.88, 0, 1], [(['Vikings', 'Chiefs', -172, 140], ['Titans', 'Panthers', 165, -190]), '00', ['Vikings', 'Titans'], 4.190697674418605, 0, 0], [(['Vikings', 'Chiefs', -172, 140], ['Titans', 'Panthers', 165, -190]), '01', ['Vikings', 'Panthers'], 2.4137086903304774, 0, 0], [(['Vikings', 'Chiefs', -172, 140], ['Titans', 'Panthers', 165, -190]), '10', ['Chiefs', 'Titans'], 6.359999999999999, 0, 0], [(['Vikings', 'Chiefs', -172, 140], ['Titans', 'Panthers', 165, -190]), '11', ['Chiefs', 'Panthers'], 3.6631578947368415, 0, 1], [(['Vikings', 'Chiefs', -172, 140], ['Lions', 'Raiders', 115, -135]), '00', ['Vikings', 'Lions'], 3.4000000000000004, 0, 0], [(['Vikings', 'Chiefs', -172, 140], ['Lions', 'Raiders', 115, -135]), '01', ['Vikings', 'Raiders'], 2.7527993109388462, 0, 0], [(['Vikings', 'Chiefs', -172, 140], ['Lions', 'Raiders', 115, -135]), '10', ['Chiefs', 'Lions'], 5.159999999999999, 0, 0], [(['Vikings', 'Chiefs', -172, 140], ['Lions', 'Raiders', 115, -135]), '11', ['Chiefs', 'Raiders'], 4.177777777777777, 0, 1], [(['Vikings', 'Chiefs', -172, 140], ['Buccaneers', 'Seahawks', 200, -240]), '00', ['Vikings', 'Buccaneers'], 4.744186046511628, 0, 0], [(['Vikings', 'Chiefs', -172, 140], ['Buccaneers', 'Seahawks', 200, -240]), '01', ['Vikings', 'Seahawks'], 2.2403100775193803, 0, 0], [(['Vikings', 'Chiefs', -172, 140], ['Buccaneers', 'Seahawks', 200, -240]), '10', ['Chiefs', 'Buccaneers'], 7.199999999999999, 0, 0], [(['Vikings', 'Chiefs', -172, 140], ['Buccaneers', 'Seahawks', 200, -240]), '11', ['Chiefs', 'Seahawks'], 3.4, 0, 1], [(['Vikings', 'Chiefs', -172, 140], ['Packers', 'Chargers', -190, 165]), '00', ['Vikings', 'Packers'], 2.4137086903304774, 0, 0], [(['Vikings', 'Chiefs', -172, 140], ['Packers', 'Chargers', -190, 165]), '01', ['Vikings', 'Chargers'], 4.190697674418605, 0, 0], [(['Vikings', 'Chiefs', -172, 140], ['Packers', 'Chargers', -190, 165]), '10', ['Chiefs', 'Packers'], 3.6631578947368415, 0, 0], [(['Vikings', 'Chiefs', -172, 140], ['Packers', 'Chargers', -190, 165]), '11', ['Chiefs', 'Chargers'], 6.359999999999999, 0, 1], [(['Vikings', 'Chiefs', -172, 140], ['Browns', 'Broncos', -200, 170]), '00', ['Vikings', 'Browns'], 2.372093023255814, 0, 0], [(['Vikings', 'Chiefs', -172, 140], ['Browns', 'Broncos', -200, 170]), '01', ['Vikings', 'Broncos'], 4.269767441860465, 0, 0], [(['Vikings', 'Chiefs', -172, 140], ['Browns', 'Broncos', -200, 170]), '10', ['Chiefs', 'Browns'], 3.5999999999999996, 0, 0], [(['Vikings', 'Chiefs', -172, 140], ['Browns', 'Broncos', -200, 170]), '11', ['Chiefs', 'Broncos'], 6.48, 0, 1], [(['Vikings', 'Chiefs', -172, 140], ['Patriots', 'Ravens', -170, 150]), '00', ['Vikings', 'Patriots'], 2.5116279069767447, 0, 0], [(['Vikings', 'Chiefs', -172, 140], ['Patriots', 'Ravens', -170, 150]), '01', ['Vikings', 'Ravens'], 3.9534883720930236, 0, 0], [(['Vikings', 'Chiefs', -172, 140], ['Patriots', 'Ravens', -170, 150]), '10', ['Chiefs', 'Patriots'], 3.811764705882353, 0, 0], [(['Vikings', 'Chiefs', -172, 140], ['Patriots', 'Ravens', -170, 150]), '11', ['Chiefs', 'Ravens'], 6.0, 0, 1], [(['Vikings', 'Chiefs', -172, 140], ['Cowboys', 'Giants', -320, 260]), '00', ['Vikings', 'Cowboys'], 2.0755813953488373, 0, 0], [(['Vikings', 'Chiefs', -172, 140], ['Cowboys', 'Giants', -320, 260]), '01', ['Vikings', 'Giants'], 5.693023255813954, 0, 0], [(['Vikings', 'Chiefs', -172, 140], ['Cowboys', 'Giants', -320, 260]), '10', ['Chiefs', 'Cowboys'], 3.15, 0, 1], [(['Vikings', 'Chiefs', -172, 140], ['Cowboys', 'Giants', -320, 260]), '11', ['Chiefs', 'Giants'], 8.64, 0, 0], [(['Colts', 'Steelers', -105, -115], ['Jets', 'Dolphins', -175, 155]), '00', ['Colts', 'Jets'], 3.068027210884354, 0, 0], [(['Colts', 'Steelers', -105, -115], ['Jets', 'Dolphins', -175, 155]), '01', ['Colts', 'Dolphins'], 4.978571428571428, 0, 0], [(['Colts', 'Steelers', -105, -115], ['Jets', 'Dolphins', -175, 155]), '10', ['Steelers', 'Jets'], 2.9378881987577636, 0, 0], [(['Colts', 'Steelers', -105, -115], ['Jets', 'Dolphins', -175, 155]), '11', ['Steelers', 'Dolphins'], 4.767391304347825, 0, 1], [(['Colts', 'Steelers', -105, -115], ['Redskins', 'Bills', 375, -500]), '00', ['Colts', 'Redskins'], 9.273809523809524, 0, 0], [(['Colts', 'Steelers', -105, -115], ['Redskins', 'Bills', 375, -500]), '01', ['Colts', 'Bills'], 2.3428571428571425, 0, 0], [(['Colts', 'Steelers', -105, -115], ['Redskins', 'Bills', 375, -500]), '10', ['Steelers', 'Redskins'], 8.880434782608695, 0, 0], [(['Colts', 'Steelers', -105, -115], ['Redskins', 'Bills', 375, -500]), '11', ['Steelers', 'Bills'], 2.243478260869565, 0, 1], [(['Colts', 'Steelers', -105, -115], ['Titans', 'Panthers', 165, -190]), '00', ['Colts', 'Titans'], 5.173809523809523, 0, 0], [(['Colts', 'Steelers', -105, -115], ['Titans', 'Panthers', 165, -190]), '01', ['Colts', 'Panthers'], 2.9799498746867163, 0, 0], [(['Colts', 'Steelers', -105, -115], ['Titans', 'Panthers', 165, -190]), '10', ['Steelers', 'Titans'], 4.954347826086956, 0, 0], [(['Colts', 'Steelers', -105, -115], ['Titans', 'Panthers', 165, -190]), '11', ['Steelers', 'Panthers'], 2.8535469107551483, 0, 1], [(['Colts', 'Steelers', -105, -115], ['Lions', 'Raiders', 115, -135]), '00', ['Colts', 'Lions'], 4.197619047619047, 0, 0], [(['Colts', 'Steelers', -105, -115], ['Lions', 'Raiders', 115, -135]), '01', ['Colts', 'Raiders'], 3.398589065255732, 0, 0], [(['Colts', 'Steelers', -105, -115], ['Lions', 'Raiders', 115, -135]), '10', ['Steelers', 'Lions'], 4.019565217391304, 0, 0], [(['Colts', 'Steelers', -105, -115], ['Lions', 'Raiders', 115, -135]), '11', ['Steelers', 'Raiders'], 3.254428341384863, 0, 1], [(['Colts', 'Steelers', -105, -115], ['Buccaneers', 'Seahawks', 200, -240]), '00', ['Colts', 'Buccaneers'], 5.857142857142857, 0, 0], [(['Colts', 'Steelers', -105, -115], ['Buccaneers', 'Seahawks', 200, -240]), '01', ['Colts', 'Seahawks'], 2.765873015873016, 0, 0], [(['Colts', 'Steelers', -105, -115], ['Buccaneers', 'Seahawks', 200, -240]), '10', ['Steelers', 'Buccaneers'], 5.608695652173912, 0, 0], [(['Colts', 'Steelers', -105, -115], ['Buccaneers', 'Seahawks', 200, -240]), '11', ['Steelers', 'Seahawks'], 2.648550724637681, 0, 1], [(['Colts', 'Steelers', -105, -115], ['Packers', 'Chargers', -190, 165]), '00', ['Colts', 'Packers'], 2.9799498746867163, 0, 0], [(['Colts', 'Steelers', -105, -115], ['Packers', 'Chargers', -190, 165]), '01', ['Colts', 'Chargers'], 5.173809523809523, 0, 0], [(['Colts', 'Steelers', -105, -115], ['Packers', 'Chargers', -190, 165]), '10', ['Steelers', 'Packers'], 2.8535469107551483, 0, 0], [(['Colts', 'Steelers', -105, -115], ['Packers', 'Chargers', -190, 165]), '11', ['Steelers', 'Chargers'], 4.954347826086956, 0, 1], [(['Colts', 'Steelers', -105, -115], ['Browns', 'Broncos', -200, 170]), '00', ['Colts', 'Browns'], 2.9285714285714284, 0, 0], [(['Colts', 'Steelers', -105, -115], ['Browns', 'Broncos', -200, 170]), '01', ['Colts', 'Broncos'], 5.271428571428571, 0, 0], [(['Colts', 'Steelers', -105, -115], ['Browns', 'Broncos', -200, 170]), '10', ['Steelers', 'Browns'], 2.804347826086956, 0, 0], [(['Colts', 'Steelers', -105, -115], ['Browns', 'Broncos', -200, 170]), '11', ['Steelers', 'Broncos'], 5.047826086956522, 0, 1], [(['Colts', 'Steelers', -105, -115], ['Patriots', 'Ravens', -170, 150]), '00', ['Colts', 'Patriots'], 3.100840336134454, 0, 0], [(['Colts', 'Steelers', -105, -115], ['Patriots', 'Ravens', -170, 150]), '01', ['Colts', 'Ravens'], 4.8809523809523805, 0, 0], [(['Colts', 'Steelers', -105, -115], ['Patriots', 'Ravens', -170, 150]), '10', ['Steelers', 'Patriots'], 2.969309462915601, 0, 0], [(['Colts', 'Steelers', -105, -115], ['Patriots', 'Ravens', -170, 150]), '11', ['Steelers', 'Ravens'], 4.673913043478261, 0, 1], [(['Colts', 'Steelers', -105, -115], ['Cowboys', 'Giants', -320, 260]), '00', ['Colts', 'Cowboys'], 2.5625, 0, 0], [(['Colts', 'Steelers', -105, -115], ['Cowboys', 'Giants', -320, 260]), '01', ['Colts', 'Giants'], 7.0285714285714285, 0, 0], [(['Colts', 'Steelers', -105, -115], ['Cowboys', 'Giants', -320, 260]), '10', ['Steelers', 'Cowboys'], 2.453804347826087, 0, 1], [(['Colts', 'Steelers', -105, -115], ['Cowboys', 'Giants', -320, 260]), '11', ['Steelers', 'Giants'], 6.730434782608695, 0, 0], [(['Jets', 'Dolphins', -175, 155], ['Redskins', 'Bills', 375, -500]), '00', ['Jets', 'Redskins'], 7.464285714285714, 0, 0], [(['Jets', 'Dolphins', -175, 155], ['Redskins', 'Bills', 375, -500]), '01', ['Jets', 'Bills'], 1.8857142857142857, 0, 0], [(['Jets', 'Dolphins', -175, 155], ['Redskins', 'Bills', 375, -500]), '10', ['Dolphins', 'Redskins'], 12.112499999999999, 0, 0], [(['Jets', 'Dolphins', -175, 155], ['Redskins', 'Bills', 375, -500]), '11', ['Dolphins', 'Bills'], 3.0599999999999996, 0, 1], [(['Jets', 'Dolphins', -175, 155], ['Titans', 'Panthers', 165, -190]), '00', ['Jets', 'Titans'], 4.164285714285714, 0, 0], [(['Jets', 'Dolphins', -175, 155], ['Titans', 'Panthers', 165, -190]), '01', ['Jets', 'Panthers'], 2.3984962406015033, 0, 0], [(['Jets', 'Dolphins', -175, 155], ['Titans', 'Panthers', 165, -190]), '10', ['Dolphins', 'Titans'], 6.757499999999999, 0, 0], [(['Jets', 'Dolphins', -175, 155], ['Titans', 'Panthers', 165, -190]), '11', ['Dolphins', 'Panthers'], 3.892105263157894, 0, 1], [(['Jets', 'Dolphins', -175, 155], ['Lions', 'Raiders', 115, -135]), '00', ['Jets', 'Lions'], 3.3785714285714286, 0, 0], [(['Jets', 'Dolphins', -175, 155], ['Lions', 'Raiders', 115, -135]), '01', ['Jets', 'Raiders'], 2.7354497354497354, 0, 0], [(['Jets', 'Dolphins', -175, 155], ['Lions', 'Raiders', 115, -135]), '10', ['Dolphins', 'Lions'], 5.482499999999999, 0, 0], [(['Jets', 'Dolphins', -175, 155], ['Lions', 'Raiders', 115, -135]), '11', ['Dolphins', 'Raiders'], 4.438888888888888, 0, 1], [(['Jets', 'Dolphins', -175, 155], ['Buccaneers', 'Seahawks', 200, -240]), '00', ['Jets', 'Buccaneers'], 4.714285714285714, 0, 0], [(['Jets', 'Dolphins', -175, 155], ['Buccaneers', 'Seahawks', 200, -240]), '01', ['Jets', 'Seahawks'], 2.2261904761904763, 0, 0], [(['Jets', 'Dolphins', -175, 155], ['Buccaneers', 'Seahawks', 200, -240]), '10', ['Dolphins', 'Buccaneers'], 7.6499999999999995, 0, 0], [(['Jets', 'Dolphins', -175, 155], ['Buccaneers', 'Seahawks', 200, -240]), '11', ['Dolphins', 'Seahawks'], 3.6125, 0, 1], [(['Jets', 'Dolphins', -175, 155], ['Packers', 'Chargers', -190, 165]), '00', ['Jets', 'Packers'], 2.3984962406015033, 0, 0], [(['Jets', 'Dolphins', -175, 155], ['Packers', 'Chargers', -190, 165]), '01', ['Jets', 'Chargers'], 4.164285714285714, 0, 0], [(['Jets', 'Dolphins', -175, 155], ['Packers', 'Chargers', -190, 165]), '10', ['Dolphins', 'Packers'], 3.892105263157894, 0, 0], [(['Jets', 'Dolphins', -175, 155], ['Packers', 'Chargers', -190, 165]), '11', ['Dolphins', 'Chargers'], 6.757499999999999, 0, 1], [(['Jets', 'Dolphins', -175, 155], ['Browns', 'Broncos', -200, 170]), '00', ['Jets', 'Browns'], 2.357142857142857, 0, 0], [(['Jets', 'Dolphins', -175, 155], ['Browns', 'Broncos', -200, 170]), '01', ['Jets', 'Broncos'], 4.242857142857143, 0, 0], [(['Jets', 'Dolphins', -175, 155], ['Browns', 'Broncos', -200, 170]), '10', ['Dolphins', 'Browns'], 3.8249999999999997, 0, 0], [(['Jets', 'Dolphins', -175, 155], ['Browns', 'Broncos', -200, 170]), '11', ['Dolphins', 'Broncos'], 6.885, 0, 1], [(['Jets', 'Dolphins', -175, 155], ['Patriots', 'Ravens', -170, 150]), '00', ['Jets', 'Patriots'], 2.495798319327731, 0, 0], [(['Jets', 'Dolphins', -175, 155], ['Patriots', 'Ravens', -170, 150]), '01', ['Jets', 'Ravens'], 3.9285714285714284, 0, 0], [(['Jets', 'Dolphins', -175, 155], ['Patriots', 'Ravens', -170, 150]), '10', ['Dolphins', 'Patriots'], 4.05, 0, 0], [(['Jets', 'Dolphins', -175, 155], ['Patriots', 'Ravens', -170, 150]), '11', ['Dolphins', 'Ravens'], 6.375, 0, 1], [(['Jets', 'Dolphins', -175, 155], ['Cowboys', 'Giants', -320, 260]), '00', ['Jets', 'Cowboys'], 2.0625, 0, 0], [(['Jets', 'Dolphins', -175, 155], ['Cowboys', 'Giants', -320, 260]), '01', ['Jets', 'Giants'], 5.6571428571428575, 0, 0], [(['Jets', 'Dolphins', -175, 155], ['Cowboys', 'Giants', -320, 260]), '10', ['Dolphins', 'Cowboys'], 3.346875, 0, 1], [(['Jets', 'Dolphins', -175, 155], ['Cowboys', 'Giants', -320, 260]), '11', ['Dolphins', 'Giants'], 9.18, 0, 0], [(['Redskins', 'Bills', 375, -500], ['Titans', 'Panthers', 165, -190]), '00', ['Redskins', 'Titans'], 12.5875, 0, 0], [(['Redskins', 'Bills', 375, -500], ['Titans', 'Panthers', 165, -190]), '01', ['Redskins', 'Panthers'], 7.249999999999999, 0, 0], [(['Redskins', 'Bills', 375, -500], ['Titans', 'Panthers', 165, -190]), '10', ['Bills', 'Titans'], 3.1799999999999997, 0, 0], [(['Redskins', 'Bills', 375, -500], ['Titans', 'Panthers', 165, -190]), '11', ['Bills', 'Panthers'], 1.8315789473684208, 0, 1], [(['Redskins', 'Bills', 375, -500], ['Lions', 'Raiders', 115, -135]), '00', ['Redskins', 'Lions'], 10.2125, 0, 0], [(['Redskins', 'Bills', 375, -500], ['Lions', 'Raiders', 115, -135]), '01', ['Redskins', 'Raiders'], 8.268518518518519, 0, 0], [(['Redskins', 'Bills', 375, -500], ['Lions', 'Raiders', 115, -135]), '10', ['Bills', 'Lions'], 2.5799999999999996, 0, 0], [(['Redskins', 'Bills', 375, -500], ['Lions', 'Raiders', 115, -135]), '11', ['Bills', 'Raiders'], 2.0888888888888886, 0, 1], [(['Redskins', 'Bills', 375, -500], ['Buccaneers', 'Seahawks', 200, -240]), '00', ['Redskins', 'Buccaneers'], 14.25, 0, 0], [(['Redskins', 'Bills', 375, -500], ['Buccaneers', 'Seahawks', 200, -240]), '01', ['Redskins', 'Seahawks'], 6.729166666666667, 0, 0], [(['Redskins', 'Bills', 375, -500], ['Buccaneers', 'Seahawks', 200, -240]), '10', ['Bills', 'Buccaneers'], 3.5999999999999996, 0, 0], [(['Redskins', 'Bills', 375, -500], ['Buccaneers', 'Seahawks', 200, -240]), '11', ['Bills', 'Seahawks'], 1.7, 0, 1], [(['Redskins', 'Bills', 375, -500], ['Packers', 'Chargers', -190, 165]), '00', ['Redskins', 'Packers'], 7.249999999999999, 0, 0], [(['Redskins', 'Bills', 375, -500], ['Packers', 'Chargers', -190, 165]), '01', ['Redskins', 'Chargers'], 12.5875, 0, 0], [(['Redskins', 'Bills', 375, -500], ['Packers', 'Chargers', -190, 165]), '10', ['Bills', 'Packers'], 1.8315789473684208, 0, 0], [(['Redskins', 'Bills', 375, -500], ['Packers', 'Chargers', -190, 165]), '11', ['Bills', 'Chargers'], 3.1799999999999997, 0, 1], [(['Redskins', 'Bills', 375, -500], ['Browns', 'Broncos', -200, 170]), '00', ['Redskins', 'Browns'], 7.125, 0, 0], [(['Redskins', 'Bills', 375, -500], ['Browns', 'Broncos', -200, 170]), '01', ['Redskins', 'Broncos'], 12.825000000000001, 0, 0], [(['Redskins', 'Bills', 375, -500], ['Browns', 'Broncos', -200, 170]), '10', ['Bills', 'Browns'], 1.7999999999999998, 0, 0], [(['Redskins', 'Bills', 375, -500], ['Browns', 'Broncos', -200, 170]), '11', ['Bills', 'Broncos'], 3.24, 0, 1], [(['Redskins', 'Bills', 375, -500], ['Patriots', 'Ravens', -170, 150]), '00', ['Redskins', 'Patriots'], 7.544117647058824, 0, 0], [(['Redskins', 'Bills', 375, -500], ['Patriots', 'Ravens', -170, 150]), '01', ['Redskins', 'Ravens'], 11.875, 0, 0], [(['Redskins', 'Bills', 375, -500], ['Patriots', 'Ravens', -170, 150]), '10', ['Bills', 'Patriots'], 1.9058823529411766, 0, 0], [(['Redskins', 'Bills', 375, -500], ['Patriots', 'Ravens', -170, 150]), '11', ['Bills', 'Ravens'], 3.0, 0, 1], [(['Redskins', 'Bills', 375, -500], ['Cowboys', 'Giants', -320, 260]), '00', ['Redskins', 'Cowboys'], 6.234375, 0, 0], [(['Redskins', 'Bills', 375, -500], ['Cowboys', 'Giants', -320, 260]), '01', ['Redskins', 'Giants'], 17.1, 0, 0], [(['Redskins', 'Bills', 375, -500], ['Cowboys', 'Giants', -320, 260]), '10', ['Bills', 'Cowboys'], 1.575, 0, 1], [(['Redskins', 'Bills', 375, -500], ['Cowboys', 'Giants', -320, 260]), '11', ['Bills', 'Giants'], 4.32, 0, 0], [(['Titans', 'Panthers', 165, -190], ['Lions', 'Raiders', 115, -135]), '00', ['Titans', 'Lions'], 5.6975, 0, 0], [(['Titans', 'Panthers', 165, -190], ['Lions', 'Raiders', 115, -135]), '01', ['Titans', 'Raiders'], 4.612962962962962, 0, 0], [(['Titans', 'Panthers', 165, -190], ['Lions', 'Raiders', 115, -135]), '10', ['Panthers', 'Lions'], 3.2815789473684207, 0, 0], [(['Titans', 'Panthers', 165, -190], ['Lions', 'Raiders', 115, -135]), '11', ['Panthers', 'Raiders'], 2.656920077972709, 0, 1], [(['Titans', 'Panthers', 165, -190], ['Buccaneers', 'Seahawks', 200, -240]), '00', ['Titans', 'Buccaneers'], 7.949999999999999, 0, 0], [(['Titans', 'Panthers', 165, -190], ['Buccaneers', 'Seahawks', 200, -240]), '01', ['Titans', 'Seahawks'], 3.754166666666667, 0, 0], [(['Titans', 'Panthers', 165, -190], ['Buccaneers', 'Seahawks', 200, -240]), '10', ['Panthers', 'Buccaneers'], 4.578947368421052, 0, 0], [(['Titans', 'Panthers', 165, -190], ['Buccaneers', 'Seahawks', 200, -240]), '11', ['Panthers', 'Seahawks'], 2.1622807017543857, 0, 1], [(['Titans', 'Panthers', 165, -190], ['Packers', 'Chargers', -190, 165]), '00', ['Titans', 'Packers'], 4.044736842105262, 0, 0], [(['Titans', 'Panthers', 165, -190], ['Packers', 'Chargers', -190, 165]), '01', ['Titans', 'Chargers'], 7.0225, 0, 0], [(['Titans', 'Panthers', 165, -190], ['Packers', 'Chargers', -190, 165]), '10', ['Panthers', 'Packers'], 2.3296398891966756, 0, 0], [(['Titans', 'Panthers', 165, -190], ['Packers', 'Chargers', -190, 165]), '11', ['Panthers', 'Chargers'], 4.044736842105262, 0, 1], [(['Titans', 'Panthers', 165, -190], ['Browns', 'Broncos', -200, 170]), '00', ['Titans', 'Browns'], 3.9749999999999996, 0, 0], [(['Titans', 'Panthers', 165, -190], ['Browns', 'Broncos', -200, 170]), '01', ['Titans', 'Broncos'], 7.155, 0, 0], [(['Titans', 'Panthers', 165, -190], ['Browns', 'Broncos', -200, 170]), '10', ['Panthers', 'Browns'], 2.289473684210526, 0, 0], [(['Titans', 'Panthers', 165, -190], ['Browns', 'Broncos', -200, 170]), '11', ['Panthers', 'Broncos'], 4.121052631578947, 0, 1], [(['Titans', 'Panthers', 165, -190], ['Patriots', 'Ravens', -170, 150]), '00', ['Titans', 'Patriots'], 4.208823529411765, 0, 0], [(['Titans', 'Panthers', 165, -190], ['Patriots', 'Ravens', -170, 150]), '01', ['Titans', 'Ravens'], 6.625, 0, 0], [(['Titans', 'Panthers', 165, -190], ['Patriots', 'Ravens', -170, 150]), '10', ['Panthers', 'Patriots'], 2.4241486068111455, 0, 0], [(['Titans', 'Panthers', 165, -190], ['Patriots', 'Ravens', -170, 150]), '11', ['Panthers', 'Ravens'], 3.81578947368421, 0, 1], [(['Titans', 'Panthers', 165, -190], ['Cowboys', 'Giants', -320, 260]), '00', ['Titans', 'Cowboys'], 3.478125, 0, 0], [(['Titans', 'Panthers', 165, -190], ['Cowboys', 'Giants', -320, 260]), '01', ['Titans', 'Giants'], 9.54, 0, 0], [(['Titans', 'Panthers', 165, -190], ['Cowboys', 'Giants', -320, 260]), '10', ['Panthers', 'Cowboys'], 2.00328947368421, 0, 1], [(['Titans', 'Panthers', 165, -190], ['Cowboys', 'Giants', -320, 260]), '11', ['Panthers', 'Giants'], 5.4947368421052625, 0, 0], [(['Lions', 'Raiders', 115, -135], ['Buccaneers', 'Seahawks', 200, -240]), '00', ['Lions', 'Buccaneers'], 6.449999999999999, 0, 0], [(['Lions', 'Raiders', 115, -135], ['Buccaneers', 'Seahawks', 200, -240]), '01', ['Lions', 'Seahawks'], 3.0458333333333334, 0, 0], [(['Lions', 'Raiders', 115, -135], ['Buccaneers', 'Seahawks', 200, -240]), '10', ['Raiders', 'Buccaneers'], 5.222222222222222, 0, 0], [(['Lions', 'Raiders', 115, -135], ['Buccaneers', 'Seahawks', 200, -240]), '11', ['Raiders', 'Seahawks'], 2.4660493827160495, 0, 1], [(['Lions', 'Raiders', 115, -135], ['Packers', 'Chargers', -190, 165]), '00', ['Lions', 'Packers'], 3.2815789473684207, 0, 0], [(['Lions', 'Raiders', 115, -135], ['Packers', 'Chargers', -190, 165]), '01', ['Lions', 'Chargers'], 5.6975, 0, 0], [(['Lions', 'Raiders', 115, -135], ['Packers', 'Chargers', -190, 165]), '10', ['Raiders', 'Packers'], 2.656920077972709, 0, 0], [(['Lions', 'Raiders', 115, -135], ['Packers', 'Chargers', -190, 165]), '11', ['Raiders', 'Chargers'], 4.612962962962962, 0, 1], [(['Lions', 'Raiders', 115, -135], ['Browns', 'Broncos', -200, 170]), '00', ['Lions', 'Browns'], 3.2249999999999996, 0, 0], [(['Lions', 'Raiders', 115, -135], ['Browns', 'Broncos', -200, 170]), '01', ['Lions', 'Broncos'], 5.805, 0, 0], [(['Lions', 'Raiders', 115, -135], ['Browns', 'Broncos', -200, 170]), '10', ['Raiders', 'Browns'], 2.611111111111111, 0, 0], [(['Lions', 'Raiders', 115, -135], ['Browns', 'Broncos', -200, 170]), '11', ['Raiders', 'Broncos'], 4.7, 0, 1], [(['Lions', 'Raiders', 115, -135], ['Patriots', 'Ravens', -170, 150]), '00', ['Lions', 'Patriots'], 3.4147058823529415, 0, 0], [(['Lions', 'Raiders', 115, -135], ['Patriots', 'Ravens', -170, 150]), '01', ['Lions', 'Ravens'], 5.375, 0, 0], [(['Lions', 'Raiders', 115, -135], ['Patriots', 'Ravens', -170, 150]), '10', ['Raiders', 'Patriots'], 2.764705882352941, 0, 0], [(['Lions', 'Raiders', 115, -135], ['Patriots', 'Ravens', -170, 150]), '11', ['Raiders', 'Ravens'], 4.351851851851852, 0, 1], [(['Lions', 'Raiders', 115, -135], ['Cowboys', 'Giants', -320, 260]), '00', ['Lions', 'Cowboys'], 2.821875, 0, 0], [(['Lions', 'Raiders', 115, -135], ['Cowboys', 'Giants', -320, 260]), '01', ['Lions', 'Giants'], 7.74, 0, 0], [(['Lions', 'Raiders', 115, -135], ['Cowboys', 'Giants', -320, 260]), '10', ['Raiders', 'Cowboys'], 2.2847222222222223, 0, 1], [(['Lions', 'Raiders', 115, -135], ['Cowboys', 'Giants', -320, 260]), '11', ['Raiders', 'Giants'], 6.266666666666667, 0, 0], [(['Buccaneers', 'Seahawks', 200, -240], ['Packers', 'Chargers', -190, 165]), '00', ['Buccaneers', 'Packers'], 4.578947368421052, 0, 0], [(['Buccaneers', 'Seahawks', 200, -240], ['Packers', 'Chargers', -190, 165]), '01', ['Buccaneers', 'Chargers'], 7.949999999999999, 0, 0], [(['Buccaneers', 'Seahawks', 200, -240], ['Packers', 'Chargers', -190, 165]), '10', ['Seahawks', 'Packers'], 2.1622807017543857, 0, 0], [(['Buccaneers', 'Seahawks', 200, -240], ['Packers', 'Chargers', -190, 165]), '11', ['Seahawks', 'Chargers'], 3.754166666666667, 0, 1], [(['Buccaneers', 'Seahawks', 200, -240], ['Browns', 'Broncos', -200, 170]), '00', ['Buccaneers', 'Browns'], 4.5, 0, 0], [(['Buccaneers', 'Seahawks', 200, -240], ['Browns', 'Broncos', -200, 170]), '01', ['Buccaneers', 'Broncos'], 8.100000000000001, 0, 0], [(['Buccaneers', 'Seahawks', 200, -240], ['Browns', 'Broncos', -200, 170]), '10', ['Seahawks', 'Browns'], 2.125, 0, 0], [(['Buccaneers', 'Seahawks', 200, -240], ['Browns', 'Broncos', -200, 170]), '11', ['Seahawks', 'Broncos'], 3.8250000000000006, 0, 1], [(['Buccaneers', 'Seahawks', 200, -240], ['Patriots', 'Ravens', -170, 150]), '00', ['Buccaneers', 'Patriots'], 4.764705882352942, 0, 0], [(['Buccaneers', 'Seahawks', 200, -240], ['Patriots', 'Ravens', -170, 150]), '01', ['Buccaneers', 'Ravens'], 7.5, 0, 0], [(['Buccaneers', 'Seahawks', 200, -240], ['Patriots', 'Ravens', -170, 150]), '10', ['Seahawks', 'Patriots'], 2.2500000000000004, 0, 0], [(['Buccaneers', 'Seahawks', 200, -240], ['Patriots', 'Ravens', -170, 150]), '11', ['Seahawks', 'Ravens'], 3.541666666666667, 0, 1], [(['Buccaneers', 'Seahawks', 200, -240], ['Cowboys', 'Giants', -320, 260]), '00', ['Buccaneers', 'Cowboys'], 3.9375, 0, 0], [(['Buccaneers', 'Seahawks', 200, -240], ['Cowboys', 'Giants', -320, 260]), '01', ['Buccaneers', 'Giants'], 10.8, 0, 0], [(['Buccaneers', 'Seahawks', 200, -240], ['Cowboys', 'Giants', -320, 260]), '10', ['Seahawks', 'Cowboys'], 1.859375, 0, 1], [(['Buccaneers', 'Seahawks', 200, -240], ['Cowboys', 'Giants', -320, 260]), '11', ['Seahawks', 'Giants'], 5.1000000000000005, 0, 0], [(['Packers', 'Chargers', -190, 165], ['Browns', 'Broncos', -200, 170]), '00', ['Packers', 'Browns'], 2.289473684210526, 0, 0], [(['Packers', 'Chargers', -190, 165], ['Browns', 'Broncos', -200, 170]), '01', ['Packers', 'Broncos'], 4.121052631578947, 0, 0], [(['Packers', 'Chargers', -190, 165], ['Browns', 'Broncos', -200, 170]), '10', ['Chargers', 'Browns'], 3.9749999999999996, 0, 0], [(['Packers', 'Chargers', -190, 165], ['Browns', 'Broncos', -200, 170]), '11', ['Chargers', 'Broncos'], 7.155, 0, 1], [(['Packers', 'Chargers', -190, 165], ['Patriots', 'Ravens', -170, 150]), '00', ['Packers', 'Patriots'], 2.4241486068111455, 0, 0], [(['Packers', 'Chargers', -190, 165], ['Patriots', 'Ravens', -170, 150]), '01', ['Packers', 'Ravens'], 3.81578947368421, 0, 0], [(['Packers', 'Chargers', -190, 165], ['Patriots', 'Ravens', -170, 150]), '10', ['Chargers', 'Patriots'], 4.208823529411765, 0, 0], [(['Packers', 'Chargers', -190, 165], ['Patriots', 'Ravens', -170, 150]), '11', ['Chargers', 'Ravens'], 6.625, 0, 1], [(['Packers', 'Chargers', -190, 165], ['Cowboys', 'Giants', -320, 260]), '00', ['Packers', 'Cowboys'], 2.00328947368421, 0, 0], [(['Packers', 'Chargers', -190, 165], ['Cowboys', 'Giants', -320, 260]), '01', ['Packers', 'Giants'], 5.4947368421052625, 0, 0], [(['Packers', 'Chargers', -190, 165], ['Cowboys', 'Giants', -320, 260]), '10', ['Chargers', 'Cowboys'], 3.478125, 0, 1], [(['Packers', 'Chargers', -190, 165], ['Cowboys', 'Giants', -320, 260]), '11', ['Chargers', 'Giants'], 9.54, 0, 0], [(['Browns', 'Broncos', -200, 170], ['Patriots', 'Ravens', -170, 150]), '00', ['Browns', 'Patriots'], 2.382352941176471, 0, 0], [(['Browns', 'Broncos', -200, 170], ['Patriots', 'Ravens', -170, 150]), '01', ['Browns', 'Ravens'], 3.75, 0, 0], [(['Browns', 'Broncos', -200, 170], ['Patriots', 'Ravens', -170, 150]), '10', ['Broncos', 'Patriots'], 4.288235294117648, 0, 0], [(['Browns', 'Broncos', -200, 170], ['Patriots', 'Ravens', -170, 150]), '11', ['Broncos', 'Ravens'], 6.75, 0, 1], [(['Browns', 'Broncos', -200, 170], ['Cowboys', 'Giants', -320, 260]), '00', ['Browns', 'Cowboys'], 1.96875, 0, 0], [(['Browns', 'Broncos', -200, 170], ['Cowboys', 'Giants', -320, 260]), '01', ['Browns', 'Giants'], 5.4, 0, 0], [(['Browns', 'Broncos', -200, 170], ['Cowboys', 'Giants', -320, 260]), '10', ['Broncos', 'Cowboys'], 3.54375, 0, 1], [(['Browns', 'Broncos', -200, 170], ['Cowboys', 'Giants', -320, 260]), '11', ['Broncos', 'Giants'], 9.72, 0, 0], [(['Patriots', 'Ravens', -170, 150], ['Cowboys', 'Giants', -320, 260]), '00', ['Patriots', 'Cowboys'], 2.084558823529412, 0, 0], [(['Patriots', 'Ravens', -170, 150], ['Cowboys', 'Giants', -320, 260]), '01', ['Patriots', 'Giants'], 5.71764705882353, 0, 0], [(['Patriots', 'Ravens', -170, 150], ['Cowboys', 'Giants', -320, 260]), '10', ['Ravens', 'Cowboys'], 3.28125, 0, 1], [(['Patriots', 'Ravens', -170, 150], ['Cowboys', 'Giants', -320, 260]), '11', ['Ravens', 'Giants'], 9.0, 0, 0]]\n",
      "78 312 0.25\n"
     ]
    }
   ],
   "source": [
    "print(allOdds2parlayWins)\n",
    "\n",
    "counter = 0\n",
    "for x in range(len(allOdds2parlayWins)):\n",
    "    if (allOdds2parlayWins[x][5] == 1):\n",
    "        counter += 1\n",
    "print(counter, len(allOdds2parlayWins), counter/len(allOdds2parlayWins))"
   ]
  },
  {
   "cell_type": "code",
   "execution_count": 106,
   "metadata": {},
   "outputs": [],
   "source": [
    "sorted2parlays = sorted(allOdds2parlayWins, key=lambda x : x[3])"
   ]
  },
  {
   "cell_type": "code",
   "execution_count": 107,
   "metadata": {},
   "outputs": [
    {
     "name": "stdout",
     "output_type": "stream",
     "text": [
      "[[(['Redskins', 'Bills', 375, -500], ['Cowboys', 'Giants', -320, 260]), '10', ['Bills', 'Cowboys'], 1.575, 0, 1], [(['Redskins', 'Bills', 375, -500], ['Buccaneers', 'Seahawks', 200, -240]), '11', ['Bills', 'Seahawks'], 1.7, 0, 1], [(['Bears', 'Eagles', 185, -215], ['Redskins', 'Bills', 375, -500]), '11', ['Eagles', 'Bills'], 1.7581395348837208, 0, 1], [(['Redskins', 'Bills', 375, -500], ['Browns', 'Broncos', -200, 170]), '10', ['Bills', 'Browns'], 1.7999999999999998, 0, 0], [(['Redskins', 'Bills', 375, -500], ['Titans', 'Panthers', 165, -190]), '11', ['Bills', 'Panthers'], 1.8315789473684208, 0, 1], [(['Redskins', 'Bills', 375, -500], ['Packers', 'Chargers', -190, 165]), '10', ['Bills', 'Packers'], 1.8315789473684208, 0, 0], [(['Buccaneers', 'Seahawks', 200, -240], ['Cowboys', 'Giants', -320, 260]), '10', ['Seahawks', 'Cowboys'], 1.859375, 0, 1], [(['Jets', 'Dolphins', -175, 155], ['Redskins', 'Bills', 375, -500]), '01', ['Jets', 'Bills'], 1.8857142857142857, 0, 0], [(['Vikings', 'Chiefs', -172, 140], ['Redskins', 'Bills', 375, -500]), '01', ['Vikings', 'Bills'], 1.8976744186046512, 0, 0], [(['Redskins', 'Bills', 375, -500], ['Patriots', 'Ravens', -170, 150]), '10', ['Bills', 'Patriots'], 1.9058823529411766, 0, 0], [(['Bears', 'Eagles', 185, -215], ['Cowboys', 'Giants', -320, 260]), '10', ['Eagles', 'Cowboys'], 1.9229651162790697, 0, 1], [(['Browns', 'Broncos', -200, 170], ['Cowboys', 'Giants', -320, 260]), '00', ['Browns', 'Cowboys'], 1.96875, 0, 0], [(['Titans', 'Panthers', 165, -190], ['Cowboys', 'Giants', -320, 260]), '10', ['Panthers', 'Cowboys'], 2.00328947368421, 0, 1], [(['Packers', 'Chargers', -190, 165], ['Cowboys', 'Giants', -320, 260]), '00', ['Packers', 'Cowboys'], 2.00328947368421, 0, 0], [(['Jets', 'Dolphins', -175, 155], ['Cowboys', 'Giants', -320, 260]), '00', ['Jets', 'Cowboys'], 2.0625, 0, 0], [(['Bears', 'Eagles', 185, -215], ['Buccaneers', 'Seahawks', 200, -240]), '11', ['Eagles', 'Seahawks'], 2.0755813953488373, 0, 1], [(['Vikings', 'Chiefs', -172, 140], ['Cowboys', 'Giants', -320, 260]), '00', ['Vikings', 'Cowboys'], 2.0755813953488373, 0, 0], [(['Patriots', 'Ravens', -170, 150], ['Cowboys', 'Giants', -320, 260]), '00', ['Patriots', 'Cowboys'], 2.084558823529412, 0, 0], [(['Redskins', 'Bills', 375, -500], ['Lions', 'Raiders', 115, -135]), '11', ['Bills', 'Raiders'], 2.0888888888888886, 0, 1], [(['Texans', 'Jaguars', -130, 110], ['Redskins', 'Bills', 375, -500]), '01', ['Texans', 'Bills'], 2.123076923076923, 0, 1], [(['Buccaneers', 'Seahawks', 200, -240], ['Browns', 'Broncos', -200, 170]), '10', ['Seahawks', 'Browns'], 2.125, 0, 0], [(['Titans', 'Panthers', 165, -190], ['Buccaneers', 'Seahawks', 200, -240]), '11', ['Panthers', 'Seahawks'], 2.1622807017543857, 0, 1], [(['Buccaneers', 'Seahawks', 200, -240], ['Packers', 'Chargers', -190, 165]), '10', ['Seahawks', 'Packers'], 2.1622807017543857, 0, 0], [(['Bears', 'Eagles', 185, -215], ['Browns', 'Broncos', -200, 170]), '10', ['Eagles', 'Browns'], 2.197674418604651, 0, 0], [(['Jets', 'Dolphins', -175, 155], ['Buccaneers', 'Seahawks', 200, -240]), '01', ['Jets', 'Seahawks'], 2.2261904761904763, 0, 0], [(['Bears', 'Eagles', 185, -215], ['Titans', 'Panthers', 165, -190]), '11', ['Eagles', 'Panthers'], 2.236230110159118, 0, 1], [(['Bears', 'Eagles', 185, -215], ['Packers', 'Chargers', -190, 165]), '10', ['Eagles', 'Packers'], 2.236230110159118, 0, 0], [(['Vikings', 'Chiefs', -172, 140], ['Buccaneers', 'Seahawks', 200, -240]), '01', ['Vikings', 'Seahawks'], 2.2403100775193803, 0, 0], [(['Colts', 'Steelers', -105, -115], ['Redskins', 'Bills', 375, -500]), '11', ['Steelers', 'Bills'], 2.243478260869565, 0, 1], [(['Buccaneers', 'Seahawks', 200, -240], ['Patriots', 'Ravens', -170, 150]), '10', ['Seahawks', 'Patriots'], 2.2500000000000004, 0, 0], [(['Lions', 'Raiders', 115, -135], ['Cowboys', 'Giants', -320, 260]), '10', ['Raiders', 'Cowboys'], 2.2847222222222223, 0, 1], [(['Titans', 'Panthers', 165, -190], ['Browns', 'Broncos', -200, 170]), '10', ['Panthers', 'Browns'], 2.289473684210526, 0, 0], [(['Packers', 'Chargers', -190, 165], ['Browns', 'Broncos', -200, 170]), '00', ['Packers', 'Browns'], 2.289473684210526, 0, 0], [(['Bears', 'Eagles', 185, -215], ['Jets', 'Dolphins', -175, 155]), '10', ['Eagles', 'Jets'], 2.3023255813953485, 0, 0], [(['Bears', 'Eagles', 185, -215], ['Vikings', 'Chiefs', -172, 140]), '10', ['Eagles', 'Vikings'], 2.316928069226609, 0, 0], [(['Texans', 'Jaguars', -130, 110], ['Cowboys', 'Giants', -320, 260]), '00', ['Texans', 'Cowboys'], 2.3221153846153846, 0, 1], [(['Bears', 'Eagles', 185, -215], ['Patriots', 'Ravens', -170, 150]), '10', ['Eagles', 'Patriots'], 2.3269493844049247, 0, 0], [(['Titans', 'Panthers', 165, -190], ['Packers', 'Chargers', -190, 165]), '10', ['Panthers', 'Packers'], 2.3296398891966756, 0, 0], [(['Colts', 'Steelers', -105, -115], ['Redskins', 'Bills', 375, -500]), '01', ['Colts', 'Bills'], 2.3428571428571425, 0, 0], [(['Jets', 'Dolphins', -175, 155], ['Browns', 'Broncos', -200, 170]), '00', ['Jets', 'Browns'], 2.357142857142857, 0, 0], [(['Vikings', 'Chiefs', -172, 140], ['Browns', 'Broncos', -200, 170]), '00', ['Vikings', 'Browns'], 2.372093023255814, 0, 0], [(['Browns', 'Broncos', -200, 170], ['Patriots', 'Ravens', -170, 150]), '00', ['Browns', 'Patriots'], 2.382352941176471, 0, 0], [(['Jets', 'Dolphins', -175, 155], ['Titans', 'Panthers', 165, -190]), '01', ['Jets', 'Panthers'], 2.3984962406015033, 0, 0], [(['Jets', 'Dolphins', -175, 155], ['Packers', 'Chargers', -190, 165]), '00', ['Jets', 'Packers'], 2.3984962406015033, 0, 0], [(['Vikings', 'Chiefs', -172, 140], ['Titans', 'Panthers', 165, -190]), '01', ['Vikings', 'Panthers'], 2.4137086903304774, 0, 0], [(['Vikings', 'Chiefs', -172, 140], ['Packers', 'Chargers', -190, 165]), '00', ['Vikings', 'Packers'], 2.4137086903304774, 0, 0], [(['Titans', 'Panthers', 165, -190], ['Patriots', 'Ravens', -170, 150]), '10', ['Panthers', 'Patriots'], 2.4241486068111455, 0, 0], [(['Packers', 'Chargers', -190, 165], ['Patriots', 'Ravens', -170, 150]), '00', ['Packers', 'Patriots'], 2.4241486068111455, 0, 0], [(['Colts', 'Steelers', -105, -115], ['Cowboys', 'Giants', -320, 260]), '10', ['Steelers', 'Cowboys'], 2.453804347826087, 0, 1], [(['Lions', 'Raiders', 115, -135], ['Buccaneers', 'Seahawks', 200, -240]), '11', ['Raiders', 'Seahawks'], 2.4660493827160495, 0, 1], [(['Vikings', 'Chiefs', -172, 140], ['Jets', 'Dolphins', -175, 155]), '00', ['Vikings', 'Jets'], 2.4850498338870435, 0, 0], [(['Jets', 'Dolphins', -175, 155], ['Patriots', 'Ravens', -170, 150]), '00', ['Jets', 'Patriots'], 2.495798319327731, 0, 0], [(['Texans', 'Jaguars', -130, 110], ['Buccaneers', 'Seahawks', 200, -240]), '01', ['Texans', 'Seahawks'], 2.5064102564102564, 0, 1], [(['Vikings', 'Chiefs', -172, 140], ['Patriots', 'Ravens', -170, 150]), '00', ['Vikings', 'Patriots'], 2.5116279069767447, 0, 0], [(['Texans', 'Jaguars', -130, 110], ['Redskins', 'Bills', 375, -500]), '11', ['Jaguars', 'Bills'], 2.52, 0, 0], [(['Bears', 'Eagles', 185, -215], ['Lions', 'Raiders', 115, -135]), '11', ['Eagles', 'Raiders'], 2.5503875968992245, 0, 1], [(['Colts', 'Steelers', -105, -115], ['Cowboys', 'Giants', -320, 260]), '00', ['Colts', 'Cowboys'], 2.5625, 0, 0], [(['Redskins', 'Bills', 375, -500], ['Lions', 'Raiders', 115, -135]), '10', ['Bills', 'Lions'], 2.5799999999999996, 0, 0], [(['Texans', 'Jaguars', -130, 110], ['Bears', 'Eagles', 185, -215]), '01', ['Texans', 'Eagles'], 2.592128801431127, 0, 1], [(['Lions', 'Raiders', 115, -135], ['Browns', 'Broncos', -200, 170]), '10', ['Raiders', 'Browns'], 2.611111111111111, 0, 0], [(['Colts', 'Steelers', -105, -115], ['Buccaneers', 'Seahawks', 200, -240]), '11', ['Steelers', 'Seahawks'], 2.648550724637681, 0, 1], [(['Texans', 'Jaguars', -130, 110], ['Browns', 'Broncos', -200, 170]), '00', ['Texans', 'Browns'], 2.6538461538461537, 0, 0], [(['Titans', 'Panthers', 165, -190], ['Lions', 'Raiders', 115, -135]), '11', ['Panthers', 'Raiders'], 2.656920077972709, 0, 1], [(['Lions', 'Raiders', 115, -135], ['Packers', 'Chargers', -190, 165]), '10', ['Raiders', 'Packers'], 2.656920077972709, 0, 0], [(['Texans', 'Jaguars', -130, 110], ['Titans', 'Panthers', 165, -190]), '01', ['Texans', 'Panthers'], 2.7004048582995948, 0, 1], [(['Texans', 'Jaguars', -130, 110], ['Packers', 'Chargers', -190, 165]), '00', ['Texans', 'Packers'], 2.7004048582995948, 0, 0], [(['Jets', 'Dolphins', -175, 155], ['Lions', 'Raiders', 115, -135]), '01', ['Jets', 'Raiders'], 2.7354497354497354, 0, 0], [(['Bears', 'Eagles', 185, -215], ['Colts', 'Steelers', -105, -115]), '11', ['Eagles', 'Steelers'], 2.7391304347826084, 0, 1], [(['Vikings', 'Chiefs', -172, 140], ['Lions', 'Raiders', 115, -135]), '01', ['Vikings', 'Raiders'], 2.7527993109388462, 0, 0], [(['Texans', 'Jaguars', -130, 110], ['Cowboys', 'Giants', -320, 260]), '10', ['Jaguars', 'Cowboys'], 2.75625, 0, 0], [(['Lions', 'Raiders', 115, -135], ['Patriots', 'Ravens', -170, 150]), '10', ['Raiders', 'Patriots'], 2.764705882352941, 0, 0], [(['Colts', 'Steelers', -105, -115], ['Buccaneers', 'Seahawks', 200, -240]), '01', ['Colts', 'Seahawks'], 2.765873015873016, 0, 0], [(['Texans', 'Jaguars', -130, 110], ['Jets', 'Dolphins', -175, 155]), '00', ['Texans', 'Jets'], 2.78021978021978, 0, 0], [(['Texans', 'Jaguars', -130, 110], ['Vikings', 'Chiefs', -172, 140]), '00', ['Texans', 'Vikings'], 2.7978533094812166, 0, 0], [(['Colts', 'Steelers', -105, -115], ['Browns', 'Broncos', -200, 170]), '10', ['Steelers', 'Browns'], 2.804347826086956, 0, 0], [(['Texans', 'Jaguars', -130, 110], ['Patriots', 'Ravens', -170, 150]), '00', ['Texans', 'Patriots'], 2.809954751131222, 0, 0], [(['Lions', 'Raiders', 115, -135], ['Cowboys', 'Giants', -320, 260]), '00', ['Lions', 'Cowboys'], 2.821875, 0, 0], [(['Colts', 'Steelers', -105, -115], ['Titans', 'Panthers', 165, -190]), '11', ['Steelers', 'Panthers'], 2.8535469107551483, 0, 1], [(['Colts', 'Steelers', -105, -115], ['Packers', 'Chargers', -190, 165]), '10', ['Steelers', 'Packers'], 2.8535469107551483, 0, 0], [(['Bears', 'Eagles', 185, -215], ['Colts', 'Steelers', -105, -115]), '10', ['Eagles', 'Colts'], 2.8604651162790695, 0, 0], [(['Vikings', 'Chiefs', -172, 140], ['Redskins', 'Bills', 375, -500]), '11', ['Chiefs', 'Bills'], 2.88, 0, 1], [(['Colts', 'Steelers', -105, -115], ['Browns', 'Broncos', -200, 170]), '00', ['Colts', 'Browns'], 2.9285714285714284, 0, 0], [(['Colts', 'Steelers', -105, -115], ['Jets', 'Dolphins', -175, 155]), '10', ['Steelers', 'Jets'], 2.9378881987577636, 0, 0], [(['Vikings', 'Chiefs', -172, 140], ['Colts', 'Steelers', -105, -115]), '01', ['Vikings', 'Steelers'], 2.956521739130435, 0, 0], [(['Colts', 'Steelers', -105, -115], ['Patriots', 'Ravens', -170, 150]), '10', ['Steelers', 'Patriots'], 2.969309462915601, 0, 0], [(['Texans', 'Jaguars', -130, 110], ['Buccaneers', 'Seahawks', 200, -240]), '11', ['Jaguars', 'Seahawks'], 2.975, 0, 0], [(['Colts', 'Steelers', -105, -115], ['Titans', 'Panthers', 165, -190]), '01', ['Colts', 'Panthers'], 2.9799498746867163, 0, 0], [(['Colts', 'Steelers', -105, -115], ['Packers', 'Chargers', -190, 165]), '00', ['Colts', 'Packers'], 2.9799498746867163, 0, 0], [(['Redskins', 'Bills', 375, -500], ['Patriots', 'Ravens', -170, 150]), '11', ['Bills', 'Ravens'], 3.0, 0, 1], [(['Lions', 'Raiders', 115, -135], ['Buccaneers', 'Seahawks', 200, -240]), '01', ['Lions', 'Seahawks'], 3.0458333333333334, 0, 0], [(['Jets', 'Dolphins', -175, 155], ['Redskins', 'Bills', 375, -500]), '11', ['Dolphins', 'Bills'], 3.0599999999999996, 0, 1], [(['Colts', 'Steelers', -105, -115], ['Jets', 'Dolphins', -175, 155]), '00', ['Colts', 'Jets'], 3.068027210884354, 0, 0], [(['Texans', 'Jaguars', -130, 110], ['Bears', 'Eagles', 185, -215]), '11', ['Jaguars', 'Eagles'], 3.0767441860465117, 0, 0], [(['Texans', 'Jaguars', -130, 110], ['Lions', 'Raiders', 115, -135]), '01', ['Texans', 'Raiders'], 3.07977207977208, 0, 1], [(['Vikings', 'Chiefs', -172, 140], ['Colts', 'Steelers', -105, -115]), '00', ['Vikings', 'Colts'], 3.087486157253599, 0, 0], [(['Colts', 'Steelers', -105, -115], ['Patriots', 'Ravens', -170, 150]), '00', ['Colts', 'Patriots'], 3.100840336134454, 0, 0], [(['Bears', 'Eagles', 185, -215], ['Lions', 'Raiders', 115, -135]), '10', ['Eagles', 'Lions'], 3.15, 0, 0], [(['Vikings', 'Chiefs', -172, 140], ['Cowboys', 'Giants', -320, 260]), '10', ['Chiefs', 'Cowboys'], 3.15, 0, 1], [(['Texans', 'Jaguars', -130, 110], ['Browns', 'Broncos', -200, 170]), '10', ['Jaguars', 'Browns'], 3.1500000000000004, 0, 0], [(['Redskins', 'Bills', 375, -500], ['Titans', 'Panthers', 165, -190]), '10', ['Bills', 'Titans'], 3.1799999999999997, 0, 0], [(['Redskins', 'Bills', 375, -500], ['Packers', 'Chargers', -190, 165]), '11', ['Bills', 'Chargers'], 3.1799999999999997, 0, 1], [(['Texans', 'Jaguars', -130, 110], ['Titans', 'Panthers', 165, -190]), '11', ['Jaguars', 'Panthers'], 3.205263157894737, 0, 0], [(['Texans', 'Jaguars', -130, 110], ['Packers', 'Chargers', -190, 165]), '10', ['Jaguars', 'Packers'], 3.205263157894737, 0, 0], [(['Lions', 'Raiders', 115, -135], ['Browns', 'Broncos', -200, 170]), '00', ['Lions', 'Browns'], 3.2249999999999996, 0, 0], [(['Redskins', 'Bills', 375, -500], ['Browns', 'Broncos', -200, 170]), '11', ['Bills', 'Broncos'], 3.24, 0, 1], [(['Colts', 'Steelers', -105, -115], ['Lions', 'Raiders', 115, -135]), '11', ['Steelers', 'Raiders'], 3.254428341384863, 0, 1], [(['Patriots', 'Ravens', -170, 150], ['Cowboys', 'Giants', -320, 260]), '10', ['Ravens', 'Cowboys'], 3.28125, 0, 1], [(['Titans', 'Panthers', 165, -190], ['Lions', 'Raiders', 115, -135]), '10', ['Panthers', 'Lions'], 3.2815789473684207, 0, 0], [(['Lions', 'Raiders', 115, -135], ['Packers', 'Chargers', -190, 165]), '00', ['Lions', 'Packers'], 3.2815789473684207, 0, 0], [(['Texans', 'Jaguars', -130, 110], ['Jets', 'Dolphins', -175, 155]), '10', ['Jaguars', 'Jets'], 3.3000000000000003, 0, 0], [(['Texans', 'Jaguars', -130, 110], ['Colts', 'Steelers', -105, -115]), '01', ['Texans', 'Steelers'], 3.3076923076923075, 0, 1], [(['Texans', 'Jaguars', -130, 110], ['Vikings', 'Chiefs', -172, 140]), '10', ['Jaguars', 'Vikings'], 3.32093023255814, 0, 0], [(['Texans', 'Jaguars', -130, 110], ['Patriots', 'Ravens', -170, 150]), '10', ['Jaguars', 'Patriots'], 3.3352941176470594, 0, 0], [(['Jets', 'Dolphins', -175, 155], ['Cowboys', 'Giants', -320, 260]), '10', ['Dolphins', 'Cowboys'], 3.346875, 0, 1], [(['Jets', 'Dolphins', -175, 155], ['Lions', 'Raiders', 115, -135]), '00', ['Jets', 'Lions'], 3.3785714285714286, 0, 0], [(['Colts', 'Steelers', -105, -115], ['Lions', 'Raiders', 115, -135]), '01', ['Colts', 'Raiders'], 3.398589065255732, 0, 0], [(['Vikings', 'Chiefs', -172, 140], ['Buccaneers', 'Seahawks', 200, -240]), '11', ['Chiefs', 'Seahawks'], 3.4, 0, 1], [(['Vikings', 'Chiefs', -172, 140], ['Lions', 'Raiders', 115, -135]), '00', ['Vikings', 'Lions'], 3.4000000000000004, 0, 0], [(['Lions', 'Raiders', 115, -135], ['Patriots', 'Ravens', -170, 150]), '00', ['Lions', 'Patriots'], 3.4147058823529415, 0, 0], [(['Bears', 'Eagles', 185, -215], ['Redskins', 'Bills', 375, -500]), '01', ['Bears', 'Bills'], 3.42, 0, 0], [(['Texans', 'Jaguars', -130, 110], ['Colts', 'Steelers', -105, -115]), '00', ['Texans', 'Colts'], 3.454212454212454, 0, 0], [(['Titans', 'Panthers', 165, -190], ['Cowboys', 'Giants', -320, 260]), '00', ['Titans', 'Cowboys'], 3.478125, 0, 0], [(['Packers', 'Chargers', -190, 165], ['Cowboys', 'Giants', -320, 260]), '10', ['Chargers', 'Cowboys'], 3.478125, 0, 1], [(['Bears', 'Eagles', 185, -215], ['Vikings', 'Chiefs', -172, 140]), '11', ['Eagles', 'Chiefs'], 3.5162790697674415, 0, 1], [(['Buccaneers', 'Seahawks', 200, -240], ['Patriots', 'Ravens', -170, 150]), '11', ['Seahawks', 'Ravens'], 3.541666666666667, 0, 1], [(['Browns', 'Broncos', -200, 170], ['Cowboys', 'Giants', -320, 260]), '10', ['Broncos', 'Cowboys'], 3.54375, 0, 1], [(['Vikings', 'Chiefs', -172, 140], ['Browns', 'Broncos', -200, 170]), '10', ['Chiefs', 'Browns'], 3.5999999999999996, 0, 0], [(['Redskins', 'Bills', 375, -500], ['Buccaneers', 'Seahawks', 200, -240]), '10', ['Bills', 'Buccaneers'], 3.5999999999999996, 0, 0], [(['Jets', 'Dolphins', -175, 155], ['Buccaneers', 'Seahawks', 200, -240]), '11', ['Dolphins', 'Seahawks'], 3.6125, 0, 1], [(['Texans', 'Jaguars', -130, 110], ['Lions', 'Raiders', 115, -135]), '11', ['Jaguars', 'Raiders'], 3.6555555555555554, 0, 0], [(['Bears', 'Eagles', 185, -215], ['Patriots', 'Ravens', -170, 150]), '11', ['Eagles', 'Ravens'], 3.6627906976744184, 0, 1], [(['Vikings', 'Chiefs', -172, 140], ['Titans', 'Panthers', 165, -190]), '11', ['Chiefs', 'Panthers'], 3.6631578947368415, 0, 1], [(['Vikings', 'Chiefs', -172, 140], ['Packers', 'Chargers', -190, 165]), '10', ['Chiefs', 'Packers'], 3.6631578947368415, 0, 0], [(['Bears', 'Eagles', 185, -215], ['Jets', 'Dolphins', -175, 155]), '11', ['Eagles', 'Dolphins'], 3.7360465116279067, 0, 1], [(['Bears', 'Eagles', 185, -215], ['Cowboys', 'Giants', -320, 260]), '00', ['Bears', 'Cowboys'], 3.740625, 0, 0], [(['Browns', 'Broncos', -200, 170], ['Patriots', 'Ravens', -170, 150]), '01', ['Browns', 'Ravens'], 3.75, 0, 0], [(['Titans', 'Panthers', 165, -190], ['Buccaneers', 'Seahawks', 200, -240]), '01', ['Titans', 'Seahawks'], 3.754166666666667, 0, 0], [(['Buccaneers', 'Seahawks', 200, -240], ['Packers', 'Chargers', -190, 165]), '11', ['Seahawks', 'Chargers'], 3.754166666666667, 0, 1], [(['Vikings', 'Chiefs', -172, 140], ['Jets', 'Dolphins', -175, 155]), '10', ['Chiefs', 'Jets'], 3.7714285714285714, 0, 0], [(['Texans', 'Jaguars', -130, 110], ['Lions', 'Raiders', 115, -135]), '00', ['Texans', 'Lions'], 3.8038461538461537, 0, 0], [(['Vikings', 'Chiefs', -172, 140], ['Patriots', 'Ravens', -170, 150]), '10', ['Chiefs', 'Patriots'], 3.811764705882353, 0, 0], [(['Titans', 'Panthers', 165, -190], ['Patriots', 'Ravens', -170, 150]), '11', ['Panthers', 'Ravens'], 3.81578947368421, 0, 1], [(['Packers', 'Chargers', -190, 165], ['Patriots', 'Ravens', -170, 150]), '01', ['Packers', 'Ravens'], 3.81578947368421, 0, 0], [(['Jets', 'Dolphins', -175, 155], ['Browns', 'Broncos', -200, 170]), '10', ['Dolphins', 'Browns'], 3.8249999999999997, 0, 0], [(['Buccaneers', 'Seahawks', 200, -240], ['Browns', 'Broncos', -200, 170]), '11', ['Seahawks', 'Broncos'], 3.8250000000000006, 0, 1], [(['Bears', 'Eagles', 185, -215], ['Titans', 'Panthers', 165, -190]), '10', ['Eagles', 'Titans'], 3.8825581395348836, 0, 0], [(['Bears', 'Eagles', 185, -215], ['Packers', 'Chargers', -190, 165]), '11', ['Eagles', 'Chargers'], 3.8825581395348836, 0, 1], [(['Jets', 'Dolphins', -175, 155], ['Titans', 'Panthers', 165, -190]), '11', ['Dolphins', 'Panthers'], 3.892105263157894, 0, 1], [(['Jets', 'Dolphins', -175, 155], ['Packers', 'Chargers', -190, 165]), '10', ['Dolphins', 'Packers'], 3.892105263157894, 0, 0], [(['Texans', 'Jaguars', -130, 110], ['Colts', 'Steelers', -105, -115]), '11', ['Jaguars', 'Steelers'], 3.926086956521739, 0, 0], [(['Jets', 'Dolphins', -175, 155], ['Patriots', 'Ravens', -170, 150]), '01', ['Jets', 'Ravens'], 3.9285714285714284, 0, 0], [(['Buccaneers', 'Seahawks', 200, -240], ['Cowboys', 'Giants', -320, 260]), '00', ['Buccaneers', 'Cowboys'], 3.9375, 0, 0], [(['Vikings', 'Chiefs', -172, 140], ['Patriots', 'Ravens', -170, 150]), '01', ['Vikings', 'Ravens'], 3.9534883720930236, 0, 0], [(['Bears', 'Eagles', 185, -215], ['Browns', 'Broncos', -200, 170]), '11', ['Eagles', 'Broncos'], 3.9558139534883723, 0, 1], [(['Titans', 'Panthers', 165, -190], ['Browns', 'Broncos', -200, 170]), '00', ['Titans', 'Browns'], 3.9749999999999996, 0, 0], [(['Packers', 'Chargers', -190, 165], ['Browns', 'Broncos', -200, 170]), '10', ['Chargers', 'Browns'], 3.9749999999999996, 0, 0], [(['Colts', 'Steelers', -105, -115], ['Lions', 'Raiders', 115, -135]), '10', ['Steelers', 'Lions'], 4.019565217391304, 0, 0], [(['Vikings', 'Chiefs', -172, 140], ['Jets', 'Dolphins', -175, 155]), '01', ['Vikings', 'Dolphins'], 4.032558139534884, 0, 0], [(['Bears', 'Eagles', 185, -215], ['Buccaneers', 'Seahawks', 200, -240]), '01', ['Bears', 'Seahawks'], 4.0375000000000005, 0, 0], [(['Titans', 'Panthers', 165, -190], ['Packers', 'Chargers', -190, 165]), '00', ['Titans', 'Packers'], 4.044736842105262, 0, 0], [(['Titans', 'Panthers', 165, -190], ['Packers', 'Chargers', -190, 165]), '11', ['Panthers', 'Chargers'], 4.044736842105262, 0, 1], [(['Jets', 'Dolphins', -175, 155], ['Patriots', 'Ravens', -170, 150]), '10', ['Dolphins', 'Patriots'], 4.05, 0, 0], [(['Texans', 'Jaguars', -130, 110], ['Colts', 'Steelers', -105, -115]), '10', ['Jaguars', 'Colts'], 4.1, 0, 0], [(['Titans', 'Panthers', 165, -190], ['Browns', 'Broncos', -200, 170]), '11', ['Panthers', 'Broncos'], 4.121052631578947, 0, 1], [(['Packers', 'Chargers', -190, 165], ['Browns', 'Broncos', -200, 170]), '01', ['Packers', 'Broncos'], 4.121052631578947, 0, 0], [(['Jets', 'Dolphins', -175, 155], ['Titans', 'Panthers', 165, -190]), '00', ['Jets', 'Titans'], 4.164285714285714, 0, 0], [(['Jets', 'Dolphins', -175, 155], ['Packers', 'Chargers', -190, 165]), '01', ['Jets', 'Chargers'], 4.164285714285714, 0, 0], [(['Vikings', 'Chiefs', -172, 140], ['Lions', 'Raiders', 115, -135]), '11', ['Chiefs', 'Raiders'], 4.177777777777777, 0, 1], [(['Vikings', 'Chiefs', -172, 140], ['Titans', 'Panthers', 165, -190]), '00', ['Vikings', 'Titans'], 4.190697674418605, 0, 0], [(['Vikings', 'Chiefs', -172, 140], ['Packers', 'Chargers', -190, 165]), '01', ['Vikings', 'Chargers'], 4.190697674418605, 0, 0], [(['Colts', 'Steelers', -105, -115], ['Lions', 'Raiders', 115, -135]), '00', ['Colts', 'Lions'], 4.197619047619047, 0, 0], [(['Titans', 'Panthers', 165, -190], ['Patriots', 'Ravens', -170, 150]), '00', ['Titans', 'Patriots'], 4.208823529411765, 0, 0], [(['Packers', 'Chargers', -190, 165], ['Patriots', 'Ravens', -170, 150]), '10', ['Chargers', 'Patriots'], 4.208823529411765, 0, 0], [(['Jets', 'Dolphins', -175, 155], ['Browns', 'Broncos', -200, 170]), '01', ['Jets', 'Broncos'], 4.242857142857143, 0, 0], [(['Texans', 'Jaguars', -130, 110], ['Vikings', 'Chiefs', -172, 140]), '01', ['Texans', 'Chiefs'], 4.246153846153846, 0, 1], [(['Vikings', 'Chiefs', -172, 140], ['Browns', 'Broncos', -200, 170]), '01', ['Vikings', 'Broncos'], 4.269767441860465, 0, 0], [(['Bears', 'Eagles', 185, -215], ['Browns', 'Broncos', -200, 170]), '00', ['Bears', 'Browns'], 4.275, 0, 0], [(['Browns', 'Broncos', -200, 170], ['Patriots', 'Ravens', -170, 150]), '10', ['Broncos', 'Patriots'], 4.288235294117648, 0, 0], [(['Redskins', 'Bills', 375, -500], ['Cowboys', 'Giants', -320, 260]), '11', ['Bills', 'Giants'], 4.32, 0, 0], [(['Bears', 'Eagles', 185, -215], ['Titans', 'Panthers', 165, -190]), '01', ['Bears', 'Panthers'], 4.35, 0, 0], [(['Bears', 'Eagles', 185, -215], ['Packers', 'Chargers', -190, 165]), '00', ['Bears', 'Packers'], 4.35, 0, 0], [(['Lions', 'Raiders', 115, -135], ['Patriots', 'Ravens', -170, 150]), '11', ['Raiders', 'Ravens'], 4.351851851851852, 0, 1], [(['Bears', 'Eagles', 185, -215], ['Buccaneers', 'Seahawks', 200, -240]), '10', ['Eagles', 'Buccaneers'], 4.395348837209302, 0, 0], [(['Texans', 'Jaguars', -130, 110], ['Patriots', 'Ravens', -170, 150]), '01', ['Texans', 'Ravens'], 4.423076923076923, 0, 1], [(['Jets', 'Dolphins', -175, 155], ['Lions', 'Raiders', 115, -135]), '11', ['Dolphins', 'Raiders'], 4.438888888888888, 0, 1], [(['Bears', 'Eagles', 185, -215], ['Jets', 'Dolphins', -175, 155]), '00', ['Bears', 'Jets'], 4.478571428571429, 0, 0], [(['Vikings', 'Chiefs', -172, 140], ['Colts', 'Steelers', -105, -115]), '11', ['Chiefs', 'Steelers'], 4.48695652173913, 0, 1], [(['Buccaneers', 'Seahawks', 200, -240], ['Browns', 'Broncos', -200, 170]), '00', ['Buccaneers', 'Browns'], 4.5, 0, 0], [(['Bears', 'Eagles', 185, -215], ['Vikings', 'Chiefs', -172, 140]), '00', ['Bears', 'Vikings'], 4.506976744186047, 0, 0], [(['Texans', 'Jaguars', -130, 110], ['Jets', 'Dolphins', -175, 155]), '01', ['Texans', 'Dolphins'], 4.511538461538461, 0, 1], [(['Texans', 'Jaguars', -130, 110], ['Lions', 'Raiders', 115, -135]), '10', ['Jaguars', 'Lions'], 4.515, 0, 0], [(['Bears', 'Eagles', 185, -215], ['Patriots', 'Ravens', -170, 150]), '00', ['Bears', 'Patriots'], 4.526470588235295, 0, 0], [(['Titans', 'Panthers', 165, -190], ['Buccaneers', 'Seahawks', 200, -240]), '10', ['Panthers', 'Buccaneers'], 4.578947368421052, 0, 0], [(['Buccaneers', 'Seahawks', 200, -240], ['Packers', 'Chargers', -190, 165]), '00', ['Buccaneers', 'Packers'], 4.578947368421052, 0, 0], [(['Titans', 'Panthers', 165, -190], ['Lions', 'Raiders', 115, -135]), '01', ['Titans', 'Raiders'], 4.612962962962962, 0, 0], [(['Lions', 'Raiders', 115, -135], ['Packers', 'Chargers', -190, 165]), '11', ['Raiders', 'Chargers'], 4.612962962962962, 0, 1], [(['Colts', 'Steelers', -105, -115], ['Patriots', 'Ravens', -170, 150]), '11', ['Steelers', 'Ravens'], 4.673913043478261, 0, 1], [(['Vikings', 'Chiefs', -172, 140], ['Colts', 'Steelers', -105, -115]), '10', ['Chiefs', 'Colts'], 4.685714285714285, 0, 0], [(['Texans', 'Jaguars', -130, 110], ['Titans', 'Panthers', 165, -190]), '00', ['Texans', 'Titans'], 4.688461538461538, 0, 0], [(['Texans', 'Jaguars', -130, 110], ['Packers', 'Chargers', -190, 165]), '01', ['Texans', 'Chargers'], 4.688461538461538, 0, 1], [(['Lions', 'Raiders', 115, -135], ['Browns', 'Broncos', -200, 170]), '11', ['Raiders', 'Broncos'], 4.7, 0, 1], [(['Jets', 'Dolphins', -175, 155], ['Buccaneers', 'Seahawks', 200, -240]), '00', ['Jets', 'Buccaneers'], 4.714285714285714, 0, 0], [(['Vikings', 'Chiefs', -172, 140], ['Buccaneers', 'Seahawks', 200, -240]), '00', ['Vikings', 'Buccaneers'], 4.744186046511628, 0, 0], [(['Buccaneers', 'Seahawks', 200, -240], ['Patriots', 'Ravens', -170, 150]), '00', ['Buccaneers', 'Patriots'], 4.764705882352942, 0, 0], [(['Colts', 'Steelers', -105, -115], ['Jets', 'Dolphins', -175, 155]), '11', ['Steelers', 'Dolphins'], 4.767391304347825, 0, 1], [(['Texans', 'Jaguars', -130, 110], ['Browns', 'Broncos', -200, 170]), '01', ['Texans', 'Broncos'], 4.776923076923077, 0, 1], [(['Colts', 'Steelers', -105, -115], ['Patriots', 'Ravens', -170, 150]), '01', ['Colts', 'Ravens'], 4.8809523809523805, 0, 0], [(['Colts', 'Steelers', -105, -115], ['Titans', 'Panthers', 165, -190]), '10', ['Steelers', 'Titans'], 4.954347826086956, 0, 0], [(['Colts', 'Steelers', -105, -115], ['Packers', 'Chargers', -190, 165]), '11', ['Steelers', 'Chargers'], 4.954347826086956, 0, 1], [(['Bears', 'Eagles', 185, -215], ['Lions', 'Raiders', 115, -135]), '01', ['Bears', 'Raiders'], 4.961111111111111, 0, 0], [(['Colts', 'Steelers', -105, -115], ['Jets', 'Dolphins', -175, 155]), '01', ['Colts', 'Dolphins'], 4.978571428571428, 0, 0], [(['Texans', 'Jaguars', -130, 110], ['Vikings', 'Chiefs', -172, 140]), '11', ['Jaguars', 'Chiefs'], 5.04, 0, 0], [(['Texans', 'Jaguars', -130, 110], ['Bears', 'Eagles', 185, -215]), '00', ['Texans', 'Bears'], 5.042307692307692, 0, 0], [(['Colts', 'Steelers', -105, -115], ['Browns', 'Broncos', -200, 170]), '11', ['Steelers', 'Broncos'], 5.047826086956522, 0, 1], [(['Buccaneers', 'Seahawks', 200, -240], ['Cowboys', 'Giants', -320, 260]), '11', ['Seahawks', 'Giants'], 5.1000000000000005, 0, 0], [(['Vikings', 'Chiefs', -172, 140], ['Lions', 'Raiders', 115, -135]), '10', ['Chiefs', 'Lions'], 5.159999999999999, 0, 0], [(['Colts', 'Steelers', -105, -115], ['Titans', 'Panthers', 165, -190]), '00', ['Colts', 'Titans'], 5.173809523809523, 0, 0], [(['Colts', 'Steelers', -105, -115], ['Packers', 'Chargers', -190, 165]), '01', ['Colts', 'Chargers'], 5.173809523809523, 0, 0], [(['Lions', 'Raiders', 115, -135], ['Buccaneers', 'Seahawks', 200, -240]), '10', ['Raiders', 'Buccaneers'], 5.222222222222222, 0, 0], [(['Texans', 'Jaguars', -130, 110], ['Patriots', 'Ravens', -170, 150]), '11', ['Jaguars', 'Ravens'], 5.25, 0, 0], [(['Colts', 'Steelers', -105, -115], ['Browns', 'Broncos', -200, 170]), '01', ['Colts', 'Broncos'], 5.271428571428571, 0, 0], [(['Bears', 'Eagles', 185, -215], ['Cowboys', 'Giants', -320, 260]), '11', ['Eagles', 'Giants'], 5.274418604651163, 0, 0], [(['Texans', 'Jaguars', -130, 110], ['Buccaneers', 'Seahawks', 200, -240]), '00', ['Texans', 'Buccaneers'], 5.3076923076923075, 0, 0], [(['Bears', 'Eagles', 185, -215], ['Colts', 'Steelers', -105, -115]), '01', ['Bears', 'Steelers'], 5.328260869565217, 0, 0], [(['Texans', 'Jaguars', -130, 110], ['Jets', 'Dolphins', -175, 155]), '11', ['Jaguars', 'Dolphins'], 5.3549999999999995, 0, 0], [(['Lions', 'Raiders', 115, -135], ['Patriots', 'Ravens', -170, 150]), '01', ['Lions', 'Ravens'], 5.375, 0, 0], [(['Browns', 'Broncos', -200, 170], ['Cowboys', 'Giants', -320, 260]), '01', ['Browns', 'Giants'], 5.4, 0, 0], [(['Jets', 'Dolphins', -175, 155], ['Lions', 'Raiders', 115, -135]), '10', ['Dolphins', 'Lions'], 5.482499999999999, 0, 0], [(['Titans', 'Panthers', 165, -190], ['Cowboys', 'Giants', -320, 260]), '11', ['Panthers', 'Giants'], 5.4947368421052625, 0, 0], [(['Packers', 'Chargers', -190, 165], ['Cowboys', 'Giants', -320, 260]), '01', ['Packers', 'Giants'], 5.4947368421052625, 0, 0], [(['Bears', 'Eagles', 185, -215], ['Colts', 'Steelers', -105, -115]), '00', ['Bears', 'Colts'], 5.564285714285714, 0, 0], [(['Texans', 'Jaguars', -130, 110], ['Titans', 'Panthers', 165, -190]), '10', ['Jaguars', 'Titans'], 5.565, 0, 0], [(['Texans', 'Jaguars', -130, 110], ['Packers', 'Chargers', -190, 165]), '11', ['Jaguars', 'Chargers'], 5.565, 0, 0], [(['Colts', 'Steelers', -105, -115], ['Buccaneers', 'Seahawks', 200, -240]), '10', ['Steelers', 'Buccaneers'], 5.608695652173912, 0, 0], [(['Jets', 'Dolphins', -175, 155], ['Cowboys', 'Giants', -320, 260]), '01', ['Jets', 'Giants'], 5.6571428571428575, 0, 0], [(['Texans', 'Jaguars', -130, 110], ['Browns', 'Broncos', -200, 170]), '11', ['Jaguars', 'Broncos'], 5.670000000000001, 0, 0], [(['Vikings', 'Chiefs', -172, 140], ['Cowboys', 'Giants', -320, 260]), '01', ['Vikings', 'Giants'], 5.693023255813954, 0, 0], [(['Titans', 'Panthers', 165, -190], ['Lions', 'Raiders', 115, -135]), '00', ['Titans', 'Lions'], 5.6975, 0, 0], [(['Lions', 'Raiders', 115, -135], ['Packers', 'Chargers', -190, 165]), '01', ['Lions', 'Chargers'], 5.6975, 0, 0], [(['Patriots', 'Ravens', -170, 150], ['Cowboys', 'Giants', -320, 260]), '01', ['Patriots', 'Giants'], 5.71764705882353, 0, 0], [(['Lions', 'Raiders', 115, -135], ['Browns', 'Broncos', -200, 170]), '01', ['Lions', 'Broncos'], 5.805, 0, 0], [(['Colts', 'Steelers', -105, -115], ['Buccaneers', 'Seahawks', 200, -240]), '00', ['Colts', 'Buccaneers'], 5.857142857142857, 0, 0], [(['Texans', 'Jaguars', -130, 110], ['Bears', 'Eagles', 185, -215]), '10', ['Jaguars', 'Bears'], 5.985, 0, 0], [(['Vikings', 'Chiefs', -172, 140], ['Patriots', 'Ravens', -170, 150]), '11', ['Chiefs', 'Ravens'], 6.0, 0, 1], [(['Vikings', 'Chiefs', -172, 140], ['Jets', 'Dolphins', -175, 155]), '11', ['Chiefs', 'Dolphins'], 6.119999999999999, 0, 1], [(['Bears', 'Eagles', 185, -215], ['Lions', 'Raiders', 115, -135]), '00', ['Bears', 'Lions'], 6.1274999999999995, 0, 0], [(['Redskins', 'Bills', 375, -500], ['Cowboys', 'Giants', -320, 260]), '00', ['Redskins', 'Cowboys'], 6.234375, 0, 0], [(['Lions', 'Raiders', 115, -135], ['Cowboys', 'Giants', -320, 260]), '11', ['Raiders', 'Giants'], 6.266666666666667, 0, 0], [(['Texans', 'Jaguars', -130, 110], ['Buccaneers', 'Seahawks', 200, -240]), '10', ['Jaguars', 'Buccaneers'], 6.300000000000001, 0, 0], [(['Vikings', 'Chiefs', -172, 140], ['Titans', 'Panthers', 165, -190]), '10', ['Chiefs', 'Titans'], 6.359999999999999, 0, 0], [(['Vikings', 'Chiefs', -172, 140], ['Packers', 'Chargers', -190, 165]), '11', ['Chiefs', 'Chargers'], 6.359999999999999, 0, 1], [(['Texans', 'Jaguars', -130, 110], ['Cowboys', 'Giants', -320, 260]), '01', ['Texans', 'Giants'], 6.369230769230769, 0, 0], [(['Jets', 'Dolphins', -175, 155], ['Patriots', 'Ravens', -170, 150]), '11', ['Dolphins', 'Ravens'], 6.375, 0, 1], [(['Lions', 'Raiders', 115, -135], ['Buccaneers', 'Seahawks', 200, -240]), '00', ['Lions', 'Buccaneers'], 6.449999999999999, 0, 0], [(['Vikings', 'Chiefs', -172, 140], ['Browns', 'Broncos', -200, 170]), '11', ['Chiefs', 'Broncos'], 6.48, 0, 1], [(['Titans', 'Panthers', 165, -190], ['Patriots', 'Ravens', -170, 150]), '01', ['Titans', 'Ravens'], 6.625, 0, 0], [(['Packers', 'Chargers', -190, 165], ['Patriots', 'Ravens', -170, 150]), '11', ['Chargers', 'Ravens'], 6.625, 0, 1], [(['Redskins', 'Bills', 375, -500], ['Buccaneers', 'Seahawks', 200, -240]), '01', ['Redskins', 'Seahawks'], 6.729166666666667, 0, 0], [(['Colts', 'Steelers', -105, -115], ['Cowboys', 'Giants', -320, 260]), '11', ['Steelers', 'Giants'], 6.730434782608695, 0, 0], [(['Browns', 'Broncos', -200, 170], ['Patriots', 'Ravens', -170, 150]), '11', ['Broncos', 'Ravens'], 6.75, 0, 1], [(['Jets', 'Dolphins', -175, 155], ['Titans', 'Panthers', 165, -190]), '10', ['Dolphins', 'Titans'], 6.757499999999999, 0, 0], [(['Jets', 'Dolphins', -175, 155], ['Packers', 'Chargers', -190, 165]), '11', ['Dolphins', 'Chargers'], 6.757499999999999, 0, 1], [(['Bears', 'Eagles', 185, -215], ['Vikings', 'Chiefs', -172, 140]), '01', ['Bears', 'Chiefs'], 6.84, 0, 0], [(['Jets', 'Dolphins', -175, 155], ['Browns', 'Broncos', -200, 170]), '11', ['Dolphins', 'Broncos'], 6.885, 0, 1], [(['Bears', 'Eagles', 185, -215], ['Redskins', 'Bills', 375, -500]), '10', ['Eagles', 'Redskins'], 6.959302325581395, 0, 0], [(['Titans', 'Panthers', 165, -190], ['Packers', 'Chargers', -190, 165]), '01', ['Titans', 'Chargers'], 7.0225, 0, 0], [(['Colts', 'Steelers', -105, -115], ['Cowboys', 'Giants', -320, 260]), '01', ['Colts', 'Giants'], 7.0285714285714285, 0, 0], [(['Bears', 'Eagles', 185, -215], ['Patriots', 'Ravens', -170, 150]), '01', ['Bears', 'Ravens'], 7.125, 0, 0], [(['Redskins', 'Bills', 375, -500], ['Browns', 'Broncos', -200, 170]), '00', ['Redskins', 'Browns'], 7.125, 0, 0], [(['Titans', 'Panthers', 165, -190], ['Browns', 'Broncos', -200, 170]), '01', ['Titans', 'Broncos'], 7.155, 0, 0], [(['Packers', 'Chargers', -190, 165], ['Browns', 'Broncos', -200, 170]), '11', ['Chargers', 'Broncos'], 7.155, 0, 1], [(['Vikings', 'Chiefs', -172, 140], ['Buccaneers', 'Seahawks', 200, -240]), '10', ['Chiefs', 'Buccaneers'], 7.199999999999999, 0, 0], [(['Redskins', 'Bills', 375, -500], ['Titans', 'Panthers', 165, -190]), '01', ['Redskins', 'Panthers'], 7.249999999999999, 0, 0], [(['Redskins', 'Bills', 375, -500], ['Packers', 'Chargers', -190, 165]), '00', ['Redskins', 'Packers'], 7.249999999999999, 0, 0], [(['Bears', 'Eagles', 185, -215], ['Jets', 'Dolphins', -175, 155]), '01', ['Bears', 'Dolphins'], 7.2675, 0, 0], [(['Jets', 'Dolphins', -175, 155], ['Redskins', 'Bills', 375, -500]), '00', ['Jets', 'Redskins'], 7.464285714285714, 0, 0], [(['Buccaneers', 'Seahawks', 200, -240], ['Patriots', 'Ravens', -170, 150]), '01', ['Buccaneers', 'Ravens'], 7.5, 0, 0], [(['Vikings', 'Chiefs', -172, 140], ['Redskins', 'Bills', 375, -500]), '00', ['Vikings', 'Redskins'], 7.511627906976745, 0, 0], [(['Redskins', 'Bills', 375, -500], ['Patriots', 'Ravens', -170, 150]), '00', ['Redskins', 'Patriots'], 7.544117647058824, 0, 0], [(['Bears', 'Eagles', 185, -215], ['Titans', 'Panthers', 165, -190]), '00', ['Bears', 'Titans'], 7.5525, 0, 0], [(['Bears', 'Eagles', 185, -215], ['Packers', 'Chargers', -190, 165]), '01', ['Bears', 'Chargers'], 7.5525, 0, 0], [(['Texans', 'Jaguars', -130, 110], ['Cowboys', 'Giants', -320, 260]), '11', ['Jaguars', 'Giants'], 7.5600000000000005, 0, 0], [(['Jets', 'Dolphins', -175, 155], ['Buccaneers', 'Seahawks', 200, -240]), '10', ['Dolphins', 'Buccaneers'], 7.6499999999999995, 0, 0], [(['Bears', 'Eagles', 185, -215], ['Browns', 'Broncos', -200, 170]), '01', ['Bears', 'Broncos'], 7.695000000000001, 0, 0], [(['Lions', 'Raiders', 115, -135], ['Cowboys', 'Giants', -320, 260]), '01', ['Lions', 'Giants'], 7.74, 0, 0], [(['Titans', 'Panthers', 165, -190], ['Buccaneers', 'Seahawks', 200, -240]), '00', ['Titans', 'Buccaneers'], 7.949999999999999, 0, 0], [(['Buccaneers', 'Seahawks', 200, -240], ['Packers', 'Chargers', -190, 165]), '01', ['Buccaneers', 'Chargers'], 7.949999999999999, 0, 0], [(['Buccaneers', 'Seahawks', 200, -240], ['Browns', 'Broncos', -200, 170]), '01', ['Buccaneers', 'Broncos'], 8.100000000000001, 0, 0], [(['Redskins', 'Bills', 375, -500], ['Lions', 'Raiders', 115, -135]), '01', ['Redskins', 'Raiders'], 8.268518518518519, 0, 0], [(['Texans', 'Jaguars', -130, 110], ['Redskins', 'Bills', 375, -500]), '00', ['Texans', 'Redskins'], 8.403846153846153, 0, 0], [(['Bears', 'Eagles', 185, -215], ['Buccaneers', 'Seahawks', 200, -240]), '00', ['Bears', 'Buccaneers'], 8.55, 0, 0], [(['Vikings', 'Chiefs', -172, 140], ['Cowboys', 'Giants', -320, 260]), '11', ['Chiefs', 'Giants'], 8.64, 0, 0], [(['Colts', 'Steelers', -105, -115], ['Redskins', 'Bills', 375, -500]), '10', ['Steelers', 'Redskins'], 8.880434782608695, 0, 0], [(['Patriots', 'Ravens', -170, 150], ['Cowboys', 'Giants', -320, 260]), '11', ['Ravens', 'Giants'], 9.0, 0, 0], [(['Jets', 'Dolphins', -175, 155], ['Cowboys', 'Giants', -320, 260]), '11', ['Dolphins', 'Giants'], 9.18, 0, 0], [(['Colts', 'Steelers', -105, -115], ['Redskins', 'Bills', 375, -500]), '00', ['Colts', 'Redskins'], 9.273809523809524, 0, 0], [(['Titans', 'Panthers', 165, -190], ['Cowboys', 'Giants', -320, 260]), '01', ['Titans', 'Giants'], 9.54, 0, 0], [(['Packers', 'Chargers', -190, 165], ['Cowboys', 'Giants', -320, 260]), '11', ['Chargers', 'Giants'], 9.54, 0, 0], [(['Browns', 'Broncos', -200, 170], ['Cowboys', 'Giants', -320, 260]), '11', ['Broncos', 'Giants'], 9.72, 0, 0], [(['Texans', 'Jaguars', -130, 110], ['Redskins', 'Bills', 375, -500]), '10', ['Jaguars', 'Redskins'], 9.975, 0, 0], [(['Redskins', 'Bills', 375, -500], ['Lions', 'Raiders', 115, -135]), '00', ['Redskins', 'Lions'], 10.2125, 0, 0], [(['Bears', 'Eagles', 185, -215], ['Cowboys', 'Giants', -320, 260]), '01', ['Bears', 'Giants'], 10.26, 0, 0], [(['Buccaneers', 'Seahawks', 200, -240], ['Cowboys', 'Giants', -320, 260]), '01', ['Buccaneers', 'Giants'], 10.8, 0, 0], [(['Vikings', 'Chiefs', -172, 140], ['Redskins', 'Bills', 375, -500]), '10', ['Chiefs', 'Redskins'], 11.4, 0, 0], [(['Redskins', 'Bills', 375, -500], ['Patriots', 'Ravens', -170, 150]), '01', ['Redskins', 'Ravens'], 11.875, 0, 0], [(['Jets', 'Dolphins', -175, 155], ['Redskins', 'Bills', 375, -500]), '10', ['Dolphins', 'Redskins'], 12.112499999999999, 0, 0], [(['Redskins', 'Bills', 375, -500], ['Titans', 'Panthers', 165, -190]), '00', ['Redskins', 'Titans'], 12.5875, 0, 0], [(['Redskins', 'Bills', 375, -500], ['Packers', 'Chargers', -190, 165]), '01', ['Redskins', 'Chargers'], 12.5875, 0, 0], [(['Redskins', 'Bills', 375, -500], ['Browns', 'Broncos', -200, 170]), '01', ['Redskins', 'Broncos'], 12.825000000000001, 0, 0], [(['Bears', 'Eagles', 185, -215], ['Redskins', 'Bills', 375, -500]), '00', ['Bears', 'Redskins'], 13.5375, 0, 0], [(['Redskins', 'Bills', 375, -500], ['Buccaneers', 'Seahawks', 200, -240]), '00', ['Redskins', 'Buccaneers'], 14.25, 0, 0], [(['Redskins', 'Bills', 375, -500], ['Cowboys', 'Giants', -320, 260]), '01', ['Redskins', 'Giants'], 17.1, 0, 0]]\n"
     ]
    }
   ],
   "source": [
    "print(sorted2parlays)"
   ]
  },
  {
   "cell_type": "code",
   "execution_count": 118,
   "metadata": {},
   "outputs": [
    {
     "name": "stdout",
     "output_type": "stream",
     "text": [
      "4\n"
     ]
    }
   ],
   "source": [
    "i = 0\n",
    "for x in range(5):\n",
    "    if (sorted2parlays[x][5]== 1):\n",
    "        i += 1\n",
    "print(i)\n",
    "    "
   ]
  },
  {
   "cell_type": "code",
   "execution_count": 116,
   "metadata": {},
   "outputs": [
    {
     "name": "stdout",
     "output_type": "stream",
     "text": [
      "0.32051282051282054\n"
     ]
    }
   ],
   "source": [
    "print(25/78)"
   ]
  },
  {
   "cell_type": "markdown",
   "metadata": {},
   "source": [
    "## What should I do tomorrow?\n",
    "repeat for all games in the season and all parlays up to 9\n",
    "run analysis for next week\n",
    "get amazon web server up\n",
    "make payment for teeth\n",
    "pay for rent using credit?"
   ]
  }
 ],
 "metadata": {
  "kernelspec": {
   "display_name": "Python 3",
   "language": "python",
   "name": "python3"
  },
  "language_info": {
   "codemirror_mode": {
    "name": "ipython",
    "version": 3
   },
   "file_extension": ".py",
   "mimetype": "text/x-python",
   "name": "python",
   "nbconvert_exporter": "python",
   "pygments_lexer": "ipython3",
   "version": "3.5.6"
  }
 },
 "nbformat": 4,
 "nbformat_minor": 2
}
